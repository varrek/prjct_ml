{
 "cells": [
  {
   "cell_type": "markdown",
   "metadata": {},
   "source": [
    "# Boosting (XGBoost, LightGBM, CatBoost)"
   ]
  },
  {
   "cell_type": "code",
   "execution_count": 210,
   "metadata": {},
   "outputs": [],
   "source": [
    "import pandas as pd\n",
    "import numpy as np\n",
    "from sklearn.model_selection import StratifiedKFold\n",
    "from sklearn.compose import make_column_transformer\n",
    "from sklearn.preprocessing import OneHotEncoder, StandardScaler\n",
    "from sklearn.metrics import accuracy_score\n",
    "from sklearn.metrics import accuracy_score"
   ]
  },
  {
   "cell_type": "code",
   "execution_count": 211,
   "metadata": {},
   "outputs": [],
   "source": [
    "data = pd.read_csv('./data/titanic_train.csv')\n",
    "data.drop(columns=['Name', 'Fare', 'PassengerId', 'Cabin', 'Ticket'], axis = 1, inplace=True)\n",
    "age_avg = data['Age'].mean()\n",
    "data['Age'] = data['Age'].fillna(age_avg)\n",
    "data.dropna(inplace=True)\n",
    "\n",
    "y_cat = y = data.Survived.reset_index(drop=True)"
   ]
  },
  {
   "cell_type": "code",
   "execution_count": 212,
   "metadata": {},
   "outputs": [
    {
     "data": {
      "text/plain": [
       "Index(['Survived', 'Pclass', 'Sex', 'Age', 'SibSp', 'Parch', 'Embarked'], dtype='object')"
      ]
     },
     "execution_count": 212,
     "metadata": {},
     "output_type": "execute_result"
    }
   ],
   "source": [
    "data.columns"
   ]
  },
  {
   "cell_type": "code",
   "execution_count": 213,
   "metadata": {},
   "outputs": [
    {
     "data": {
      "text/plain": [
       "Survived      int64\n",
       "Pclass        int64\n",
       "Sex          object\n",
       "Age         float64\n",
       "SibSp         int64\n",
       "Parch         int64\n",
       "Embarked     object\n",
       "dtype: object"
      ]
     },
     "execution_count": 213,
     "metadata": {},
     "output_type": "execute_result"
    }
   ],
   "source": [
    "data.dtypes"
   ]
  },
  {
   "cell_type": "code",
   "execution_count": 214,
   "metadata": {},
   "outputs": [
    {
     "data": {
      "text/plain": [
       "Index(['Pclass', 'Sex', 'Age', 'SibSp', 'Parch', 'Embarked'], dtype='object')"
      ]
     },
     "execution_count": 214,
     "metadata": {},
     "output_type": "execute_result"
    }
   ],
   "source": [
    "features = data.columns[1:]\n",
    "features"
   ]
  },
  {
   "cell_type": "code",
   "execution_count": 333,
   "metadata": {},
   "outputs": [
    {
     "data": {
      "text/plain": [
       "{0: 0.6175478065241845, 1: 0.38245219347581555}"
      ]
     },
     "execution_count": 333,
     "metadata": {},
     "output_type": "execute_result"
    }
   ],
   "source": [
    "weight_not_surv = counts[0]/(counts[0]+counts[1])\n",
    "weight_surv = counts[1]/(counts[0]+counts[1])\n",
    "class_weights = {0: weight_not_surv, 1 : weight_surv}\n",
    "class_weights"
   ]
  },
  {
   "cell_type": "code",
   "execution_count": 216,
   "metadata": {},
   "outputs": [
    {
     "data": {
      "text/plain": [
       "onehotencoder__Sex_female      int64\n",
       "onehotencoder__Sex_male        int64\n",
       "onehotencoder__Pclass_1        int64\n",
       "onehotencoder__Pclass_2        int64\n",
       "onehotencoder__Pclass_3        int64\n",
       "onehotencoder__Embarked_C      int64\n",
       "onehotencoder__Embarked_Q      int64\n",
       "onehotencoder__Embarked_S      int64\n",
       "remainder__Age               float64\n",
       "remainder__SibSp               int64\n",
       "remainder__Parch               int64\n",
       "dtype: object"
      ]
     },
     "execution_count": 216,
     "metadata": {},
     "output_type": "execute_result"
    }
   ],
   "source": [
    "categorical_features = ['Sex', 'Pclass', 'Embarked']\n",
    "ct = make_column_transformer(\n",
    "        (OneHotEncoder(), categorical_features),\n",
    "        remainder='passthrough', verbose_feature_names_out=True)\n",
    "data_transformed = ct.fit_transform(data.iloc[:, 1:], y=data.Survived)\n",
    "X = pd.DataFrame(data_transformed, columns=ct.get_feature_names_out())\n",
    "X = X.astype({\"onehotencoder__Sex_female\": int,\n",
    "              \"onehotencoder__Sex_male\": int,\n",
    "             \"onehotencoder__Pclass_1\": int,\n",
    "             \"onehotencoder__Pclass_2\": int,\n",
    "             \"onehotencoder__Pclass_3\": int,\n",
    "             \"onehotencoder__Embarked_C\": int,\n",
    "             \"onehotencoder__Embarked_Q\": int,\n",
    "             \"onehotencoder__Embarked_S\": int,\n",
    "             \"remainder__SibSp\":int,\n",
    "             \"remainder__Parch\": int})\n",
    "skf = StratifiedKFold(n_splits=3, shuffle=True, random_state=42)\n",
    "X.dtypes"
   ]
  },
  {
   "cell_type": "code",
   "execution_count": 217,
   "metadata": {},
   "outputs": [
    {
     "data": {
      "text/plain": [
       "onehotencoder__Sex_female      int64\n",
       "onehotencoder__Sex_male        int64\n",
       "onehotencoder__Pclass_1        int64\n",
       "onehotencoder__Pclass_2        int64\n",
       "onehotencoder__Pclass_3        int64\n",
       "onehotencoder__Embarked_C      int64\n",
       "onehotencoder__Embarked_Q      int64\n",
       "onehotencoder__Embarked_S      int64\n",
       "remainder__Age               float64\n",
       "remainder__SibSp               int64\n",
       "remainder__Parch               int64\n",
       "dtype: object"
      ]
     },
     "execution_count": 217,
     "metadata": {},
     "output_type": "execute_result"
    }
   ],
   "source": [
    "test = pd.read_csv('./data/titanic_test.csv')\n",
    "age_avg = test['Age'].mean()\n",
    "test[['Age']] = test[['Age']].fillna(age_avg)\n",
    "PassengerId = test['PassengerId']\n",
    "test_transformed = ct.fit_transform(test[features])\n",
    "test_transformed = pd.DataFrame(test_transformed, columns=ct.get_feature_names_out()).astype(np.float64)\n",
    "test_transformed = test_transformed.astype({\"onehotencoder__Sex_female\": int,\n",
    "              \"onehotencoder__Sex_male\": int,\n",
    "             \"onehotencoder__Pclass_1\": int,\n",
    "             \"onehotencoder__Pclass_2\": int,\n",
    "             \"onehotencoder__Pclass_3\": int,\n",
    "             \"onehotencoder__Embarked_C\": int,\n",
    "             \"onehotencoder__Embarked_Q\": int,\n",
    "             \"onehotencoder__Embarked_S\": int,\n",
    "             \"remainder__SibSp\":int,\n",
    "             \"remainder__Parch\": int})\n",
    "test_transformed.dtypes"
   ]
  },
  {
   "cell_type": "code",
   "execution_count": 218,
   "metadata": {},
   "outputs": [
    {
     "data": {
      "text/plain": [
       "Pclass        int64\n",
       "Sex           int64\n",
       "Age         float64\n",
       "SibSp         int64\n",
       "Parch         int64\n",
       "Embarked      int64\n",
       "dtype: object"
      ]
     },
     "execution_count": 218,
     "metadata": {},
     "output_type": "execute_result"
    }
   ],
   "source": [
    "X_cat = data\n",
    "X_cat.drop('Survived', inplace=True, axis=1)\n",
    "X_cat['Sex'].replace(['male','female'], [0, 1], inplace=True)\n",
    "X_cat['Embarked'].replace(['C','Q', 'S'], [0, 1, 2], inplace=True)\n",
    "X_cat = X_cat.astype(np.float64)\n",
    "X_cat = X_cat.astype({\"Sex\": int, \"Pclass\": int, \"SibSp\": int, 'Parch': int, 'Embarked':int})\n",
    "X_cat.dtypes"
   ]
  },
  {
   "cell_type": "code",
   "execution_count": 219,
   "metadata": {},
   "outputs": [
    {
     "data": {
      "text/plain": [
       "Pclass        int64\n",
       "Sex           int64\n",
       "Age         float64\n",
       "SibSp         int64\n",
       "Parch         int64\n",
       "Embarked      int64\n",
       "dtype: object"
      ]
     },
     "execution_count": 219,
     "metadata": {},
     "output_type": "execute_result"
    }
   ],
   "source": [
    "test_transformed_categorical = test\n",
    "test_transformed_categorical['Sex'].replace(['male','female'], [0, 1], inplace=True)\n",
    "test_transformed_categorical['Embarked'].replace(['C','Q', 'S'], [0, 1, 2], inplace=True)\n",
    "test_transformed_categorical = test_transformed_categorical[features]\n",
    "test_transformed_categorical.dtypes"
   ]
  },
  {
   "cell_type": "code",
   "execution_count": 220,
   "metadata": {},
   "outputs": [
    {
     "data": {
      "text/plain": [
       "Pclass        int64\n",
       "Sex           int64\n",
       "Age         float64\n",
       "SibSp         int64\n",
       "Parch         int64\n",
       "Embarked      int64\n",
       "dtype: object"
      ]
     },
     "execution_count": 220,
     "metadata": {},
     "output_type": "execute_result"
    }
   ],
   "source": [
    "X_cat.dtypes"
   ]
  },
  {
   "cell_type": "code",
   "execution_count": 341,
   "metadata": {},
   "outputs": [
    {
     "data": {
      "text/plain": [
       "{0: 0.8161764705882353, 1: 1.2906976744186047}"
      ]
     },
     "execution_count": 341,
     "metadata": {},
     "output_type": "execute_result"
    }
   ],
   "source": [
    "from sklearn.utils.class_weight import compute_class_weight\n",
    " \n",
    "classes = np.unique(y)\n",
    "weights = compute_class_weight(class_weight='balanced', classes=classes, y=y_train)\n",
    "class_weights = dict(zip(classes, weights))\n",
    "class_weights"
   ]
  },
  {
   "cell_type": "markdown",
   "metadata": {},
   "source": [
    "# Xgboost\n",
    "\n",
    "\n",
    "\n",
    "### Boosting settings\n",
    "\n",
    "**Explanation after lightgbm theory**<br>\n",
    "`tree_method` – 'exact' (if you have time, you can try), 'approx', 'hist'(the best choise usually) <br>\n",
    "`grow_policy` – 'depthwise', 'lossguide' (usually better)<br>\n",
    "`objective` – default is quite good (sometimes \"count:poisson\")\n",
    "\n",
    "\n",
    "### XGBoost parameters tuning\n",
    "\n",
    "Usually we start tuning parameters with these first: <br>\n",
    "`n_estimators` - number of boosting rounds, better to use `early_stopping_rounds` <br>\n",
    "`eta` – learning rate, increasing lr reduces convergence time. (usually default value works good)\n",
    "\n",
    "### Control Overfitting\n",
    "When you observe high training accuracy, but low tests accuracy, it is likely that you encounter overfitting problem.\n",
    "\n",
    "There are in general two ways that you can control overfitting:\n",
    "\n",
    "* The first way is to directly control model complexity <p>\n",
    "`max_depth` - maximum depth of a tree, increase of this value will make the model more complex; <br>\n",
    "`gamma` - minimum loss reduction required to make a further partition on a leaf node of the tree.<br>\n",
    "`min_child_weight` – minimum sum of instance weight (hessian) needed in a child.\n",
    "\n",
    "\n",
    "* The second way is to add randomness to make training robust to noise <p>\n",
    "`subsample` - subsample ratio of the training instance, <br>\n",
    "`colsample_bytree` - subsample ratio of columns when constructing each tree. <br>\n",
    "\n",
    "\n",
    "### Handle Imbalanced Dataset\n",
    "There are two ways to improve it:\n",
    "\n",
    "* If you care only about the ranking order (AUC) of your prediction\n",
    "Balance the positive and negative weights, via `scale_pos_weight`\n",
    "Use AUC for evaluation\n",
    "* If you care about predicting the right probability\n",
    "In such a case, you cannot re-balance the dataset. Set parameter `max_delta_step` to a finite number (say 1) will help to converge <br>\n",
    "\n",
    "More about xgboost parameters: https://xgboost.readthedocs.io/en/latest/parameter.html\n",
    "\n",
    "Always use `early_stopping_round` and tune `n_estimators` on validation."
   ]
  },
  {
   "cell_type": "code",
   "execution_count": 158,
   "metadata": {},
   "outputs": [],
   "source": [
    "import xgboost as xgb\n",
    "\n",
    "\n",
    "parameters = {\n",
    "    #default\n",
    "    \"objective\": \"binary:logistic\",\n",
    "    \"eta\": 0.1,\n",
    "    \"verbosity\": 0,\n",
    "    \"nthread\": 4,\n",
    "    \"random_seed\": 1,\n",
    "    \"eval_metric\": \"auc\"\n",
    "}\n",
    "\n",
    "\n",
    "xgb_train = xgb.DMatrix(X, y, feature_names=X.columns)\n",
    "xgb_test = xgb.DMatrix(test_transformed)"
   ]
  },
  {
   "cell_type": "code",
   "execution_count": 162,
   "metadata": {},
   "outputs": [],
   "source": [
    "def get_kfold_accuracy(X, y, parameters, n_splits=5):\n",
    "    kfold = StratifiedKFold(shuffle=True, random_state=42, n_splits=n_splits)\n",
    "    scores = []\n",
    "    for train_ix, test_ix in kfold.split(X, y):\n",
    "        train_X, test_X = X.iloc[train_ix], X.iloc[test_ix]\n",
    "        train_y, test_y = y[train_ix], y[test_ix]\n",
    "        xgb_clf = xgb.XGBClassifier(**parameters, use_label_encoder=False)\n",
    "        xgb_clf.fit(X, y)\n",
    "        yhat =  xgb_clf.predict(test_X, iteration_range = (0, xgb_clf.best_iteration + 1))\n",
    "        acc = accuracy_score(test_y, yhat)\n",
    "        # store score\n",
    "        scores.append(acc)\n",
    "    return np.mean(scores)"
   ]
  },
  {
   "cell_type": "code",
   "execution_count": 163,
   "metadata": {
    "scrolled": true
   },
   "outputs": [
    {
     "name": "stdout",
     "output_type": "stream",
     "text": [
      "[0]\ttrain-auc:0.88124+0.00830\ttest-auc:0.85481+0.01655\n",
      "[10]\ttrain-auc:0.91025+0.00422\ttest-auc:0.86101+0.01081\n",
      "[20]\ttrain-auc:0.92289+0.00166\ttest-auc:0.86111+0.00592\n",
      "[30]\ttrain-auc:0.93096+0.00095\ttest-auc:0.85649+0.00806\n",
      "[40]\ttrain-auc:0.93715+0.00171\ttest-auc:0.85512+0.00745\n",
      "[50]\ttrain-auc:0.94187+0.00215\ttest-auc:0.85620+0.00689\n",
      "[60]\ttrain-auc:0.94590+0.00190\ttest-auc:0.85579+0.00657\n",
      "[70]\ttrain-auc:0.94870+0.00122\ttest-auc:0.85413+0.00662\n",
      "[80]\ttrain-auc:0.95157+0.00136\ttest-auc:0.85411+0.00591\n",
      "[90]\ttrain-auc:0.95398+0.00096\ttest-auc:0.85414+0.00537\n",
      "[99]\ttrain-auc:0.95504+0.00096\ttest-auc:0.85310+0.00460\n"
     ]
    }
   ],
   "source": [
    "results = xgb.cv(parameters, xgb_train, num_boost_round=100,\n",
    "                 folds=skf, verbose_eval=10)"
   ]
  },
  {
   "cell_type": "code",
   "execution_count": 164,
   "metadata": {},
   "outputs": [
    {
     "data": {
      "text/plain": [
       "0.8852853424744493"
      ]
     },
     "execution_count": 164,
     "metadata": {},
     "output_type": "execute_result"
    }
   ],
   "source": [
    "get_kfold_accuracy(X, y, parameters)"
   ]
  },
  {
   "cell_type": "code",
   "execution_count": 165,
   "metadata": {
    "scrolled": true
   },
   "outputs": [
    {
     "name": "stdout",
     "output_type": "stream",
     "text": [
      "[0]\ttrain-auc:0.88124+0.00830\ttest-auc:0.85481+0.01655\n",
      "[10]\ttrain-auc:0.91025+0.00422\ttest-auc:0.86101+0.01081\n",
      "[20]\ttrain-auc:0.92289+0.00166\ttest-auc:0.86111+0.00592\n",
      "[23]\ttrain-auc:0.92587+0.00154\ttest-auc:0.86128+0.00528\n"
     ]
    }
   ],
   "source": [
    "# added early stopping\n",
    "num_rounds = 10000\n",
    "results = xgb.cv(parameters, xgb_train, num_rounds, early_stopping_rounds=10,\n",
    "                 folds=skf, verbose_eval=10)"
   ]
  },
  {
   "cell_type": "code",
   "execution_count": 166,
   "metadata": {
    "scrolled": true
   },
   "outputs": [
    {
     "name": "stdout",
     "output_type": "stream",
     "text": [
      "[0]\ttrain-auc:0.67484+0.02780\ttest-auc:0.66735+0.04739\n",
      "[10]\ttrain-auc:0.87624+0.01337\ttest-auc:0.86133+0.00938\n",
      "[20]\ttrain-auc:0.89226+0.01028\ttest-auc:0.86609+0.01438\n",
      "[30]\ttrain-auc:0.90063+0.00641\ttest-auc:0.86843+0.01397\n",
      "[37]\ttrain-auc:0.90230+0.00609\ttest-auc:0.86676+0.01569\n",
      "CPU times: user 1.27 s, sys: 0 ns, total: 1.27 s\n",
      "Wall time: 813 ms\n"
     ]
    }
   ],
   "source": [
    "%%time\n",
    "parameters = {\n",
    "    #default\n",
    "    \"objective\": \"binary:logistic\",\n",
    "    \"eta\": 0.1,\n",
    "    \"verbosity\": 0,\n",
    "    \"nthread\": 10,\n",
    "    \"random_seed\": 1,\n",
    "    \"eval_metric\": \"auc\",\n",
    "    \n",
    "    # regularization parameters\n",
    "    \"max_depth\": 7,\n",
    "    \"subsample\": 0.8,\n",
    "    \"colsample_bytree\": 0.6,\n",
    "    \"colsample_bylevel\":0.5,\n",
    "    \"colsample_bynode\":0.7\n",
    "}\n",
    "\n",
    "results = xgb.cv(parameters, xgb_train, num_rounds, early_stopping_rounds=10,\n",
    "                 folds=skf, verbose_eval=10)"
   ]
  },
  {
   "cell_type": "code",
   "execution_count": 167,
   "metadata": {},
   "outputs": [
    {
     "data": {
      "text/plain": [
       "0.8616644448676443"
      ]
     },
     "execution_count": 167,
     "metadata": {},
     "output_type": "execute_result"
    }
   ],
   "source": [
    "get_kfold_accuracy(X, y, parameters)"
   ]
  },
  {
   "cell_type": "code",
   "execution_count": 168,
   "metadata": {
    "scrolled": true
   },
   "outputs": [
    {
     "name": "stdout",
     "output_type": "stream",
     "text": [
      "[0]\ttrain-auc:0.75046+0.09516\ttest-auc:0.72975+0.08344\n",
      "[10]\ttrain-auc:0.87708+0.01037\ttest-auc:0.85744+0.01414\n",
      "[20]\ttrain-auc:0.87960+0.01072\ttest-auc:0.86087+0.01492\n",
      "[30]\ttrain-auc:0.89193+0.01425\ttest-auc:0.86249+0.01411\n",
      "[39]\ttrain-auc:0.89870+0.00982\ttest-auc:0.86215+0.01375\n",
      "CPU times: user 1.2 s, sys: 174 ms, total: 1.38 s\n",
      "Wall time: 820 ms\n"
     ]
    }
   ],
   "source": [
    "%%time\n",
    "parameters = {\n",
    "    #default\n",
    "    \"objective\": \"binary:logistic\",\n",
    "    \"eta\": 0.1,\n",
    "    \"verbosity\": 0,\n",
    "    \"nthread\": 10,\n",
    "    \"random_seed\": 1,\n",
    "    \"eval_metric\": \"auc\",\n",
    "    \n",
    "    # regularization parameters\n",
    "    \"max_depth\": 7,\n",
    "    \"subsample\": 0.8,\n",
    "    \"colsample_bytree\": 0.6,\n",
    "    \"colsample_bylevel\":0.5,\n",
    "    \"colsample_bynode\":0.7,\n",
    "    \n",
    "    #lightgbm approach\n",
    "    \"tree_method\": \"hist\"\n",
    "}\n",
    "\n",
    "results = xgb.cv(parameters, xgb_train, num_rounds, early_stopping_rounds=10,\n",
    "                 folds=skf, verbose_eval=10)"
   ]
  },
  {
   "cell_type": "code",
   "execution_count": 169,
   "metadata": {},
   "outputs": [
    {
     "data": {
      "text/plain": [
       "0.8661524788929092"
      ]
     },
     "execution_count": 169,
     "metadata": {},
     "output_type": "execute_result"
    }
   ],
   "source": [
    "get_kfold_accuracy(X, y, parameters)"
   ]
  },
  {
   "cell_type": "code",
   "execution_count": 170,
   "metadata": {
    "scrolled": true
   },
   "outputs": [
    {
     "name": "stdout",
     "output_type": "stream",
     "text": [
      "[0]\ttrain-auc:0.70762+0.04155\ttest-auc:0.67281+0.04116\n",
      "[10]\ttrain-auc:0.87986+0.01141\ttest-auc:0.85294+0.01983\n",
      "[20]\ttrain-auc:0.88701+0.00975\ttest-auc:0.85817+0.01344\n",
      "[30]\ttrain-auc:0.89653+0.00577\ttest-auc:0.86200+0.01501\n",
      "[40]\ttrain-auc:0.90243+0.00473\ttest-auc:0.86363+0.01459\n",
      "[46]\ttrain-auc:0.90715+0.00369\ttest-auc:0.86278+0.01447\n"
     ]
    }
   ],
   "source": [
    "parameters = {\n",
    "    #default\n",
    "    \"objective\": \"binary:logistic\",\n",
    "    \"eta\": 0.1,\n",
    "    \"verbosity\": 0,\n",
    "    \"nthread\": 10,\n",
    "    \"random_seed\": 1,\n",
    "    \"eval_metric\": \"auc\",\n",
    "    \n",
    "    # regularization parameters\n",
    "    \"max_depth\": 7,\n",
    "    \"subsample\": 0.8,\n",
    "    \"colsample_bytree\": 0.6,\n",
    "    \"colsample_bylevel\":0.6,\n",
    "    \"colsample_bynode\":0.7,\n",
    "    \n",
    "    #lightgbm approach\n",
    "    \"tree_method\": \"hist\",\n",
    "    \"grow_policy\": \"lossguide\"\n",
    "}\n",
    "\n",
    "results = xgb.cv(parameters, xgb_train, num_rounds, early_stopping_rounds=10,\n",
    "                 folds=skf, verbose_eval=10)"
   ]
  },
  {
   "cell_type": "code",
   "execution_count": 171,
   "metadata": {},
   "outputs": [
    {
     "data": {
      "text/plain": [
       "0.8526566368310797"
      ]
     },
     "execution_count": 171,
     "metadata": {},
     "output_type": "execute_result"
    }
   ],
   "source": [
    "get_kfold_accuracy(X, y, parameters)"
   ]
  },
  {
   "cell_type": "markdown",
   "metadata": {},
   "source": [
    "0.77990\n",
    "parameters = parameters = {\n",
    "    #default\n",
    "    \"objective\": \"binary:logistic\",\n",
    "    \"n_estimators\": 400,\n",
    "    \"eta\": 0.03,\n",
    "    \"verbosity\": 0,\n",
    "    \"nthread\": 10,\n",
    "    \"random_seed\": 1,\n",
    "    \"eval_metric\": \"auc\",\n",
    "    # regularization parameters\n",
    "    \"max_depth\": 3,\n",
    "    \"subsample\": 0.9,\n",
    "    \"colsample_bytree\": 0.8,\n",
    "    \"gamma\": 2,\n",
    "    \"reg_lambda\": 4,\n",
    "    \"scale_pos_weight\": 0.6,\n",
    "    \n",
    "    #lightgbm approach\n",
    "    \"tree_method\": \"hist\",\n",
    "    \"grow_policy\": \"lossguide\",\n",
    "}\n",
    "[0]\ttrain-auc:0.79896+0.01104\ttest-auc:0.79356+0.01737\n",
    "[63]\ttrain-auc:0.81029+0.01105\ttest-auc:0.79764+0.02647\n",
    "\n",
    "0.8215429037725188"
   ]
  },
  {
   "cell_type": "code",
   "execution_count": 172,
   "metadata": {
    "scrolled": true
   },
   "outputs": [
    {
     "name": "stdout",
     "output_type": "stream",
     "text": [
      "[0]\ttrain-auc:0.70762+0.04155\ttest-auc:0.67281+0.04116\n",
      "[86]\ttrain-auc:0.92203+0.00190\ttest-auc:0.85901+0.01380\n"
     ]
    }
   ],
   "source": [
    "# 0.78229\n",
    "parameters = {\n",
    "    #default\n",
    "    \"objective\": \"binary:logistic\",\n",
    "    \"eta\": 0.1,\n",
    "    \"verbosity\": 0,\n",
    "    \"nthread\": 10,\n",
    "    \"random_seed\": 1,\n",
    "    \"eval_metric\": \"auc\",\n",
    "    \n",
    "    # regularization parameters\n",
    "    \"max_depth\": 7,\n",
    "    \"subsample\": 0.8,\n",
    "    \"colsample_bytree\": 0.6,\n",
    "    \"colsample_bylevel\":0.6,\n",
    "    \"colsample_bynode\":0.7,\n",
    "    \n",
    "    #lightgbm approach\n",
    "    \"tree_method\": \"hist\",\n",
    "    \"grow_policy\": \"lossguide\"\n",
    "}\n",
    "num_rounds = 500\n",
    "results = xgb.cv(parameters, xgb_train, num_rounds, early_stopping_rounds=50,\n",
    "                 folds=skf, verbose_eval=100)"
   ]
  },
  {
   "cell_type": "code",
   "execution_count": 173,
   "metadata": {},
   "outputs": [
    {
     "data": {
      "text/plain": [
       "0.8526566368310797"
      ]
     },
     "execution_count": 173,
     "metadata": {},
     "output_type": "execute_result"
    }
   ],
   "source": [
    "get_kfold_accuracy(X, y, parameters)"
   ]
  },
  {
   "cell_type": "code",
   "execution_count": 34,
   "metadata": {},
   "outputs": [],
   "source": [
    "clf = xgb.XGBClassifier(**parameters, use_label_encoder=False)\n",
    "bst = clf.fit(X, y)"
   ]
  },
  {
   "cell_type": "code",
   "execution_count": 35,
   "metadata": {},
   "outputs": [],
   "source": [
    "y_077990 = pd.read_csv('submission_xgboost_077990.csv')"
   ]
  },
  {
   "cell_type": "code",
   "execution_count": 38,
   "metadata": {},
   "outputs": [
    {
     "data": {
      "text/plain": [
       "99"
      ]
     },
     "execution_count": 38,
     "metadata": {},
     "output_type": "execute_result"
    }
   ],
   "source": [
    "bst.best_iteration"
   ]
  },
  {
   "cell_type": "code",
   "execution_count": 39,
   "metadata": {},
   "outputs": [
    {
     "data": {
      "text/html": [
       "<div>\n",
       "<style scoped>\n",
       "    .dataframe tbody tr th:only-of-type {\n",
       "        vertical-align: middle;\n",
       "    }\n",
       "\n",
       "    .dataframe tbody tr th {\n",
       "        vertical-align: top;\n",
       "    }\n",
       "\n",
       "    .dataframe thead th {\n",
       "        text-align: right;\n",
       "    }\n",
       "</style>\n",
       "<table border=\"1\" class=\"dataframe\">\n",
       "  <thead>\n",
       "    <tr style=\"text-align: right;\">\n",
       "      <th></th>\n",
       "      <th>PassengerId</th>\n",
       "      <th>Survived</th>\n",
       "    </tr>\n",
       "  </thead>\n",
       "  <tbody>\n",
       "    <tr>\n",
       "      <th>0</th>\n",
       "      <td>892</td>\n",
       "      <td>0</td>\n",
       "    </tr>\n",
       "    <tr>\n",
       "      <th>1</th>\n",
       "      <td>893</td>\n",
       "      <td>1</td>\n",
       "    </tr>\n",
       "    <tr>\n",
       "      <th>2</th>\n",
       "      <td>894</td>\n",
       "      <td>0</td>\n",
       "    </tr>\n",
       "    <tr>\n",
       "      <th>3</th>\n",
       "      <td>895</td>\n",
       "      <td>0</td>\n",
       "    </tr>\n",
       "    <tr>\n",
       "      <th>4</th>\n",
       "      <td>896</td>\n",
       "      <td>1</td>\n",
       "    </tr>\n",
       "    <tr>\n",
       "      <th>...</th>\n",
       "      <td>...</td>\n",
       "      <td>...</td>\n",
       "    </tr>\n",
       "    <tr>\n",
       "      <th>413</th>\n",
       "      <td>1305</td>\n",
       "      <td>0</td>\n",
       "    </tr>\n",
       "    <tr>\n",
       "      <th>414</th>\n",
       "      <td>1306</td>\n",
       "      <td>1</td>\n",
       "    </tr>\n",
       "    <tr>\n",
       "      <th>415</th>\n",
       "      <td>1307</td>\n",
       "      <td>0</td>\n",
       "    </tr>\n",
       "    <tr>\n",
       "      <th>416</th>\n",
       "      <td>1308</td>\n",
       "      <td>0</td>\n",
       "    </tr>\n",
       "    <tr>\n",
       "      <th>417</th>\n",
       "      <td>1309</td>\n",
       "      <td>0</td>\n",
       "    </tr>\n",
       "  </tbody>\n",
       "</table>\n",
       "<p>418 rows × 2 columns</p>\n",
       "</div>"
      ],
      "text/plain": [
       "     PassengerId  Survived\n",
       "0            892         0\n",
       "1            893         1\n",
       "2            894         0\n",
       "3            895         0\n",
       "4            896         1\n",
       "..           ...       ...\n",
       "413         1305         0\n",
       "414         1306         1\n",
       "415         1307         0\n",
       "416         1308         0\n",
       "417         1309         0\n",
       "\n",
       "[418 rows x 2 columns]"
      ]
     },
     "execution_count": 39,
     "metadata": {},
     "output_type": "execute_result"
    }
   ],
   "source": [
    "y_077990"
   ]
  },
  {
   "cell_type": "code",
   "execution_count": 40,
   "metadata": {},
   "outputs": [
    {
     "data": {
      "text/plain": [
       "PassengerId     True\n",
       "Survived       False\n",
       "dtype: bool"
      ]
     },
     "execution_count": 40,
     "metadata": {},
     "output_type": "execute_result"
    }
   ],
   "source": [
    "y_pred = bst.predict(test_transformed, iteration_range = (0, bst.best_iteration + 1))\n",
    "submission = pd.DataFrame({\n",
    "        \"PassengerId\": PassengerId,\n",
    "        \"Survived\": y_pred\n",
    "    })\n",
    "submission.to_csv('submission_xgboost.csv', index=False)\n",
    "(submission == y_077990).all()"
   ]
  },
  {
   "cell_type": "markdown",
   "metadata": {},
   "source": [
    "### Some useful notes\n",
    "\n",
    "1. Custom objective and evaluation functions – https://github.com/dmlc/xgboost/blob/master/demo/guide-python/custom_objective.py\n",
    "2. Never use timeseries validation with **xgb.cv**, it is broken :( \n",
    "3. Investigate your task and metrics. There are many objective functions that are worth to try.\n"
   ]
  },
  {
   "cell_type": "markdown",
   "metadata": {},
   "source": [
    "# LightGBM\n",
    "\n",
    "### Lightgbm Parameters Tunning\n",
    "\n",
    "\n",
    "**Core parameters**\n",
    "\n",
    "Begin with `learning_rate` parameter setting with default value <br>\n",
    "`n_estimators`(number of boosting iterations) set 10k (some big number).<br>\n",
    "`num_leaves` (number of leaves in one tree) set 155 as a starting point.<br>\n",
    "`objective` –  the same as for xgboost `objective` (adding \"regression_l1\")\n",
    "\n",
    "**Control Overfitting and Accuracy**\n",
    "\n",
    "`max_depth` – max tree depth (`default=-1`). Start with tunning `num_leaves`, in the end try to change `max_depth`; <br>\n",
    "`min_data_in_leaf` – very important parameter that helps to control overfitting (`default=20`);<br>\n",
    "`colsample_bytree` – select part of features on each iteration (`default=1.0`). Always have to be tunned! <br>\n",
    "`subsample` – select part of data without resampling (`default=1.0`). To enable it, set `subsample_freq` = 1 (other values always work worse)\n",
    "`early_stopping_round` – as in xgboost\n",
    "\n"
   ]
  },
  {
   "cell_type": "code",
   "execution_count": 42,
   "metadata": {},
   "outputs": [],
   "source": [
    "import lightgbm as lgb\n",
    "from lightgbm.callback import log_evaluation, early_stopping\n",
    "callbacks = [log_evaluation(50), early_stopping(100)]\n",
    "parameters = {\n",
    "    \"objective\": \"binary\",\n",
    "    \"learning_rate\": 0.1,\n",
    "    \"num_threads\": 10,\n",
    "    \"metric\": \"auc\",\n",
    "    \"seed\": 42\n",
    "}\n",
    "n_rounds = 1000\n",
    "\n",
    "lgb_train = lgb.Dataset(X, label=y, free_raw_data=False)"
   ]
  },
  {
   "cell_type": "code",
   "execution_count": 192,
   "metadata": {},
   "outputs": [],
   "source": [
    "def l_get_kfold_accuracy(X, y, parameters, n_splits=5, num_iter = 30):\n",
    "    kfold = StratifiedKFold(shuffle=True, random_state=42, n_splits=n_splits)\n",
    "    scores = []\n",
    "    for train_ix, test_ix in kfold.split(X, y):\n",
    "        train_X, test_X = X.iloc[train_ix], X.iloc[test_ix]\n",
    "        train_y, test_y = y[train_ix], y[test_ix]\n",
    "        lgbc = lgb.LGBMClassifier(**parameters)\n",
    "        lgbc.fit(X, y)\n",
    "        best = lgbc.best_iteration_ if lgbc.best_iteration_ else num_iter\n",
    "        yhat =  lgbc.predict(test_X, num_iteration=best)\n",
    "        acc = accuracy_score(test_y, yhat)\n",
    "        # store score\n",
    "        scores.append(acc)\n",
    "    return np.mean(scores)"
   ]
  },
  {
   "cell_type": "code",
   "execution_count": 44,
   "metadata": {
    "scrolled": true
   },
   "outputs": [
    {
     "name": "stdout",
     "output_type": "stream",
     "text": [
      "[LightGBM] [Info] Number of positive: 226, number of negative: 366\n",
      "[LightGBM] [Warning] Auto-choosing row-wise multi-threading, the overhead of testing was 0.001272 seconds.\n",
      "You can set `force_row_wise=true` to remove the overhead.\n",
      "And if memory is not enough, you can set `force_col_wise=true`.\n",
      "[LightGBM] [Info] Total Bins 96\n",
      "[LightGBM] [Info] Number of data points in the train set: 592, number of used features: 11\n",
      "[LightGBM] [Info] Number of positive: 227, number of negative: 366\n",
      "[LightGBM] [Warning] Auto-choosing row-wise multi-threading, the overhead of testing was 0.000899 seconds.\n",
      "You can set `force_row_wise=true` to remove the overhead.\n",
      "And if memory is not enough, you can set `force_col_wise=true`.\n",
      "[LightGBM] [Info] Total Bins 96\n",
      "[LightGBM] [Info] Number of data points in the train set: 593, number of used features: 11\n",
      "[LightGBM] [Info] Number of positive: 227, number of negative: 366\n",
      "[LightGBM] [Warning] Auto-choosing row-wise multi-threading, the overhead of testing was 0.001035 seconds.\n",
      "You can set `force_row_wise=true` to remove the overhead.\n",
      "And if memory is not enough, you can set `force_col_wise=true`.\n",
      "[LightGBM] [Info] Total Bins 96\n",
      "[LightGBM] [Info] Number of data points in the train set: 593, number of used features: 11\n",
      "[LightGBM] [Info] [binary:BoostFromScore]: pavg=0.381757 -> initscore=-0.482098\n",
      "[LightGBM] [Info] Start training from score -0.482098\n",
      "[LightGBM] [Warning] No further splits with positive gain, best gain: -inf\n",
      "[LightGBM] [Info] [binary:BoostFromScore]: pavg=0.382799 -> initscore=-0.477683\n",
      "[LightGBM] [Info] Start training from score -0.477683\n",
      "[LightGBM] [Warning] No further splits with positive gain, best gain: -inf\n",
      "[LightGBM] [Info] [binary:BoostFromScore]: pavg=0.382799 -> initscore=-0.477683\n",
      "[LightGBM] [Info] Start training from score -0.477683\n",
      "[LightGBM] [Warning] No further splits with positive gain, best gain: -inf\n",
      "Training until validation scores don't improve for 100 rounds\n",
      "[LightGBM] [Warning] No further splits with positive gain, best gain: -inf\n",
      "[LightGBM] [Warning] No further splits with positive gain, best gain: -inf\n",
      "[LightGBM] [Warning] No further splits with positive gain, best gain: -inf\n",
      "[LightGBM] [Warning] No further splits with positive gain, best gain: -inf\n",
      "[LightGBM] [Warning] No further splits with positive gain, best gain: -inf\n",
      "[LightGBM] [Warning] No further splits with positive gain, best gain: -inf\n",
      "[LightGBM] [Warning] No further splits with positive gain, best gain: -inf\n",
      "[LightGBM] [Warning] No further splits with positive gain, best gain: -inf\n",
      "[LightGBM] [Warning] No further splits with positive gain, best gain: -inf\n",
      "[LightGBM] [Warning] No further splits with positive gain, best gain: -inf\n",
      "[LightGBM] [Warning] No further splits with positive gain, best gain: -inf\n",
      "[LightGBM] [Warning] No further splits with positive gain, best gain: -inf\n",
      "[LightGBM] [Warning] No further splits with positive gain, best gain: -inf\n",
      "[LightGBM] [Warning] No further splits with positive gain, best gain: -inf\n",
      "[LightGBM] [Warning] No further splits with positive gain, best gain: -inf\n",
      "[LightGBM] [Warning] No further splits with positive gain, best gain: -inf\n",
      "[LightGBM] [Warning] No further splits with positive gain, best gain: -inf\n",
      "[LightGBM] [Warning] No further splits with positive gain, best gain: -inf\n",
      "[LightGBM] [Warning] No further splits with positive gain, best gain: -inf\n",
      "[LightGBM] [Warning] No further splits with positive gain, best gain: -inf\n",
      "[LightGBM] [Warning] No further splits with positive gain, best gain: -inf\n",
      "[LightGBM] [Warning] No further splits with positive gain, best gain: -inf\n",
      "[LightGBM] [Warning] No further splits with positive gain, best gain: -inf\n",
      "[LightGBM] [Warning] No further splits with positive gain, best gain: -inf\n",
      "[LightGBM] [Warning] No further splits with positive gain, best gain: -inf\n",
      "[LightGBM] [Warning] No further splits with positive gain, best gain: -inf\n",
      "[LightGBM] [Warning] No further splits with positive gain, best gain: -inf\n",
      "[LightGBM] [Warning] No further splits with positive gain, best gain: -inf\n",
      "[LightGBM] [Warning] No further splits with positive gain, best gain: -inf\n",
      "[LightGBM] [Warning] No further splits with positive gain, best gain: -inf\n",
      "[LightGBM] [Warning] No further splits with positive gain, best gain: -inf\n",
      "[LightGBM] [Warning] No further splits with positive gain, best gain: -inf\n",
      "[LightGBM] [Warning] No further splits with positive gain, best gain: -inf\n",
      "[LightGBM] [Warning] No further splits with positive gain, best gain: -inf\n",
      "[LightGBM] [Warning] No further splits with positive gain, best gain: -inf\n",
      "[LightGBM] [Warning] No further splits with positive gain, best gain: -inf\n",
      "[LightGBM] [Warning] No further splits with positive gain, best gain: -inf\n",
      "[LightGBM] [Warning] No further splits with positive gain, best gain: -inf\n",
      "[LightGBM] [Warning] No further splits with positive gain, best gain: -inf\n",
      "[LightGBM] [Warning] No further splits with positive gain, best gain: -inf\n",
      "[LightGBM] [Warning] No further splits with positive gain, best gain: -inf\n",
      "[LightGBM] [Warning] No further splits with positive gain, best gain: -inf\n",
      "[LightGBM] [Warning] No further splits with positive gain, best gain: -inf\n",
      "[LightGBM] [Warning] No further splits with positive gain, best gain: -inf\n",
      "[LightGBM] [Warning] No further splits with positive gain, best gain: -inf\n",
      "[LightGBM] [Warning] No further splits with positive gain, best gain: -inf\n",
      "[LightGBM] [Warning] No further splits with positive gain, best gain: -inf\n",
      "[LightGBM] [Warning] No further splits with positive gain, best gain: -inf\n",
      "[LightGBM] [Warning] No further splits with positive gain, best gain: -inf\n",
      "[LightGBM] [Warning] No further splits with positive gain, best gain: -inf\n",
      "[LightGBM] [Warning] No further splits with positive gain, best gain: -inf\n",
      "[LightGBM] [Warning] No further splits with positive gain, best gain: -inf\n",
      "[LightGBM] [Warning] No further splits with positive gain, best gain: -inf\n",
      "[LightGBM] [Warning] No further splits with positive gain, best gain: -inf\n",
      "[LightGBM] [Warning] No further splits with positive gain, best gain: -inf\n",
      "[LightGBM] [Warning] No further splits with positive gain, best gain: -inf\n",
      "[LightGBM] [Warning] No further splits with positive gain, best gain: -inf\n",
      "[LightGBM] [Warning] No further splits with positive gain, best gain: -inf\n",
      "[LightGBM] [Warning] No further splits with positive gain, best gain: -inf\n",
      "[LightGBM] [Warning] No further splits with positive gain, best gain: -inf\n",
      "[LightGBM] [Warning] No further splits with positive gain, best gain: -inf\n",
      "[LightGBM] [Warning] No further splits with positive gain, best gain: -inf\n",
      "[LightGBM] [Warning] No further splits with positive gain, best gain: -inf\n",
      "[LightGBM] [Warning] No further splits with positive gain, best gain: -inf\n",
      "[LightGBM] [Warning] No further splits with positive gain, best gain: -inf\n",
      "[LightGBM] [Warning] No further splits with positive gain, best gain: -inf\n",
      "[LightGBM] [Warning] No further splits with positive gain, best gain: -inf\n",
      "[LightGBM] [Warning] No further splits with positive gain, best gain: -inf\n",
      "[LightGBM] [Warning] No further splits with positive gain, best gain: -inf\n",
      "[LightGBM] [Warning] No further splits with positive gain, best gain: -inf\n",
      "[LightGBM] [Warning] No further splits with positive gain, best gain: -inf\n",
      "[LightGBM] [Warning] No further splits with positive gain, best gain: -inf\n",
      "[LightGBM] [Warning] No further splits with positive gain, best gain: -inf\n",
      "[LightGBM] [Warning] No further splits with positive gain, best gain: -inf\n",
      "[LightGBM] [Warning] No further splits with positive gain, best gain: -inf\n",
      "[LightGBM] [Warning] No further splits with positive gain, best gain: -inf\n",
      "[LightGBM] [Warning] No further splits with positive gain, best gain: -inf\n",
      "[LightGBM] [Warning] No further splits with positive gain, best gain: -inf\n",
      "[LightGBM] [Warning] No further splits with positive gain, best gain: -inf\n",
      "[LightGBM] [Warning] No further splits with positive gain, best gain: -inf\n",
      "[LightGBM] [Warning] No further splits with positive gain, best gain: -inf\n",
      "[LightGBM] [Warning] No further splits with positive gain, best gain: -inf\n",
      "[LightGBM] [Warning] No further splits with positive gain, best gain: -inf\n",
      "[LightGBM] [Warning] No further splits with positive gain, best gain: -inf\n",
      "[LightGBM] [Warning] No further splits with positive gain, best gain: -inf\n",
      "[LightGBM] [Warning] No further splits with positive gain, best gain: -inf\n",
      "[LightGBM] [Warning] No further splits with positive gain, best gain: -inf\n",
      "[LightGBM] [Warning] No further splits with positive gain, best gain: -inf\n",
      "[LightGBM] [Warning] No further splits with positive gain, best gain: -inf\n",
      "[LightGBM] [Warning] No further splits with positive gain, best gain: -inf\n",
      "[LightGBM] [Warning] No further splits with positive gain, best gain: -inf\n"
     ]
    },
    {
     "name": "stdout",
     "output_type": "stream",
     "text": [
      "[LightGBM] [Warning] No further splits with positive gain, best gain: -inf\n",
      "[LightGBM] [Warning] No further splits with positive gain, best gain: -inf\n",
      "[LightGBM] [Warning] No further splits with positive gain, best gain: -inf\n",
      "[LightGBM] [Warning] No further splits with positive gain, best gain: -inf\n",
      "[LightGBM] [Warning] No further splits with positive gain, best gain: -inf\n",
      "[LightGBM] [Warning] No further splits with positive gain, best gain: -inf\n",
      "[LightGBM] [Warning] No further splits with positive gain, best gain: -inf\n",
      "[LightGBM] [Warning] No further splits with positive gain, best gain: -inf\n",
      "[LightGBM] [Warning] No further splits with positive gain, best gain: -inf\n",
      "[LightGBM] [Warning] No further splits with positive gain, best gain: -inf\n",
      "[LightGBM] [Warning] No further splits with positive gain, best gain: -inf\n",
      "[LightGBM] [Warning] No further splits with positive gain, best gain: -inf\n",
      "[LightGBM] [Warning] No further splits with positive gain, best gain: -inf\n",
      "[LightGBM] [Warning] No further splits with positive gain, best gain: -inf\n",
      "[LightGBM] [Warning] No further splits with positive gain, best gain: -inf\n",
      "[LightGBM] [Warning] No further splits with positive gain, best gain: -inf\n",
      "[LightGBM] [Warning] No further splits with positive gain, best gain: -inf\n",
      "[LightGBM] [Warning] No further splits with positive gain, best gain: -inf\n",
      "[LightGBM] [Warning] No further splits with positive gain, best gain: -inf\n",
      "[LightGBM] [Warning] No further splits with positive gain, best gain: -inf\n",
      "[LightGBM] [Warning] No further splits with positive gain, best gain: -inf\n",
      "[LightGBM] [Warning] No further splits with positive gain, best gain: -inf\n",
      "[LightGBM] [Warning] No further splits with positive gain, best gain: -inf\n",
      "[LightGBM] [Warning] No further splits with positive gain, best gain: -inf\n",
      "[LightGBM] [Warning] No further splits with positive gain, best gain: -inf\n",
      "[LightGBM] [Warning] No further splits with positive gain, best gain: -inf\n",
      "[LightGBM] [Warning] No further splits with positive gain, best gain: -inf\n",
      "[LightGBM] [Warning] No further splits with positive gain, best gain: -inf\n",
      "[LightGBM] [Warning] No further splits with positive gain, best gain: -inf\n",
      "[LightGBM] [Warning] No further splits with positive gain, best gain: -inf\n",
      "[LightGBM] [Warning] No further splits with positive gain, best gain: -inf\n",
      "[LightGBM] [Warning] No further splits with positive gain, best gain: -inf\n",
      "[LightGBM] [Warning] No further splits with positive gain, best gain: -inf\n",
      "[LightGBM] [Warning] No further splits with positive gain, best gain: -inf\n",
      "[LightGBM] [Warning] No further splits with positive gain, best gain: -inf\n",
      "[LightGBM] [Warning] No further splits with positive gain, best gain: -inf\n",
      "[LightGBM] [Warning] No further splits with positive gain, best gain: -inf\n",
      "[LightGBM] [Warning] No further splits with positive gain, best gain: -inf\n",
      "[LightGBM] [Warning] No further splits with positive gain, best gain: -inf\n",
      "[LightGBM] [Warning] No further splits with positive gain, best gain: -inf\n",
      "[LightGBM] [Warning] No further splits with positive gain, best gain: -inf\n",
      "[LightGBM] [Warning] No further splits with positive gain, best gain: -inf\n",
      "[LightGBM] [Warning] No further splits with positive gain, best gain: -inf\n",
      "[LightGBM] [Warning] No further splits with positive gain, best gain: -inf\n",
      "[LightGBM] [Warning] No further splits with positive gain, best gain: -inf\n",
      "[LightGBM] [Warning] No further splits with positive gain, best gain: -inf\n",
      "[LightGBM] [Warning] No further splits with positive gain, best gain: -inf\n",
      "[LightGBM] [Warning] No further splits with positive gain, best gain: -inf\n",
      "[LightGBM] [Warning] No further splits with positive gain, best gain: -inf\n",
      "[LightGBM] [Warning] No further splits with positive gain, best gain: -inf\n",
      "[LightGBM] [Warning] No further splits with positive gain, best gain: -inf\n",
      "[LightGBM] [Warning] No further splits with positive gain, best gain: -inf\n",
      "[LightGBM] [Warning] No further splits with positive gain, best gain: -inf\n",
      "[LightGBM] [Warning] No further splits with positive gain, best gain: -inf\n",
      "[LightGBM] [Warning] No further splits with positive gain, best gain: -inf\n",
      "[LightGBM] [Warning] No further splits with positive gain, best gain: -inf\n",
      "[50]\tcv_agg's auc: 0.859546 + 0.0114899\n",
      "[LightGBM] [Warning] No further splits with positive gain, best gain: -inf\n",
      "[LightGBM] [Warning] No further splits with positive gain, best gain: -inf\n",
      "[LightGBM] [Warning] No further splits with positive gain, best gain: -inf\n",
      "[LightGBM] [Warning] No further splits with positive gain, best gain: -inf\n",
      "[LightGBM] [Warning] No further splits with positive gain, best gain: -inf\n",
      "[LightGBM] [Warning] No further splits with positive gain, best gain: -inf\n",
      "[LightGBM] [Warning] No further splits with positive gain, best gain: -inf\n",
      "[LightGBM] [Warning] No further splits with positive gain, best gain: -inf\n",
      "[LightGBM] [Warning] No further splits with positive gain, best gain: -inf\n",
      "[LightGBM] [Warning] No further splits with positive gain, best gain: -inf\n",
      "[LightGBM] [Warning] No further splits with positive gain, best gain: -inf\n",
      "[LightGBM] [Warning] No further splits with positive gain, best gain: -inf\n",
      "[LightGBM] [Warning] No further splits with positive gain, best gain: -inf\n",
      "[LightGBM] [Warning] No further splits with positive gain, best gain: -inf\n",
      "[LightGBM] [Warning] No further splits with positive gain, best gain: -inf\n",
      "[LightGBM] [Warning] No further splits with positive gain, best gain: -inf\n",
      "[LightGBM] [Warning] No further splits with positive gain, best gain: -inf\n",
      "[LightGBM] [Warning] No further splits with positive gain, best gain: -inf\n",
      "[LightGBM] [Warning] No further splits with positive gain, best gain: -inf\n",
      "[LightGBM] [Warning] No further splits with positive gain, best gain: -inf\n",
      "[LightGBM] [Warning] No further splits with positive gain, best gain: -inf\n",
      "[LightGBM] [Warning] No further splits with positive gain, best gain: -inf\n",
      "[LightGBM] [Warning] No further splits with positive gain, best gain: -inf\n",
      "[LightGBM] [Warning] No further splits with positive gain, best gain: -inf\n",
      "[LightGBM] [Warning] No further splits with positive gain, best gain: -inf\n",
      "[LightGBM] [Warning] No further splits with positive gain, best gain: -inf\n",
      "[LightGBM] [Warning] No further splits with positive gain, best gain: -inf\n",
      "[LightGBM] [Warning] No further splits with positive gain, best gain: -inf\n",
      "[LightGBM] [Warning] No further splits with positive gain, best gain: -inf\n",
      "[LightGBM] [Warning] No further splits with positive gain, best gain: -inf\n",
      "[LightGBM] [Warning] No further splits with positive gain, best gain: -inf\n",
      "[LightGBM] [Warning] No further splits with positive gain, best gain: -inf\n",
      "[LightGBM] [Warning] No further splits with positive gain, best gain: -inf\n",
      "[LightGBM] [Warning] No further splits with positive gain, best gain: -inf\n",
      "[LightGBM] [Warning] No further splits with positive gain, best gain: -inf\n",
      "[LightGBM] [Warning] No further splits with positive gain, best gain: -inf\n",
      "[LightGBM] [Warning] No further splits with positive gain, best gain: -inf\n",
      "[LightGBM] [Warning] No further splits with positive gain, best gain: -inf\n",
      "[LightGBM] [Warning] No further splits with positive gain, best gain: -inf\n",
      "[LightGBM] [Warning] No further splits with positive gain, best gain: -inf\n",
      "[LightGBM] [Warning] No further splits with positive gain, best gain: -inf\n",
      "[LightGBM] [Warning] No further splits with positive gain, best gain: -inf\n",
      "[LightGBM] [Warning] No further splits with positive gain, best gain: -inf\n",
      "[LightGBM] [Warning] No further splits with positive gain, best gain: -inf\n",
      "[LightGBM] [Warning] No further splits with positive gain, best gain: -inf\n",
      "[LightGBM] [Warning] No further splits with positive gain, best gain: -inf\n",
      "[LightGBM] [Warning] No further splits with positive gain, best gain: -inf\n",
      "[LightGBM] [Warning] No further splits with positive gain, best gain: -inf\n",
      "[LightGBM] [Warning] No further splits with positive gain, best gain: -inf\n",
      "[LightGBM] [Warning] No further splits with positive gain, best gain: -inf\n",
      "[LightGBM] [Warning] No further splits with positive gain, best gain: -inf\n",
      "[LightGBM] [Warning] No further splits with positive gain, best gain: -inf\n",
      "[LightGBM] [Warning] No further splits with positive gain, best gain: -inf\n",
      "[LightGBM] [Warning] No further splits with positive gain, best gain: -inf\n",
      "[LightGBM] [Warning] No further splits with positive gain, best gain: -inf\n",
      "[LightGBM] [Warning] No further splits with positive gain, best gain: -inf\n",
      "[LightGBM] [Warning] No further splits with positive gain, best gain: -inf\n",
      "[LightGBM] [Warning] No further splits with positive gain, best gain: -inf\n",
      "[LightGBM] [Warning] No further splits with positive gain, best gain: -inf\n",
      "[LightGBM] [Warning] No further splits with positive gain, best gain: -inf\n",
      "[LightGBM] [Warning] No further splits with positive gain, best gain: -inf\n",
      "[LightGBM] [Warning] No further splits with positive gain, best gain: -inf\n",
      "[LightGBM] [Warning] No further splits with positive gain, best gain: -inf\n",
      "[LightGBM] [Warning] No further splits with positive gain, best gain: -inf\n",
      "[LightGBM] [Warning] No further splits with positive gain, best gain: -inf\n",
      "[LightGBM] [Warning] No further splits with positive gain, best gain: -inf\n",
      "[LightGBM] [Warning] No further splits with positive gain, best gain: -inf\n",
      "[LightGBM] [Warning] No further splits with positive gain, best gain: -inf\n",
      "[LightGBM] [Warning] No further splits with positive gain, best gain: -inf\n",
      "[LightGBM] [Warning] No further splits with positive gain, best gain: -inf\n",
      "[LightGBM] [Warning] No further splits with positive gain, best gain: -inf\n",
      "[LightGBM] [Warning] No further splits with positive gain, best gain: -inf\n",
      "[LightGBM] [Warning] No further splits with positive gain, best gain: -inf\n",
      "[LightGBM] [Warning] No further splits with positive gain, best gain: -inf\n",
      "[LightGBM] [Warning] No further splits with positive gain, best gain: -inf\n",
      "[LightGBM] [Warning] No further splits with positive gain, best gain: -inf\n",
      "[LightGBM] [Warning] No further splits with positive gain, best gain: -inf\n",
      "[LightGBM] [Warning] No further splits with positive gain, best gain: -inf\n",
      "[LightGBM] [Warning] No further splits with positive gain, best gain: -inf\n",
      "[LightGBM] [Warning] No further splits with positive gain, best gain: -inf\n",
      "[LightGBM] [Warning] No further splits with positive gain, best gain: -inf\n",
      "[LightGBM] [Warning] No further splits with positive gain, best gain: -inf\n",
      "[LightGBM] [Warning] No further splits with positive gain, best gain: -inf\n",
      "[LightGBM] [Warning] No further splits with positive gain, best gain: -inf\n",
      "[LightGBM] [Warning] No further splits with positive gain, best gain: -inf\n",
      "[LightGBM] [Warning] No further splits with positive gain, best gain: -inf\n",
      "[LightGBM] [Warning] No further splits with positive gain, best gain: -inf\n",
      "[LightGBM] [Warning] No further splits with positive gain, best gain: -inf\n",
      "[LightGBM] [Warning] No further splits with positive gain, best gain: -inf\n",
      "[LightGBM] [Warning] No further splits with positive gain, best gain: -inf\n",
      "[LightGBM] [Warning] No further splits with positive gain, best gain: -inf\n",
      "[LightGBM] [Warning] No further splits with positive gain, best gain: -inf\n",
      "[LightGBM] [Warning] No further splits with positive gain, best gain: -inf\n",
      "[LightGBM] [Warning] No further splits with positive gain, best gain: -inf\n",
      "[LightGBM] [Warning] No further splits with positive gain, best gain: -inf\n",
      "[LightGBM] [Warning] No further splits with positive gain, best gain: -inf\n",
      "[LightGBM] [Warning] No further splits with positive gain, best gain: -inf\n",
      "[LightGBM] [Warning] No further splits with positive gain, best gain: -inf\n",
      "[LightGBM] [Warning] No further splits with positive gain, best gain: -inf\n",
      "[LightGBM] [Warning] No further splits with positive gain, best gain: -inf\n",
      "[LightGBM] [Warning] No further splits with positive gain, best gain: -inf\n",
      "[LightGBM] [Warning] No further splits with positive gain, best gain: -inf\n",
      "[LightGBM] [Warning] No further splits with positive gain, best gain: -inf\n"
     ]
    },
    {
     "name": "stdout",
     "output_type": "stream",
     "text": [
      "[LightGBM] [Warning] No further splits with positive gain, best gain: -inf\n",
      "[LightGBM] [Warning] No further splits with positive gain, best gain: -inf\n",
      "[LightGBM] [Warning] No further splits with positive gain, best gain: -inf\n",
      "[LightGBM] [Warning] No further splits with positive gain, best gain: -inf\n",
      "[LightGBM] [Warning] No further splits with positive gain, best gain: -inf\n",
      "[LightGBM] [Warning] No further splits with positive gain, best gain: -inf\n",
      "[LightGBM] [Warning] No further splits with positive gain, best gain: -inf\n",
      "[LightGBM] [Warning] No further splits with positive gain, best gain: -inf\n",
      "[LightGBM] [Warning] No further splits with positive gain, best gain: -inf\n",
      "[LightGBM] [Warning] No further splits with positive gain, best gain: -inf\n",
      "[LightGBM] [Warning] No further splits with positive gain, best gain: -inf\n",
      "[LightGBM] [Warning] No further splits with positive gain, best gain: -inf\n",
      "[LightGBM] [Warning] No further splits with positive gain, best gain: -inf\n",
      "[LightGBM] [Warning] No further splits with positive gain, best gain: -inf\n",
      "[LightGBM] [Warning] No further splits with positive gain, best gain: -inf\n",
      "[LightGBM] [Warning] No further splits with positive gain, best gain: -inf\n",
      "[LightGBM] [Warning] No further splits with positive gain, best gain: -inf\n",
      "[LightGBM] [Warning] No further splits with positive gain, best gain: -inf\n",
      "[LightGBM] [Warning] No further splits with positive gain, best gain: -inf\n",
      "[LightGBM] [Warning] No further splits with positive gain, best gain: -inf\n",
      "[LightGBM] [Warning] No further splits with positive gain, best gain: -inf\n",
      "[LightGBM] [Warning] No further splits with positive gain, best gain: -inf\n",
      "[LightGBM] [Warning] No further splits with positive gain, best gain: -inf\n",
      "[LightGBM] [Warning] No further splits with positive gain, best gain: -inf\n",
      "[LightGBM] [Warning] No further splits with positive gain, best gain: -inf\n",
      "[LightGBM] [Warning] No further splits with positive gain, best gain: -inf\n",
      "[LightGBM] [Warning] No further splits with positive gain, best gain: -inf\n",
      "[LightGBM] [Warning] No further splits with positive gain, best gain: -inf\n",
      "[LightGBM] [Warning] No further splits with positive gain, best gain: -inf\n",
      "[LightGBM] [Warning] No further splits with positive gain, best gain: -inf\n",
      "[LightGBM] [Warning] No further splits with positive gain, best gain: -inf\n",
      "[LightGBM] [Warning] No further splits with positive gain, best gain: -inf\n",
      "[LightGBM] [Warning] No further splits with positive gain, best gain: -inf\n",
      "[LightGBM] [Warning] No further splits with positive gain, best gain: -inf\n",
      "[LightGBM] [Warning] No further splits with positive gain, best gain: -inf\n",
      "[LightGBM] [Warning] No further splits with positive gain, best gain: -inf\n",
      "[LightGBM] [Warning] No further splits with positive gain, best gain: -inf\n",
      "[LightGBM] [Warning] No further splits with positive gain, best gain: -inf\n",
      "[LightGBM] [Warning] No further splits with positive gain, best gain: -inf\n",
      "[LightGBM] [Warning] No further splits with positive gain, best gain: -inf\n",
      "[LightGBM] [Warning] No further splits with positive gain, best gain: -inf\n",
      "[LightGBM] [Warning] No further splits with positive gain, best gain: -inf\n",
      "[LightGBM] [Warning] No further splits with positive gain, best gain: -inf\n",
      "[LightGBM] [Warning] No further splits with positive gain, best gain: -inf\n",
      "[LightGBM] [Warning] No further splits with positive gain, best gain: -inf\n",
      "[LightGBM] [Warning] No further splits with positive gain, best gain: -inf\n",
      "[LightGBM] [Warning] No further splits with positive gain, best gain: -inf\n",
      "[100]\tcv_agg's auc: 0.848048 + 0.0143326\n",
      "[LightGBM] [Warning] No further splits with positive gain, best gain: -inf\n",
      "[LightGBM] [Warning] No further splits with positive gain, best gain: -inf\n",
      "[LightGBM] [Warning] No further splits with positive gain, best gain: -inf\n",
      "[LightGBM] [Warning] No further splits with positive gain, best gain: -inf\n",
      "[LightGBM] [Warning] No further splits with positive gain, best gain: -inf\n",
      "[LightGBM] [Warning] No further splits with positive gain, best gain: -inf\n",
      "[LightGBM] [Warning] No further splits with positive gain, best gain: -inf\n",
      "[LightGBM] [Warning] No further splits with positive gain, best gain: -inf\n",
      "[LightGBM] [Warning] No further splits with positive gain, best gain: -inf\n",
      "[LightGBM] [Warning] No further splits with positive gain, best gain: -inf\n",
      "[LightGBM] [Warning] No further splits with positive gain, best gain: -inf\n",
      "[LightGBM] [Warning] No further splits with positive gain, best gain: -inf\n",
      "[LightGBM] [Warning] No further splits with positive gain, best gain: -inf\n",
      "[LightGBM] [Warning] No further splits with positive gain, best gain: -inf\n",
      "[LightGBM] [Warning] No further splits with positive gain, best gain: -inf\n",
      "[LightGBM] [Warning] No further splits with positive gain, best gain: -inf\n",
      "[LightGBM] [Warning] No further splits with positive gain, best gain: -inf\n",
      "[LightGBM] [Warning] No further splits with positive gain, best gain: -inf\n",
      "[LightGBM] [Warning] No further splits with positive gain, best gain: -inf\n",
      "[LightGBM] [Warning] No further splits with positive gain, best gain: -inf\n",
      "[LightGBM] [Warning] No further splits with positive gain, best gain: -inf\n",
      "[LightGBM] [Warning] No further splits with positive gain, best gain: -inf\n",
      "[LightGBM] [Warning] No further splits with positive gain, best gain: -inf\n",
      "[LightGBM] [Warning] No further splits with positive gain, best gain: -inf\n",
      "[LightGBM] [Warning] No further splits with positive gain, best gain: -inf\n",
      "[LightGBM] [Warning] No further splits with positive gain, best gain: -inf\n",
      "[LightGBM] [Warning] No further splits with positive gain, best gain: -inf\n",
      "[LightGBM] [Warning] No further splits with positive gain, best gain: -inf\n",
      "[LightGBM] [Warning] No further splits with positive gain, best gain: -inf\n",
      "[LightGBM] [Warning] No further splits with positive gain, best gain: -inf\n",
      "[LightGBM] [Warning] No further splits with positive gain, best gain: -inf\n",
      "[LightGBM] [Warning] No further splits with positive gain, best gain: -inf\n",
      "[LightGBM] [Warning] No further splits with positive gain, best gain: -inf\n",
      "[LightGBM] [Warning] No further splits with positive gain, best gain: -inf\n",
      "[LightGBM] [Warning] No further splits with positive gain, best gain: -inf\n",
      "[LightGBM] [Warning] No further splits with positive gain, best gain: -inf\n",
      "[LightGBM] [Warning] No further splits with positive gain, best gain: -inf\n",
      "[LightGBM] [Warning] No further splits with positive gain, best gain: -inf\n",
      "[LightGBM] [Warning] No further splits with positive gain, best gain: -inf\n",
      "[LightGBM] [Warning] No further splits with positive gain, best gain: -inf\n",
      "[LightGBM] [Warning] No further splits with positive gain, best gain: -inf\n",
      "[LightGBM] [Warning] No further splits with positive gain, best gain: -inf\n",
      "[LightGBM] [Warning] No further splits with positive gain, best gain: -inf\n",
      "[LightGBM] [Warning] No further splits with positive gain, best gain: -inf\n",
      "[LightGBM] [Warning] No further splits with positive gain, best gain: -inf\n",
      "[LightGBM] [Warning] No further splits with positive gain, best gain: -inf\n",
      "[LightGBM] [Warning] No further splits with positive gain, best gain: -inf\n",
      "[LightGBM] [Warning] No further splits with positive gain, best gain: -inf\n",
      "[LightGBM] [Warning] No further splits with positive gain, best gain: -inf\n",
      "[LightGBM] [Warning] No further splits with positive gain, best gain: -inf\n",
      "[LightGBM] [Warning] No further splits with positive gain, best gain: -inf\n",
      "[LightGBM] [Warning] No further splits with positive gain, best gain: -inf\n",
      "[LightGBM] [Warning] No further splits with positive gain, best gain: -inf\n",
      "[LightGBM] [Warning] No further splits with positive gain, best gain: -inf\n",
      "[LightGBM] [Warning] No further splits with positive gain, best gain: -inf\n",
      "[LightGBM] [Warning] No further splits with positive gain, best gain: -inf\n",
      "[LightGBM] [Warning] No further splits with positive gain, best gain: -inf\n",
      "[LightGBM] [Warning] No further splits with positive gain, best gain: -inf\n",
      "[LightGBM] [Warning] No further splits with positive gain, best gain: -inf\n",
      "[LightGBM] [Warning] No further splits with positive gain, best gain: -inf\n",
      "[LightGBM] [Warning] No further splits with positive gain, best gain: -inf\n",
      "[LightGBM] [Warning] No further splits with positive gain, best gain: -inf\n",
      "[LightGBM] [Warning] No further splits with positive gain, best gain: -inf\n",
      "[LightGBM] [Warning] No further splits with positive gain, best gain: -inf\n",
      "[LightGBM] [Warning] No further splits with positive gain, best gain: -inf\n",
      "[LightGBM] [Warning] No further splits with positive gain, best gain: -inf\n",
      "[LightGBM] [Warning] No further splits with positive gain, best gain: -inf\n",
      "[LightGBM] [Warning] No further splits with positive gain, best gain: -inf\n",
      "[LightGBM] [Warning] No further splits with positive gain, best gain: -inf\n",
      "[LightGBM] [Warning] No further splits with positive gain, best gain: -inf\n",
      "[LightGBM] [Warning] No further splits with positive gain, best gain: -inf\n",
      "[LightGBM] [Warning] No further splits with positive gain, best gain: -inf\n",
      "[LightGBM] [Warning] No further splits with positive gain, best gain: -inf\n",
      "[LightGBM] [Warning] No further splits with positive gain, best gain: -inf\n",
      "[LightGBM] [Warning] No further splits with positive gain, best gain: -inf\n",
      "[LightGBM] [Warning] No further splits with positive gain, best gain: -inf\n",
      "[LightGBM] [Warning] No further splits with positive gain, best gain: -inf\n",
      "[LightGBM] [Warning] No further splits with positive gain, best gain: -inf\n",
      "[LightGBM] [Warning] No further splits with positive gain, best gain: -inf\n",
      "[LightGBM] [Warning] No further splits with positive gain, best gain: -inf\n",
      "[LightGBM] [Warning] No further splits with positive gain, best gain: -inf\n",
      "[LightGBM] [Warning] No further splits with positive gain, best gain: -inf\n",
      "[LightGBM] [Warning] No further splits with positive gain, best gain: -inf\n",
      "[LightGBM] [Warning] No further splits with positive gain, best gain: -inf\n",
      "Early stopping, best iteration is:\n",
      "[28]\tcv_agg's auc: 0.867194 + 0.0100888\n"
     ]
    }
   ],
   "source": [
    "result = lgb.cv(parameters, lgb_train, n_rounds, folds=skf, callbacks=callbacks, eval_train_metric=False)"
   ]
  },
  {
   "cell_type": "code",
   "execution_count": 45,
   "metadata": {
    "scrolled": true
   },
   "outputs": [
    {
     "name": "stdout",
     "output_type": "stream",
     "text": [
      "[LightGBM] [Info] Number of positive: 226, number of negative: 366\n",
      "[LightGBM] [Warning] Auto-choosing row-wise multi-threading, the overhead of testing was 0.000701 seconds.\n",
      "You can set `force_row_wise=true` to remove the overhead.\n",
      "And if memory is not enough, you can set `force_col_wise=true`.\n",
      "[LightGBM] [Info] Total Bins 96\n",
      "[LightGBM] [Info] Number of data points in the train set: 592, number of used features: 11\n",
      "[LightGBM] [Info] Number of positive: 227, number of negative: 366\n",
      "[LightGBM] [Warning] Auto-choosing col-wise multi-threading, the overhead of testing was 0.000738 seconds.\n",
      "You can set `force_col_wise=true` to remove the overhead.\n",
      "[LightGBM] [Info] Total Bins 96\n",
      "[LightGBM] [Info] Number of data points in the train set: 593, number of used features: 11\n",
      "[LightGBM] [Info] Number of positive: 227, number of negative: 366\n",
      "[LightGBM] [Warning] Auto-choosing row-wise multi-threading, the overhead of testing was 0.000641 seconds.\n",
      "You can set `force_row_wise=true` to remove the overhead.\n",
      "And if memory is not enough, you can set `force_col_wise=true`.\n",
      "[LightGBM] [Info] Total Bins 96\n",
      "[LightGBM] [Info] Number of data points in the train set: 593, number of used features: 11\n",
      "[LightGBM] [Info] [binary:BoostFromScore]: pavg=0.381757 -> initscore=-0.482098\n",
      "[LightGBM] [Info] Start training from score -0.482098\n",
      "[LightGBM] [Warning] No further splits with positive gain, best gain: -inf\n",
      "[LightGBM] [Info] [binary:BoostFromScore]: pavg=0.382799 -> initscore=-0.477683\n",
      "[LightGBM] [Info] Start training from score -0.477683\n",
      "[LightGBM] [Warning] No further splits with positive gain, best gain: -inf\n",
      "[LightGBM] [Info] [binary:BoostFromScore]: pavg=0.382799 -> initscore=-0.477683\n",
      "[LightGBM] [Info] Start training from score -0.477683\n",
      "[LightGBM] [Warning] No further splits with positive gain, best gain: -inf\n",
      "[LightGBM] [Warning] No further splits with positive gain, best gain: -inf\n",
      "[LightGBM] [Warning] No further splits with positive gain, best gain: -inf\n",
      "[LightGBM] [Warning] No further splits with positive gain, best gain: -inf\n",
      "[LightGBM] [Warning] No further splits with positive gain, best gain: -inf\n",
      "[LightGBM] [Warning] No further splits with positive gain, best gain: -inf\n",
      "[LightGBM] [Warning] No further splits with positive gain, best gain: -inf\n",
      "[LightGBM] [Warning] No further splits with positive gain, best gain: -inf\n",
      "[LightGBM] [Warning] No further splits with positive gain, best gain: -inf\n",
      "[LightGBM] [Warning] No further splits with positive gain, best gain: -inf\n",
      "[LightGBM] [Warning] No further splits with positive gain, best gain: -inf\n",
      "[LightGBM] [Warning] No further splits with positive gain, best gain: -inf\n",
      "[LightGBM] [Warning] No further splits with positive gain, best gain: -inf\n",
      "[LightGBM] [Warning] No further splits with positive gain, best gain: -inf\n",
      "[LightGBM] [Warning] No further splits with positive gain, best gain: -inf\n",
      "[LightGBM] [Warning] No further splits with positive gain, best gain: -inf\n",
      "[LightGBM] [Warning] No further splits with positive gain, best gain: -inf\n",
      "[LightGBM] [Warning] No further splits with positive gain, best gain: -inf\n",
      "[LightGBM] [Warning] No further splits with positive gain, best gain: -inf\n",
      "[LightGBM] [Warning] No further splits with positive gain, best gain: -inf\n",
      "[LightGBM] [Warning] No further splits with positive gain, best gain: -inf\n",
      "[LightGBM] [Warning] No further splits with positive gain, best gain: -inf\n",
      "[LightGBM] [Warning] No further splits with positive gain, best gain: -inf\n",
      "[LightGBM] [Warning] No further splits with positive gain, best gain: -inf\n",
      "[LightGBM] [Warning] No further splits with positive gain, best gain: -inf\n",
      "[LightGBM] [Warning] No further splits with positive gain, best gain: -inf\n",
      "[LightGBM] [Warning] No further splits with positive gain, best gain: -inf\n",
      "[LightGBM] [Warning] No further splits with positive gain, best gain: -inf\n",
      "[LightGBM] [Warning] No further splits with positive gain, best gain: -inf\n",
      "[LightGBM] [Warning] No further splits with positive gain, best gain: -inf\n",
      "[LightGBM] [Warning] No further splits with positive gain, best gain: -inf\n",
      "[LightGBM] [Warning] No further splits with positive gain, best gain: -inf\n",
      "[LightGBM] [Warning] No further splits with positive gain, best gain: -inf\n",
      "[LightGBM] [Warning] No further splits with positive gain, best gain: -inf\n",
      "[LightGBM] [Warning] No further splits with positive gain, best gain: -inf\n",
      "[LightGBM] [Warning] No further splits with positive gain, best gain: -inf\n",
      "[LightGBM] [Warning] No further splits with positive gain, best gain: -inf\n",
      "[LightGBM] [Warning] No further splits with positive gain, best gain: -inf\n",
      "[LightGBM] [Warning] No further splits with positive gain, best gain: -inf\n",
      "[LightGBM] [Warning] No further splits with positive gain, best gain: -inf\n",
      "[LightGBM] [Warning] No further splits with positive gain, best gain: -inf\n",
      "[LightGBM] [Warning] No further splits with positive gain, best gain: -inf\n",
      "[LightGBM] [Warning] No further splits with positive gain, best gain: -inf\n",
      "[LightGBM] [Warning] No further splits with positive gain, best gain: -inf\n",
      "[LightGBM] [Warning] No further splits with positive gain, best gain: -inf\n",
      "[LightGBM] [Warning] No further splits with positive gain, best gain: -inf\n",
      "[LightGBM] [Warning] No further splits with positive gain, best gain: -inf\n",
      "[LightGBM] [Warning] No further splits with positive gain, best gain: -inf\n",
      "[LightGBM] [Warning] No further splits with positive gain, best gain: -inf\n",
      "[LightGBM] [Warning] No further splits with positive gain, best gain: -inf\n",
      "[LightGBM] [Warning] No further splits with positive gain, best gain: -inf\n",
      "[LightGBM] [Warning] No further splits with positive gain, best gain: -inf\n",
      "[LightGBM] [Warning] No further splits with positive gain, best gain: -inf\n",
      "[LightGBM] [Warning] No further splits with positive gain, best gain: -inf\n",
      "[LightGBM] [Warning] No further splits with positive gain, best gain: -inf\n",
      "[LightGBM] [Warning] No further splits with positive gain, best gain: -inf\n",
      "[LightGBM] [Warning] No further splits with positive gain, best gain: -inf\n",
      "[LightGBM] [Warning] No further splits with positive gain, best gain: -inf\n",
      "[LightGBM] [Warning] No further splits with positive gain, best gain: -inf\n",
      "[LightGBM] [Warning] No further splits with positive gain, best gain: -inf\n",
      "[LightGBM] [Warning] No further splits with positive gain, best gain: -inf\n",
      "[LightGBM] [Warning] No further splits with positive gain, best gain: -inf\n",
      "[LightGBM] [Warning] No further splits with positive gain, best gain: -inf\n",
      "[LightGBM] [Warning] No further splits with positive gain, best gain: -inf\n",
      "[LightGBM] [Warning] No further splits with positive gain, best gain: -inf\n",
      "[LightGBM] [Warning] No further splits with positive gain, best gain: -inf\n",
      "[LightGBM] [Warning] No further splits with positive gain, best gain: -inf\n",
      "[LightGBM] [Warning] No further splits with positive gain, best gain: -inf\n",
      "[LightGBM] [Warning] No further splits with positive gain, best gain: -inf\n",
      "[LightGBM] [Warning] No further splits with positive gain, best gain: -inf\n",
      "[LightGBM] [Warning] No further splits with positive gain, best gain: -inf\n",
      "[LightGBM] [Warning] No further splits with positive gain, best gain: -inf\n",
      "[LightGBM] [Warning] No further splits with positive gain, best gain: -inf\n",
      "[LightGBM] [Warning] No further splits with positive gain, best gain: -inf\n",
      "[LightGBM] [Warning] No further splits with positive gain, best gain: -inf\n",
      "[LightGBM] [Warning] No further splits with positive gain, best gain: -inf\n",
      "[LightGBM] [Warning] No further splits with positive gain, best gain: -inf\n",
      "[LightGBM] [Warning] No further splits with positive gain, best gain: -inf\n",
      "[LightGBM] [Warning] No further splits with positive gain, best gain: -inf\n",
      "[LightGBM] [Warning] No further splits with positive gain, best gain: -inf\n",
      "[LightGBM] [Warning] No further splits with positive gain, best gain: -inf\n",
      "[LightGBM] [Warning] No further splits with positive gain, best gain: -inf\n",
      "[LightGBM] [Warning] No further splits with positive gain, best gain: -inf\n",
      "[LightGBM] [Warning] No further splits with positive gain, best gain: -inf\n",
      "[LightGBM] [Warning] No further splits with positive gain, best gain: -inf\n",
      "[LightGBM] [Warning] No further splits with positive gain, best gain: -inf\n",
      "[LightGBM] [Warning] No further splits with positive gain, best gain: -inf\n",
      "[LightGBM] [Warning] No further splits with positive gain, best gain: -inf\n",
      "[LightGBM] [Warning] No further splits with positive gain, best gain: -inf\n",
      "[LightGBM] [Warning] No further splits with positive gain, best gain: -inf\n",
      "[LightGBM] [Warning] No further splits with positive gain, best gain: -inf\n",
      "[LightGBM] [Warning] No further splits with positive gain, best gain: -inf\n",
      "[LightGBM] [Warning] No further splits with positive gain, best gain: -inf\n",
      "[LightGBM] [Warning] No further splits with positive gain, best gain: -inf\n",
      "[LightGBM] [Warning] No further splits with positive gain, best gain: -inf\n",
      "[LightGBM] [Warning] No further splits with positive gain, best gain: -inf\n",
      "[LightGBM] [Warning] No further splits with positive gain, best gain: -inf\n",
      "[LightGBM] [Warning] No further splits with positive gain, best gain: -inf\n",
      "[LightGBM] [Warning] No further splits with positive gain, best gain: -inf\n",
      "[LightGBM] [Warning] No further splits with positive gain, best gain: -inf\n"
     ]
    },
    {
     "name": "stdout",
     "output_type": "stream",
     "text": [
      "[LightGBM] [Warning] No further splits with positive gain, best gain: -inf\n",
      "[LightGBM] [Warning] No further splits with positive gain, best gain: -inf\n",
      "[LightGBM] [Warning] No further splits with positive gain, best gain: -inf\n",
      "[LightGBM] [Warning] No further splits with positive gain, best gain: -inf\n",
      "[LightGBM] [Warning] No further splits with positive gain, best gain: -inf\n",
      "[LightGBM] [Warning] No further splits with positive gain, best gain: -inf\n",
      "[LightGBM] [Warning] No further splits with positive gain, best gain: -inf\n",
      "[LightGBM] [Warning] No further splits with positive gain, best gain: -inf\n",
      "[LightGBM] [Warning] No further splits with positive gain, best gain: -inf\n",
      "[LightGBM] [Warning] No further splits with positive gain, best gain: -inf\n",
      "[LightGBM] [Warning] No further splits with positive gain, best gain: -inf\n",
      "[LightGBM] [Warning] No further splits with positive gain, best gain: -inf\n",
      "[LightGBM] [Warning] No further splits with positive gain, best gain: -inf\n",
      "[LightGBM] [Warning] No further splits with positive gain, best gain: -inf\n",
      "[LightGBM] [Warning] No further splits with positive gain, best gain: -inf\n",
      "[LightGBM] [Warning] No further splits with positive gain, best gain: -inf\n",
      "[LightGBM] [Warning] No further splits with positive gain, best gain: -inf\n",
      "[LightGBM] [Warning] No further splits with positive gain, best gain: -inf\n",
      "[LightGBM] [Warning] No further splits with positive gain, best gain: -inf\n",
      "[LightGBM] [Warning] No further splits with positive gain, best gain: -inf\n",
      "[LightGBM] [Warning] No further splits with positive gain, best gain: -inf\n",
      "[LightGBM] [Warning] No further splits with positive gain, best gain: -inf\n",
      "[LightGBM] [Warning] No further splits with positive gain, best gain: -inf\n",
      "[LightGBM] [Warning] No further splits with positive gain, best gain: -inf\n",
      "[LightGBM] [Warning] No further splits with positive gain, best gain: -inf\n",
      "[LightGBM] [Warning] No further splits with positive gain, best gain: -inf\n",
      "[LightGBM] [Warning] No further splits with positive gain, best gain: -inf\n",
      "[LightGBM] [Warning] No further splits with positive gain, best gain: -inf\n",
      "[LightGBM] [Warning] No further splits with positive gain, best gain: -inf\n",
      "[LightGBM] [Warning] No further splits with positive gain, best gain: -inf\n",
      "[LightGBM] [Warning] No further splits with positive gain, best gain: -inf\n",
      "[LightGBM] [Warning] No further splits with positive gain, best gain: -inf\n",
      "[LightGBM] [Warning] No further splits with positive gain, best gain: -inf\n",
      "[LightGBM] [Warning] No further splits with positive gain, best gain: -inf\n",
      "[LightGBM] [Warning] No further splits with positive gain, best gain: -inf\n",
      "[LightGBM] [Warning] No further splits with positive gain, best gain: -inf\n",
      "[LightGBM] [Warning] No further splits with positive gain, best gain: -inf\n",
      "[LightGBM] [Warning] No further splits with positive gain, best gain: -inf\n",
      "[LightGBM] [Warning] No further splits with positive gain, best gain: -inf\n",
      "[LightGBM] [Warning] No further splits with positive gain, best gain: -inf\n",
      "[LightGBM] [Warning] No further splits with positive gain, best gain: -inf\n",
      "[LightGBM] [Warning] No further splits with positive gain, best gain: -inf\n",
      "[LightGBM] [Warning] No further splits with positive gain, best gain: -inf\n",
      "[LightGBM] [Warning] No further splits with positive gain, best gain: -inf\n",
      "[LightGBM] [Warning] No further splits with positive gain, best gain: -inf\n",
      "[LightGBM] [Warning] No further splits with positive gain, best gain: -inf\n",
      "[LightGBM] [Warning] No further splits with positive gain, best gain: -inf\n",
      "[LightGBM] [Warning] No further splits with positive gain, best gain: -inf\n",
      "[50]\tcv_agg's auc: 0.857548 + 0.0138563\n",
      "[LightGBM] [Warning] No further splits with positive gain, best gain: -inf\n",
      "[LightGBM] [Warning] No further splits with positive gain, best gain: -inf\n",
      "[LightGBM] [Warning] No further splits with positive gain, best gain: -inf\n",
      "[LightGBM] [Warning] No further splits with positive gain, best gain: -inf\n",
      "[LightGBM] [Warning] No further splits with positive gain, best gain: -inf\n",
      "[LightGBM] [Warning] No further splits with positive gain, best gain: -inf\n",
      "[LightGBM] [Warning] No further splits with positive gain, best gain: -inf\n",
      "[LightGBM] [Warning] No further splits with positive gain, best gain: -inf\n",
      "[LightGBM] [Warning] No further splits with positive gain, best gain: -inf\n",
      "[LightGBM] [Warning] No further splits with positive gain, best gain: -inf\n",
      "[LightGBM] [Warning] No further splits with positive gain, best gain: -inf\n",
      "[LightGBM] [Warning] No further splits with positive gain, best gain: -inf\n",
      "[LightGBM] [Warning] No further splits with positive gain, best gain: -inf\n",
      "[LightGBM] [Warning] No further splits with positive gain, best gain: -inf\n",
      "[LightGBM] [Warning] No further splits with positive gain, best gain: -inf\n",
      "[LightGBM] [Warning] No further splits with positive gain, best gain: -inf\n",
      "[LightGBM] [Warning] No further splits with positive gain, best gain: -inf\n",
      "[LightGBM] [Warning] No further splits with positive gain, best gain: -inf\n",
      "[LightGBM] [Warning] No further splits with positive gain, best gain: -inf\n",
      "[LightGBM] [Warning] No further splits with positive gain, best gain: -inf\n",
      "[LightGBM] [Warning] No further splits with positive gain, best gain: -inf\n",
      "[LightGBM] [Warning] No further splits with positive gain, best gain: -inf\n",
      "[LightGBM] [Warning] No further splits with positive gain, best gain: -inf\n",
      "[LightGBM] [Warning] No further splits with positive gain, best gain: -inf\n",
      "[LightGBM] [Warning] No further splits with positive gain, best gain: -inf\n",
      "[LightGBM] [Warning] No further splits with positive gain, best gain: -inf\n",
      "[LightGBM] [Warning] No further splits with positive gain, best gain: -inf\n",
      "[LightGBM] [Warning] No further splits with positive gain, best gain: -inf\n",
      "[LightGBM] [Warning] No further splits with positive gain, best gain: -inf\n",
      "[LightGBM] [Warning] No further splits with positive gain, best gain: -inf\n",
      "[LightGBM] [Warning] No further splits with positive gain, best gain: -inf\n",
      "[LightGBM] [Warning] No further splits with positive gain, best gain: -inf\n",
      "[LightGBM] [Warning] No further splits with positive gain, best gain: -inf\n",
      "[LightGBM] [Warning] No further splits with positive gain, best gain: -inf\n",
      "[LightGBM] [Warning] No further splits with positive gain, best gain: -inf\n",
      "[LightGBM] [Warning] No further splits with positive gain, best gain: -inf\n",
      "[LightGBM] [Warning] No further splits with positive gain, best gain: -inf\n",
      "[LightGBM] [Warning] No further splits with positive gain, best gain: -inf\n",
      "[LightGBM] [Warning] No further splits with positive gain, best gain: -inf\n",
      "[LightGBM] [Warning] No further splits with positive gain, best gain: -inf\n",
      "[LightGBM] [Warning] No further splits with positive gain, best gain: -inf\n",
      "[LightGBM] [Warning] No further splits with positive gain, best gain: -inf\n",
      "[LightGBM] [Warning] No further splits with positive gain, best gain: -inf\n",
      "[LightGBM] [Warning] No further splits with positive gain, best gain: -inf\n",
      "[LightGBM] [Warning] No further splits with positive gain, best gain: -inf\n",
      "[LightGBM] [Warning] No further splits with positive gain, best gain: -inf\n",
      "[LightGBM] [Warning] No further splits with positive gain, best gain: -inf\n",
      "[LightGBM] [Warning] No further splits with positive gain, best gain: -inf\n",
      "[LightGBM] [Warning] No further splits with positive gain, best gain: -inf\n",
      "[LightGBM] [Warning] No further splits with positive gain, best gain: -inf\n",
      "[LightGBM] [Warning] No further splits with positive gain, best gain: -inf\n",
      "[LightGBM] [Warning] No further splits with positive gain, best gain: -inf\n",
      "[LightGBM] [Warning] No further splits with positive gain, best gain: -inf\n",
      "[LightGBM] [Warning] No further splits with positive gain, best gain: -inf\n",
      "[LightGBM] [Warning] No further splits with positive gain, best gain: -inf\n",
      "[LightGBM] [Warning] No further splits with positive gain, best gain: -inf\n",
      "[LightGBM] [Warning] No further splits with positive gain, best gain: -inf\n",
      "[LightGBM] [Warning] No further splits with positive gain, best gain: -inf\n",
      "[LightGBM] [Warning] No further splits with positive gain, best gain: -inf\n",
      "[LightGBM] [Warning] No further splits with positive gain, best gain: -inf\n",
      "[LightGBM] [Warning] No further splits with positive gain, best gain: -inf\n",
      "[LightGBM] [Warning] No further splits with positive gain, best gain: -inf\n",
      "[LightGBM] [Warning] No further splits with positive gain, best gain: -inf\n",
      "[LightGBM] [Warning] No further splits with positive gain, best gain: -inf\n",
      "[LightGBM] [Warning] No further splits with positive gain, best gain: -inf\n",
      "[LightGBM] [Warning] No further splits with positive gain, best gain: -inf\n",
      "[LightGBM] [Warning] No further splits with positive gain, best gain: -inf\n",
      "[LightGBM] [Warning] No further splits with positive gain, best gain: -inf\n",
      "[LightGBM] [Warning] No further splits with positive gain, best gain: -inf\n",
      "[LightGBM] [Warning] No further splits with positive gain, best gain: -inf\n",
      "[LightGBM] [Warning] No further splits with positive gain, best gain: -inf\n",
      "[LightGBM] [Warning] No further splits with positive gain, best gain: -inf\n",
      "[LightGBM] [Warning] No further splits with positive gain, best gain: -inf\n",
      "[LightGBM] [Warning] No further splits with positive gain, best gain: -inf\n"
     ]
    },
    {
     "name": "stdout",
     "output_type": "stream",
     "text": [
      "[LightGBM] [Warning] No further splits with positive gain, best gain: -inf\n",
      "[LightGBM] [Warning] No further splits with positive gain, best gain: -inf\n",
      "[LightGBM] [Warning] No further splits with positive gain, best gain: -inf\n",
      "[LightGBM] [Warning] No further splits with positive gain, best gain: -inf\n",
      "[LightGBM] [Warning] No further splits with positive gain, best gain: -inf\n",
      "[LightGBM] [Warning] No further splits with positive gain, best gain: -inf\n",
      "[LightGBM] [Warning] No further splits with positive gain, best gain: -inf\n",
      "[LightGBM] [Warning] No further splits with positive gain, best gain: -inf\n",
      "[LightGBM] [Warning] No further splits with positive gain, best gain: -inf\n",
      "[LightGBM] [Warning] No further splits with positive gain, best gain: -inf\n",
      "[LightGBM] [Warning] No further splits with positive gain, best gain: -inf\n",
      "[LightGBM] [Warning] No further splits with positive gain, best gain: -inf\n",
      "[LightGBM] [Warning] No further splits with positive gain, best gain: -inf\n",
      "[LightGBM] [Warning] No further splits with positive gain, best gain: -inf\n",
      "[LightGBM] [Warning] No further splits with positive gain, best gain: -inf\n",
      "[LightGBM] [Warning] No further splits with positive gain, best gain: -inf\n",
      "[LightGBM] [Warning] No further splits with positive gain, best gain: -inf\n",
      "[LightGBM] [Warning] No further splits with positive gain, best gain: -inf\n",
      "[LightGBM] [Warning] No further splits with positive gain, best gain: -inf\n",
      "[LightGBM] [Warning] No further splits with positive gain, best gain: -inf\n",
      "[LightGBM] [Warning] No further splits with positive gain, best gain: -inf\n",
      "[LightGBM] [Warning] No further splits with positive gain, best gain: -inf\n",
      "[LightGBM] [Warning] No further splits with positive gain, best gain: -inf\n",
      "[LightGBM] [Warning] No further splits with positive gain, best gain: -inf\n",
      "[LightGBM] [Warning] No further splits with positive gain, best gain: -inf\n",
      "[LightGBM] [Warning] No further splits with positive gain, best gain: -inf\n",
      "[LightGBM] [Warning] No further splits with positive gain, best gain: -inf\n",
      "[LightGBM] [Warning] No further splits with positive gain, best gain: -inf\n",
      "[LightGBM] [Warning] No further splits with positive gain, best gain: -inf\n",
      "[LightGBM] [Warning] No further splits with positive gain, best gain: -inf\n",
      "[LightGBM] [Warning] No further splits with positive gain, best gain: -inf\n",
      "[LightGBM] [Warning] No further splits with positive gain, best gain: -inf\n",
      "[LightGBM] [Warning] No further splits with positive gain, best gain: -inf\n",
      "[LightGBM] [Warning] No further splits with positive gain, best gain: -inf\n",
      "[LightGBM] [Warning] No further splits with positive gain, best gain: -inf\n",
      "[LightGBM] [Warning] No further splits with positive gain, best gain: -inf\n",
      "[LightGBM] [Warning] No further splits with positive gain, best gain: -inf\n",
      "[LightGBM] [Warning] No further splits with positive gain, best gain: -inf\n",
      "[LightGBM] [Warning] No further splits with positive gain, best gain: -inf\n",
      "[LightGBM] [Warning] No further splits with positive gain, best gain: -inf\n",
      "[LightGBM] [Warning] No further splits with positive gain, best gain: -inf\n",
      "[LightGBM] [Warning] No further splits with positive gain, best gain: -inf\n",
      "[LightGBM] [Warning] No further splits with positive gain, best gain: -inf\n",
      "[LightGBM] [Warning] No further splits with positive gain, best gain: -inf\n",
      "[LightGBM] [Warning] No further splits with positive gain, best gain: -inf\n",
      "[LightGBM] [Warning] No further splits with positive gain, best gain: -inf\n",
      "[LightGBM] [Warning] No further splits with positive gain, best gain: -inf\n",
      "[LightGBM] [Warning] No further splits with positive gain, best gain: -inf\n",
      "[LightGBM] [Warning] No further splits with positive gain, best gain: -inf\n",
      "[LightGBM] [Warning] No further splits with positive gain, best gain: -inf\n",
      "[LightGBM] [Warning] No further splits with positive gain, best gain: -inf\n",
      "[LightGBM] [Warning] No further splits with positive gain, best gain: -inf\n",
      "[LightGBM] [Warning] No further splits with positive gain, best gain: -inf\n",
      "[LightGBM] [Warning] No further splits with positive gain, best gain: -inf\n",
      "[LightGBM] [Warning] No further splits with positive gain, best gain: -inf\n",
      "[LightGBM] [Warning] No further splits with positive gain, best gain: -inf\n",
      "[LightGBM] [Warning] No further splits with positive gain, best gain: -inf\n",
      "[LightGBM] [Warning] No further splits with positive gain, best gain: -inf\n",
      "[LightGBM] [Warning] No further splits with positive gain, best gain: -inf\n",
      "[LightGBM] [Warning] No further splits with positive gain, best gain: -inf\n",
      "[LightGBM] [Warning] No further splits with positive gain, best gain: -inf\n",
      "[LightGBM] [Warning] No further splits with positive gain, best gain: -inf\n",
      "[LightGBM] [Warning] No further splits with positive gain, best gain: -inf\n",
      "[LightGBM] [Warning] No further splits with positive gain, best gain: -inf\n",
      "[LightGBM] [Warning] No further splits with positive gain, best gain: -inf\n",
      "[LightGBM] [Warning] No further splits with positive gain, best gain: -inf\n",
      "[LightGBM] [Warning] No further splits with positive gain, best gain: -inf\n",
      "[LightGBM] [Warning] No further splits with positive gain, best gain: -inf\n",
      "[LightGBM] [Warning] No further splits with positive gain, best gain: -inf\n",
      "[LightGBM] [Warning] No further splits with positive gain, best gain: -inf\n",
      "[LightGBM] [Warning] No further splits with positive gain, best gain: -inf\n",
      "[LightGBM] [Warning] No further splits with positive gain, best gain: -inf\n",
      "[LightGBM] [Warning] No further splits with positive gain, best gain: -inf\n",
      "[LightGBM] [Warning] No further splits with positive gain, best gain: -inf\n",
      "[LightGBM] [Warning] No further splits with positive gain, best gain: -inf\n",
      "[LightGBM] [Warning] No further splits with positive gain, best gain: -inf\n",
      "[100]\tcv_agg's auc: 0.860579 + 0.0146317\n",
      "[LightGBM] [Warning] No further splits with positive gain, best gain: -inf\n",
      "[LightGBM] [Warning] No further splits with positive gain, best gain: -inf\n",
      "[LightGBM] [Warning] No further splits with positive gain, best gain: -inf\n",
      "[LightGBM] [Warning] No further splits with positive gain, best gain: -inf\n",
      "[LightGBM] [Warning] No further splits with positive gain, best gain: -inf\n",
      "[LightGBM] [Warning] No further splits with positive gain, best gain: -inf\n",
      "[LightGBM] [Warning] No further splits with positive gain, best gain: -inf\n",
      "[LightGBM] [Warning] No further splits with positive gain, best gain: -inf\n",
      "[LightGBM] [Warning] No further splits with positive gain, best gain: -inf\n",
      "[LightGBM] [Warning] No further splits with positive gain, best gain: -inf\n",
      "[LightGBM] [Warning] No further splits with positive gain, best gain: -inf\n",
      "[LightGBM] [Warning] No further splits with positive gain, best gain: -inf\n",
      "[LightGBM] [Warning] No further splits with positive gain, best gain: -inf\n",
      "[LightGBM] [Warning] No further splits with positive gain, best gain: -inf\n",
      "[LightGBM] [Warning] No further splits with positive gain, best gain: -inf\n",
      "[LightGBM] [Warning] No further splits with positive gain, best gain: -inf\n",
      "[LightGBM] [Warning] No further splits with positive gain, best gain: -inf\n",
      "[LightGBM] [Warning] No further splits with positive gain, best gain: -inf\n",
      "[LightGBM] [Warning] No further splits with positive gain, best gain: -inf\n",
      "[LightGBM] [Warning] No further splits with positive gain, best gain: -inf\n",
      "[LightGBM] [Warning] No further splits with positive gain, best gain: -inf\n",
      "[LightGBM] [Warning] No further splits with positive gain, best gain: -inf\n",
      "[LightGBM] [Warning] No further splits with positive gain, best gain: -inf\n",
      "[LightGBM] [Warning] No further splits with positive gain, best gain: -inf\n",
      "[LightGBM] [Warning] No further splits with positive gain, best gain: -inf\n",
      "[LightGBM] [Warning] No further splits with positive gain, best gain: -inf\n",
      "[LightGBM] [Warning] No further splits with positive gain, best gain: -inf\n",
      "[LightGBM] [Warning] No further splits with positive gain, best gain: -inf\n",
      "[LightGBM] [Warning] No further splits with positive gain, best gain: -inf\n",
      "[LightGBM] [Warning] No further splits with positive gain, best gain: -inf\n",
      "[LightGBM] [Warning] No further splits with positive gain, best gain: -inf\n",
      "[LightGBM] [Warning] No further splits with positive gain, best gain: -inf\n",
      "[LightGBM] [Warning] No further splits with positive gain, best gain: -inf\n",
      "[LightGBM] [Warning] No further splits with positive gain, best gain: -inf\n",
      "[LightGBM] [Warning] No further splits with positive gain, best gain: -inf\n",
      "[LightGBM] [Warning] No further splits with positive gain, best gain: -inf\n",
      "[LightGBM] [Warning] No further splits with positive gain, best gain: -inf\n",
      "[LightGBM] [Warning] No further splits with positive gain, best gain: -inf\n"
     ]
    },
    {
     "name": "stdout",
     "output_type": "stream",
     "text": [
      "[LightGBM] [Warning] No further splits with positive gain, best gain: -inf\n",
      "[LightGBM] [Warning] No further splits with positive gain, best gain: -inf\n",
      "[LightGBM] [Warning] No further splits with positive gain, best gain: -inf\n",
      "[LightGBM] [Warning] No further splits with positive gain, best gain: -inf\n",
      "[LightGBM] [Warning] No further splits with positive gain, best gain: -inf\n",
      "[LightGBM] [Warning] No further splits with positive gain, best gain: -inf\n",
      "[LightGBM] [Warning] No further splits with positive gain, best gain: -inf\n",
      "[LightGBM] [Warning] No further splits with positive gain, best gain: -inf\n",
      "[LightGBM] [Warning] No further splits with positive gain, best gain: -inf\n",
      "[LightGBM] [Warning] No further splits with positive gain, best gain: -inf\n",
      "[LightGBM] [Warning] No further splits with positive gain, best gain: -inf\n",
      "[LightGBM] [Warning] No further splits with positive gain, best gain: -inf\n",
      "[LightGBM] [Warning] No further splits with positive gain, best gain: -inf\n",
      "[LightGBM] [Warning] No further splits with positive gain, best gain: -inf\n",
      "[LightGBM] [Warning] No further splits with positive gain, best gain: -inf\n",
      "[LightGBM] [Warning] No further splits with positive gain, best gain: -inf\n",
      "[LightGBM] [Warning] No further splits with positive gain, best gain: -inf\n",
      "[LightGBM] [Warning] No further splits with positive gain, best gain: -inf\n",
      "[LightGBM] [Warning] No further splits with positive gain, best gain: -inf\n",
      "[LightGBM] [Warning] No further splits with positive gain, best gain: -inf\n",
      "[LightGBM] [Warning] No further splits with positive gain, best gain: -inf\n",
      "[LightGBM] [Warning] No further splits with positive gain, best gain: -inf\n",
      "[LightGBM] [Warning] No further splits with positive gain, best gain: -inf\n",
      "[LightGBM] [Warning] No further splits with positive gain, best gain: -inf\n",
      "[LightGBM] [Warning] No further splits with positive gain, best gain: -inf\n",
      "[LightGBM] [Warning] No further splits with positive gain, best gain: -inf\n",
      "[LightGBM] [Warning] No further splits with positive gain, best gain: -inf\n",
      "[LightGBM] [Warning] No further splits with positive gain, best gain: -inf\n",
      "[LightGBM] [Warning] No further splits with positive gain, best gain: -inf\n",
      "[LightGBM] [Warning] No further splits with positive gain, best gain: -inf\n",
      "[LightGBM] [Warning] No further splits with positive gain, best gain: -inf\n",
      "[LightGBM] [Warning] No further splits with positive gain, best gain: -inf\n",
      "[LightGBM] [Warning] No further splits with positive gain, best gain: -inf\n",
      "[LightGBM] [Warning] No further splits with positive gain, best gain: -inf\n",
      "[LightGBM] [Warning] No further splits with positive gain, best gain: -inf\n",
      "[LightGBM] [Warning] No further splits with positive gain, best gain: -inf\n",
      "[LightGBM] [Warning] No further splits with positive gain, best gain: -inf\n",
      "[LightGBM] [Warning] No further splits with positive gain, best gain: -inf\n",
      "[LightGBM] [Warning] No further splits with positive gain, best gain: -inf\n",
      "[LightGBM] [Warning] No further splits with positive gain, best gain: -inf\n",
      "[LightGBM] [Warning] No further splits with positive gain, best gain: -inf\n",
      "[LightGBM] [Warning] No further splits with positive gain, best gain: -inf\n",
      "[LightGBM] [Warning] No further splits with positive gain, best gain: -inf\n",
      "[LightGBM] [Warning] No further splits with positive gain, best gain: -inf\n",
      "[LightGBM] [Warning] No further splits with positive gain, best gain: -inf\n",
      "[LightGBM] [Warning] No further splits with positive gain, best gain: -inf\n",
      "Early stopping, best iteration is:\n",
      "[28]\tcv_agg's auc: 0.867194 + 0.0100888\n"
     ]
    }
   ],
   "source": [
    "parameters = {\n",
    "    #default\n",
    "    \"objective\": \"binary\",\n",
    "    \"learning_rate\": 0.01,\n",
    "    \"num_threads\": 10,\n",
    "    \"metric\": 'auc',\n",
    "    \"seed\": 42,\n",
    "    \n",
    "    #regularization\n",
    "    \"colsample_bytree\": 0.8,\n",
    "    \"subsample\": 0.9, \n",
    "    \"subsample_freq\": 1,\n",
    "    \"colsample_bytree\": 0.8, \n",
    "}\n",
    "result = lgb.cv(parameters, lgb_train, n_rounds, folds=skf, callbacks=callbacks, eval_train_metric=False)"
   ]
  },
  {
   "cell_type": "code",
   "execution_count": 46,
   "metadata": {},
   "outputs": [
    {
     "name": "stdout",
     "output_type": "stream",
     "text": [
      "[LightGBM] [Warning] num_threads is set=10, n_jobs=-1 will be ignored. Current value: num_threads=10\n",
      "[LightGBM] [Warning] num_threads is set=10, n_jobs=-1 will be ignored. Current value: num_threads=10\n",
      "[LightGBM] [Warning] num_threads is set=10, n_jobs=-1 will be ignored. Current value: num_threads=10\n",
      "[LightGBM] [Warning] num_threads is set=10, n_jobs=-1 will be ignored. Current value: num_threads=10\n",
      "[LightGBM] [Warning] num_threads is set=10, n_jobs=-1 will be ignored. Current value: num_threads=10\n"
     ]
    },
    {
     "data": {
      "text/plain": [
       "0.8290166952326541"
      ]
     },
     "execution_count": 46,
     "metadata": {},
     "output_type": "execute_result"
    }
   ],
   "source": [
    "l_get_kfold_accuracy(X, y, parameters)"
   ]
  },
  {
   "cell_type": "code",
   "execution_count": 47,
   "metadata": {
    "scrolled": true
   },
   "outputs": [
    {
     "name": "stderr",
     "output_type": "stream",
     "text": [
      "[LightGBM] [Fatal] Reducing `min_data_in_leaf` with `feature_pre_filter=true` may cause unexpected behaviour for features that were pre-filtered by the larger `min_data_in_leaf`.\n",
      "You need to set `feature_pre_filter=false` to dynamically change the `min_data_in_leaf`.\n"
     ]
    },
    {
     "name": "stdout",
     "output_type": "stream",
     "text": [
      "[LightGBM] [Info] Number of positive: 226, number of negative: 366\n",
      "[LightGBM] [Warning] Auto-choosing row-wise multi-threading, the overhead of testing was 0.000960 seconds.\n",
      "You can set `force_row_wise=true` to remove the overhead.\n",
      "And if memory is not enough, you can set `force_col_wise=true`.\n",
      "[LightGBM] [Info] Total Bins 96\n",
      "[LightGBM] [Info] Number of data points in the train set: 592, number of used features: 11\n",
      "[LightGBM] [Info] Number of positive: 227, number of negative: 366\n",
      "[LightGBM] [Warning] Auto-choosing row-wise multi-threading, the overhead of testing was 0.000817 seconds.\n",
      "You can set `force_row_wise=true` to remove the overhead.\n",
      "And if memory is not enough, you can set `force_col_wise=true`.\n",
      "[LightGBM] [Info] Total Bins 96\n",
      "[LightGBM] [Info] Number of data points in the train set: 593, number of used features: 11\n",
      "[LightGBM] [Info] Number of positive: 227, number of negative: 366\n",
      "[LightGBM] [Warning] Auto-choosing col-wise multi-threading, the overhead of testing was 0.000877 seconds.\n",
      "You can set `force_col_wise=true` to remove the overhead.\n",
      "[LightGBM] [Info] Total Bins 96\n",
      "[LightGBM] [Info] Number of data points in the train set: 593, number of used features: 11\n",
      "[LightGBM] [Info] [binary:BoostFromScore]: pavg=0.381757 -> initscore=-0.482098\n",
      "[LightGBM] [Info] Start training from score -0.482098\n",
      "[LightGBM] [Warning] No further splits with positive gain, best gain: -inf\n",
      "[LightGBM] [Info] [binary:BoostFromScore]: pavg=0.382799 -> initscore=-0.477683\n",
      "[LightGBM] [Info] Start training from score -0.477683\n",
      "[LightGBM] [Warning] No further splits with positive gain, best gain: -inf\n",
      "[LightGBM] [Info] [binary:BoostFromScore]: pavg=0.382799 -> initscore=-0.477683\n",
      "[LightGBM] [Info] Start training from score -0.477683\n",
      "[LightGBM] [Warning] No further splits with positive gain, best gain: -inf\n",
      "[LightGBM] [Warning] No further splits with positive gain, best gain: -inf\n",
      "[LightGBM] [Warning] No further splits with positive gain, best gain: -inf\n",
      "[LightGBM] [Warning] No further splits with positive gain, best gain: -inf\n",
      "[LightGBM] [Warning] No further splits with positive gain, best gain: -inf\n",
      "[LightGBM] [Warning] No further splits with positive gain, best gain: -inf\n",
      "[LightGBM] [Warning] No further splits with positive gain, best gain: -inf\n",
      "[LightGBM] [Warning] No further splits with positive gain, best gain: -inf\n",
      "[LightGBM] [Warning] No further splits with positive gain, best gain: -inf\n",
      "[LightGBM] [Warning] No further splits with positive gain, best gain: -inf\n",
      "[LightGBM] [Warning] No further splits with positive gain, best gain: -inf\n",
      "[LightGBM] [Warning] No further splits with positive gain, best gain: -inf\n",
      "[LightGBM] [Warning] No further splits with positive gain, best gain: -inf\n",
      "[LightGBM] [Warning] No further splits with positive gain, best gain: -inf\n",
      "[LightGBM] [Warning] No further splits with positive gain, best gain: -inf\n",
      "[LightGBM] [Warning] No further splits with positive gain, best gain: -inf\n",
      "[LightGBM] [Warning] No further splits with positive gain, best gain: -inf\n",
      "[LightGBM] [Warning] No further splits with positive gain, best gain: -inf\n",
      "[LightGBM] [Warning] No further splits with positive gain, best gain: -inf\n",
      "[LightGBM] [Warning] No further splits with positive gain, best gain: -inf\n",
      "[LightGBM] [Warning] No further splits with positive gain, best gain: -inf\n",
      "[LightGBM] [Warning] No further splits with positive gain, best gain: -inf\n",
      "[LightGBM] [Warning] No further splits with positive gain, best gain: -inf\n",
      "[LightGBM] [Warning] No further splits with positive gain, best gain: -inf\n",
      "[LightGBM] [Warning] No further splits with positive gain, best gain: -inf\n",
      "[LightGBM] [Warning] No further splits with positive gain, best gain: -inf\n",
      "[LightGBM] [Warning] No further splits with positive gain, best gain: -inf\n",
      "[LightGBM] [Warning] No further splits with positive gain, best gain: -inf\n",
      "[LightGBM] [Warning] No further splits with positive gain, best gain: -inf\n",
      "[LightGBM] [Warning] No further splits with positive gain, best gain: -inf\n",
      "[LightGBM] [Warning] No further splits with positive gain, best gain: -inf\n",
      "[LightGBM] [Warning] No further splits with positive gain, best gain: -inf\n",
      "[LightGBM] [Warning] No further splits with positive gain, best gain: -inf\n",
      "[LightGBM] [Warning] No further splits with positive gain, best gain: -inf\n",
      "[LightGBM] [Warning] No further splits with positive gain, best gain: -inf\n",
      "[LightGBM] [Warning] No further splits with positive gain, best gain: -inf\n",
      "[50]\tcv_agg's auc: 0.845233 + 0.015873\n",
      "[LightGBM] [Warning] No further splits with positive gain, best gain: -inf\n",
      "[LightGBM] [Warning] No further splits with positive gain, best gain: -inf\n",
      "[LightGBM] [Warning] No further splits with positive gain, best gain: -inf\n",
      "[LightGBM] [Warning] No further splits with positive gain, best gain: -inf\n",
      "[LightGBM] [Warning] No further splits with positive gain, best gain: -inf\n",
      "[LightGBM] [Warning] No further splits with positive gain, best gain: -inf\n",
      "[LightGBM] [Warning] No further splits with positive gain, best gain: -inf\n",
      "[LightGBM] [Warning] No further splits with positive gain, best gain: -inf\n",
      "[LightGBM] [Warning] No further splits with positive gain, best gain: -inf\n",
      "[LightGBM] [Warning] No further splits with positive gain, best gain: -inf\n",
      "[LightGBM] [Warning] No further splits with positive gain, best gain: -inf\n",
      "[LightGBM] [Warning] No further splits with positive gain, best gain: -inf\n",
      "[LightGBM] [Warning] No further splits with positive gain, best gain: -inf\n",
      "[LightGBM] [Warning] No further splits with positive gain, best gain: -inf\n",
      "[LightGBM] [Warning] No further splits with positive gain, best gain: -inf\n",
      "[LightGBM] [Warning] No further splits with positive gain, best gain: -inf\n",
      "[LightGBM] [Warning] No further splits with positive gain, best gain: -inf\n",
      "[LightGBM] [Warning] No further splits with positive gain, best gain: -inf\n",
      "[LightGBM] [Warning] No further splits with positive gain, best gain: -inf\n",
      "[LightGBM] [Warning] No further splits with positive gain, best gain: -inf\n",
      "[LightGBM] [Warning] No further splits with positive gain, best gain: -inf\n",
      "[LightGBM] [Warning] No further splits with positive gain, best gain: -inf\n",
      "[LightGBM] [Warning] No further splits with positive gain, best gain: -inf\n",
      "[LightGBM] [Warning] No further splits with positive gain, best gain: -inf\n",
      "[LightGBM] [Warning] No further splits with positive gain, best gain: -inf\n",
      "[LightGBM] [Warning] No further splits with positive gain, best gain: -inf\n",
      "[LightGBM] [Warning] No further splits with positive gain, best gain: -inf\n",
      "[LightGBM] [Warning] No further splits with positive gain, best gain: -inf\n",
      "[LightGBM] [Warning] No further splits with positive gain, best gain: -inf\n",
      "[LightGBM] [Warning] No further splits with positive gain, best gain: -inf\n",
      "[LightGBM] [Warning] No further splits with positive gain, best gain: -inf\n",
      "[LightGBM] [Warning] No further splits with positive gain, best gain: -inf\n",
      "[LightGBM] [Warning] No further splits with positive gain, best gain: -inf\n",
      "[LightGBM] [Warning] No further splits with positive gain, best gain: -inf\n",
      "[100]\tcv_agg's auc: 0.835772 + 0.0141096\n",
      "[LightGBM] [Warning] No further splits with positive gain, best gain: -inf\n",
      "[LightGBM] [Warning] No further splits with positive gain, best gain: -inf\n",
      "[LightGBM] [Warning] No further splits with positive gain, best gain: -inf\n",
      "[LightGBM] [Warning] No further splits with positive gain, best gain: -inf\n",
      "[LightGBM] [Warning] No further splits with positive gain, best gain: -inf\n",
      "[LightGBM] [Warning] No further splits with positive gain, best gain: -inf\n",
      "[LightGBM] [Warning] No further splits with positive gain, best gain: -inf\n",
      "[LightGBM] [Warning] No further splits with positive gain, best gain: -inf\n",
      "[LightGBM] [Warning] No further splits with positive gain, best gain: -inf\n",
      "[LightGBM] [Warning] No further splits with positive gain, best gain: -inf\n",
      "[LightGBM] [Warning] No further splits with positive gain, best gain: -inf\n",
      "[LightGBM] [Warning] No further splits with positive gain, best gain: -inf\n",
      "[LightGBM] [Warning] No further splits with positive gain, best gain: -inf\n",
      "[LightGBM] [Warning] No further splits with positive gain, best gain: -inf\n",
      "[LightGBM] [Warning] No further splits with positive gain, best gain: -inf\n",
      "Early stopping, best iteration is:\n",
      "[28]\tcv_agg's auc: 0.867194 + 0.0100888\n"
     ]
    }
   ],
   "source": [
    "parameters = {\n",
    "    #default\n",
    "    \"objective\": \"binary\",\n",
    "    \"learning_rate\": 0.1,\n",
    "    \"num_threads\": 10,\n",
    "    \"metric\": \"auc\",\n",
    "    \"seed\": 42,\n",
    "    \n",
    "    #regularization\n",
    "    \"colsample_bytree\": 0.8,\n",
    "    \"subsample\": 0.8,\n",
    "    \"subsample_freq\": 1,\n",
    "    \"min_data_in_leaf\": 10,\n",
    "}\n",
    "\n",
    "result = lgb.cv(parameters, lgb_train, n_rounds, folds=skf, callbacks=callbacks, eval_train_metric=False)"
   ]
  },
  {
   "cell_type": "code",
   "execution_count": 48,
   "metadata": {},
   "outputs": [
    {
     "name": "stdout",
     "output_type": "stream",
     "text": [
      "[LightGBM] [Warning] num_threads is set=10, n_jobs=-1 will be ignored. Current value: num_threads=10\n",
      "[LightGBM] [Warning] min_data_in_leaf is set=10, min_child_samples=20 will be ignored. Current value: min_data_in_leaf=10\n",
      "[LightGBM] [Warning] num_threads is set=10, n_jobs=-1 will be ignored. Current value: num_threads=10\n",
      "[LightGBM] [Warning] min_data_in_leaf is set=10, min_child_samples=20 will be ignored. Current value: min_data_in_leaf=10\n",
      "[LightGBM] [Warning] num_threads is set=10, n_jobs=-1 will be ignored. Current value: num_threads=10\n",
      "[LightGBM] [Warning] min_data_in_leaf is set=10, min_child_samples=20 will be ignored. Current value: min_data_in_leaf=10\n",
      "[LightGBM] [Warning] num_threads is set=10, n_jobs=-1 will be ignored. Current value: num_threads=10\n",
      "[LightGBM] [Warning] min_data_in_leaf is set=10, min_child_samples=20 will be ignored. Current value: min_data_in_leaf=10\n",
      "[LightGBM] [Warning] num_threads is set=10, n_jobs=-1 will be ignored. Current value: num_threads=10\n",
      "[LightGBM] [Warning] min_data_in_leaf is set=10, min_child_samples=20 will be ignored. Current value: min_data_in_leaf=10\n"
     ]
    },
    {
     "data": {
      "text/plain": [
       "0.916784104614994"
      ]
     },
     "execution_count": 48,
     "metadata": {},
     "output_type": "execute_result"
    }
   ],
   "source": [
    "l_get_kfold_accuracy(X, y, parameters)"
   ]
  },
  {
   "cell_type": "code",
   "execution_count": 49,
   "metadata": {
    "scrolled": true
   },
   "outputs": [
    {
     "name": "stdout",
     "output_type": "stream",
     "text": [
      "[LightGBM] [Info] Number of positive: 226, number of negative: 366\n",
      "[LightGBM] [Warning] Auto-choosing row-wise multi-threading, the overhead of testing was 0.000632 seconds.\n",
      "You can set `force_row_wise=true` to remove the overhead.\n",
      "And if memory is not enough, you can set `force_col_wise=true`.\n",
      "[LightGBM] [Info] Total Bins 96\n",
      "[LightGBM] [Info] Number of data points in the train set: 592, number of used features: 11\n",
      "[LightGBM] [Info] Number of positive: 227, number of negative: 366\n",
      "[LightGBM] [Warning] Auto-choosing row-wise multi-threading, the overhead of testing was 0.000954 seconds.\n",
      "You can set `force_row_wise=true` to remove the overhead.\n",
      "And if memory is not enough, you can set `force_col_wise=true`.\n",
      "[LightGBM] [Info] Total Bins 96\n",
      "[LightGBM] [Info] Number of data points in the train set: 593, number of used features: 11\n",
      "[LightGBM] [Info] Number of positive: 227, number of negative: 366\n",
      "[LightGBM] [Warning] Auto-choosing row-wise multi-threading, the overhead of testing was 0.000784 seconds.\n",
      "You can set `force_row_wise=true` to remove the overhead.\n",
      "And if memory is not enough, you can set `force_col_wise=true`.\n",
      "[LightGBM] [Info] Total Bins 96\n",
      "[LightGBM] [Info] Number of data points in the train set: 593, number of used features: 11\n",
      "[LightGBM] [Info] [binary:BoostFromScore]: pavg=0.381757 -> initscore=-0.482098\n",
      "[LightGBM] [Info] Start training from score -0.482098\n",
      "[LightGBM] [Warning] No further splits with positive gain, best gain: -inf\n",
      "[LightGBM] [Info] [binary:BoostFromScore]: pavg=0.382799 -> initscore=-0.477683\n",
      "[LightGBM] [Info] Start training from score -0.477683\n",
      "[LightGBM] [Warning] No further splits with positive gain, best gain: -inf\n",
      "[LightGBM] [Info] [binary:BoostFromScore]: pavg=0.382799 -> initscore=-0.477683\n",
      "[LightGBM] [Info] Start training from score -0.477683\n",
      "[LightGBM] [Warning] No further splits with positive gain, best gain: -inf\n",
      "Training until validation scores don't improve for 100 rounds\n",
      "[LightGBM] [Warning] No further splits with positive gain, best gain: -inf\n",
      "[LightGBM] [Warning] No further splits with positive gain, best gain: -inf\n",
      "[LightGBM] [Warning] No further splits with positive gain, best gain: -inf\n",
      "[LightGBM] [Warning] No further splits with positive gain, best gain: -inf\n",
      "[LightGBM] [Warning] No further splits with positive gain, best gain: -inf\n",
      "[LightGBM] [Warning] No further splits with positive gain, best gain: -inf\n",
      "[LightGBM] [Warning] No further splits with positive gain, best gain: -inf\n",
      "[LightGBM] [Warning] No further splits with positive gain, best gain: -inf\n",
      "[LightGBM] [Warning] No further splits with positive gain, best gain: -inf\n",
      "[LightGBM] [Warning] No further splits with positive gain, best gain: -inf\n",
      "[LightGBM] [Warning] No further splits with positive gain, best gain: -inf\n",
      "[LightGBM] [Warning] No further splits with positive gain, best gain: -inf\n",
      "[LightGBM] [Warning] No further splits with positive gain, best gain: -inf\n",
      "[LightGBM] [Warning] No further splits with positive gain, best gain: -inf\n",
      "[LightGBM] [Warning] No further splits with positive gain, best gain: -inf\n",
      "[LightGBM] [Warning] No further splits with positive gain, best gain: -inf\n",
      "[LightGBM] [Warning] No further splits with positive gain, best gain: -inf\n",
      "[LightGBM] [Warning] No further splits with positive gain, best gain: -inf\n",
      "[LightGBM] [Warning] No further splits with positive gain, best gain: -inf\n",
      "[LightGBM] [Warning] No further splits with positive gain, best gain: -inf\n",
      "[LightGBM] [Warning] No further splits with positive gain, best gain: -inf\n",
      "[LightGBM] [Warning] No further splits with positive gain, best gain: -inf\n",
      "[LightGBM] [Warning] No further splits with positive gain, best gain: -inf\n",
      "[LightGBM] [Warning] No further splits with positive gain, best gain: -inf\n",
      "[LightGBM] [Warning] No further splits with positive gain, best gain: -inf\n",
      "[LightGBM] [Warning] No further splits with positive gain, best gain: -inf\n",
      "[LightGBM] [Warning] No further splits with positive gain, best gain: -inf\n",
      "[LightGBM] [Warning] No further splits with positive gain, best gain: -inf\n",
      "[LightGBM] [Warning] No further splits with positive gain, best gain: -inf\n",
      "[LightGBM] [Warning] No further splits with positive gain, best gain: -inf\n",
      "[LightGBM] [Warning] No further splits with positive gain, best gain: -inf\n",
      "[LightGBM] [Warning] No further splits with positive gain, best gain: -inf\n",
      "[LightGBM] [Warning] No further splits with positive gain, best gain: -inf\n",
      "[LightGBM] [Warning] No further splits with positive gain, best gain: -inf\n",
      "[LightGBM] [Warning] No further splits with positive gain, best gain: -inf\n",
      "[LightGBM] [Warning] No further splits with positive gain, best gain: -inf\n",
      "[50]\tcv_agg's train auc: 0.934052 + 0.00186327\tcv_agg's valid auc: 0.858368 + 0.0136449\n",
      "[LightGBM] [Warning] No further splits with positive gain, best gain: -inf\n",
      "[LightGBM] [Warning] No further splits with positive gain, best gain: -inf\n",
      "[LightGBM] [Warning] No further splits with positive gain, best gain: -inf\n",
      "[LightGBM] [Warning] No further splits with positive gain, best gain: -inf\n",
      "[LightGBM] [Warning] No further splits with positive gain, best gain: -inf\n",
      "[LightGBM] [Warning] No further splits with positive gain, best gain: -inf\n",
      "[LightGBM] [Warning] No further splits with positive gain, best gain: -inf\n",
      "[LightGBM] [Warning] No further splits with positive gain, best gain: -inf\n",
      "[LightGBM] [Warning] No further splits with positive gain, best gain: -inf\n",
      "[LightGBM] [Warning] No further splits with positive gain, best gain: -inf\n",
      "[LightGBM] [Warning] No further splits with positive gain, best gain: -inf\n",
      "[LightGBM] [Warning] No further splits with positive gain, best gain: -inf\n",
      "[LightGBM] [Warning] No further splits with positive gain, best gain: -inf\n",
      "[LightGBM] [Warning] No further splits with positive gain, best gain: -inf\n",
      "[LightGBM] [Warning] No further splits with positive gain, best gain: -inf\n",
      "[LightGBM] [Warning] No further splits with positive gain, best gain: -inf\n",
      "[LightGBM] [Warning] No further splits with positive gain, best gain: -inf\n",
      "[LightGBM] [Warning] No further splits with positive gain, best gain: -inf\n",
      "[LightGBM] [Warning] No further splits with positive gain, best gain: -inf\n",
      "[LightGBM] [Warning] No further splits with positive gain, best gain: -inf\n",
      "[LightGBM] [Warning] No further splits with positive gain, best gain: -inf\n",
      "[LightGBM] [Warning] No further splits with positive gain, best gain: -inf\n",
      "[LightGBM] [Warning] No further splits with positive gain, best gain: -inf\n",
      "[LightGBM] [Warning] No further splits with positive gain, best gain: -inf\n",
      "[LightGBM] [Warning] No further splits with positive gain, best gain: -inf\n",
      "[LightGBM] [Warning] No further splits with positive gain, best gain: -inf\n",
      "[LightGBM] [Warning] No further splits with positive gain, best gain: -inf\n",
      "[100]\tcv_agg's train auc: 0.956164 + 0.00190407\tcv_agg's valid auc: 0.849781 + 0.0121086\n",
      "[LightGBM] [Warning] No further splits with positive gain, best gain: -inf\n",
      "[LightGBM] [Warning] No further splits with positive gain, best gain: -inf\n",
      "[LightGBM] [Warning] No further splits with positive gain, best gain: -inf\n",
      "[LightGBM] [Warning] No further splits with positive gain, best gain: -inf\n",
      "[LightGBM] [Warning] No further splits with positive gain, best gain: -inf\n",
      "[LightGBM] [Warning] No further splits with positive gain, best gain: -inf\n",
      "[LightGBM] [Warning] No further splits with positive gain, best gain: -inf\n",
      "[LightGBM] [Warning] No further splits with positive gain, best gain: -inf\n",
      "[LightGBM] [Warning] No further splits with positive gain, best gain: -inf\n",
      "[LightGBM] [Warning] No further splits with positive gain, best gain: -inf\n",
      "[LightGBM] [Warning] No further splits with positive gain, best gain: -inf\n",
      "[LightGBM] [Warning] No further splits with positive gain, best gain: -inf\n",
      "[LightGBM] [Warning] No further splits with positive gain, best gain: -inf\n",
      "[LightGBM] [Warning] No further splits with positive gain, best gain: -inf\n",
      "Early stopping, best iteration is:\n",
      "[30]\tcv_agg's train auc: 0.925589 + 0.00189555\tcv_agg's valid auc: 0.860702 + 0.0157068\n"
     ]
    }
   ],
   "source": [
    "callbacks = [log_evaluation(50), early_stopping(100)]\n",
    "parameters = {\n",
    "    #default\n",
    "    \"objective\": \"binary\",\n",
    "    \"learning_rate\": 0.05,\n",
    "    \"num_threads\": 10,\n",
    "    \"metric\": \"auc\",\n",
    "    \"seed\": 42,\n",
    "    \n",
    "    #regularization\n",
    "    \"colsample_bytree\": 0.8,\n",
    "    \"subsample\": 0.8,\n",
    "    \"subsample_freq\": 1,\n",
    "    \"min_data_in_leaf\": 10,\n",
    "}\n",
    "\n",
    "\n",
    "result = lgb.cv(parameters, lgb_train, n_rounds, folds=skf, callbacks=callbacks, eval_train_metric=True)"
   ]
  },
  {
   "cell_type": "code",
   "execution_count": 50,
   "metadata": {},
   "outputs": [
    {
     "name": "stdout",
     "output_type": "stream",
     "text": [
      "[LightGBM] [Warning] num_threads is set=10, n_jobs=-1 will be ignored. Current value: num_threads=10\n",
      "[LightGBM] [Warning] min_data_in_leaf is set=10, min_child_samples=20 will be ignored. Current value: min_data_in_leaf=10\n",
      "[LightGBM] [Warning] num_threads is set=10, n_jobs=-1 will be ignored. Current value: num_threads=10\n",
      "[LightGBM] [Warning] min_data_in_leaf is set=10, min_child_samples=20 will be ignored. Current value: min_data_in_leaf=10\n",
      "[LightGBM] [Warning] num_threads is set=10, n_jobs=-1 will be ignored. Current value: num_threads=10\n",
      "[LightGBM] [Warning] min_data_in_leaf is set=10, min_child_samples=20 will be ignored. Current value: min_data_in_leaf=10\n",
      "[LightGBM] [Warning] num_threads is set=10, n_jobs=-1 will be ignored. Current value: num_threads=10\n",
      "[LightGBM] [Warning] min_data_in_leaf is set=10, min_child_samples=20 will be ignored. Current value: min_data_in_leaf=10\n",
      "[LightGBM] [Warning] num_threads is set=10, n_jobs=-1 will be ignored. Current value: num_threads=10\n",
      "[LightGBM] [Warning] min_data_in_leaf is set=10, min_child_samples=20 will be ignored. Current value: min_data_in_leaf=10\n"
     ]
    },
    {
     "data": {
      "text/plain": [
       "0.8819082079603886"
      ]
     },
     "execution_count": 50,
     "metadata": {},
     "output_type": "execute_result"
    }
   ],
   "source": [
    "l_get_kfold_accuracy(X, y, parameters)"
   ]
  },
  {
   "cell_type": "code",
   "execution_count": 51,
   "metadata": {},
   "outputs": [
    {
     "name": "stdout",
     "output_type": "stream",
     "text": [
      "Train auc:      0.9256, std: 0.0019\n",
      "Validation auc: 0.8607, std: 0.0157\n"
     ]
    }
   ],
   "source": [
    "print(f\"Train auc:      {result['train auc-mean'][-1]:.4f}, std: {result['train auc-stdv'][-1]:.4f}\")\n",
    "print(f\"Validation auc: {result['valid auc-mean'][-1]:.4f}, std: {result['valid auc-stdv'][-1]:.4f}\")\n",
    "\n"
   ]
  },
  {
   "cell_type": "code",
   "execution_count": 185,
   "metadata": {
    "scrolled": true
   },
   "outputs": [
    {
     "name": "stderr",
     "output_type": "stream",
     "text": [
      "/home/i.kozlov/venv/mlcourse/lib/python3.8/site-packages/lightgbm/engine.py:573: UserWarning: Found `n_estimators` in params. Will use it instead of argument\n",
      "  _log_warning(f\"Found `{alias}` in params. Will use it instead of argument\")\n",
      "/home/i.kozlov/venv/mlcourse/lib/python3.8/site-packages/lightgbm/basic.py:2065: UserWarning: Using categorical_feature in Dataset.\n",
      "  _log_warning('Using categorical_feature in Dataset.')\n"
     ]
    },
    {
     "name": "stdout",
     "output_type": "stream",
     "text": [
      "[LightGBM] [Warning] Unknown parameter: colsample_bylevel\n",
      "[LightGBM] [Warning] Unknown parameter: colsample_bylevel\n",
      "[LightGBM] [Info] Number of positive: 226, number of negative: 366\n",
      "[LightGBM] [Warning] Auto-choosing col-wise multi-threading, the overhead of testing was 0.004015 seconds.\n",
      "You can set `force_col_wise=true` to remove the overhead.\n",
      "[LightGBM] [Info] Total Bins 91\n",
      "[LightGBM] [Info] Number of data points in the train set: 592, number of used features: 6\n",
      "[LightGBM] [Warning] Unknown parameter: colsample_bylevel\n",
      "[LightGBM] [Warning] Unknown parameter: colsample_bylevel\n",
      "[LightGBM] [Info] Number of positive: 227, number of negative: 366\n",
      "[LightGBM] [Warning] Auto-choosing row-wise multi-threading, the overhead of testing was 0.001955 seconds.\n",
      "You can set `force_row_wise=true` to remove the overhead.\n",
      "And if memory is not enough, you can set `force_col_wise=true`.\n",
      "[LightGBM] [Info] Total Bins 91\n",
      "[LightGBM] [Info] Number of data points in the train set: 593, number of used features: 6\n",
      "[LightGBM] [Warning] Unknown parameter: colsample_bylevel\n",
      "[LightGBM] [Warning] Unknown parameter: colsample_bylevel\n",
      "[LightGBM] [Info] Number of positive: 227, number of negative: 366\n",
      "[LightGBM] [Warning] Auto-choosing col-wise multi-threading, the overhead of testing was 0.002598 seconds.\n",
      "You can set `force_col_wise=true` to remove the overhead.\n",
      "[LightGBM] [Info] Total Bins 91\n",
      "[LightGBM] [Info] Number of data points in the train set: 593, number of used features: 6\n",
      "[LightGBM] [Warning] Unknown parameter: colsample_bylevel\n",
      "[LightGBM] [Info] [binary:BoostFromScore]: pavg=0.381757 -> initscore=-0.482098\n",
      "[LightGBM] [Info] Start training from score -0.482098\n",
      "[LightGBM] [Info] [binary:BoostFromScore]: pavg=0.382799 -> initscore=-0.477683\n",
      "[LightGBM] [Info] Start training from score -0.477683\n",
      "[LightGBM] [Info] [binary:BoostFromScore]: pavg=0.382799 -> initscore=-0.477683\n",
      "[LightGBM] [Info] Start training from score -0.477683\n",
      "[50]\tcv_agg's train auc: 0.906085 + 0.00551557\tcv_agg's valid auc: 0.864816 + 0.0166846\n",
      "[LightGBM] [Warning] No further splits with positive gain, best gain: -inf\n",
      "[LightGBM] [Warning] No further splits with positive gain, best gain: -inf\n",
      "[100]\tcv_agg's train auc: 0.919754 + 0.00660525\tcv_agg's valid auc: 0.862966 + 0.0160113\n",
      "[LightGBM] [Warning] No further splits with positive gain, best gain: -inf\n",
      "[LightGBM] [Warning] No further splits with positive gain, best gain: -inf\n",
      "[LightGBM] [Warning] No further splits with positive gain, best gain: -inf\n",
      "[150]\tcv_agg's train auc: 0.929032 + 0.00617745\tcv_agg's valid auc: 0.860553 + 0.018002\n",
      "[LightGBM] [Warning] No further splits with positive gain, best gain: -inf\n",
      "[200]\tcv_agg's train auc: 0.936403 + 0.00416087\tcv_agg's valid auc: 0.857205 + 0.018145\n",
      "Early stopping, best iteration is:\n",
      "[106]\tcv_agg's train auc: 0.895358 + 0.00638943\tcv_agg's valid auc: 0.871096 + 0.0160831\n"
     ]
    }
   ],
   "source": [
    "# 0.78229\n",
    "\n",
    "parameters = {\n",
    "    #default\n",
    "    \"n_estimators\": 400,\n",
    "    \"objective\": \"binary\",\n",
    "    \"learning_rate\": 0.1,\n",
    "    \"num_threads\": 10,\n",
    "    \"metric\": \"auc\",\n",
    "    \"seed\": 42,\n",
    "    \"max_depth\": 7,\n",
    "    \"num_leaves\": 8,\n",
    "    #regularization\n",
    "    \"subsample\": 0.8,\n",
    "    \"colsample_bytree\": 0.6,\n",
    "    \"colsample_bynode\":0.7,\n",
    "    \"subsample_freq\": 1,\n",
    "    \"min_data_in_leaf\": 20,\n",
    "}\n",
    "\n",
    "\n",
    "result = lgb.cv(parameters, lgb_train, n_rounds, folds=skf, callbacks=callbacks, eval_train_metric=True)"
   ]
  },
  {
   "cell_type": "code",
   "execution_count": 186,
   "metadata": {},
   "outputs": [
    {
     "name": "stdout",
     "output_type": "stream",
     "text": [
      "Train auc:      0.9221, std: 0.0062\n",
      "Validation auc: 0.8637, std: 0.0141\n"
     ]
    }
   ],
   "source": [
    "print(f\"Train auc:      {result['train auc-mean'][-1]:.4f}, std: {result['train auc-stdv'][-1]:.4f}\")\n",
    "print(f\"Validation auc: {result['valid auc-mean'][-1]:.4f}, std: {result['valid auc-stdv'][-1]:.4f}\")\n",
    "\n"
   ]
  },
  {
   "cell_type": "code",
   "execution_count": 187,
   "metadata": {
    "scrolled": true
   },
   "outputs": [
    {
     "name": "stdout",
     "output_type": "stream",
     "text": [
      "[LightGBM] [Warning] num_threads is set=10, n_jobs=-1 will be ignored. Current value: num_threads=10\n",
      "[LightGBM] [Warning] min_data_in_leaf is set=20, min_child_samples=20 will be ignored. Current value: min_data_in_leaf=20\n",
      "[LightGBM] [Warning] num_threads is set=10, n_jobs=-1 will be ignored. Current value: num_threads=10\n",
      "[LightGBM] [Warning] min_data_in_leaf is set=20, min_child_samples=20 will be ignored. Current value: min_data_in_leaf=20\n",
      "[LightGBM] [Warning] num_threads is set=10, n_jobs=-1 will be ignored. Current value: num_threads=10\n",
      "[LightGBM] [Warning] min_data_in_leaf is set=20, min_child_samples=20 will be ignored. Current value: min_data_in_leaf=20\n",
      "[LightGBM] [Warning] num_threads is set=10, n_jobs=-1 will be ignored. Current value: num_threads=10\n",
      "[LightGBM] [Warning] min_data_in_leaf is set=20, min_child_samples=20 will be ignored. Current value: min_data_in_leaf=20\n",
      "[LightGBM] [Warning] num_threads is set=10, n_jobs=-1 will be ignored. Current value: num_threads=10\n",
      "[LightGBM] [Warning] min_data_in_leaf is set=20, min_child_samples=20 will be ignored. Current value: min_data_in_leaf=20\n"
     ]
    },
    {
     "data": {
      "text/plain": [
       "0.8402716942804546"
      ]
     },
     "execution_count": 187,
     "metadata": {},
     "output_type": "execute_result"
    }
   ],
   "source": [
    "l_get_kfold_accuracy(X, y, parameters)"
   ]
  },
  {
   "cell_type": "markdown",
   "metadata": {},
   "source": [
    "0.74880\n",
    "parameters = {\n",
    "    #default\n",
    "    \"n_estimators\": 300,\n",
    "    \"objective\": \"binary\",\n",
    "    \"learning_rate\": 0.05,\n",
    "    \"num_threads\": 10,\n",
    "    \"metric\": \"auc\",\n",
    "    \"seed\": 42,\n",
    "    \"max_depth\":3,\n",
    "    \"num_leaves\": 7,\n",
    "    \"max_bin\": 512,\n",
    "    \"subsample_for_bin\": 200,\n",
    "    #regularization\n",
    "    \"colsample_bytree\": 0.5,\n",
    "    \"subsample\": 1,\n",
    "    \"subsample_freq\": 1,\n",
    "    \"min_data_in_leaf\": 10,\n",
    "    \"scale_pos_weight\": scale_pos_weight\n",
    "}\n",
    "\n",
    "\n",
    "result = lgb.cv(parameters, lgb_train, n_rounds, folds=skf, callbacks=callbacks, eval_train_metric=True)"
   ]
  },
  {
   "cell_type": "code",
   "execution_count": 188,
   "metadata": {
    "scrolled": true
   },
   "outputs": [
    {
     "name": "stderr",
     "output_type": "stream",
     "text": [
      "/home/i.kozlov/venv/mlcourse/lib/python3.8/site-packages/lightgbm/engine.py:573: UserWarning: Found `n_estimators` in params. Will use it instead of argument\n",
      "  _log_warning(f\"Found `{alias}` in params. Will use it instead of argument\")\n",
      "/home/i.kozlov/venv/mlcourse/lib/python3.8/site-packages/lightgbm/basic.py:2065: UserWarning: Using categorical_feature in Dataset.\n",
      "  _log_warning('Using categorical_feature in Dataset.')\n"
     ]
    },
    {
     "name": "stdout",
     "output_type": "stream",
     "text": [
      "[LightGBM] [Warning] Unknown parameter: colsample_bylevel\n",
      "[LightGBM] [Warning] Unknown parameter: colsample_bylevel\n",
      "[LightGBM] [Warning] Unknown parameter: colsample_bylevel\n",
      "[LightGBM] [Info] Number of positive: 226, number of negative: 366\n",
      "[LightGBM] [Warning] Auto-choosing row-wise multi-threading, the overhead of testing was 0.002318 seconds.\n",
      "You can set `force_row_wise=true` to remove the overhead.\n",
      "And if memory is not enough, you can set `force_col_wise=true`.\n",
      "[LightGBM] [Info] Total Bins 91\n",
      "[LightGBM] [Info] Number of data points in the train set: 592, number of used features: 6\n",
      "[LightGBM] [Warning] Unknown parameter: colsample_bylevel\n",
      "[LightGBM] [Warning] Unknown parameter: colsample_bylevel\n",
      "[LightGBM] [Warning] Unknown parameter: colsample_bylevel\n",
      "[LightGBM] [Info] Number of positive: 227, number of negative: 366\n",
      "[LightGBM] [Warning] Auto-choosing row-wise multi-threading, the overhead of testing was 0.001355 seconds.\n",
      "You can set `force_row_wise=true` to remove the overhead.\n",
      "And if memory is not enough, you can set `force_col_wise=true`.\n",
      "[LightGBM] [Info] Total Bins 91\n",
      "[LightGBM] [Info] Number of data points in the train set: 593, number of used features: 6\n",
      "[LightGBM] [Warning] Unknown parameter: colsample_bylevel\n",
      "[LightGBM] [Warning] Unknown parameter: colsample_bylevel\n",
      "[LightGBM] [Warning] Unknown parameter: colsample_bylevel\n",
      "[LightGBM] [Info] Number of positive: 227, number of negative: 366\n",
      "[LightGBM] [Warning] Auto-choosing row-wise multi-threading, the overhead of testing was 0.001604 seconds.\n",
      "You can set `force_row_wise=true` to remove the overhead.\n",
      "And if memory is not enough, you can set `force_col_wise=true`.\n",
      "[LightGBM] [Info] Total Bins 91\n",
      "[LightGBM] [Info] Number of data points in the train set: 593, number of used features: 6\n",
      "[LightGBM] [Warning] Unknown parameter: colsample_bylevel\n",
      "[LightGBM] [Info] [binary:BoostFromScore]: pavg=0.381757 -> initscore=-0.482098\n",
      "[LightGBM] [Info] Start training from score -0.482098\n",
      "[LightGBM] [Info] [binary:BoostFromScore]: pavg=0.382799 -> initscore=-0.477683\n",
      "[LightGBM] [Info] Start training from score -0.477683\n",
      "[LightGBM] [Info] [binary:BoostFromScore]: pavg=0.382799 -> initscore=-0.477683\n",
      "[LightGBM] [Info] Start training from score -0.477683\n",
      "[50]\tcv_agg's train auc: 0.906085 + 0.00551557\tcv_agg's valid auc: 0.864816 + 0.0166846\n",
      "[LightGBM] [Warning] No further splits with positive gain, best gain: -inf\n",
      "[LightGBM] [Warning] No further splits with positive gain, best gain: -inf\n",
      "[100]\tcv_agg's train auc: 0.919754 + 0.00660525\tcv_agg's valid auc: 0.862966 + 0.0160113\n",
      "[LightGBM] [Warning] No further splits with positive gain, best gain: -inf\n",
      "[LightGBM] [Warning] No further splits with positive gain, best gain: -inf\n",
      "[LightGBM] [Warning] No further splits with positive gain, best gain: -inf\n",
      "[150]\tcv_agg's train auc: 0.929032 + 0.00617745\tcv_agg's valid auc: 0.860553 + 0.018002\n",
      "[LightGBM] [Warning] No further splits with positive gain, best gain: -inf\n",
      "[200]\tcv_agg's train auc: 0.936403 + 0.00416087\tcv_agg's valid auc: 0.857205 + 0.018145\n",
      "Early stopping, best iteration is:\n",
      "[106]\tcv_agg's train auc: 0.895358 + 0.00638943\tcv_agg's valid auc: 0.871096 + 0.0160831\n"
     ]
    }
   ],
   "source": [
    "parameters = {\n",
    "    #default\n",
    "    \"n_estimators\": 400,\n",
    "    \"objective\": \"binary\",\n",
    "    \"learning_rate\": 0.1,\n",
    "    \"num_threads\": 10,\n",
    "    \"metric\": \"auc\",\n",
    "    \"seed\": 42,\n",
    "    \"max_depth\": 7,\n",
    "    \"num_leaves\": 8,\n",
    "    #regularization\n",
    "    \"subsample\": 0.8,\n",
    "    \"colsample_bytree\": 0.6,\n",
    "    \"colsample_bylevel\":0.6,\n",
    "    \"colsample_bynode\":0.7,\n",
    "    \"subsample_freq\": 1,\n",
    "    \"min_data_in_leaf\": 20,\n",
    "    #categorical features\n",
    "    'cat_smooth': 1,\n",
    "    'min_data_per_group': 50\n",
    "}\n",
    "lgb_train = lgb.Dataset(X_cat, label=y, free_raw_data=False, categorical_feature=['Sex', 'Pclass', 'Embarked'])\n",
    "result = lgb.cv(parameters, lgb_train, n_rounds, folds=skf, callbacks=callbacks, eval_train_metric=True)"
   ]
  },
  {
   "cell_type": "code",
   "execution_count": 194,
   "metadata": {},
   "outputs": [
    {
     "name": "stdout",
     "output_type": "stream",
     "text": [
      "[LightGBM] [Warning] Unknown parameter: colsample_bylevel\n",
      "[LightGBM] [Warning] num_threads is set=10, n_jobs=-1 will be ignored. Current value: num_threads=10\n",
      "[LightGBM] [Warning] min_data_in_leaf is set=20, min_child_samples=20 will be ignored. Current value: min_data_in_leaf=20\n",
      "[LightGBM] [Warning] Unknown parameter: colsample_bylevel\n",
      "[LightGBM] [Warning] num_threads is set=10, n_jobs=-1 will be ignored. Current value: num_threads=10\n",
      "[LightGBM] [Warning] min_data_in_leaf is set=20, min_child_samples=20 will be ignored. Current value: min_data_in_leaf=20\n",
      "[LightGBM] [Warning] Unknown parameter: colsample_bylevel\n",
      "[LightGBM] [Warning] num_threads is set=10, n_jobs=-1 will be ignored. Current value: num_threads=10\n",
      "[LightGBM] [Warning] min_data_in_leaf is set=20, min_child_samples=20 will be ignored. Current value: min_data_in_leaf=20\n",
      "[LightGBM] [Warning] Unknown parameter: colsample_bylevel\n",
      "[LightGBM] [Warning] num_threads is set=10, n_jobs=-1 will be ignored. Current value: num_threads=10\n",
      "[LightGBM] [Warning] min_data_in_leaf is set=20, min_child_samples=20 will be ignored. Current value: min_data_in_leaf=20\n",
      "[LightGBM] [Warning] Unknown parameter: colsample_bylevel\n",
      "[LightGBM] [Warning] num_threads is set=10, n_jobs=-1 will be ignored. Current value: num_threads=10\n",
      "[LightGBM] [Warning] min_data_in_leaf is set=20, min_child_samples=20 will be ignored. Current value: min_data_in_leaf=20\n"
     ]
    },
    {
     "data": {
      "text/plain": [
       "0.8672824223957342"
      ]
     },
     "execution_count": 194,
     "metadata": {},
     "output_type": "execute_result"
    }
   ],
   "source": [
    "l_get_kfold_accuracy(X_cat, y, parameters, num_iter=30)"
   ]
  },
  {
   "cell_type": "code",
   "execution_count": 195,
   "metadata": {},
   "outputs": [
    {
     "name": "stderr",
     "output_type": "stream",
     "text": [
      "/home/i.kozlov/venv/mlcourse/lib/python3.8/site-packages/lightgbm/basic.py:2065: UserWarning: Using categorical_feature in Dataset.\n",
      "  _log_warning('Using categorical_feature in Dataset.')\n"
     ]
    },
    {
     "name": "stdout",
     "output_type": "stream",
     "text": [
      "[LightGBM] [Warning] Unknown parameter: colsample_bylevel\n",
      "[LightGBM] [Warning] num_threads is set=10, n_jobs=-1 will be ignored. Current value: num_threads=10\n",
      "[LightGBM] [Warning] min_data_in_leaf is set=20, min_child_samples=20 will be ignored. Current value: min_data_in_leaf=20\n"
     ]
    }
   ],
   "source": [
    "lgbc = lgb.LGBMClassifier(**parameters)\n",
    "lgbf = lgbc.fit(X_cat,y,categorical_feature=['Sex', 'Pclass', 'Embarked'])"
   ]
  },
  {
   "cell_type": "code",
   "execution_count": 196,
   "metadata": {},
   "outputs": [
    {
     "name": "stdout",
     "output_type": "stream",
     "text": [
      "None\n"
     ]
    }
   ],
   "source": [
    "print(lgbf.best_iteration_)"
   ]
  },
  {
   "cell_type": "code",
   "execution_count": null,
   "metadata": {},
   "outputs": [],
   "source": []
  },
  {
   "cell_type": "code",
   "execution_count": 197,
   "metadata": {},
   "outputs": [],
   "source": [
    "y_pred_l = lgbf.predict(test_transformed_categorical, num_iteration=30, categorical_feature=['Sex', 'Pclass', 'Embarked'])\n",
    "submission = pd.DataFrame({\n",
    "        \"PassengerId\": PassengerId,\n",
    "        \"Survived\": y_pred_l\n",
    "    })\n",
    "submission.to_csv('submission_lightgbm.csv', index=False)"
   ]
  },
  {
   "cell_type": "markdown",
   "metadata": {},
   "source": [
    "# CatBoost"
   ]
  },
  {
   "cell_type": "markdown",
   "metadata": {},
   "source": [
    "### CatBoost parameters tunning\n",
    "\n",
    "**`loss_function`** – The metric to use in training (the same as objective in xgb/lgb)<br>\n",
    "**`eval_metric`** – The metric used for overfitting detection (if enabled) and the best model selection (if enabled).<br>\n",
    "**`iterations`** – The maximum number of trees<br>\n",
    "**`learning_rate`** – Learing rate :) (default 0.03)<br>\n",
    "**`random_seed`** – is not set by default. always set to reproduce results.<br>\n",
    "**`subsample`** – Sample rate for bagging (default 0.66)<br>\n",
    "**`use_best_model`** – True if a validation set is input (the eval_set parameter is defined) and at least one of the values of objects in this set. False otherwise<br>\n",
    "**`depth`** – the same as max depth earlier<br>\n",
    "**`rsm`** – Random subspace method. The percentage of features that can be used at each split selection. (colsample_bylevel)<br>\n",
    "**`class_weights`** – Classes weights<br>\n",
    "**`od_type`** – The type of the overfitting detector to use. (better to use Iter)<br>\n",
    "**`od_wait`** – The number of iterations to continue the training after the metric value.<br>\n",
    "\n",
    "\n",
    "\n",
    "\n"
   ]
  },
  {
   "cell_type": "code",
   "execution_count": 199,
   "metadata": {},
   "outputs": [],
   "source": [
    "import catboost as ctb\n",
    "parameters = {\n",
    "    \"loss_function\": \"Logloss\",\n",
    "    \"eval_metric\": \"AUC\",\n",
    "    \"iterations\": 1000,\n",
    "    \"learning_rate\": 0.03,\n",
    "    \"random_seed\": 42,\n",
    "    \"od_wait\": 30,\n",
    "    \"od_type\": \"Iter\",\n",
    "    \"thread_count\": 10,\n",
    "    \"use_best_model\": True \n",
    "}"
   ]
  },
  {
   "cell_type": "code",
   "execution_count": 283,
   "metadata": {},
   "outputs": [],
   "source": [
    "from sklearn.model_selection import train_test_split\n",
    "\n",
    "X_train, X_validation, y_train, y_validation = train_test_split(X_cat, y, train_size=0.75, random_state=42)\n",
    "train_pool = ctb.Pool(X_train, y_train, cat_features=categorical_features_indices)\n",
    "validate_pool = ctb.Pool(X_validation, y_validation, cat_features=categorical_features_indices)\n"
   ]
  },
  {
   "cell_type": "code",
   "execution_count": 284,
   "metadata": {},
   "outputs": [],
   "source": [
    "def c_get_kfold_accuracy(X, y, parameters, n_splits=5, num_iter = 30):\n",
    "    kfold = StratifiedKFold(shuffle=True, random_state=42, n_splits=n_splits)\n",
    "    scores = []\n",
    "    for train_ix, test_ix in kfold.split(X, y):\n",
    "        train_X, test_X = X.iloc[train_ix], X.iloc[test_ix]\n",
    "        train_y, test_y = y[train_ix], y[test_ix]\n",
    "        boost = ctb.CatBoostClassifier(**parameters)\n",
    "        boost.fit(X, y, eval_set=(X_validation, y_validation))\n",
    "        best = boost.best_iteration_ if boost.best_iteration_ else num_iter\n",
    "        yhat =  boost.predict(test_X, ntree_end=best)\n",
    "        acc = accuracy_score(test_y, yhat)\n",
    "        # store score\n",
    "        scores.append(acc)\n",
    "    return np.mean(scores)"
   ]
  },
  {
   "cell_type": "code",
   "execution_count": 285,
   "metadata": {
    "scrolled": true
   },
   "outputs": [
    {
     "data": {
      "application/vnd.jupyter.widget-view+json": {
       "model_id": "7d1e17cd36ad4becbae91c855147c0ab",
       "version_major": 2,
       "version_minor": 0
      },
      "text/plain": [
       "MetricVisualizer(layout=Layout(align_self='stretch', height='500px'))"
      ]
     },
     "metadata": {},
     "output_type": "display_data"
    },
    {
     "name": "stdout",
     "output_type": "stream",
     "text": [
      "Training on fold [0/3]\n",
      "0:\ttest: 0.8060021\tbest: 0.8060021 (0)\ttotal: 2.46ms\tremaining: 2.46s\n",
      "100:\ttest: 0.8747008\tbest: 0.8747008 (100)\ttotal: 206ms\tremaining: 1.84s\n",
      "200:\ttest: 0.8791467\tbest: 0.8833362 (168)\ttotal: 359ms\tremaining: 1.43s\n",
      "\n",
      "bestTest = 0.8833361833\n",
      "bestIteration = 168\n",
      "\n",
      "Training on fold [1/3]\n",
      "0:\ttest: 0.8184850\tbest: 0.8184850 (0)\ttotal: 2.45ms\tremaining: 2.45s\n",
      "100:\ttest: 0.8743588\tbest: 0.8764107 (89)\ttotal: 183ms\tremaining: 1.63s\n",
      "\n",
      "bestTest = 0.8764107387\n",
      "bestIteration = 89\n",
      "\n",
      "Training on fold [2/3]\n",
      "0:\ttest: 0.7937329\tbest: 0.7937329 (0)\ttotal: 9.47ms\tremaining: 9.46s\n",
      "\n",
      "bestTest = 0.848495212\n",
      "bestIteration = 10\n",
      "\n"
     ]
    }
   ],
   "source": [
    "ctb_data = ctb.Pool(X_train,y_train)\n",
    "result = ctb.cv(ctb_data, parameters, folds=skf, seed=42, verbose_eval=100, plot=True)"
   ]
  },
  {
   "cell_type": "code",
   "execution_count": 286,
   "metadata": {},
   "outputs": [
    {
     "data": {
      "text/html": [
       "<div>\n",
       "<style scoped>\n",
       "    .dataframe tbody tr th:only-of-type {\n",
       "        vertical-align: middle;\n",
       "    }\n",
       "\n",
       "    .dataframe tbody tr th {\n",
       "        vertical-align: top;\n",
       "    }\n",
       "\n",
       "    .dataframe thead th {\n",
       "        text-align: right;\n",
       "    }\n",
       "</style>\n",
       "<table border=\"1\" class=\"dataframe\">\n",
       "  <thead>\n",
       "    <tr style=\"text-align: right;\">\n",
       "      <th></th>\n",
       "      <th>iterations</th>\n",
       "      <th>test-AUC-mean</th>\n",
       "      <th>test-AUC-std</th>\n",
       "      <th>test-Logloss-mean</th>\n",
       "      <th>test-Logloss-std</th>\n",
       "      <th>train-Logloss-mean</th>\n",
       "      <th>train-Logloss-std</th>\n",
       "    </tr>\n",
       "  </thead>\n",
       "  <tbody>\n",
       "    <tr>\n",
       "      <th>123</th>\n",
       "      <td>123</td>\n",
       "      <td>0.863572</td>\n",
       "      <td>0.024997</td>\n",
       "      <td>0.425154</td>\n",
       "      <td>0.031357</td>\n",
       "      <td>0.390213</td>\n",
       "      <td>0.000815</td>\n",
       "    </tr>\n",
       "  </tbody>\n",
       "</table>\n",
       "</div>"
      ],
      "text/plain": [
       "     iterations  test-AUC-mean  test-AUC-std  test-Logloss-mean  \\\n",
       "123         123       0.863572      0.024997           0.425154   \n",
       "\n",
       "     test-Logloss-std  train-Logloss-mean  train-Logloss-std  \n",
       "123          0.031357            0.390213           0.000815  "
      ]
     },
     "execution_count": 286,
     "metadata": {},
     "output_type": "execute_result"
    }
   ],
   "source": [
    "result.loc[result[\"test-AUC-mean\"] == result[\"test-AUC-mean\"].max()]"
   ]
  },
  {
   "cell_type": "code",
   "execution_count": 287,
   "metadata": {},
   "outputs": [],
   "source": [
    "categorical_features_indices = [X_cat.columns.get_loc('Sex'), X_cat.columns.get_loc('Pclass'), X_cat.columns.get_loc('Embarked')]"
   ]
  },
  {
   "cell_type": "code",
   "execution_count": 288,
   "metadata": {},
   "outputs": [
    {
     "data": {
      "text/plain": [
       "Pclass        int64\n",
       "Sex           int64\n",
       "Age         float64\n",
       "SibSp         int64\n",
       "Parch         int64\n",
       "Embarked      int64\n",
       "dtype: object"
      ]
     },
     "execution_count": 288,
     "metadata": {},
     "output_type": "execute_result"
    }
   ],
   "source": [
    "X_cat.dtypes"
   ]
  },
  {
   "cell_type": "code",
   "execution_count": 289,
   "metadata": {},
   "outputs": [
    {
     "data": {
      "text/plain": [
       "[1, 0, 5]"
      ]
     },
     "execution_count": 289,
     "metadata": {},
     "output_type": "execute_result"
    }
   ],
   "source": [
    "categorical_features_indices"
   ]
  },
  {
   "cell_type": "code",
   "execution_count": 352,
   "metadata": {
    "scrolled": true
   },
   "outputs": [
    {
     "data": {
      "application/vnd.jupyter.widget-view+json": {
       "model_id": "0347b1080d0f4fd781dd69a616829f64",
       "version_major": 2,
       "version_minor": 0
      },
      "text/plain": [
       "MetricVisualizer(layout=Layout(align_self='stretch', height='500px'))"
      ]
     },
     "metadata": {},
     "output_type": "display_data"
    },
    {
     "name": "stdout",
     "output_type": "stream",
     "text": [
      "Training on fold [0/3]\n",
      "0:\ttest: 0.7690236\tbest: 0.7690236 (0)\ttotal: 8.61ms\tremaining: 8.6s\n",
      "\n",
      "bestTest = 0.8782062244\n",
      "bestIteration = 16\n",
      "\n",
      "Training on fold [1/3]\n",
      "0:\ttest: 0.8428950\tbest: 0.8428950 (0)\ttotal: 6.15ms\tremaining: 6.14s\n",
      "\n",
      "bestTest = 0.8782062244\n",
      "bestIteration = 5\n",
      "\n",
      "Training on fold [2/3]\n",
      "0:\ttest: 0.7580797\tbest: 0.7580797 (0)\ttotal: 5.4ms\tremaining: 5.39s\n",
      "\n",
      "bestTest = 0.8305831053\n",
      "bestIteration = 54\n",
      "\n"
     ]
    }
   ],
   "source": [
    "parameters = {\n",
    "    #default\n",
    "    \"loss_function\": \"Logloss\",\n",
    "    \"eval_metric\": \"AUC\",\n",
    "    \"iterations\": 1000,\n",
    "    \"learning_rate\": 0.3,\n",
    "    \"random_seed\": 42,\n",
    "    \"od_wait\": 30,\n",
    "    \"od_type\": \"Iter\",\n",
    "    \"thread_count\": 10,\n",
    "    'depth': 8,\n",
    "    'l2_leaf_reg': 4,\n",
    "    \"use_best_model\": True,\n",
    "    \"subsample\": 0.8,\n",
    "}\n",
    "\n",
    "ctb_data = ctb.Pool(X_train,y_train,cat_features=categorical_features_indices)\n",
    "result = ctb.cv(ctb_data, parameters, folds=skf, seed=42, verbose_eval=100, plot=True)"
   ]
  },
  {
   "cell_type": "code",
   "execution_count": 353,
   "metadata": {},
   "outputs": [
    {
     "data": {
      "text/html": [
       "<div>\n",
       "<style scoped>\n",
       "    .dataframe tbody tr th:only-of-type {\n",
       "        vertical-align: middle;\n",
       "    }\n",
       "\n",
       "    .dataframe tbody tr th {\n",
       "        vertical-align: top;\n",
       "    }\n",
       "\n",
       "    .dataframe thead th {\n",
       "        text-align: right;\n",
       "    }\n",
       "</style>\n",
       "<table border=\"1\" class=\"dataframe\">\n",
       "  <thead>\n",
       "    <tr style=\"text-align: right;\">\n",
       "      <th></th>\n",
       "      <th>iterations</th>\n",
       "      <th>test-AUC-mean</th>\n",
       "      <th>test-AUC-std</th>\n",
       "      <th>test-Logloss-mean</th>\n",
       "      <th>test-Logloss-std</th>\n",
       "      <th>train-Logloss-mean</th>\n",
       "      <th>train-Logloss-std</th>\n",
       "    </tr>\n",
       "  </thead>\n",
       "  <tbody>\n",
       "    <tr>\n",
       "      <th>6</th>\n",
       "      <td>6</td>\n",
       "      <td>0.855848</td>\n",
       "      <td>0.02873</td>\n",
       "      <td>0.435106</td>\n",
       "      <td>0.031918</td>\n",
       "      <td>0.373594</td>\n",
       "      <td>0.01145</td>\n",
       "    </tr>\n",
       "  </tbody>\n",
       "</table>\n",
       "</div>"
      ],
      "text/plain": [
       "   iterations  test-AUC-mean  test-AUC-std  test-Logloss-mean  \\\n",
       "6           6       0.855848       0.02873           0.435106   \n",
       "\n",
       "   test-Logloss-std  train-Logloss-mean  train-Logloss-std  \n",
       "6          0.031918            0.373594            0.01145  "
      ]
     },
     "execution_count": 353,
     "metadata": {},
     "output_type": "execute_result"
    }
   ],
   "source": [
    "result.loc[result[\"test-AUC-mean\"] == result[\"test-AUC-mean\"].max()]"
   ]
  },
  {
   "cell_type": "code",
   "execution_count": 354,
   "metadata": {},
   "outputs": [
    {
     "name": "stdout",
     "output_type": "stream",
     "text": [
      "0:\ttest: 0.8544369\tbest: 0.8544369 (0)\ttotal: 1.75ms\tremaining: 1.75s\n",
      "1:\ttest: 0.8679727\tbest: 0.8679727 (1)\ttotal: 3.37ms\tremaining: 1.68s\n",
      "2:\ttest: 0.8575938\tbest: 0.8679727 (1)\ttotal: 4.18ms\tremaining: 1.39s\n",
      "3:\ttest: 0.8589344\tbest: 0.8679727 (1)\ttotal: 5.6ms\tremaining: 1.39s\n",
      "4:\ttest: 0.8656807\tbest: 0.8679727 (1)\ttotal: 6.41ms\tremaining: 1.27s\n",
      "5:\ttest: 0.8577668\tbest: 0.8679727 (1)\ttotal: 7.83ms\tremaining: 1.3s\n",
      "6:\ttest: 0.8610102\tbest: 0.8679727 (1)\ttotal: 9.37ms\tremaining: 1.33s\n",
      "7:\ttest: 0.8593669\tbest: 0.8679727 (1)\ttotal: 10.3ms\tremaining: 1.28s\n",
      "8:\ttest: 0.8557343\tbest: 0.8679727 (1)\ttotal: 11.8ms\tremaining: 1.3s\n",
      "9:\ttest: 0.8556911\tbest: 0.8679727 (1)\ttotal: 12.8ms\tremaining: 1.27s\n",
      "10:\ttest: 0.8537883\tbest: 0.8679727 (1)\ttotal: 13.6ms\tremaining: 1.22s\n",
      "11:\ttest: 0.8560803\tbest: 0.8679727 (1)\ttotal: 14.6ms\tremaining: 1.2s\n",
      "12:\ttest: 0.8551289\tbest: 0.8679727 (1)\ttotal: 15.6ms\tremaining: 1.19s\n",
      "13:\ttest: 0.8561235\tbest: 0.8679727 (1)\ttotal: 17.1ms\tremaining: 1.2s\n",
      "14:\ttest: 0.8551721\tbest: 0.8679727 (1)\ttotal: 18.4ms\tremaining: 1.21s\n",
      "15:\ttest: 0.8605345\tbest: 0.8679727 (1)\ttotal: 19.8ms\tremaining: 1.22s\n",
      "16:\ttest: 0.8609670\tbest: 0.8679727 (1)\ttotal: 20.4ms\tremaining: 1.18s\n",
      "17:\ttest: 0.8562965\tbest: 0.8679727 (1)\ttotal: 21.9ms\tremaining: 1.2s\n",
      "18:\ttest: 0.8540477\tbest: 0.8679727 (1)\ttotal: 23.2ms\tremaining: 1.2s\n",
      "19:\ttest: 0.8556478\tbest: 0.8679727 (1)\ttotal: 24.5ms\tremaining: 1.2s\n",
      "20:\ttest: 0.8556478\tbest: 0.8679727 (1)\ttotal: 25ms\tremaining: 1.16s\n",
      "21:\ttest: 0.8539180\tbest: 0.8679727 (1)\ttotal: 25.8ms\tremaining: 1.15s\n",
      "22:\ttest: 0.8541342\tbest: 0.8679727 (1)\ttotal: 26.5ms\tremaining: 1.13s\n",
      "23:\ttest: 0.8535720\tbest: 0.8679727 (1)\ttotal: 27.6ms\tremaining: 1.12s\n",
      "24:\ttest: 0.8539180\tbest: 0.8679727 (1)\ttotal: 28.8ms\tremaining: 1.12s\n",
      "25:\ttest: 0.8544802\tbest: 0.8679727 (1)\ttotal: 29.9ms\tremaining: 1.12s\n",
      "26:\ttest: 0.8524044\tbest: 0.8679727 (1)\ttotal: 31ms\tremaining: 1.11s\n",
      "27:\ttest: 0.8527504\tbest: 0.8679727 (1)\ttotal: 31.4ms\tremaining: 1.09s\n",
      "28:\ttest: 0.8537018\tbest: 0.8679727 (1)\ttotal: 32.5ms\tremaining: 1.09s\n",
      "29:\ttest: 0.8523179\tbest: 0.8679727 (1)\ttotal: 33.6ms\tremaining: 1.08s\n",
      "30:\ttest: 0.8549126\tbest: 0.8679727 (1)\ttotal: 34.7ms\tremaining: 1.08s\n",
      "31:\ttest: 0.8550856\tbest: 0.8679727 (1)\ttotal: 35.8ms\tremaining: 1.08s\n",
      "Stopped by overfitting detector  (30 iterations wait)\n",
      "\n",
      "bestTest = 0.8679726691\n",
      "bestIteration = 1\n",
      "\n",
      "Shrink model to first 2 iterations.\n",
      "0:\ttest: 0.8544369\tbest: 0.8544369 (0)\ttotal: 1.52ms\tremaining: 1.52s\n",
      "1:\ttest: 0.8679727\tbest: 0.8679727 (1)\ttotal: 2.97ms\tremaining: 1.48s\n",
      "2:\ttest: 0.8575938\tbest: 0.8679727 (1)\ttotal: 3.73ms\tremaining: 1.24s\n",
      "3:\ttest: 0.8589344\tbest: 0.8679727 (1)\ttotal: 5.06ms\tremaining: 1.26s\n",
      "4:\ttest: 0.8656807\tbest: 0.8679727 (1)\ttotal: 5.74ms\tremaining: 1.14s\n",
      "5:\ttest: 0.8577668\tbest: 0.8679727 (1)\ttotal: 7.05ms\tremaining: 1.17s\n",
      "6:\ttest: 0.8610102\tbest: 0.8679727 (1)\ttotal: 8.96ms\tremaining: 1.27s\n",
      "7:\ttest: 0.8593669\tbest: 0.8679727 (1)\ttotal: 9.88ms\tremaining: 1.22s\n",
      "8:\ttest: 0.8557343\tbest: 0.8679727 (1)\ttotal: 11.3ms\tremaining: 1.25s\n",
      "9:\ttest: 0.8556911\tbest: 0.8679727 (1)\ttotal: 12.2ms\tremaining: 1.2s\n",
      "10:\ttest: 0.8537883\tbest: 0.8679727 (1)\ttotal: 12.9ms\tremaining: 1.16s\n",
      "11:\ttest: 0.8560803\tbest: 0.8679727 (1)\ttotal: 13.8ms\tremaining: 1.14s\n",
      "12:\ttest: 0.8551289\tbest: 0.8679727 (1)\ttotal: 14.7ms\tremaining: 1.11s\n",
      "13:\ttest: 0.8561235\tbest: 0.8679727 (1)\ttotal: 16ms\tremaining: 1.13s\n",
      "14:\ttest: 0.8551721\tbest: 0.8679727 (1)\ttotal: 17.2ms\tremaining: 1.13s\n",
      "15:\ttest: 0.8605345\tbest: 0.8679727 (1)\ttotal: 18.5ms\tremaining: 1.14s\n",
      "16:\ttest: 0.8609670\tbest: 0.8679727 (1)\ttotal: 18.9ms\tremaining: 1.09s\n",
      "17:\ttest: 0.8562965\tbest: 0.8679727 (1)\ttotal: 20.4ms\tremaining: 1.11s\n",
      "18:\ttest: 0.8540477\tbest: 0.8679727 (1)\ttotal: 21.8ms\tremaining: 1.13s\n",
      "19:\ttest: 0.8556478\tbest: 0.8679727 (1)\ttotal: 23.7ms\tremaining: 1.16s\n",
      "20:\ttest: 0.8556478\tbest: 0.8679727 (1)\ttotal: 24.4ms\tremaining: 1.14s\n",
      "21:\ttest: 0.8539180\tbest: 0.8679727 (1)\ttotal: 25.7ms\tremaining: 1.14s\n",
      "22:\ttest: 0.8541342\tbest: 0.8679727 (1)\ttotal: 26.5ms\tremaining: 1.12s\n",
      "23:\ttest: 0.8535720\tbest: 0.8679727 (1)\ttotal: 27.6ms\tremaining: 1.12s\n",
      "24:\ttest: 0.8539180\tbest: 0.8679727 (1)\ttotal: 29ms\tremaining: 1.13s\n",
      "25:\ttest: 0.8544802\tbest: 0.8679727 (1)\ttotal: 30ms\tremaining: 1.12s\n",
      "26:\ttest: 0.8524044\tbest: 0.8679727 (1)\ttotal: 31ms\tremaining: 1.11s\n",
      "27:\ttest: 0.8527504\tbest: 0.8679727 (1)\ttotal: 31.5ms\tremaining: 1.09s\n",
      "28:\ttest: 0.8537018\tbest: 0.8679727 (1)\ttotal: 32.5ms\tremaining: 1.09s\n",
      "29:\ttest: 0.8523179\tbest: 0.8679727 (1)\ttotal: 33.5ms\tremaining: 1.08s\n",
      "30:\ttest: 0.8549126\tbest: 0.8679727 (1)\ttotal: 34.6ms\tremaining: 1.08s\n",
      "31:\ttest: 0.8550856\tbest: 0.8679727 (1)\ttotal: 35.5ms\tremaining: 1.07s\n",
      "Stopped by overfitting detector  (30 iterations wait)\n",
      "\n",
      "bestTest = 0.8679726691\n",
      "bestIteration = 1\n",
      "\n",
      "Shrink model to first 2 iterations.\n",
      "0:\ttest: 0.8544369\tbest: 0.8544369 (0)\ttotal: 1.5ms\tremaining: 1.5s\n",
      "1:\ttest: 0.8679727\tbest: 0.8679727 (1)\ttotal: 2.83ms\tremaining: 1.41s\n",
      "2:\ttest: 0.8575938\tbest: 0.8679727 (1)\ttotal: 3.42ms\tremaining: 1.14s\n",
      "3:\ttest: 0.8589344\tbest: 0.8679727 (1)\ttotal: 4.64ms\tremaining: 1.16s\n",
      "4:\ttest: 0.8656807\tbest: 0.8679727 (1)\ttotal: 5.37ms\tremaining: 1.07s\n",
      "5:\ttest: 0.8577668\tbest: 0.8679727 (1)\ttotal: 6.54ms\tremaining: 1.08s\n",
      "6:\ttest: 0.8610102\tbest: 0.8679727 (1)\ttotal: 7.64ms\tremaining: 1.08s\n",
      "7:\ttest: 0.8593669\tbest: 0.8679727 (1)\ttotal: 8.38ms\tremaining: 1.04s\n",
      "8:\ttest: 0.8557343\tbest: 0.8679727 (1)\ttotal: 9.59ms\tremaining: 1.06s\n",
      "9:\ttest: 0.8556911\tbest: 0.8679727 (1)\ttotal: 10.3ms\tremaining: 1.02s\n",
      "10:\ttest: 0.8537883\tbest: 0.8679727 (1)\ttotal: 10.9ms\tremaining: 984ms\n",
      "11:\ttest: 0.8560803\tbest: 0.8679727 (1)\ttotal: 11.8ms\tremaining: 975ms\n",
      "12:\ttest: 0.8551289\tbest: 0.8679727 (1)\ttotal: 12.8ms\tremaining: 968ms\n",
      "13:\ttest: 0.8561235\tbest: 0.8679727 (1)\ttotal: 14.1ms\tremaining: 990ms\n",
      "14:\ttest: 0.8551721\tbest: 0.8679727 (1)\ttotal: 15.4ms\tremaining: 1.01s\n",
      "15:\ttest: 0.8605345\tbest: 0.8679727 (1)\ttotal: 16.8ms\tremaining: 1.03s\n",
      "16:\ttest: 0.8609670\tbest: 0.8679727 (1)\ttotal: 17.3ms\tremaining: 999ms\n",
      "17:\ttest: 0.8562965\tbest: 0.8679727 (1)\ttotal: 18.5ms\tremaining: 1.01s\n",
      "18:\ttest: 0.8540477\tbest: 0.8679727 (1)\ttotal: 19.7ms\tremaining: 1.02s\n",
      "19:\ttest: 0.8556478\tbest: 0.8679727 (1)\ttotal: 20.9ms\tremaining: 1.02s\n",
      "20:\ttest: 0.8556478\tbest: 0.8679727 (1)\ttotal: 21.4ms\tremaining: 998ms\n",
      "21:\ttest: 0.8539180\tbest: 0.8679727 (1)\ttotal: 22.4ms\tremaining: 996ms\n",
      "22:\ttest: 0.8541342\tbest: 0.8679727 (1)\ttotal: 23.4ms\tremaining: 994ms\n",
      "23:\ttest: 0.8535720\tbest: 0.8679727 (1)\ttotal: 24.7ms\tremaining: 1s\n",
      "24:\ttest: 0.8539180\tbest: 0.8679727 (1)\ttotal: 25.9ms\tremaining: 1.01s\n",
      "25:\ttest: 0.8544802\tbest: 0.8679727 (1)\ttotal: 27.2ms\tremaining: 1.02s\n",
      "26:\ttest: 0.8524044\tbest: 0.8679727 (1)\ttotal: 28.6ms\tremaining: 1.03s\n",
      "27:\ttest: 0.8527504\tbest: 0.8679727 (1)\ttotal: 29.3ms\tremaining: 1.02s\n",
      "28:\ttest: 0.8537018\tbest: 0.8679727 (1)\ttotal: 30.5ms\tremaining: 1.02s\n",
      "29:\ttest: 0.8523179\tbest: 0.8679727 (1)\ttotal: 31.9ms\tremaining: 1.03s\n",
      "30:\ttest: 0.8549126\tbest: 0.8679727 (1)\ttotal: 33.1ms\tremaining: 1.03s\n",
      "31:\ttest: 0.8550856\tbest: 0.8679727 (1)\ttotal: 34.2ms\tremaining: 1.03s\n",
      "Stopped by overfitting detector  (30 iterations wait)\n",
      "\n",
      "bestTest = 0.8679726691\n",
      "bestIteration = 1\n",
      "\n",
      "Shrink model to first 2 iterations.\n",
      "0:\ttest: 0.8544369\tbest: 0.8544369 (0)\ttotal: 1.3ms\tremaining: 1.3s\n",
      "1:\ttest: 0.8679727\tbest: 0.8679727 (1)\ttotal: 3.65ms\tremaining: 1.82s\n",
      "2:\ttest: 0.8575938\tbest: 0.8679727 (1)\ttotal: 12.2ms\tremaining: 4.06s\n",
      "3:\ttest: 0.8589344\tbest: 0.8679727 (1)\ttotal: 22.9ms\tremaining: 5.71s\n",
      "4:\ttest: 0.8656807\tbest: 0.8679727 (1)\ttotal: 28.5ms\tremaining: 5.68s\n",
      "5:\ttest: 0.8577668\tbest: 0.8679727 (1)\ttotal: 42.3ms\tremaining: 7.01s\n",
      "6:\ttest: 0.8610102\tbest: 0.8679727 (1)\ttotal: 45.6ms\tremaining: 6.47s\n",
      "7:\ttest: 0.8593669\tbest: 0.8679727 (1)\ttotal: 47.3ms\tremaining: 5.86s\n",
      "8:\ttest: 0.8557343\tbest: 0.8679727 (1)\ttotal: 49.7ms\tremaining: 5.47s\n",
      "9:\ttest: 0.8556911\tbest: 0.8679727 (1)\ttotal: 50.6ms\tremaining: 5s\n",
      "10:\ttest: 0.8537883\tbest: 0.8679727 (1)\ttotal: 51.5ms\tremaining: 4.63s\n",
      "11:\ttest: 0.8560803\tbest: 0.8679727 (1)\ttotal: 52.5ms\tremaining: 4.32s\n",
      "12:\ttest: 0.8551289\tbest: 0.8679727 (1)\ttotal: 53.8ms\tremaining: 4.08s\n",
      "13:\ttest: 0.8561235\tbest: 0.8679727 (1)\ttotal: 56.8ms\tremaining: 4s\n",
      "14:\ttest: 0.8551721\tbest: 0.8679727 (1)\ttotal: 59.3ms\tremaining: 3.89s\n",
      "15:\ttest: 0.8605345\tbest: 0.8679727 (1)\ttotal: 60.8ms\tremaining: 3.74s\n",
      "16:\ttest: 0.8609670\tbest: 0.8679727 (1)\ttotal: 61.4ms\tremaining: 3.55s\n",
      "17:\ttest: 0.8562965\tbest: 0.8679727 (1)\ttotal: 62.6ms\tremaining: 3.42s\n",
      "18:\ttest: 0.8540477\tbest: 0.8679727 (1)\ttotal: 64.5ms\tremaining: 3.33s\n",
      "19:\ttest: 0.8556478\tbest: 0.8679727 (1)\ttotal: 66.8ms\tremaining: 3.27s\n",
      "20:\ttest: 0.8556478\tbest: 0.8679727 (1)\ttotal: 67.4ms\tremaining: 3.14s\n",
      "21:\ttest: 0.8539180\tbest: 0.8679727 (1)\ttotal: 68.6ms\tremaining: 3.05s\n",
      "22:\ttest: 0.8541342\tbest: 0.8679727 (1)\ttotal: 70.3ms\tremaining: 2.98s\n",
      "23:\ttest: 0.8535720\tbest: 0.8679727 (1)\ttotal: 72.4ms\tremaining: 2.94s\n",
      "24:\ttest: 0.8539180\tbest: 0.8679727 (1)\ttotal: 73.7ms\tremaining: 2.87s\n",
      "25:\ttest: 0.8544802\tbest: 0.8679727 (1)\ttotal: 75ms\tremaining: 2.81s\n",
      "26:\ttest: 0.8524044\tbest: 0.8679727 (1)\ttotal: 76.6ms\tremaining: 2.76s\n",
      "27:\ttest: 0.8527504\tbest: 0.8679727 (1)\ttotal: 77.2ms\tremaining: 2.68s\n",
      "28:\ttest: 0.8537018\tbest: 0.8679727 (1)\ttotal: 79.2ms\tremaining: 2.65s\n",
      "29:\ttest: 0.8523179\tbest: 0.8679727 (1)\ttotal: 81.3ms\tremaining: 2.63s\n",
      "30:\ttest: 0.8549126\tbest: 0.8679727 (1)\ttotal: 82.6ms\tremaining: 2.58s\n",
      "31:\ttest: 0.8550856\tbest: 0.8679727 (1)\ttotal: 83.9ms\tremaining: 2.54s\n",
      "Stopped by overfitting detector  (30 iterations wait)\n",
      "\n",
      "bestTest = 0.8679726691\n",
      "bestIteration = 1\n",
      "\n",
      "Shrink model to first 2 iterations.\n",
      "0:\ttest: 0.8544369\tbest: 0.8544369 (0)\ttotal: 1.24ms\tremaining: 1.24s\n",
      "1:\ttest: 0.8679727\tbest: 0.8679727 (1)\ttotal: 2.54ms\tremaining: 1.27s\n",
      "2:\ttest: 0.8575938\tbest: 0.8679727 (1)\ttotal: 3.28ms\tremaining: 1.09s\n",
      "3:\ttest: 0.8589344\tbest: 0.8679727 (1)\ttotal: 4.46ms\tremaining: 1.11s\n",
      "4:\ttest: 0.8656807\tbest: 0.8679727 (1)\ttotal: 5.09ms\tremaining: 1.01s\n",
      "5:\ttest: 0.8577668\tbest: 0.8679727 (1)\ttotal: 6.25ms\tremaining: 1.04s\n",
      "6:\ttest: 0.8610102\tbest: 0.8679727 (1)\ttotal: 8.97ms\tremaining: 1.27s\n",
      "7:\ttest: 0.8593669\tbest: 0.8679727 (1)\ttotal: 9.88ms\tremaining: 1.23s\n",
      "8:\ttest: 0.8557343\tbest: 0.8679727 (1)\ttotal: 10.9ms\tremaining: 1.2s\n",
      "9:\ttest: 0.8556911\tbest: 0.8679727 (1)\ttotal: 11.7ms\tremaining: 1.16s\n",
      "10:\ttest: 0.8537883\tbest: 0.8679727 (1)\ttotal: 12.4ms\tremaining: 1.11s\n",
      "11:\ttest: 0.8560803\tbest: 0.8679727 (1)\ttotal: 13.1ms\tremaining: 1.08s\n",
      "12:\ttest: 0.8551289\tbest: 0.8679727 (1)\ttotal: 13.8ms\tremaining: 1.05s\n",
      "13:\ttest: 0.8561235\tbest: 0.8679727 (1)\ttotal: 14.8ms\tremaining: 1.04s\n",
      "14:\ttest: 0.8551721\tbest: 0.8679727 (1)\ttotal: 16.1ms\tremaining: 1.05s\n",
      "15:\ttest: 0.8605345\tbest: 0.8679727 (1)\ttotal: 17.4ms\tremaining: 1.07s\n",
      "16:\ttest: 0.8609670\tbest: 0.8679727 (1)\ttotal: 17.8ms\tremaining: 1.03s\n",
      "17:\ttest: 0.8562965\tbest: 0.8679727 (1)\ttotal: 19ms\tremaining: 1.04s\n",
      "18:\ttest: 0.8540477\tbest: 0.8679727 (1)\ttotal: 20.2ms\tremaining: 1.04s\n",
      "19:\ttest: 0.8556478\tbest: 0.8679727 (1)\ttotal: 21.4ms\tremaining: 1.05s\n",
      "20:\ttest: 0.8556478\tbest: 0.8679727 (1)\ttotal: 22.1ms\tremaining: 1.03s\n",
      "21:\ttest: 0.8539180\tbest: 0.8679727 (1)\ttotal: 23.1ms\tremaining: 1.03s\n",
      "22:\ttest: 0.8541342\tbest: 0.8679727 (1)\ttotal: 23.9ms\tremaining: 1.01s\n",
      "23:\ttest: 0.8535720\tbest: 0.8679727 (1)\ttotal: 25.1ms\tremaining: 1.02s\n",
      "24:\ttest: 0.8539180\tbest: 0.8679727 (1)\ttotal: 26.6ms\tremaining: 1.04s\n",
      "25:\ttest: 0.8544802\tbest: 0.8679727 (1)\ttotal: 28.1ms\tremaining: 1.05s\n",
      "26:\ttest: 0.8524044\tbest: 0.8679727 (1)\ttotal: 29.4ms\tremaining: 1.06s\n",
      "27:\ttest: 0.8527504\tbest: 0.8679727 (1)\ttotal: 30ms\tremaining: 1.04s\n",
      "28:\ttest: 0.8537018\tbest: 0.8679727 (1)\ttotal: 31.3ms\tremaining: 1.05s\n",
      "29:\ttest: 0.8523179\tbest: 0.8679727 (1)\ttotal: 32.6ms\tremaining: 1.05s\n",
      "30:\ttest: 0.8549126\tbest: 0.8679727 (1)\ttotal: 33.8ms\tremaining: 1.05s\n",
      "31:\ttest: 0.8550856\tbest: 0.8679727 (1)\ttotal: 35ms\tremaining: 1.06s\n",
      "Stopped by overfitting detector  (30 iterations wait)\n",
      "\n",
      "bestTest = 0.8679726691\n",
      "bestIteration = 1\n",
      "\n",
      "Shrink model to first 2 iterations.\n"
     ]
    },
    {
     "data": {
      "text/plain": [
       "0.8348109078666817"
      ]
     },
     "execution_count": 354,
     "metadata": {},
     "output_type": "execute_result"
    }
   ],
   "source": [
    "c_get_kfold_accuracy(X_train, y_train.reset_index(drop=True), parameters, num_iter=20)"
   ]
  },
  {
   "cell_type": "code",
   "execution_count": 355,
   "metadata": {},
   "outputs": [],
   "source": [
    "clf = ctb.CatBoostClassifier(**parameters)"
   ]
  },
  {
   "cell_type": "code",
   "execution_count": 348,
   "metadata": {},
   "outputs": [
    {
     "name": "stdout",
     "output_type": "stream",
     "text": [
      "0:\ttest: 0.7830825\tbest: 0.7830825 (0)\ttotal: 2.48ms\tremaining: 2.48s\n",
      "1:\ttest: 0.8319495\tbest: 0.8319495 (1)\ttotal: 4.95ms\tremaining: 2.47s\n",
      "2:\ttest: 0.8375281\tbest: 0.8375281 (2)\ttotal: 7.86ms\tremaining: 2.61s\n",
      "3:\ttest: 0.8505881\tbest: 0.8505881 (3)\ttotal: 10.7ms\tremaining: 2.67s\n",
      "4:\ttest: 0.8527504\tbest: 0.8527504 (4)\ttotal: 13.6ms\tremaining: 2.72s\n",
      "5:\ttest: 0.8475610\tbest: 0.8527504 (4)\ttotal: 15.2ms\tremaining: 2.52s\n",
      "6:\ttest: 0.8476475\tbest: 0.8527504 (4)\ttotal: 16.6ms\tremaining: 2.35s\n",
      "7:\ttest: 0.8483826\tbest: 0.8527504 (4)\ttotal: 19.4ms\tremaining: 2.4s\n",
      "8:\ttest: 0.8479502\tbest: 0.8527504 (4)\ttotal: 20.9ms\tremaining: 2.31s\n",
      "9:\ttest: 0.8485556\tbest: 0.8527504 (4)\ttotal: 22.2ms\tremaining: 2.2s\n",
      "10:\ttest: 0.8485556\tbest: 0.8527504 (4)\ttotal: 24.1ms\tremaining: 2.16s\n",
      "11:\ttest: 0.8483826\tbest: 0.8527504 (4)\ttotal: 25.2ms\tremaining: 2.07s\n",
      "12:\ttest: 0.8495935\tbest: 0.8527504 (4)\ttotal: 26.3ms\tremaining: 2s\n",
      "13:\ttest: 0.8495070\tbest: 0.8527504 (4)\ttotal: 28.1ms\tremaining: 1.98s\n",
      "14:\ttest: 0.8500692\tbest: 0.8527504 (4)\ttotal: 31.1ms\tremaining: 2.04s\n",
      "15:\ttest: 0.8500692\tbest: 0.8527504 (4)\ttotal: 32.4ms\tremaining: 1.99s\n",
      "16:\ttest: 0.8535288\tbest: 0.8535288 (16)\ttotal: 34.3ms\tremaining: 1.98s\n",
      "17:\ttest: 0.8533558\tbest: 0.8535288 (16)\ttotal: 35.5ms\tremaining: 1.94s\n",
      "18:\ttest: 0.8571181\tbest: 0.8571181 (18)\ttotal: 38.1ms\tremaining: 1.97s\n",
      "19:\ttest: 0.8563397\tbest: 0.8571181 (18)\ttotal: 40.3ms\tremaining: 1.98s\n",
      "20:\ttest: 0.8582425\tbest: 0.8582425 (20)\ttotal: 43.6ms\tremaining: 2.03s\n",
      "21:\ttest: 0.8553019\tbest: 0.8582425 (20)\ttotal: 46ms\tremaining: 2.05s\n",
      "22:\ttest: 0.8585020\tbest: 0.8585020 (22)\ttotal: 48.4ms\tremaining: 2.06s\n",
      "23:\ttest: 0.8585020\tbest: 0.8585020 (22)\ttotal: 50.2ms\tremaining: 2.04s\n",
      "24:\ttest: 0.8590209\tbest: 0.8590209 (24)\ttotal: 52.3ms\tremaining: 2.04s\n",
      "25:\ttest: 0.8597129\tbest: 0.8597129 (25)\ttotal: 54ms\tremaining: 2.02s\n",
      "26:\ttest: 0.8592804\tbest: 0.8597129 (25)\ttotal: 56ms\tremaining: 2.02s\n",
      "27:\ttest: 0.8585452\tbest: 0.8597129 (25)\ttotal: 60.5ms\tremaining: 2.1s\n",
      "28:\ttest: 0.8579398\tbest: 0.8597129 (25)\ttotal: 63.1ms\tremaining: 2.11s\n",
      "29:\ttest: 0.8582858\tbest: 0.8597129 (25)\ttotal: 65.8ms\tremaining: 2.13s\n",
      "30:\ttest: 0.8593669\tbest: 0.8597129 (25)\ttotal: 68.2ms\tremaining: 2.13s\n",
      "31:\ttest: 0.8545234\tbest: 0.8597129 (25)\ttotal: 70.3ms\tremaining: 2.13s\n",
      "32:\ttest: 0.8540045\tbest: 0.8597129 (25)\ttotal: 72.9ms\tremaining: 2.14s\n",
      "33:\ttest: 0.8537450\tbest: 0.8597129 (25)\ttotal: 75.3ms\tremaining: 2.14s\n",
      "34:\ttest: 0.8488583\tbest: 0.8597129 (25)\ttotal: 86ms\tremaining: 2.37s\n",
      "35:\ttest: 0.8506746\tbest: 0.8597129 (25)\ttotal: 88.6ms\tremaining: 2.37s\n",
      "36:\ttest: 0.8565560\tbest: 0.8597129 (25)\ttotal: 91.1ms\tremaining: 2.37s\n",
      "37:\ttest: 0.8557343\tbest: 0.8597129 (25)\ttotal: 93.3ms\tremaining: 2.36s\n",
      "38:\ttest: 0.8569452\tbest: 0.8597129 (25)\ttotal: 95.7ms\tremaining: 2.36s\n",
      "39:\ttest: 0.8571181\tbest: 0.8597129 (25)\ttotal: 98.6ms\tremaining: 2.37s\n",
      "40:\ttest: 0.8571181\tbest: 0.8597129 (25)\ttotal: 100ms\tremaining: 2.35s\n",
      "41:\ttest: 0.8577236\tbest: 0.8597129 (25)\ttotal: 102ms\tremaining: 2.32s\n",
      "42:\ttest: 0.8537450\tbest: 0.8597129 (25)\ttotal: 108ms\tremaining: 2.41s\n",
      "43:\ttest: 0.8520152\tbest: 0.8597129 (25)\ttotal: 112ms\tremaining: 2.42s\n",
      "44:\ttest: 0.8518422\tbest: 0.8597129 (25)\ttotal: 115ms\tremaining: 2.43s\n",
      "45:\ttest: 0.8523179\tbest: 0.8597129 (25)\ttotal: 131ms\tremaining: 2.72s\n",
      "46:\ttest: 0.8477340\tbest: 0.8597129 (25)\ttotal: 143ms\tremaining: 2.9s\n",
      "47:\ttest: 0.8478204\tbest: 0.8597129 (25)\ttotal: 156ms\tremaining: 3.09s\n",
      "48:\ttest: 0.8489448\tbest: 0.8597129 (25)\ttotal: 163ms\tremaining: 3.16s\n",
      "49:\ttest: 0.8485989\tbest: 0.8597129 (25)\ttotal: 168ms\tremaining: 3.19s\n",
      "50:\ttest: 0.8484259\tbest: 0.8597129 (25)\ttotal: 176ms\tremaining: 3.27s\n",
      "51:\ttest: 0.8466096\tbest: 0.8597129 (25)\ttotal: 180ms\tremaining: 3.28s\n",
      "52:\ttest: 0.8461771\tbest: 0.8597129 (25)\ttotal: 184ms\tremaining: 3.28s\n",
      "53:\ttest: 0.8441014\tbest: 0.8597129 (25)\ttotal: 193ms\tremaining: 3.38s\n",
      "54:\ttest: 0.8453987\tbest: 0.8597129 (25)\ttotal: 197ms\tremaining: 3.39s\n",
      "55:\ttest: 0.8440149\tbest: 0.8597129 (25)\ttotal: 202ms\tremaining: 3.4s\n",
      "Stopped by overfitting detector  (30 iterations wait)\n",
      "\n",
      "bestTest = 0.8597128524\n",
      "bestIteration = 25\n",
      "\n",
      "Shrink model to first 26 iterations.\n"
     ]
    },
    {
     "data": {
      "text/plain": [
       "<catboost.core.CatBoostClassifier at 0x7fa59d8c45e0>"
      ]
     },
     "execution_count": 348,
     "metadata": {},
     "output_type": "execute_result"
    }
   ],
   "source": [
    "clf.fit(X_train, y_train, \n",
    "        cat_features=categorical_features_indices, \n",
    "        eval_set=(X_validation, y_validation),\n",
    "        verbose=True\n",
    ")"
   ]
  },
  {
   "cell_type": "code",
   "execution_count": 328,
   "metadata": {},
   "outputs": [
    {
     "name": "stdout",
     "output_type": "stream",
     "text": [
      "25\n"
     ]
    }
   ],
   "source": [
    "print(clf.get_best_iteration())"
   ]
  },
  {
   "cell_type": "code",
   "execution_count": 329,
   "metadata": {},
   "outputs": [
    {
     "data": {
      "text/plain": [
       "{'nan_mode': 'Min',\n",
       " 'eval_metric': 'AUC',\n",
       " 'combinations_ctr': ['Borders:CtrBorderCount=15:CtrBorderType=Uniform:TargetBorderCount=1:TargetBorderType=MinEntropy:Prior=0/1:Prior=0.5/1:Prior=1/1',\n",
       "  'Counter:CtrBorderCount=15:CtrBorderType=Uniform:Prior=0/1'],\n",
       " 'iterations': 1000,\n",
       " 'sampling_frequency': 'PerTree',\n",
       " 'fold_permutation_block': 0,\n",
       " 'leaf_estimation_method': 'Newton',\n",
       " 'od_pval': 0,\n",
       " 'counter_calc_method': 'SkipTest',\n",
       " 'grow_policy': 'SymmetricTree',\n",
       " 'penalties_coefficient': 1,\n",
       " 'boosting_type': 'Plain',\n",
       " 'model_shrink_mode': 'Constant',\n",
       " 'feature_border_type': 'GreedyLogSum',\n",
       " 'ctr_leaf_count_limit': 18446744073709551615,\n",
       " 'bayesian_matrix_reg': 0.10000000149011612,\n",
       " 'one_hot_max_size': 2,\n",
       " 'force_unit_auto_pair_weights': False,\n",
       " 'l2_leaf_reg': 4,\n",
       " 'random_strength': 1,\n",
       " 'od_type': 'Iter',\n",
       " 'rsm': 1,\n",
       " 'boost_from_average': False,\n",
       " 'max_ctr_complexity': 4,\n",
       " 'model_size_reg': 0.5,\n",
       " 'simple_ctr': ['Borders:CtrBorderCount=15:CtrBorderType=Uniform:TargetBorderCount=1:TargetBorderType=MinEntropy:Prior=0/1:Prior=0.5/1:Prior=1/1',\n",
       "  'Counter:CtrBorderCount=15:CtrBorderType=Uniform:Prior=0/1'],\n",
       " 'pool_metainfo_options': {'tags': {}},\n",
       " 'subsample': 0.800000011920929,\n",
       " 'use_best_model': True,\n",
       " 'od_wait': 30,\n",
       " 'class_names': [0, 1],\n",
       " 'random_seed': 42,\n",
       " 'depth': 8,\n",
       " 'ctr_target_border_count': 1,\n",
       " 'posterior_sampling': False,\n",
       " 'has_time': False,\n",
       " 'store_all_simple_ctr': False,\n",
       " 'border_count': 254,\n",
       " 'classes_count': 0,\n",
       " 'auto_class_weights': 'None',\n",
       " 'sparse_features_conflict_fraction': 0,\n",
       " 'leaf_estimation_backtracking': 'AnyImprovement',\n",
       " 'best_model_min_trees': 1,\n",
       " 'model_shrink_rate': 0,\n",
       " 'min_data_in_leaf': 1,\n",
       " 'loss_function': 'Logloss',\n",
       " 'learning_rate': 0.30000001192092896,\n",
       " 'score_function': 'Cosine',\n",
       " 'task_type': 'CPU',\n",
       " 'leaf_estimation_iterations': 10,\n",
       " 'bootstrap_type': 'MVS',\n",
       " 'max_leaves': 256,\n",
       " 'permutation_count': 4}"
      ]
     },
     "execution_count": 329,
     "metadata": {},
     "output_type": "execute_result"
    }
   ],
   "source": [
    "clf.get_all_params()"
   ]
  },
  {
   "cell_type": "code",
   "execution_count": 330,
   "metadata": {},
   "outputs": [
    {
     "data": {
      "text/plain": [
       "25"
      ]
     },
     "execution_count": 330,
     "metadata": {},
     "output_type": "execute_result"
    }
   ],
   "source": [
    "clf.get_best_iteration()"
   ]
  },
  {
   "cell_type": "code",
   "execution_count": 319,
   "metadata": {},
   "outputs": [],
   "source": [
    "y_pred = clf.predict(test_transformed_categorical, ntree_end=clf.get_best_iteration())\n",
    "submission = pd.DataFrame({\n",
    "        \"PassengerId\": PassengerId,\n",
    "        \"Survived\": y_pred\n",
    "    })\n",
    "submission.to_csv('submission_catboost.csv', index=False)"
   ]
  },
  {
   "cell_type": "code",
   "execution_count": 301,
   "metadata": {},
   "outputs": [
    {
     "data": {
      "text/plain": [
       "array([0, 1, 0, 0, 1, 0, 1, 0, 1, 0, 0, 0, 1, 0, 1, 1, 0, 0, 1, 1, 0, 0,\n",
       "       1, 0, 1, 0, 1, 0, 0, 0, 0, 0, 1, 1, 0, 0, 1, 1, 0, 0, 0, 0, 0, 1,\n",
       "       1, 0, 0, 0, 1, 1, 0, 0, 1, 1, 0, 0, 0, 0, 0, 1, 0, 0, 0, 1, 0, 1,\n",
       "       1, 0, 0, 1, 1, 0, 1, 0, 1, 0, 0, 1, 0, 1, 0, 0, 0, 0, 0, 0, 1, 1,\n",
       "       1, 1, 1, 0, 1, 0, 0, 0, 1, 0, 1, 0, 1, 0, 0, 0, 1, 0, 0, 0, 0, 0,\n",
       "       0, 1, 1, 1, 1, 0, 0, 1, 0, 1, 1, 0, 1, 0, 0, 1, 0, 1, 0, 0, 0, 0,\n",
       "       0, 0, 0, 0, 0, 0, 1, 0, 0, 1, 0, 0, 0, 0, 0, 0, 0, 0, 1, 0, 0, 1,\n",
       "       0, 0, 1, 1, 0, 1, 1, 0, 1, 0, 0, 1, 0, 0, 1, 1, 0, 0, 0, 0, 0, 1,\n",
       "       1, 0, 1, 1, 0, 0, 1, 0, 1, 0, 1, 0, 0, 0, 0, 0, 0, 0, 1, 0, 1, 1,\n",
       "       0, 1, 1, 0, 0, 1, 0, 0, 1, 0, 1, 0, 0, 0, 0, 1, 0, 0, 1, 0, 1, 0,\n",
       "       1, 0, 1, 0, 1, 1, 0, 1, 0, 0, 0, 1, 0, 0, 0, 0, 0, 0, 1, 1, 1, 1,\n",
       "       0, 0, 0, 0, 1, 0, 1, 1, 1, 0, 0, 0, 0, 0, 0, 0, 1, 0, 0, 0, 1, 1,\n",
       "       0, 0, 0, 0, 1, 0, 0, 0, 1, 1, 0, 1, 0, 0, 0, 0, 1, 0, 1, 1, 1, 0,\n",
       "       0, 0, 0, 0, 0, 1, 0, 0, 0, 0, 1, 0, 0, 0, 0, 0, 0, 0, 1, 1, 0, 0,\n",
       "       0, 1, 0, 0, 0, 1, 1, 1, 0, 0, 0, 0, 0, 0, 0, 0, 1, 0, 1, 0, 0, 0,\n",
       "       1, 0, 0, 1, 0, 0, 0, 0, 0, 0, 0, 0, 0, 1, 0, 1, 0, 1, 0, 1, 1, 0,\n",
       "       0, 0, 1, 0, 1, 0, 0, 1, 0, 1, 1, 0, 1, 0, 0, 1, 1, 0, 0, 1, 0, 0,\n",
       "       1, 1, 1, 0, 0, 0, 0, 0, 1, 1, 0, 1, 0, 0, 0, 0, 0, 1, 0, 0, 0, 1,\n",
       "       0, 1, 0, 0, 1, 0, 1, 0, 0, 0, 0, 0, 1, 1, 1, 1, 1, 0, 1, 0, 0, 0])"
      ]
     },
     "execution_count": 301,
     "metadata": {},
     "output_type": "execute_result"
    }
   ],
   "source": [
    "y_pred\n"
   ]
  },
  {
   "cell_type": "markdown",
   "metadata": {},
   "source": [
    "# Summary\n",
    "\n",
    "\n",
    "- Boosting algorithms are the best for heterogeneous data.\n",
    "- Lightgbm is the fastest and usually the most accurate;\n",
    "- CatBoost doesn't need a lot of tuning;\n",
    "- CatBoost shows the best result on data with many categorical variables;\n",
    "- Always try three methods and ensemble them;\n",
    "- Remember about regularization and comparing your training score with validation;\n",
    "- Use LightGBM for experiments and in the end execute other algorithms;\n",
    "- Firstly, set default parameters, do feature engineering and then come back to parameters tuning;\n",
    "- More practice will give you more understanding and intuition;\n",
    "- Use magic of boosting in real life :)\n",
    "\n"
   ]
  },
  {
   "cell_type": "markdown",
   "metadata": {},
   "source": [
    "# Sources:\n",
    "\n",
    "- Открытый курс машинного обучения. Тема 10. Градиентный бустинг. Часть 1 : https://habrahabr.ru/company/ods/blog/327250/\n",
    "- Introduction to Boosted Trees: http://xgboost.readthedocs.io/en/latest/model.html\n",
    "- XGBoost, a Top Machine Learning Method on Kaggle, Explained : https://www.kdnuggets.com/2017/10/xgboost-top-machine-learning-method-kaggle-explained.html\n",
    "- LightGBM: A Highly Efficient Gradient Boosting Decision Tree: https://papers.nips.cc/paper/6907-lightgbm-a-highly-efficient-gradient-boosting-decision-tree.pdf\n",
    "- CatBoost: A machine learning library to handle categorical (CAT) data automatically: https://www.analyticsvidhya.com/blog/2017/08/catboost-automated-categorical-data/\n",
    "- CatBoost: https://catboost.ai/docs/\n",
    "- CatBoost tutorials: https://github.com/catboost/tutorials"
   ]
  }
 ],
 "metadata": {
  "kernelspec": {
   "display_name": "ml-course",
   "language": "python",
   "name": "ml-course"
  },
  "language_info": {
   "codemirror_mode": {
    "name": "ipython",
    "version": 3
   },
   "file_extension": ".py",
   "mimetype": "text/x-python",
   "name": "python",
   "nbconvert_exporter": "python",
   "pygments_lexer": "ipython3",
   "version": "3.8.10"
  },
  "pycharm": {
   "stem_cell": {
    "cell_type": "raw",
    "metadata": {
     "collapsed": false
    },
    "source": []
   }
  }
 },
 "nbformat": 4,
 "nbformat_minor": 2
}
