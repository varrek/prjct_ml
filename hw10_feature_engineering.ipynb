{
 "cells": [
  {
   "cell_type": "markdown",
   "metadata": {},
   "source": [
    "# Boosting (XGBoost, LightGBM, CatBoost)"
   ]
  },
  {
   "cell_type": "code",
   "execution_count": 378,
   "metadata": {},
   "outputs": [],
   "source": [
    "import pandas as pd\n",
    "import numpy as np\n",
    "from sklearn.model_selection import StratifiedKFold\n",
    "from sklearn.compose import make_column_transformer\n",
    "from sklearn.preprocessing import OneHotEncoder, StandardScaler, LabelEncoder\n",
    "from sklearn.metrics import accuracy_score\n",
    "import matplotlib.pyplot as plt \n",
    "import seaborn as sns"
   ]
  },
  {
   "cell_type": "markdown",
   "metadata": {},
   "source": [
    "## Feature Engineering"
   ]
  },
  {
   "cell_type": "code",
   "execution_count": 379,
   "metadata": {},
   "outputs": [],
   "source": [
    "data_train = pd.read_csv('./data/titanic_train.csv')"
   ]
  },
  {
   "cell_type": "code",
   "execution_count": 380,
   "metadata": {},
   "outputs": [],
   "source": [
    "data_test = pd.read_csv('./data/titanic_test.csv')"
   ]
  },
  {
   "cell_type": "code",
   "execution_count": 381,
   "metadata": {},
   "outputs": [
    {
     "data": {
      "text/plain": [
       "PassengerId    False\n",
       "Survived       False\n",
       "Pclass         False\n",
       "Name           False\n",
       "Sex            False\n",
       "Age             True\n",
       "SibSp          False\n",
       "Parch          False\n",
       "Ticket         False\n",
       "Fare           False\n",
       "Cabin           True\n",
       "Embarked        True\n",
       "dtype: bool"
      ]
     },
     "execution_count": 381,
     "metadata": {},
     "output_type": "execute_result"
    }
   ],
   "source": [
    "nan_values = data_train.isna()\n",
    "nan_columns = nan_values.any()\n",
    "nan_columns"
   ]
  },
  {
   "cell_type": "code",
   "execution_count": 382,
   "metadata": {
    "scrolled": true
   },
   "outputs": [
    {
     "data": {
      "text/plain": [
       "PassengerId    False\n",
       "Pclass         False\n",
       "Name           False\n",
       "Sex            False\n",
       "Age             True\n",
       "SibSp          False\n",
       "Parch          False\n",
       "Ticket         False\n",
       "Fare            True\n",
       "Cabin           True\n",
       "Embarked       False\n",
       "dtype: bool"
      ]
     },
     "execution_count": 382,
     "metadata": {},
     "output_type": "execute_result"
    }
   ],
   "source": [
    "nan_values_test = data_test.isna()\n",
    "nan_columns_test = nan_values_test.any()\n",
    "nan_columns_test"
   ]
  },
  {
   "cell_type": "markdown",
   "metadata": {},
   "source": [
    "### Age features"
   ]
  },
  {
   "cell_type": "code",
   "execution_count": 383,
   "metadata": {},
   "outputs": [],
   "source": [
    "age_avg = data_train['Age'].mean()\n",
    "data_train['Age'] = data_train['Age'].fillna(age_avg)\n",
    "age_avg = data_test['Age'].mean()\n",
    "data_test[['Age']] = data_test[['Age']].fillna(age_avg)"
   ]
  },
  {
   "cell_type": "code",
   "execution_count": 384,
   "metadata": {},
   "outputs": [],
   "source": [
    "data_train['family_s'] = data_train['SibSp'] + data_train['Parch'] + 1\n",
    "data_test['family_s'] = data_test['SibSp'] + data_test['Parch'] + 1"
   ]
  },
  {
   "cell_type": "code",
   "execution_count": 385,
   "metadata": {},
   "outputs": [
    {
     "name": "stdout",
     "output_type": "stream",
     "text": [
      "[1 3 2 3 3 2 4 0 2 1 0 5 1 3 1 4 0 2 2 2 3 3 1 2 0 3 2 1 2 2 3 2 2 5 2 3 2\n",
      " 1 1 1 3 2 2 0 1 2 2 2 2 1 0 1 4 2 5 2 1 2 0 0 1 3 4 0 2 2 2 1 1 2 2 1 1 2\n",
      " 2 2 2 2 0 2 1 2 2 2 1 2 1 2 1 1 2 1 4 2 5 2 5 1 3 3 2 2 1 2 3 2 1 2 3 2 4\n",
      " 1 1 1 1 1 5 2 1 0 1 2 2 2 4 0 2 1 2 4 2 1 4 2 2 1 1 3 1 1 2 1 1 1 1 1 2 0\n",
      " 3 3 4 1 4 3 2 4 1 2 2 2 4 3 2 1 0 0 2 4 2 2 5 0 0 1 5 1 2 4 2 3 2 2 0 0 0\n",
      " 2 2 4 3 3 2 1 1 0 4 5 2 3 2 1 2 2 3 4 1 0 2 2 1 3 1 3 1 2 2 2 2 3 2 2 1 2\n",
      " 4 2 3 1 1 1 1 2 3 2 5 0 1 2 4 0 1 2 2 2 2 1 2 4 2 1 3 4 2 2 5 2 3 2 2 2 3\n",
      " 4 2 0 4 3 2 3 1 2 5 3 2 2 3 3 2 5 4 2 0 3 5 2 1 1 2 2 2 1 3 1 2 1 3 1 1 2\n",
      " 1 0 2 4 2 2 1 2 2 0 2 1 2 2 1 1 2 2 3 2 1 4 2 3 1 2 2 1 2 3 5 3 2 1 2 4 3\n",
      " 1 2 2 2 3 4 4 0 1 2 2 3 1 3 2 0 3 1 2 1 2 2 2 1 3 2 2 3 2 4 3 2 2 5 2 2 1\n",
      " 2 1 1 1 0 2 1 2 1 1 3 0 2 3 2 1 0 3 2 1 3 1 2 1 1 1 2 4 1 2 3 2 1 2 1 3 4\n",
      " 0 1 2 2 2 2 2 4 2 3 1 2 0 2 1 2 2 1 2 2 1 2 2 2 2 3 1 4 1 1 1 5 2 4 1 2 2\n",
      " 2 0 1 3 0 4 3 2 2 4 2 2 5 2 4 2 4 3 4 4 2 3 2 5 2 0 2 3 2 1 1 2 3 2 1 0 0\n",
      " 2 4 5 2 2 3 5 2 0 2 1 4 5 1 2 4 2 2 1 1 1 2 3 1 1 2 2 2 2 2 2 3 4 1 4 3 2\n",
      " 3 2 2 1 2 4 2 3 4 2 3 1 0 2 1 2 2 0 4 2 2 1 3 0 0 2 4 5 1 2 2 0 1 2 2 1 1\n",
      " 5 4 2 3 3 2 3 2 2 2 1 1 2 2 2 5 4 3 2 1 1 3 3 2 2 2 3 4 3 2 1 4 5 1 2 3 4\n",
      " 4 2 3 3 2 4 2 4 1 2 2 4 3 3 2 2 1 3 3 2 2 2 3 1 3 2 0 2 2 3 1 1 1 5 5 1 2\n",
      " 2 5 4 2 2 0 2 2 2 3 2 1 1 0 2 0 4 1 5 2 1 2 1 1 2 1 1 2 2 1 5 4 3 4 3 1 2\n",
      " 2 2 3 2 3 2 5 2 2 1 1 1 3 3 2 2 1 1 5 2 1 1 1 1 2 0 2 2 5 4 4 2 4 3 1 3 1\n",
      " 2 2 3 4 3 1 2 1 2 4 2 4 1 3 2 2 2 0 1 3 4 2 1 2 2 2 2 2 0 2 1 1 2 4 3 2 2\n",
      " 2 3 1 1 2 5 1 2 1 2 0 0 2 1 4 0 2 1 3 2 2 3 1 3 1 4 2 2 2 2 1 4 5 2 4 1 2\n",
      " 0 2 3 1 1 2 2 2 2 1 0 0 4 2 1 2 2 2 3 4 2 2 2 3 2 0 0 2 2 3 1 3 2 2 3 3 0\n",
      " 2 2 1 2 3 0 4 2 3 2 0 2 2 0 2 5 1 0 2 1 1 3 1 2 2 2 1 1 2 3 1 3 2 3 2 2 0\n",
      " 5 0 1 4 1 4 4 1 2 3 1 4 2 1 3 2 2 2 0 2 4 2 4 2 1 1 1 2 5 2 2 1 2 2 3 2 1\n",
      " 2 2 2]\n",
      "[array([ 2.  ,  4.  ,  2.  ,  8.  ,  3.  ,  7.  ,  5.  , 11.  ,  4.  ,\n",
      "        0.83,  2.  , 12.  ,  9.  ,  1.  ,  9.  ,  4.  ,  1.  ,  9.  ,\n",
      "        1.  ,  4.  ,  3.  ,  2.  ,  5.  ,  8.  ,  3.  ,  7.  ,  2.  ,\n",
      "        0.92,  2.  ,  3.  ,  3.  ,  1.  ,  1.  ,  3.  , 10.  ,  4.  ,\n",
      "        5.  ,  0.75,  2.  ,  9.  ,  9.  ,  2.  ,  7.  ,  9.  , 11.  ,\n",
      "        8.  ,  4.  ,  9.  ,  2.  ,  0.75,  4.  ,  6.  , 11.  ,  4.  ,\n",
      "        6.  ,  0.67,  5.  ,  8.  ,  1.  , 11.  ,  0.42,  6.  , 10.  ,\n",
      "        2.  ,  1.  ,  0.83,  4.  ,  9.  ,  4.  ]), array([22. , 14. , 20. , 14. , 15. , 19. , 21. , 18. , 14. , 19. , 18. ,\n",
      "       21. , 21. , 22. , 19. , 17. , 16. , 21. , 22. , 17. , 16. , 23. ,\n",
      "       24. , 20. , 23. , 21. , 21. , 14.5, 22. , 20. , 17. , 21. , 24. ,\n",
      "       21. , 24. , 20. , 23. , 19. , 16. , 24. , 22. , 24. , 19. , 18. ,\n",
      "       19. , 22. , 16. , 17. , 21. , 18. , 19. , 19. , 24. , 18. , 16. ,\n",
      "       24. , 22. , 16. , 22. , 19. , 20.5, 18. , 24. , 19. , 22. , 24. ,\n",
      "       16. , 16. , 19. , 22. , 22. , 19. , 24. , 24. , 23.5, 19. , 17. ,\n",
      "       24. , 18. , 24. , 22. , 22. , 16. , 16. , 24. , 24. , 23. , 15. ,\n",
      "       22. , 24. , 18. , 19. , 22. , 22. , 20. , 19. , 18. , 17. , 21. ,\n",
      "       23. , 24. , 22. , 23. , 21. , 20. , 21. , 18. , 21. , 18. , 19. ,\n",
      "       17. , 14. , 21. , 24. , 20. , 13. , 23. , 22. , 22. , 21. , 21. ,\n",
      "       24. , 17. , 21. , 16. , 18. , 24. , 22. , 23. , 17. , 22. , 19. ,\n",
      "       17. , 22. , 22. , 24. , 19. , 16. , 19. , 18. , 22. , 24. , 22. ,\n",
      "       24. , 20. , 21. , 21. , 21. , 20. , 24. , 19. , 23. , 18. , 21. ,\n",
      "       18. , 24. , 23. , 20. , 18. , 24.5, 18. , 20. , 14. , 14. , 19. ,\n",
      "       18. , 15. , 18. , 18. , 22. , 24. , 19. , 17. , 20. , 23. , 23. ,\n",
      "       21. , 24. , 16. , 19. , 23. , 18. , 20. , 16. , 24. , 18. , 13. ,\n",
      "       17. , 18. , 16. , 18. , 23. , 15. , 23. , 18. , 21. , 20. , 16. ,\n",
      "       17. , 16. , 18. , 24. , 21. , 24. , 15. , 20. , 19. , 22. , 19. ]), array([26.        , 29.69911765, 27.        , 29.69911765, 31.        ,\n",
      "       29.69911765, 28.        , 29.69911765, 29.69911765, 29.69911765,\n",
      "       29.69911765, 29.69911765, 28.        , 29.69911765, 27.        ,\n",
      "       29.69911765, 29.69911765, 29.69911765, 29.69911765, 29.69911765,\n",
      "       29.        , 29.69911765, 28.5       , 29.69911765, 29.69911765,\n",
      "       29.        , 26.        , 32.        , 26.        , 32.        ,\n",
      "       25.        , 29.69911765, 29.69911765, 30.        , 29.        ,\n",
      "       29.69911765, 28.        , 33.        , 29.69911765, 29.        ,\n",
      "       26.        , 29.69911765, 28.        , 29.69911765, 33.        ,\n",
      "       28.        , 29.69911765, 29.69911765, 29.        , 29.69911765,\n",
      "       32.5       , 32.5       , 29.69911765, 29.69911765, 33.        ,\n",
      "       29.        , 25.        , 29.69911765, 27.        , 29.69911765,\n",
      "       30.        , 29.69911765, 29.69911765, 26.        , 29.69911765,\n",
      "       29.69911765, 28.        , 29.69911765, 30.        , 29.69911765,\n",
      "       29.69911765, 29.69911765, 29.69911765, 32.        , 29.69911765,\n",
      "       29.69911765, 28.        , 29.69911765, 32.        , 26.        ,\n",
      "       30.        , 29.69911765, 31.        , 27.        , 32.        ,\n",
      "       30.        , 27.        , 29.69911765, 29.69911765, 29.        ,\n",
      "       29.69911765, 33.        , 29.69911765, 29.69911765, 29.        ,\n",
      "       30.        , 25.        , 29.69911765, 29.        , 30.        ,\n",
      "       29.        , 29.69911765, 30.        , 29.69911765, 29.69911765,\n",
      "       25.        , 29.69911765, 25.        , 29.69911765, 29.69911765,\n",
      "       28.        , 29.69911765, 33.        , 30.        , 26.        ,\n",
      "       29.69911765, 29.69911765, 29.69911765, 29.69911765, 29.69911765,\n",
      "       29.69911765, 29.69911765, 30.        , 30.        , 26.        ,\n",
      "       28.        , 26.        , 31.        , 27.        , 30.        ,\n",
      "       29.69911765, 31.        , 29.69911765, 29.69911765, 29.69911765,\n",
      "       29.        , 28.        , 25.        , 29.69911765, 29.69911765,\n",
      "       25.        , 29.69911765, 28.        , 29.69911765, 29.69911765,\n",
      "       29.        , 29.69911765, 30.        , 29.69911765, 29.69911765,\n",
      "       25.        , 29.69911765, 27.        , 32.        , 29.69911765,\n",
      "       29.69911765, 28.        , 31.        , 28.        , 26.        ,\n",
      "       28.        , 29.69911765, 29.69911765, 29.69911765, 33.        ,\n",
      "       29.69911765, 29.69911765, 30.        , 29.69911765, 29.        ,\n",
      "       28.        , 29.69911765, 28.        , 29.69911765, 32.        ,\n",
      "       28.        , 29.69911765, 31.        , 25.        , 28.        ,\n",
      "       29.69911765, 29.69911765, 30.        , 29.69911765, 29.        ,\n",
      "       29.69911765, 29.69911765, 29.69911765, 29.69911765, 29.69911765,\n",
      "       29.69911765, 33.        , 29.69911765, 29.        , 29.69911765,\n",
      "       25.        , 29.69911765, 30.        , 29.69911765, 29.69911765,\n",
      "       29.69911765, 25.        , 29.69911765, 33.        , 29.69911765,\n",
      "       28.        , 26.        , 29.        , 29.69911765, 29.69911765,\n",
      "       32.        , 30.        , 29.69911765, 29.69911765, 29.69911765,\n",
      "       29.69911765, 29.69911765, 30.        , 30.        , 29.69911765,\n",
      "       32.        , 29.69911765, 33.        , 27.        , 29.69911765,\n",
      "       29.69911765, 29.69911765, 28.        , 29.69911765, 29.69911765,\n",
      "       29.        , 29.69911765, 32.        , 29.69911765, 29.69911765,\n",
      "       32.        , 25.        , 29.69911765, 29.69911765, 29.69911765,\n",
      "       29.69911765, 29.69911765, 29.69911765, 29.69911765, 30.        ,\n",
      "       27.        , 29.69911765, 29.69911765, 29.69911765, 26.        ,\n",
      "       26.        , 27.        , 26.        , 29.69911765, 32.        ,\n",
      "       29.69911765, 28.        , 32.        , 31.        , 29.69911765,\n",
      "       29.69911765, 29.69911765, 29.69911765, 29.69911765, 29.69911765,\n",
      "       32.        , 32.        , 25.        , 29.69911765, 29.69911765,\n",
      "       31.        , 31.        , 29.69911765, 29.69911765, 27.        ,\n",
      "       25.        , 31.        , 29.69911765, 25.        , 29.69911765,\n",
      "       25.        , 26.        , 29.69911765, 29.69911765, 29.        ,\n",
      "       27.        , 29.69911765, 33.        , 27.        , 30.        ,\n",
      "       29.69911765, 25.        , 25.        , 29.        , 29.69911765,\n",
      "       28.5       , 29.69911765, 29.69911765, 29.69911765, 31.        ,\n",
      "       30.        , 31.        , 33.        , 28.        , 33.        ,\n",
      "       29.69911765, 29.69911765, 30.5       , 29.69911765, 32.        ,\n",
      "       29.69911765, 29.69911765, 29.69911765, 29.        , 29.69911765,\n",
      "       25.        , 25.        , 29.69911765, 29.69911765, 29.69911765,\n",
      "       25.        , 31.        , 30.        , 30.        , 31.        ,\n",
      "       27.        , 31.        , 33.        , 26.        , 30.5       ,\n",
      "       29.69911765, 31.        , 27.        , 27.        , 29.69911765,\n",
      "       29.69911765, 29.69911765, 29.69911765, 29.69911765, 32.        ,\n",
      "       29.69911765, 30.        , 29.69911765, 28.        , 29.69911765,\n",
      "       29.69911765, 29.69911765, 27.        , 31.        , 29.69911765,\n",
      "       26.        , 33.        , 28.        , 29.69911765, 25.        ,\n",
      "       33.        , 28.        , 25.        , 27.        , 29.69911765,\n",
      "       26.        , 32.        ]), array([38. , 35. , 35. , 39. , 35. , 34. , 38. , 40. , 42. , 40. , 38. ,\n",
      "       34. , 34. , 37. , 38. , 37. , 36.5, 42. , 40.5, 40. , 36. , 40. ,\n",
      "       36. , 42. , 34. , 40. , 35. , 42. , 38. , 35. , 37. , 41. , 35. ,\n",
      "       40. , 36. , 35. , 41. , 37. , 35. , 42. , 36. , 43. , 40. , 36. ,\n",
      "       36. , 38. , 41. , 36. , 40. , 42. , 38. , 40. , 35. , 42. , 35. ,\n",
      "       36. , 36. , 39. , 34. , 34. , 42. , 34. , 36. , 34. , 38. , 38. ,\n",
      "       34. , 35. , 37. , 36. , 34. , 36. , 40.5, 39. , 36. , 39. , 36. ,\n",
      "       40. , 36. , 34. , 39. , 39. , 36. , 35. , 37. , 36. , 35. , 36. ,\n",
      "       40. , 39. , 35. , 34. , 42. , 41. , 40. , 36. , 43. , 40. , 43. ,\n",
      "       36. , 42. , 35. , 39. , 42. , 38. , 34. , 35. , 36. , 34. , 41. ,\n",
      "       36. , 43. , 39. , 34. , 39. , 39. , 39. , 35. , 43. , 38. , 39. ,\n",
      "       34.5, 42. , 35. , 41. , 42. , 39. ]), array([54. , 55. , 49. , 45. , 46. , 47. , 54. , 45. , 47. , 51. , 55.5,\n",
      "       51. , 44. , 45. , 50. , 45. , 44. , 45.5, 51. , 44. , 44. , 54. ,\n",
      "       50. , 52. , 45. , 50. , 54. , 45.5, 45. , 45. , 45. , 46. , 51. ,\n",
      "       44. , 50. , 45. , 52. , 49. , 50. , 48. , 47. , 48. , 50. , 55. ,\n",
      "       54. , 54. , 47. , 44. , 50. , 45. , 50. , 48. , 53. , 54. , 47. ,\n",
      "       52. , 47. , 49. , 49. , 44. , 51. , 48. , 50. , 47. , 52. , 44. ,\n",
      "       49. , 45. , 48. , 52. , 50. , 48. , 48. , 51. , 48. , 54. , 46. ,\n",
      "       49. , 52. , 44. , 45. , 51. , 48. , 47. , 47. ]), array([58. , 66. , 65. , 59. , 71. , 70.5, 61. , 56. , 58. , 59. , 62. ,\n",
      "       58. , 63. , 65. , 61. , 60. , 64. , 65. , 56. , 63. , 58. , 71. ,\n",
      "       64. , 62. , 62. , 60. , 61. , 57. , 80. , 56. , 58. , 70. , 60. ,\n",
      "       60. , 70. , 57. , 62. , 74. , 56. ])]\n",
      "[12.0, 24.5, 33.0, 43.0, 55.5]\n"
     ]
    }
   ],
   "source": [
    "import jenkspy\n",
    "from jenkspy import JenksNaturalBreaks\n",
    "jnb = JenksNaturalBreaks()\n",
    "jnb.fit(data_train['Age'])\n",
    "try:\n",
    "    print(jnb.labels_)\n",
    "    print(jnb.groups_)\n",
    "    print(jnb.inner_breaks_)\n",
    "except:\n",
    "    pass"
   ]
  },
  {
   "cell_type": "code",
   "execution_count": 386,
   "metadata": {},
   "outputs": [
    {
     "data": {
      "text/plain": [
       "6"
      ]
     },
     "execution_count": 386,
     "metadata": {},
     "output_type": "execute_result"
    }
   ],
   "source": [
    "len(jnb.groups_)"
   ]
  },
  {
   "cell_type": "code",
   "execution_count": 387,
   "metadata": {},
   "outputs": [],
   "source": [
    "#https://towardsdatascience.com/binning-records-on-a-continuous-variable-with-pandas-cut-and-qcut-5d7c8e11d7b0\n",
    "# QCut or “quantile cut” splits based on the number of examples falling into each bucket\n",
    "data_train['Age'] = pd.qcut(data_train['Age'], 10, duplicates='drop')\n",
    "data_test['Age'] = pd.qcut(data_test['Age'], 10, duplicates='drop')"
   ]
  },
  {
   "cell_type": "code",
   "execution_count": 388,
   "metadata": {
    "scrolled": true
   },
   "outputs": [
    {
     "data": {
      "image/png": "[encoded data removed]",
      "text/plain": [
       "<Figure size 1584x648 with 1 Axes>"
      ]
     },
     "metadata": {
      "needs_background": "light"
     },
     "output_type": "display_data"
    }
   ],
   "source": [
    "fig, axs = plt.subplots(figsize=(22, 9))\n",
    "sns.countplot(x='Age', hue='Survived', data=data_train)\n",
    "\n",
    "plt.xlabel('Age', size=15, labelpad=20)\n",
    "plt.ylabel('Passenger Count', size=15, labelpad=20)\n",
    "plt.tick_params(axis='x', labelsize=15)\n",
    "plt.tick_params(axis='y', labelsize=15)\n",
    "\n",
    "plt.legend(['Not Survived', 'Survived'], loc='upper right', prop={'size': 15})\n",
    "plt.title('Survival Counts in {} Feature'.format('Age'), size=15, y=1.05)\n",
    "\n",
    "plt.show()"
   ]
  },
  {
   "cell_type": "markdown",
   "metadata": {},
   "source": [
    "### Embarked"
   ]
  },
  {
   "cell_type": "code",
   "execution_count": 389,
   "metadata": {},
   "outputs": [
    {
     "data": {
      "text/html": [
       "<div>\n",
       "<style scoped>\n",
       "    .dataframe tbody tr th:only-of-type {\n",
       "        vertical-align: middle;\n",
       "    }\n",
       "\n",
       "    .dataframe tbody tr th {\n",
       "        vertical-align: top;\n",
       "    }\n",
       "\n",
       "    .dataframe thead th {\n",
       "        text-align: right;\n",
       "    }\n",
       "</style>\n",
       "<table border=\"1\" class=\"dataframe\">\n",
       "  <thead>\n",
       "    <tr style=\"text-align: right;\">\n",
       "      <th></th>\n",
       "      <th>PassengerId</th>\n",
       "      <th>Survived</th>\n",
       "      <th>Pclass</th>\n",
       "      <th>Name</th>\n",
       "      <th>Sex</th>\n",
       "      <th>Age</th>\n",
       "      <th>SibSp</th>\n",
       "      <th>Parch</th>\n",
       "      <th>Ticket</th>\n",
       "      <th>Fare</th>\n",
       "      <th>Cabin</th>\n",
       "      <th>Embarked</th>\n",
       "      <th>family_s</th>\n",
       "    </tr>\n",
       "  </thead>\n",
       "  <tbody>\n",
       "    <tr>\n",
       "      <th>61</th>\n",
       "      <td>62</td>\n",
       "      <td>1</td>\n",
       "      <td>1</td>\n",
       "      <td>Icard, Miss. Amelie</td>\n",
       "      <td>female</td>\n",
       "      <td>(32.5, 38.0]</td>\n",
       "      <td>0</td>\n",
       "      <td>0</td>\n",
       "      <td>113572</td>\n",
       "      <td>80.0</td>\n",
       "      <td>B28</td>\n",
       "      <td>NaN</td>\n",
       "      <td>1</td>\n",
       "    </tr>\n",
       "    <tr>\n",
       "      <th>829</th>\n",
       "      <td>830</td>\n",
       "      <td>1</td>\n",
       "      <td>1</td>\n",
       "      <td>Stone, Mrs. George Nelson (Martha Evelyn)</td>\n",
       "      <td>female</td>\n",
       "      <td>(47.0, 80.0]</td>\n",
       "      <td>0</td>\n",
       "      <td>0</td>\n",
       "      <td>113572</td>\n",
       "      <td>80.0</td>\n",
       "      <td>B28</td>\n",
       "      <td>NaN</td>\n",
       "      <td>1</td>\n",
       "    </tr>\n",
       "  </tbody>\n",
       "</table>\n",
       "</div>"
      ],
      "text/plain": [
       "     PassengerId  Survived  Pclass                                       Name  \\\n",
       "61            62         1       1                        Icard, Miss. Amelie   \n",
       "829          830         1       1  Stone, Mrs. George Nelson (Martha Evelyn)   \n",
       "\n",
       "        Sex           Age  SibSp  Parch  Ticket  Fare Cabin Embarked  family_s  \n",
       "61   female  (32.5, 38.0]      0      0  113572  80.0   B28      NaN         1  \n",
       "829  female  (47.0, 80.0]      0      0  113572  80.0   B28      NaN         1  "
      ]
     },
     "execution_count": 389,
     "metadata": {},
     "output_type": "execute_result"
    }
   ],
   "source": [
    "data_train[data_train.Embarked.isnull() == True]"
   ]
  },
  {
   "cell_type": "markdown",
   "metadata": {},
   "source": [
    "https://www.encyclopedia-titanica.org/titanic-survivor/amelia-icard.html\n",
    "https://www.encyclopedia-titanica.org/titanic-survivor/martha-evelyn-stone.html\n",
    "Both boarded in Southampton"
   ]
  },
  {
   "cell_type": "code",
   "execution_count": 390,
   "metadata": {},
   "outputs": [],
   "source": [
    "data_train['Embarked'] = data_train['Embarked'].fillna('S')"
   ]
  },
  {
   "cell_type": "markdown",
   "metadata": {},
   "source": [
    "### Fare"
   ]
  },
  {
   "cell_type": "code",
   "execution_count": 391,
   "metadata": {},
   "outputs": [],
   "source": [
    "fare_avg = data_test['Fare'].mean()\n",
    "data_test[['Fare']] = data_test[['Fare']].fillna(fare_avg)"
   ]
  },
  {
   "cell_type": "markdown",
   "metadata": {},
   "source": [
    "### Ticket"
   ]
  },
  {
   "cell_type": "code",
   "execution_count": 392,
   "metadata": {},
   "outputs": [],
   "source": [
    "data_train['ticket_group_count'] = data_train.groupby('Ticket')['Ticket'].transform('count')"
   ]
  },
  {
   "cell_type": "code",
   "execution_count": 393,
   "metadata": {},
   "outputs": [
    {
     "data": {
      "image/png": "[encoded data removed]",
      "text/plain": [
       "<Figure size 864x648 with 1 Axes>"
      ]
     },
     "metadata": {
      "needs_background": "light"
     },
     "output_type": "display_data"
    }
   ],
   "source": [
    "fig, axs = plt.subplots(figsize=(12, 9))\n",
    "sns.countplot(x='ticket_group_count', hue='Survived', data=data_train)\n",
    "\n",
    "plt.xlabel('Ticket Group Count', size=15, labelpad=20)\n",
    "plt.ylabel('Passenger Count', size=15, labelpad=20)\n",
    "plt.tick_params(axis='x', labelsize=15)\n",
    "plt.tick_params(axis='y', labelsize=15)\n",
    "\n",
    "plt.legend(['Not Survived', 'Survived'], loc='upper right', prop={'size': 15})\n",
    "plt.title('Count of Survival in {} Feature'.format('Ticket Group Count'), size=15, y=1.05)\n",
    "\n",
    "plt.show()"
   ]
  },
  {
   "cell_type": "markdown",
   "metadata": {},
   "source": [
    "Gropus of peaople have higher survival rate. (we checked passangers with the same tickets). It can be our additional feature"
   ]
  },
  {
   "cell_type": "code",
   "execution_count": 394,
   "metadata": {},
   "outputs": [],
   "source": [
    "data_test['ticket_group_count'] = data_test.groupby('Ticket')['Ticket'].transform('count')"
   ]
  },
  {
   "cell_type": "markdown",
   "metadata": {},
   "source": [
    "### Cabin"
   ]
  },
  {
   "cell_type": "code",
   "execution_count": 395,
   "metadata": {},
   "outputs": [],
   "source": [
    "data_train['cabin_label'] = data_train['Cabin'].str.slice(0,1)\n",
    "data_train['cabin_label'] = data_train[\"cabin_label\"].fillna(\"N\")\n",
    "data_test['cabin_label'] = data_test['Cabin'].str.slice(0,1)\n",
    "data_test['cabin_label'] = data_test['cabin_label'].fillna(\"N\")\n",
    "data_train['cabin_number'] = data_train[\"Cabin\"].str.slice(1,5).str.extract(\"([0-9]+)\", expand=False).astype(\"float\")\n",
    "data_test['cabin_number'] = data_test[\"Cabin\"].str.slice(1,5).str.extract(\"([0-9]+)\", expand=False).astype(\"float\")"
   ]
  },
  {
   "cell_type": "code",
   "execution_count": 396,
   "metadata": {},
   "outputs": [
    {
     "data": {
      "text/html": [
       "<div>\n",
       "<style scoped>\n",
       "    .dataframe tbody tr th:only-of-type {\n",
       "        vertical-align: middle;\n",
       "    }\n",
       "\n",
       "    .dataframe tbody tr th {\n",
       "        vertical-align: top;\n",
       "    }\n",
       "\n",
       "    .dataframe thead th {\n",
       "        text-align: right;\n",
       "    }\n",
       "</style>\n",
       "<table border=\"1\" class=\"dataframe\">\n",
       "  <thead>\n",
       "    <tr style=\"text-align: right;\">\n",
       "      <th></th>\n",
       "      <th>cabin_label</th>\n",
       "      <th>Cabin</th>\n",
       "    </tr>\n",
       "  </thead>\n",
       "  <tbody>\n",
       "    <tr>\n",
       "      <th>0</th>\n",
       "      <td>N</td>\n",
       "      <td>NaN</td>\n",
       "    </tr>\n",
       "    <tr>\n",
       "      <th>1</th>\n",
       "      <td>N</td>\n",
       "      <td>NaN</td>\n",
       "    </tr>\n",
       "    <tr>\n",
       "      <th>2</th>\n",
       "      <td>N</td>\n",
       "      <td>NaN</td>\n",
       "    </tr>\n",
       "    <tr>\n",
       "      <th>3</th>\n",
       "      <td>N</td>\n",
       "      <td>NaN</td>\n",
       "    </tr>\n",
       "    <tr>\n",
       "      <th>4</th>\n",
       "      <td>N</td>\n",
       "      <td>NaN</td>\n",
       "    </tr>\n",
       "    <tr>\n",
       "      <th>...</th>\n",
       "      <td>...</td>\n",
       "      <td>...</td>\n",
       "    </tr>\n",
       "    <tr>\n",
       "      <th>413</th>\n",
       "      <td>N</td>\n",
       "      <td>NaN</td>\n",
       "    </tr>\n",
       "    <tr>\n",
       "      <th>414</th>\n",
       "      <td>C</td>\n",
       "      <td>C105</td>\n",
       "    </tr>\n",
       "    <tr>\n",
       "      <th>415</th>\n",
       "      <td>N</td>\n",
       "      <td>NaN</td>\n",
       "    </tr>\n",
       "    <tr>\n",
       "      <th>416</th>\n",
       "      <td>N</td>\n",
       "      <td>NaN</td>\n",
       "    </tr>\n",
       "    <tr>\n",
       "      <th>417</th>\n",
       "      <td>N</td>\n",
       "      <td>NaN</td>\n",
       "    </tr>\n",
       "  </tbody>\n",
       "</table>\n",
       "<p>418 rows × 2 columns</p>\n",
       "</div>"
      ],
      "text/plain": [
       "    cabin_label Cabin\n",
       "0             N   NaN\n",
       "1             N   NaN\n",
       "2             N   NaN\n",
       "3             N   NaN\n",
       "4             N   NaN\n",
       "..          ...   ...\n",
       "413           N   NaN\n",
       "414           C  C105\n",
       "415           N   NaN\n",
       "416           N   NaN\n",
       "417           N   NaN\n",
       "\n",
       "[418 rows x 2 columns]"
      ]
     },
     "execution_count": 396,
     "metadata": {},
     "output_type": "execute_result"
    }
   ],
   "source": [
    "data_test[['cabin_label', 'Cabin']]"
   ]
  },
  {
   "cell_type": "code",
   "execution_count": 397,
   "metadata": {},
   "outputs": [],
   "source": [
    "data_train.drop(columns=['Name', 'PassengerId', 'Cabin', 'Ticket'], axis = 1, inplace=True)\n",
    "\n",
    "y_cat = y = data_train.Survived.reset_index(drop=True)"
   ]
  },
  {
   "cell_type": "code",
   "execution_count": 398,
   "metadata": {},
   "outputs": [
    {
     "data": {
      "text/plain": [
       "Index(['Survived', 'Pclass', 'Sex', 'Age', 'SibSp', 'Parch', 'Fare',\n",
       "       'Embarked', 'family_s', 'ticket_group_count', 'cabin_label',\n",
       "       'cabin_number'],\n",
       "      dtype='object')"
      ]
     },
     "execution_count": 398,
     "metadata": {},
     "output_type": "execute_result"
    }
   ],
   "source": [
    "data_train.columns"
   ]
  },
  {
   "cell_type": "code",
   "execution_count": 399,
   "metadata": {},
   "outputs": [
    {
     "data": {
      "text/plain": [
       "PassengerId              int64\n",
       "Pclass                   int64\n",
       "Name                    object\n",
       "Sex                     object\n",
       "Age                   category\n",
       "SibSp                    int64\n",
       "Parch                    int64\n",
       "Ticket                  object\n",
       "Fare                   float64\n",
       "Cabin                   object\n",
       "Embarked                object\n",
       "family_s                 int64\n",
       "ticket_group_count       int64\n",
       "cabin_label             object\n",
       "cabin_number           float64\n",
       "dtype: object"
      ]
     },
     "execution_count": 399,
     "metadata": {},
     "output_type": "execute_result"
    }
   ],
   "source": [
    "data_test.dtypes"
   ]
  },
  {
   "cell_type": "code",
   "execution_count": 400,
   "metadata": {},
   "outputs": [
    {
     "data": {
      "text/plain": [
       "Index(['Pclass', 'Sex', 'Age', 'SibSp', 'Parch', 'Fare', 'Embarked',\n",
       "       'family_s', 'ticket_group_count', 'cabin_label', 'cabin_number'],\n",
       "      dtype='object')"
      ]
     },
     "execution_count": 400,
     "metadata": {},
     "output_type": "execute_result"
    }
   ],
   "source": [
    "features = data_train.columns[1:]\n",
    "features"
   ]
  },
  {
   "cell_type": "code",
   "execution_count": 401,
   "metadata": {},
   "outputs": [
    {
     "data": {
      "text/html": [
       "<div>\n",
       "<style scoped>\n",
       "    .dataframe tbody tr th:only-of-type {\n",
       "        vertical-align: middle;\n",
       "    }\n",
       "\n",
       "    .dataframe tbody tr th {\n",
       "        vertical-align: top;\n",
       "    }\n",
       "\n",
       "    .dataframe thead th {\n",
       "        text-align: right;\n",
       "    }\n",
       "</style>\n",
       "<table border=\"1\" class=\"dataframe\">\n",
       "  <thead>\n",
       "    <tr style=\"text-align: right;\">\n",
       "      <th></th>\n",
       "      <th>Survived</th>\n",
       "      <th>Pclass</th>\n",
       "      <th>Sex</th>\n",
       "      <th>Age</th>\n",
       "      <th>SibSp</th>\n",
       "      <th>Parch</th>\n",
       "      <th>Fare</th>\n",
       "      <th>Embarked</th>\n",
       "      <th>family_s</th>\n",
       "      <th>ticket_group_count</th>\n",
       "      <th>cabin_label</th>\n",
       "      <th>cabin_number</th>\n",
       "    </tr>\n",
       "  </thead>\n",
       "  <tbody>\n",
       "    <tr>\n",
       "      <th>0</th>\n",
       "      <td>0</td>\n",
       "      <td>3</td>\n",
       "      <td>male</td>\n",
       "      <td>(20.0, 24.0]</td>\n",
       "      <td>1</td>\n",
       "      <td>0</td>\n",
       "      <td>7.2500</td>\n",
       "      <td>S</td>\n",
       "      <td>2</td>\n",
       "      <td>1</td>\n",
       "      <td>N</td>\n",
       "      <td>NaN</td>\n",
       "    </tr>\n",
       "    <tr>\n",
       "      <th>1</th>\n",
       "      <td>1</td>\n",
       "      <td>1</td>\n",
       "      <td>female</td>\n",
       "      <td>(32.5, 38.0]</td>\n",
       "      <td>1</td>\n",
       "      <td>0</td>\n",
       "      <td>71.2833</td>\n",
       "      <td>C</td>\n",
       "      <td>2</td>\n",
       "      <td>1</td>\n",
       "      <td>C</td>\n",
       "      <td>85.0</td>\n",
       "    </tr>\n",
       "    <tr>\n",
       "      <th>2</th>\n",
       "      <td>1</td>\n",
       "      <td>3</td>\n",
       "      <td>female</td>\n",
       "      <td>(24.0, 28.0]</td>\n",
       "      <td>0</td>\n",
       "      <td>0</td>\n",
       "      <td>7.9250</td>\n",
       "      <td>S</td>\n",
       "      <td>1</td>\n",
       "      <td>1</td>\n",
       "      <td>N</td>\n",
       "      <td>NaN</td>\n",
       "    </tr>\n",
       "    <tr>\n",
       "      <th>3</th>\n",
       "      <td>1</td>\n",
       "      <td>1</td>\n",
       "      <td>female</td>\n",
       "      <td>(32.5, 38.0]</td>\n",
       "      <td>1</td>\n",
       "      <td>0</td>\n",
       "      <td>53.1000</td>\n",
       "      <td>S</td>\n",
       "      <td>2</td>\n",
       "      <td>2</td>\n",
       "      <td>C</td>\n",
       "      <td>123.0</td>\n",
       "    </tr>\n",
       "    <tr>\n",
       "      <th>4</th>\n",
       "      <td>0</td>\n",
       "      <td>3</td>\n",
       "      <td>male</td>\n",
       "      <td>(32.5, 38.0]</td>\n",
       "      <td>0</td>\n",
       "      <td>0</td>\n",
       "      <td>8.0500</td>\n",
       "      <td>S</td>\n",
       "      <td>1</td>\n",
       "      <td>1</td>\n",
       "      <td>N</td>\n",
       "      <td>NaN</td>\n",
       "    </tr>\n",
       "    <tr>\n",
       "      <th>...</th>\n",
       "      <td>...</td>\n",
       "      <td>...</td>\n",
       "      <td>...</td>\n",
       "      <td>...</td>\n",
       "      <td>...</td>\n",
       "      <td>...</td>\n",
       "      <td>...</td>\n",
       "      <td>...</td>\n",
       "      <td>...</td>\n",
       "      <td>...</td>\n",
       "      <td>...</td>\n",
       "      <td>...</td>\n",
       "    </tr>\n",
       "    <tr>\n",
       "      <th>886</th>\n",
       "      <td>0</td>\n",
       "      <td>2</td>\n",
       "      <td>male</td>\n",
       "      <td>(24.0, 28.0]</td>\n",
       "      <td>0</td>\n",
       "      <td>0</td>\n",
       "      <td>13.0000</td>\n",
       "      <td>S</td>\n",
       "      <td>1</td>\n",
       "      <td>1</td>\n",
       "      <td>N</td>\n",
       "      <td>NaN</td>\n",
       "    </tr>\n",
       "    <tr>\n",
       "      <th>887</th>\n",
       "      <td>1</td>\n",
       "      <td>1</td>\n",
       "      <td>female</td>\n",
       "      <td>(16.0, 20.0]</td>\n",
       "      <td>0</td>\n",
       "      <td>0</td>\n",
       "      <td>30.0000</td>\n",
       "      <td>S</td>\n",
       "      <td>1</td>\n",
       "      <td>1</td>\n",
       "      <td>B</td>\n",
       "      <td>42.0</td>\n",
       "    </tr>\n",
       "    <tr>\n",
       "      <th>888</th>\n",
       "      <td>0</td>\n",
       "      <td>3</td>\n",
       "      <td>female</td>\n",
       "      <td>(28.0, 29.699]</td>\n",
       "      <td>1</td>\n",
       "      <td>2</td>\n",
       "      <td>23.4500</td>\n",
       "      <td>S</td>\n",
       "      <td>4</td>\n",
       "      <td>2</td>\n",
       "      <td>N</td>\n",
       "      <td>NaN</td>\n",
       "    </tr>\n",
       "    <tr>\n",
       "      <th>889</th>\n",
       "      <td>1</td>\n",
       "      <td>1</td>\n",
       "      <td>male</td>\n",
       "      <td>(24.0, 28.0]</td>\n",
       "      <td>0</td>\n",
       "      <td>0</td>\n",
       "      <td>30.0000</td>\n",
       "      <td>C</td>\n",
       "      <td>1</td>\n",
       "      <td>1</td>\n",
       "      <td>C</td>\n",
       "      <td>148.0</td>\n",
       "    </tr>\n",
       "    <tr>\n",
       "      <th>890</th>\n",
       "      <td>0</td>\n",
       "      <td>3</td>\n",
       "      <td>male</td>\n",
       "      <td>(29.699, 32.5]</td>\n",
       "      <td>0</td>\n",
       "      <td>0</td>\n",
       "      <td>7.7500</td>\n",
       "      <td>Q</td>\n",
       "      <td>1</td>\n",
       "      <td>1</td>\n",
       "      <td>N</td>\n",
       "      <td>NaN</td>\n",
       "    </tr>\n",
       "  </tbody>\n",
       "</table>\n",
       "<p>891 rows × 12 columns</p>\n",
       "</div>"
      ],
      "text/plain": [
       "     Survived  Pclass     Sex             Age  SibSp  Parch     Fare Embarked  \\\n",
       "0           0       3    male    (20.0, 24.0]      1      0   7.2500        S   \n",
       "1           1       1  female    (32.5, 38.0]      1      0  71.2833        C   \n",
       "2           1       3  female    (24.0, 28.0]      0      0   7.9250        S   \n",
       "3           1       1  female    (32.5, 38.0]      1      0  53.1000        S   \n",
       "4           0       3    male    (32.5, 38.0]      0      0   8.0500        S   \n",
       "..        ...     ...     ...             ...    ...    ...      ...      ...   \n",
       "886         0       2    male    (24.0, 28.0]      0      0  13.0000        S   \n",
       "887         1       1  female    (16.0, 20.0]      0      0  30.0000        S   \n",
       "888         0       3  female  (28.0, 29.699]      1      2  23.4500        S   \n",
       "889         1       1    male    (24.0, 28.0]      0      0  30.0000        C   \n",
       "890         0       3    male  (29.699, 32.5]      0      0   7.7500        Q   \n",
       "\n",
       "     family_s  ticket_group_count cabin_label  cabin_number  \n",
       "0           2                   1           N           NaN  \n",
       "1           2                   1           C          85.0  \n",
       "2           1                   1           N           NaN  \n",
       "3           2                   2           C         123.0  \n",
       "4           1                   1           N           NaN  \n",
       "..        ...                 ...         ...           ...  \n",
       "886         1                   1           N           NaN  \n",
       "887         1                   1           B          42.0  \n",
       "888         4                   2           N           NaN  \n",
       "889         1                   1           C         148.0  \n",
       "890         1                   1           N           NaN  \n",
       "\n",
       "[891 rows x 12 columns]"
      ]
     },
     "execution_count": 401,
     "metadata": {},
     "output_type": "execute_result"
    }
   ],
   "source": [
    "data_train"
   ]
  },
  {
   "cell_type": "code",
   "execution_count": 402,
   "metadata": {},
   "outputs": [
    {
     "data": {
      "text/plain": [
       "onehotencoder__Sex_female          int64\n",
       "onehotencoder__Sex_male            int64\n",
       "onehotencoder__Pclass_1            int64\n",
       "onehotencoder__Pclass_2            int64\n",
       "onehotencoder__Pclass_3            int64\n",
       "onehotencoder__Embarked_C          int64\n",
       "onehotencoder__Embarked_Q          int64\n",
       "onehotencoder__Embarked_S          int64\n",
       "onehotencoder__cabin_label_A       int64\n",
       "onehotencoder__cabin_label_B       int64\n",
       "onehotencoder__cabin_label_C       int64\n",
       "onehotencoder__cabin_label_D       int64\n",
       "onehotencoder__cabin_label_E       int64\n",
       "onehotencoder__cabin_label_F       int64\n",
       "onehotencoder__cabin_label_G       int64\n",
       "onehotencoder__cabin_label_N       int64\n",
       "onehotencoder__cabin_label_T       int64\n",
       "remainder__Age                     int64\n",
       "remainder__SibSp                   int64\n",
       "remainder__Parch                   int64\n",
       "remainder__Fare                  float64\n",
       "remainder__family_s                int64\n",
       "remainder__ticket_group_count      int64\n",
       "remainder__cabin_number          float64\n",
       "dtype: object"
      ]
     },
     "execution_count": 402,
     "metadata": {},
     "output_type": "execute_result"
    }
   ],
   "source": [
    "categorical_features = ['Sex', 'Pclass', 'Embarked', 'cabin_label']\n",
    "ct = make_column_transformer(\n",
    "        (OneHotEncoder(), categorical_features),\n",
    "        remainder='passthrough', verbose_feature_names_out=True)\n",
    "data_transformed = ct.fit_transform(data_train.iloc[:, 1:], y=data_train.Survived)\n",
    "X = pd.DataFrame(data_transformed, columns=ct.get_feature_names_out())\n",
    "X = X.astype({\"onehotencoder__Sex_female\": int,\n",
    "              \"onehotencoder__Sex_male\": int,\n",
    "             \"onehotencoder__Pclass_1\": int,\n",
    "             \"onehotencoder__Pclass_2\": int,\n",
    "             \"onehotencoder__Pclass_3\": int,\n",
    "             \"onehotencoder__Embarked_C\": int,\n",
    "             \"onehotencoder__Embarked_Q\": int,\n",
    "             \"onehotencoder__Embarked_S\": int,\n",
    "             \"onehotencoder__cabin_label_A\": int,\n",
    "             \"onehotencoder__cabin_label_B\": int,\n",
    "             \"onehotencoder__cabin_label_C\": int,\n",
    "             \"onehotencoder__cabin_label_D\": int,\n",
    "             \"onehotencoder__cabin_label_E\": int,\n",
    "             \"onehotencoder__cabin_label_F\": int,\n",
    "             \"onehotencoder__cabin_label_G\": int,\n",
    "             \"onehotencoder__cabin_label_N\": int,\n",
    "             \"onehotencoder__cabin_label_T\": int,\n",
    "             \"remainder__SibSp\":int,\n",
    "             \"remainder__Parch\": int,\n",
    "             \"remainder__Fare\": float,\n",
    "             \"remainder__family_s\": int,\n",
    "             \"remainder__ticket_group_count\" : int,\n",
    "             \"remainder__cabin_number\": float\n",
    "             })\n",
    "X[\"remainder__Age\"] = LabelEncoder().fit_transform(X[\"remainder__Age\"])\n",
    "X.dtypes"
   ]
  },
  {
   "cell_type": "code",
   "execution_count": 403,
   "metadata": {},
   "outputs": [
    {
     "data": {
      "text/html": [
       "<div>\n",
       "<style scoped>\n",
       "    .dataframe tbody tr th:only-of-type {\n",
       "        vertical-align: middle;\n",
       "    }\n",
       "\n",
       "    .dataframe tbody tr th {\n",
       "        vertical-align: top;\n",
       "    }\n",
       "\n",
       "    .dataframe thead th {\n",
       "        text-align: right;\n",
       "    }\n",
       "</style>\n",
       "<table border=\"1\" class=\"dataframe\">\n",
       "  <thead>\n",
       "    <tr style=\"text-align: right;\">\n",
       "      <th></th>\n",
       "      <th>Pclass</th>\n",
       "      <th>Sex</th>\n",
       "      <th>Age</th>\n",
       "      <th>SibSp</th>\n",
       "      <th>Parch</th>\n",
       "      <th>Fare</th>\n",
       "      <th>Embarked</th>\n",
       "      <th>family_s</th>\n",
       "      <th>ticket_group_count</th>\n",
       "      <th>cabin_label</th>\n",
       "      <th>cabin_number</th>\n",
       "    </tr>\n",
       "  </thead>\n",
       "  <tbody>\n",
       "    <tr>\n",
       "      <th>0</th>\n",
       "      <td>3</td>\n",
       "      <td>male</td>\n",
       "      <td>(31.9, 39.0]</td>\n",
       "      <td>0</td>\n",
       "      <td>0</td>\n",
       "      <td>7.8292</td>\n",
       "      <td>Q</td>\n",
       "      <td>1</td>\n",
       "      <td>1</td>\n",
       "      <td>N</td>\n",
       "      <td>NaN</td>\n",
       "    </tr>\n",
       "    <tr>\n",
       "      <th>1</th>\n",
       "      <td>3</td>\n",
       "      <td>female</td>\n",
       "      <td>(39.0, 48.0]</td>\n",
       "      <td>1</td>\n",
       "      <td>0</td>\n",
       "      <td>7.0000</td>\n",
       "      <td>S</td>\n",
       "      <td>2</td>\n",
       "      <td>1</td>\n",
       "      <td>N</td>\n",
       "      <td>NaN</td>\n",
       "    </tr>\n",
       "    <tr>\n",
       "      <th>2</th>\n",
       "      <td>2</td>\n",
       "      <td>male</td>\n",
       "      <td>(48.0, 76.0]</td>\n",
       "      <td>0</td>\n",
       "      <td>0</td>\n",
       "      <td>9.6875</td>\n",
       "      <td>Q</td>\n",
       "      <td>1</td>\n",
       "      <td>1</td>\n",
       "      <td>N</td>\n",
       "      <td>NaN</td>\n",
       "    </tr>\n",
       "    <tr>\n",
       "      <th>3</th>\n",
       "      <td>3</td>\n",
       "      <td>male</td>\n",
       "      <td>(24.0, 27.8]</td>\n",
       "      <td>0</td>\n",
       "      <td>0</td>\n",
       "      <td>8.6625</td>\n",
       "      <td>S</td>\n",
       "      <td>1</td>\n",
       "      <td>1</td>\n",
       "      <td>N</td>\n",
       "      <td>NaN</td>\n",
       "    </tr>\n",
       "    <tr>\n",
       "      <th>4</th>\n",
       "      <td>3</td>\n",
       "      <td>female</td>\n",
       "      <td>(21.0, 24.0]</td>\n",
       "      <td>1</td>\n",
       "      <td>1</td>\n",
       "      <td>12.2875</td>\n",
       "      <td>S</td>\n",
       "      <td>3</td>\n",
       "      <td>1</td>\n",
       "      <td>N</td>\n",
       "      <td>NaN</td>\n",
       "    </tr>\n",
       "    <tr>\n",
       "      <th>...</th>\n",
       "      <td>...</td>\n",
       "      <td>...</td>\n",
       "      <td>...</td>\n",
       "      <td>...</td>\n",
       "      <td>...</td>\n",
       "      <td>...</td>\n",
       "      <td>...</td>\n",
       "      <td>...</td>\n",
       "      <td>...</td>\n",
       "      <td>...</td>\n",
       "      <td>...</td>\n",
       "    </tr>\n",
       "    <tr>\n",
       "      <th>413</th>\n",
       "      <td>3</td>\n",
       "      <td>male</td>\n",
       "      <td>(27.8, 30.273]</td>\n",
       "      <td>0</td>\n",
       "      <td>0</td>\n",
       "      <td>8.0500</td>\n",
       "      <td>S</td>\n",
       "      <td>1</td>\n",
       "      <td>1</td>\n",
       "      <td>N</td>\n",
       "      <td>NaN</td>\n",
       "    </tr>\n",
       "    <tr>\n",
       "      <th>414</th>\n",
       "      <td>1</td>\n",
       "      <td>female</td>\n",
       "      <td>(31.9, 39.0]</td>\n",
       "      <td>0</td>\n",
       "      <td>0</td>\n",
       "      <td>108.9000</td>\n",
       "      <td>C</td>\n",
       "      <td>1</td>\n",
       "      <td>1</td>\n",
       "      <td>C</td>\n",
       "      <td>105.0</td>\n",
       "    </tr>\n",
       "    <tr>\n",
       "      <th>415</th>\n",
       "      <td>3</td>\n",
       "      <td>male</td>\n",
       "      <td>(31.9, 39.0]</td>\n",
       "      <td>0</td>\n",
       "      <td>0</td>\n",
       "      <td>7.2500</td>\n",
       "      <td>S</td>\n",
       "      <td>1</td>\n",
       "      <td>1</td>\n",
       "      <td>N</td>\n",
       "      <td>NaN</td>\n",
       "    </tr>\n",
       "    <tr>\n",
       "      <th>416</th>\n",
       "      <td>3</td>\n",
       "      <td>male</td>\n",
       "      <td>(27.8, 30.273]</td>\n",
       "      <td>0</td>\n",
       "      <td>0</td>\n",
       "      <td>8.0500</td>\n",
       "      <td>S</td>\n",
       "      <td>1</td>\n",
       "      <td>1</td>\n",
       "      <td>N</td>\n",
       "      <td>NaN</td>\n",
       "    </tr>\n",
       "    <tr>\n",
       "      <th>417</th>\n",
       "      <td>3</td>\n",
       "      <td>male</td>\n",
       "      <td>(27.8, 30.273]</td>\n",
       "      <td>1</td>\n",
       "      <td>1</td>\n",
       "      <td>22.3583</td>\n",
       "      <td>C</td>\n",
       "      <td>3</td>\n",
       "      <td>1</td>\n",
       "      <td>N</td>\n",
       "      <td>NaN</td>\n",
       "    </tr>\n",
       "  </tbody>\n",
       "</table>\n",
       "<p>418 rows × 11 columns</p>\n",
       "</div>"
      ],
      "text/plain": [
       "     Pclass     Sex             Age  SibSp  Parch      Fare Embarked  \\\n",
       "0         3    male    (31.9, 39.0]      0      0    7.8292        Q   \n",
       "1         3  female    (39.0, 48.0]      1      0    7.0000        S   \n",
       "2         2    male    (48.0, 76.0]      0      0    9.6875        Q   \n",
       "3         3    male    (24.0, 27.8]      0      0    8.6625        S   \n",
       "4         3  female    (21.0, 24.0]      1      1   12.2875        S   \n",
       "..      ...     ...             ...    ...    ...       ...      ...   \n",
       "413       3    male  (27.8, 30.273]      0      0    8.0500        S   \n",
       "414       1  female    (31.9, 39.0]      0      0  108.9000        C   \n",
       "415       3    male    (31.9, 39.0]      0      0    7.2500        S   \n",
       "416       3    male  (27.8, 30.273]      0      0    8.0500        S   \n",
       "417       3    male  (27.8, 30.273]      1      1   22.3583        C   \n",
       "\n",
       "     family_s  ticket_group_count cabin_label  cabin_number  \n",
       "0           1                   1           N           NaN  \n",
       "1           2                   1           N           NaN  \n",
       "2           1                   1           N           NaN  \n",
       "3           1                   1           N           NaN  \n",
       "4           3                   1           N           NaN  \n",
       "..        ...                 ...         ...           ...  \n",
       "413         1                   1           N           NaN  \n",
       "414         1                   1           C         105.0  \n",
       "415         1                   1           N           NaN  \n",
       "416         1                   1           N           NaN  \n",
       "417         3                   1           N           NaN  \n",
       "\n",
       "[418 rows x 11 columns]"
      ]
     },
     "execution_count": 403,
     "metadata": {},
     "output_type": "execute_result"
    }
   ],
   "source": [
    "data_test[features]"
   ]
  },
  {
   "cell_type": "code",
   "execution_count": 404,
   "metadata": {},
   "outputs": [
    {
     "data": {
      "text/plain": [
       "onehotencoder__Sex_female          int64\n",
       "onehotencoder__Sex_male            int64\n",
       "onehotencoder__Pclass_1            int64\n",
       "onehotencoder__Pclass_2            int64\n",
       "onehotencoder__Pclass_3            int64\n",
       "onehotencoder__Embarked_C          int64\n",
       "onehotencoder__Embarked_Q          int64\n",
       "onehotencoder__Embarked_S          int64\n",
       "onehotencoder__cabin_label_A       int64\n",
       "onehotencoder__cabin_label_B       int64\n",
       "onehotencoder__cabin_label_C       int64\n",
       "onehotencoder__cabin_label_D       int64\n",
       "onehotencoder__cabin_label_E       int64\n",
       "onehotencoder__cabin_label_F       int64\n",
       "onehotencoder__cabin_label_G       int64\n",
       "onehotencoder__cabin_label_N       int64\n",
       "remainder__Age                     int64\n",
       "remainder__SibSp                   int64\n",
       "remainder__Parch                   int64\n",
       "remainder__Fare                  float64\n",
       "remainder__family_s                int64\n",
       "remainder__ticket_group_count      int64\n",
       "remainder__cabin_number          float64\n",
       "onehotencoder__cabin_label_T       int64\n",
       "dtype: object"
      ]
     },
     "execution_count": 404,
     "metadata": {},
     "output_type": "execute_result"
    }
   ],
   "source": [
    "PassengerId = data_test['PassengerId']\n",
    "test_transformed = ct.fit_transform(data_test[features])\n",
    "test_transformed = pd.DataFrame(test_transformed, columns=ct.get_feature_names_out())\n",
    "test_transformed = test_transformed.astype({\"onehotencoder__Sex_female\": int,\n",
    "              \"onehotencoder__Sex_male\": int,\n",
    "             \"onehotencoder__Pclass_1\": int,\n",
    "             \"onehotencoder__Pclass_2\": int,\n",
    "             \"onehotencoder__Pclass_3\": int,\n",
    "             \"onehotencoder__Embarked_C\": int,\n",
    "             \"onehotencoder__Embarked_Q\": int,\n",
    "             \"onehotencoder__Embarked_S\": int,\n",
    "             \"onehotencoder__cabin_label_A\": int,\n",
    "             \"onehotencoder__cabin_label_B\": int,\n",
    "             \"onehotencoder__cabin_label_C\": int,\n",
    "             \"onehotencoder__cabin_label_D\": int,\n",
    "             \"onehotencoder__cabin_label_E\": int,\n",
    "             \"onehotencoder__cabin_label_F\": int,\n",
    "             \"onehotencoder__cabin_label_G\": int,\n",
    "             \"onehotencoder__cabin_label_N\": int,\n",
    "             \"remainder__SibSp\":int,\n",
    "             \"remainder__Parch\": int,\n",
    "             \"remainder__Fare\": float,\n",
    "             \"remainder__family_s\": int,\n",
    "             \"remainder__ticket_group_count\" : int,\n",
    "             \"remainder__cabin_number\": float\n",
    "                })\n",
    "test_transformed[\"remainder__Age\"]= LabelEncoder().fit_transform(test_transformed[\"remainder__Age\"])\n",
    "test_transformed['onehotencoder__cabin_label_T'] = 0\n",
    "test_transformed.dtypes"
   ]
  },
  {
   "cell_type": "markdown",
   "metadata": {},
   "source": [
    "# Xgboost\n",
    "\n",
    "\n",
    "\n",
    "### Boosting settings\n",
    "\n",
    "**Explanation after lightgbm theory**<br>\n",
    "`tree_method` – 'exact' (if you have time, you can try), 'approx', 'hist'(the best choise usually) <br>\n",
    "`grow_policy` – 'depthwise', 'lossguide' (usually better)<br>\n",
    "`objective` – default is quite good (sometimes \"count:poisson\")\n",
    "\n",
    "\n",
    "### XGBoost parameters tuning\n",
    "\n",
    "Usually we start tuning parameters with these first: <br>\n",
    "`n_estimators` - number of boosting rounds, better to use `early_stopping_rounds` <br>\n",
    "`eta` – learning rate, increasing lr reduces convergence time. (usually default value works good)\n",
    "\n",
    "### Control Overfitting\n",
    "When you observe high training accuracy, but low tests accuracy, it is likely that you encounter overfitting problem.\n",
    "\n",
    "There are in general two ways that you can control overfitting:\n",
    "\n",
    "* The first way is to directly control model complexity <p>\n",
    "`max_depth` - maximum depth of a tree, increase of this value will make the model more complex; <br>\n",
    "`gamma` - minimum loss reduction required to make a further partition on a leaf node of the tree.<br>\n",
    "`min_child_weight` – minimum sum of instance weight (hessian) needed in a child.\n",
    "\n",
    "\n",
    "* The second way is to add randomness to make training robust to noise <p>\n",
    "`subsample` - subsample ratio of the training instance, <br>\n",
    "`colsample_bytree` - subsample ratio of columns when constructing each tree. <br>\n",
    "\n",
    "\n",
    "### Handle Imbalanced Dataset\n",
    "There are two ways to improve it:\n",
    "\n",
    "* If you care only about the ranking order (AUC) of your prediction\n",
    "Balance the positive and negative weights, via `scale_pos_weight`\n",
    "Use AUC for evaluation\n",
    "* If you care about predicting the right probability\n",
    "In such a case, you cannot re-balance the dataset. Set parameter `max_delta_step` to a finite number (say 1) will help to converge <br>\n",
    "\n",
    "More about xgboost parameters: https://xgboost.readthedocs.io/en/latest/parameter.html\n",
    "\n",
    "Always use `early_stopping_round` and tune `n_estimators` on validation."
   ]
  },
  {
   "cell_type": "code",
   "execution_count": 405,
   "metadata": {},
   "outputs": [],
   "source": [
    "import xgboost as xgb\n",
    "\n",
    "\n",
    "parameters = {\n",
    "    #default\n",
    "    \"objective\": \"binary:logistic\",\n",
    "    \"eta\": 0.1,\n",
    "    \"verbosity\": 0,\n",
    "    \"nthread\": 4,\n",
    "    \"random_seed\": 1,\n",
    "    \"eval_metric\": \"error\"\n",
    "}\n",
    "\n",
    "\n",
    "xgb_train = xgb.DMatrix(X, y, feature_names=X.columns)\n",
    "xgb_test = xgb.DMatrix(test_transformed)"
   ]
  },
  {
   "cell_type": "markdown",
   "metadata": {},
   "source": [
    "# 0.78229\n",
    "parameters = {\n",
    "    #default\n",
    "    \"objective\": \"binary:logistic\",\n",
    "    \"eta\": 0.1,\n",
    "    \"verbosity\": 0,\n",
    "    \"nthread\": 10,\n",
    "    \"random_seed\": 1,\n",
    "    \"eval_metric\": \"error\",\n",
    "    \n",
    "    # regularization parameters\n",
    "    \"max_depth\": 7,\n",
    "    \"subsample\": 0.8,\n",
    "    \"colsample_bytree\": 0.6,\n",
    "    \"colsample_bylevel\":0.8,\n",
    "    \"colsample_bynode\":0.7,\n",
    "    \"alpha\": 4,\n",
    "    \"max_leaves\": 14,\n",
    "\n",
    "    \n",
    "    #lightgbm approach\n",
    "    \"tree_method\": \"hist\",\n",
    "    \"grow_policy\": \"lossguide\"\n",
    "}"
   ]
  },
  {
   "cell_type": "code",
   "execution_count": 411,
   "metadata": {
    "scrolled": true
   },
   "outputs": [
    {
     "name": "stdout",
     "output_type": "stream",
     "text": [
      "[0]\ttrain-error:0.20595+0.01169\ttest-error:0.21886+0.00727\n",
      "[75]\ttrain-error:0.15600+0.00483\ttest-error:0.18294+0.02135\n"
     ]
    }
   ],
   "source": [
    "# 0.78229\n",
    "parameters = {\n",
    "    #default\n",
    "    \"objective\": \"binary:logistic\",\n",
    "    \"eta\": 0.1,\n",
    "    \"verbosity\": 0,\n",
    "    \"nthread\": 10,\n",
    "    \"random_seed\": 1,\n",
    "    \"eval_metric\": \"error\",\n",
    "    \n",
    "    # regularization parameters\n",
    "    \"max_depth\": 7,\n",
    "    \"subsample\": 0.8,\n",
    "    \"colsample_bytree\": 0.6,\n",
    "    \"colsample_bylevel\":0.8,\n",
    "    \"colsample_bynode\":0.7,\n",
    "    \"alpha\": 4,\n",
    "    \"max_leaves\": 14,\n",
    "\n",
    "    \n",
    "    #lightgbm approach\n",
    "    \"tree_method\": \"hist\",\n",
    "    \"grow_policy\": \"lossguide\"\n",
    "}\n",
    "num_rounds = 500\n",
    "results = xgb.cv(parameters, xgb_train, num_rounds, early_stopping_rounds=50,\n",
    "                 folds=skf, verbose_eval=100)"
   ]
  },
  {
   "cell_type": "code",
   "execution_count": 407,
   "metadata": {},
   "outputs": [],
   "source": [
    "parameters['n_estimators'] = 25\n",
    "clf = xgb.XGBClassifier(**parameters, use_label_encoder=False)\n",
    "bst = clf.fit(X, y)"
   ]
  },
  {
   "cell_type": "code",
   "execution_count": 408,
   "metadata": {},
   "outputs": [
    {
     "data": {
      "text/plain": [
       "24"
      ]
     },
     "execution_count": 408,
     "metadata": {},
     "output_type": "execute_result"
    }
   ],
   "source": [
    "bst.best_iteration"
   ]
  },
  {
   "cell_type": "code",
   "execution_count": 409,
   "metadata": {},
   "outputs": [],
   "source": [
    "y_pred = bst.predict(test_transformed)\n",
    "submission = pd.DataFrame({\n",
    "        \"PassengerId\": PassengerId,\n",
    "        \"Survived\": y_pred\n",
    "    })\n",
    "submission.to_csv('submission_xgboost.csv', index=False)"
   ]
  },
  {
   "cell_type": "markdown",
   "metadata": {},
   "source": [
    "### Some useful notes\n",
    "\n",
    "1. Custom objective and evaluation functions – https://github.com/dmlc/xgboost/blob/master/demo/guide-python/custom_objective.py\n",
    "2. Never use timeseries validation with **xgb.cv**, it is broken :( \n",
    "3. Investigate your task and metrics. There are many objective functions that are worth to try.\n"
   ]
  },
  {
   "cell_type": "code",
   "execution_count": null,
   "metadata": {},
   "outputs": [],
   "source": []
  }
 ],
 "metadata": {
  "kernelspec": {
   "display_name": "ml-course",
   "language": "python",
   "name": "ml-course"
  },
  "language_info": {
   "codemirror_mode": {
    "name": "ipython",
    "version": 3
   },
   "file_extension": ".py",
   "mimetype": "text/x-python",
   "name": "python",
   "nbconvert_exporter": "python",
   "pygments_lexer": "ipython3",
   "version": "3.8.10"
  },
  "pycharm": {
   "stem_cell": {
    "cell_type": "raw",
    "metadata": {
     "collapsed": false
    },
    "source": []
   }
  }
 },
 "nbformat": 4,
 "nbformat_minor": 2
}
