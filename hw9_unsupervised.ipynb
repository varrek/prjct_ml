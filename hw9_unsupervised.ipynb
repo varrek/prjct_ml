{
 "cells": [
  {
   "cell_type": "code",
   "execution_count": 1,
   "id": "6ac3272f",
   "metadata": {},
   "outputs": [],
   "source": [
    "from sklearn.decomposition import PCA\n",
    "from sklearn import datasets\n",
    "from sklearn.preprocessing import scale\n",
    "import numpy as np\n",
    "from sklearn import metrics\n",
    "import umap\n",
    "from MulticoreTSNE import MulticoreTSNE as TSNE"
   ]
  },
  {
   "cell_type": "code",
   "execution_count": 2,
   "id": "f7682fdb",
   "metadata": {},
   "outputs": [],
   "source": [
    "digits = datasets.load_digits()\n",
    "data = scale(digits.data)\n",
    "n_samples, n_features = data.shape\n",
    "n_digits = len(np.unique(digits.target))\n",
    "labels = digits.target\n",
    "sample_size = 300"
   ]
  },
  {
   "cell_type": "code",
   "execution_count": 3,
   "id": "fd2c954c",
   "metadata": {},
   "outputs": [
    {
     "data": {
      "text/plain": [
       "array([[ 1.91421136, -0.954494  , -3.94598893,  2.02883547, -0.2662893 ],\n",
       "       [ 0.58898338,  0.92462501,  3.92469301, -1.78005426, -0.99468853],\n",
       "       [ 1.302044  , -0.31720754,  3.02325187, -2.04355634, -2.08282233],\n",
       "       ...,\n",
       "       [ 1.02259317, -0.1479016 ,  2.47003706, -0.62006647, -0.9711708 ],\n",
       "       [ 1.0760562 , -0.38090983, -2.45551041, -1.31202529,  0.25266869],\n",
       "       [-1.25770889, -2.22756667,  0.28376911, -0.12658822, -1.56747671]])"
      ]
     },
     "execution_count": 3,
     "metadata": {},
     "output_type": "execute_result"
    }
   ],
   "source": [
    "data_pca_5 = PCA(n_components=5).fit_transform(data)\n",
    "data_pca_5"
   ]
  },
  {
   "cell_type": "code",
   "execution_count": 4,
   "id": "6709c31c",
   "metadata": {},
   "outputs": [
    {
     "data": {
      "text/plain": [
       "array([[ 1.91430892e+00, -9.54085986e-01, -3.94591549e+00, ...,\n",
       "         5.30587008e-01, -1.40257505e+00,  1.46663330e+00],\n",
       "       [ 5.89077123e-01,  9.24837562e-01,  3.92505304e+00, ...,\n",
       "        -6.76759584e-01,  1.89206983e+00,  5.40455126e-01],\n",
       "       [ 1.30188281e+00, -3.17683462e-01,  3.02331018e+00, ...,\n",
       "         9.42145566e-01, -1.31065103e+00,  1.17143974e+00],\n",
       "       ...,\n",
       "       [ 1.02241607e+00, -1.48989341e-01,  2.46965827e+00, ...,\n",
       "        -1.52793819e-03,  3.61431072e-01,  5.05776679e-01],\n",
       "       [ 1.07592152e+00, -3.82057851e-01, -2.45552721e+00, ...,\n",
       "        -6.47122970e-01,  1.00690964e+00,  7.70529961e-01],\n",
       "       [-1.25812441e+00, -2.22926151e+00,  2.83593603e-01, ...,\n",
       "         2.34290694e+00, -4.26583262e-01, -1.17477216e+00]])"
      ]
     },
     "execution_count": 4,
     "metadata": {},
     "output_type": "execute_result"
    }
   ],
   "source": [
    "data_pca_8 = PCA(n_components=8).fit_transform(data)\n",
    "data_pca_8"
   ]
  },
  {
   "cell_type": "code",
   "execution_count": 5,
   "id": "5308f764",
   "metadata": {},
   "outputs": [],
   "source": [
    "embedding_umap_8 = umap.UMAP(n_neighbors=8).fit_transform(data)\n",
    "embedding_umap_5 = umap.UMAP(n_neighbors=5).fit_transform(data)"
   ]
  },
  {
   "cell_type": "code",
   "execution_count": 6,
   "id": "e145a406",
   "metadata": {},
   "outputs": [],
   "source": [
    "embedding_tsne_8 =TSNE(n_components = 8, n_jobs=4).fit_transform(data)\n",
    "embedding_tsne_5 =TSNE(n_components = 5, n_jobs=4).fit_transform(data)"
   ]
  },
  {
   "cell_type": "code",
   "execution_count": 7,
   "id": "d60401d2",
   "metadata": {},
   "outputs": [],
   "source": [
    "def get_errors(estimator, sample_size, data):\n",
    "    siholitte = metrics.silhouette_score(data, estimator.labels_,\n",
    "                                      metric='euclidean',\n",
    "                                      sample_size=sample_size)\n",
    "    adj_rand = metrics.adjusted_rand_score(labels, estimator.labels_)\n",
    "    mutual = metrics.adjusted_mutual_info_score(labels,  estimator.labels_)\n",
    "    rand = metrics.rand_score(labels, estimator.labels_)\n",
    "    return print(f\"Rand {rand}\",\n",
    "          f\"Adjusted Rand Index {adj_rand}\",\n",
    "          f\"Adjusted Mutual Information: {mutual}\", \n",
    "          f\"Silhouette {siholitte}\", sep='\\n')"
   ]
  },
  {
   "cell_type": "markdown",
   "id": "f4dff437",
   "metadata": {},
   "source": [
    "## K-means"
   ]
  },
  {
   "cell_type": "code",
   "execution_count": 8,
   "id": "2a4bb1a9",
   "metadata": {},
   "outputs": [],
   "source": [
    "from sklearn.cluster import KMeans\n",
    "from scipy.spatial.distance import cdist"
   ]
  },
  {
   "cell_type": "code",
   "execution_count": 59,
   "id": "be53e539",
   "metadata": {},
   "outputs": [
    {
     "data": {
      "text/plain": [
       "KMeans(n_clusters=10)"
      ]
     },
     "execution_count": 59,
     "metadata": {},
     "output_type": "execute_result"
    }
   ],
   "source": [
    "estimator = KMeans(init='k-means++', n_clusters=n_digits, n_init=10)\n",
    "estimator.fit(data)"
   ]
  },
  {
   "cell_type": "code",
   "execution_count": 60,
   "id": "94050eb6",
   "metadata": {},
   "outputs": [
    {
     "name": "stdout",
     "output_type": "stream",
     "text": [
      "Rand 0.9141076503402726\n",
      "Adjusted Rand Index 0.5687406548046969\n",
      "Adjusted Mutual Information: 0.6945510574894563\n",
      "Silhouette 0.11491996215318409\n"
     ]
    }
   ],
   "source": [
    "get_errors(estimator, sample_size, data)"
   ]
  },
  {
   "cell_type": "code",
   "execution_count": 61,
   "id": "1fc9ba4e",
   "metadata": {},
   "outputs": [
    {
     "data": {
      "text/plain": [
       "KMeans(n_clusters=10)"
      ]
     },
     "execution_count": 61,
     "metadata": {},
     "output_type": "execute_result"
    }
   ],
   "source": [
    "pca_estimator = KMeans(init='k-means++', n_clusters=n_digits, n_init=10)\n",
    "pca_estimator.fit(data_pca_8)"
   ]
  },
  {
   "cell_type": "code",
   "execution_count": 62,
   "id": "c1db01b6",
   "metadata": {},
   "outputs": [
    {
     "name": "stdout",
     "output_type": "stream",
     "text": [
      "Rand 0.9015855428436159\n",
      "Adjusted Rand Index 0.5083735750277368\n",
      "Adjusted Mutual Information: 0.6337553778218533\n",
      "Silhouette 0.13688152926617506\n"
     ]
    }
   ],
   "source": [
    "get_errors(pca_estimator, sample_size, data)"
   ]
  },
  {
   "cell_type": "code",
   "execution_count": 63,
   "id": "300f41e6",
   "metadata": {},
   "outputs": [
    {
     "name": "stdout",
     "output_type": "stream",
     "text": [
      "Rand 0.8905252877537791\n",
      "Adjusted Rand Index 0.4539320821438111\n",
      "Adjusted Mutual Information: 0.5789780164016596\n",
      "Silhouette 0.13388341792678082\n"
     ]
    }
   ],
   "source": [
    "pca_estimator = KMeans(init='k-means++', n_clusters=n_digits, n_init=10)\n",
    "pca_estimator.fit(data_pca_5)\n",
    "get_errors(pca_estimator, sample_size, data)"
   ]
  },
  {
   "cell_type": "code",
   "execution_count": 81,
   "id": "bea86885",
   "metadata": {},
   "outputs": [
    {
     "name": "stdout",
     "output_type": "stream",
     "text": [
      "Rand 0.9636854544755984\n",
      "Adjusted Rand Index 0.8109556477304581\n",
      "Adjusted Mutual Information: 0.8831118160643505\n",
      "Silhouette 0.12145315035746189\n"
     ]
    }
   ],
   "source": [
    "umap_8_estimator =  KMeans(init='k-means++', n_clusters=n_digits, n_init=10)\n",
    "umap_8_estimator.fit(embedding_umap_8)\n",
    "get_errors(umap_8_estimator, sample_size, data)"
   ]
  },
  {
   "cell_type": "code",
   "execution_count": 82,
   "id": "3e4c7642",
   "metadata": {},
   "outputs": [
    {
     "name": "stdout",
     "output_type": "stream",
     "text": [
      "Rand 0.9627280310044085\n",
      "Adjusted Rand Index 0.8068792197364256\n",
      "Adjusted Mutual Information: 0.8822945808301651\n",
      "Silhouette 0.08281916914446907\n"
     ]
    }
   ],
   "source": [
    "umap_5_estimator =  KMeans(init='k-means++', n_clusters=n_digits, n_init=10)\n",
    "umap_5_estimator.fit(embedding_umap_5)\n",
    "get_errors(umap_5_estimator, sample_size, data)"
   ]
  },
  {
   "cell_type": "code",
   "execution_count": 102,
   "id": "e86a95dd",
   "metadata": {},
   "outputs": [
    {
     "name": "stdout",
     "output_type": "stream",
     "text": [
      "Rand 0.9671067716176305\n",
      "Adjusted Rand Index 0.8206998704995867\n",
      "Adjusted Mutual Information: 0.8691969594267749\n",
      "Silhouette 0.08612554954914495\n"
     ]
    }
   ],
   "source": [
    "tsne_8_estimator =  KMeans(init='k-means++', n_clusters=n_digits, n_init=10)\n",
    "tsne_8_estimator.fit(embedding_tsne_8)\n",
    "get_errors(tsne_8_estimator, sample_size, data)"
   ]
  },
  {
   "cell_type": "code",
   "execution_count": 9,
   "id": "b27b285b",
   "metadata": {},
   "outputs": [
    {
     "name": "stdout",
     "output_type": "stream",
     "text": [
      "Rand 0.9661989234718096\n",
      "Adjusted Rand Index 0.8163450016376737\n",
      "Adjusted Mutual Information: 0.8657428008677109\n",
      "Silhouette 0.10278263023583528\n"
     ]
    }
   ],
   "source": [
    "tsne_5_estimator =  KMeans(init='k-means++', n_clusters=n_digits, n_init=10)\n",
    "tsne_5_estimator.fit(embedding_tsne_5)\n",
    "get_errors(tsne_5_estimator, sample_size, data)"
   ]
  },
  {
   "cell_type": "markdown",
   "id": "64526966",
   "metadata": {},
   "source": [
    "## Affinity Propagation"
   ]
  },
  {
   "cell_type": "code",
   "execution_count": 65,
   "id": "64817c55",
   "metadata": {},
   "outputs": [],
   "source": [
    "from sklearn.cluster import AffinityPropagation"
   ]
  },
  {
   "cell_type": "code",
   "execution_count": 66,
   "id": "ab9dc06b",
   "metadata": {},
   "outputs": [
    {
     "data": {
      "text/plain": [
       "AffinityPropagation()"
      ]
     },
     "execution_count": 66,
     "metadata": {},
     "output_type": "execute_result"
    }
   ],
   "source": [
    "model_aff = AffinityPropagation()\n",
    "model_aff.fit(data)"
   ]
  },
  {
   "cell_type": "code",
   "execution_count": 69,
   "id": "ef55c289",
   "metadata": {},
   "outputs": [
    {
     "name": "stdout",
     "output_type": "stream",
     "text": [
      "Rand 0.9090063493597966\n",
      "Adjusted Rand Index 0.1543890171236833\n",
      "Adjusted Mutual Information: 0.5728829386106491\n",
      "Silhouette 0.05409447363969096\n"
     ]
    }
   ],
   "source": [
    "get_errors(model_aff, sample_size, data)"
   ]
  },
  {
   "cell_type": "code",
   "execution_count": 84,
   "id": "00315888",
   "metadata": {},
   "outputs": [
    {
     "name": "stdout",
     "output_type": "stream",
     "text": [
      "Rand 0.9113958800425852\n",
      "Adjusted Rand Index 0.21764060274052408\n",
      "Adjusted Mutual Information: 0.5874223418791499\n",
      "Silhouette 0.05921617350232909\n"
     ]
    }
   ],
   "source": [
    "aff_pca_estimator = AffinityPropagation()\n",
    "aff_pca_estimator.fit(data_pca_8)\n",
    "get_errors(aff_pca_estimator, sample_size, data)"
   ]
  },
  {
   "cell_type": "code",
   "execution_count": 85,
   "id": "a2435493",
   "metadata": {},
   "outputs": [
    {
     "name": "stdout",
     "output_type": "stream",
     "text": [
      "Rand 0.9086648993063172\n",
      "Adjusted Rand Index 0.19535675094947286\n",
      "Adjusted Mutual Information: 0.5367948299256343\n",
      "Silhouette 0.015723390170051824\n"
     ]
    }
   ],
   "source": [
    "aff_pca_estimator = AffinityPropagation()\n",
    "aff_pca_estimator.fit(data_pca_5)\n",
    "get_errors(aff_pca_estimator, sample_size, data)"
   ]
  },
  {
   "cell_type": "code",
   "execution_count": 97,
   "id": "fbf5da67",
   "metadata": {},
   "outputs": [
    {
     "name": "stdout",
     "output_type": "stream",
     "text": [
      "Rand 0.93250071574376\n",
      "Adjusted Rand Index 0.4760848717336931\n",
      "Adjusted Mutual Information: 0.7559585918378904\n",
      "Silhouette 0.058323666535463774\n"
     ]
    }
   ],
   "source": [
    "umap_8_estimator =  AffinityPropagation(max_iter=1000)\n",
    "umap_8_estimator.fit(embedding_umap_8)\n",
    "get_errors(umap_8_estimator, sample_size, data)"
   ]
  },
  {
   "cell_type": "code",
   "execution_count": 98,
   "id": "a2ffabac",
   "metadata": {},
   "outputs": [
    {
     "name": "stdout",
     "output_type": "stream",
     "text": [
      "Rand 0.9315693193183888\n",
      "Adjusted Rand Index 0.4707660195004991\n",
      "Adjusted Mutual Information: 0.7468834635679453\n",
      "Silhouette 0.07714768561186161\n"
     ]
    }
   ],
   "source": [
    "umap_5_estimator =  AffinityPropagation(max_iter=1000)\n",
    "umap_5_estimator.fit(embedding_umap_5)\n",
    "get_errors(umap_5_estimator, sample_size, data)"
   ]
  },
  {
   "cell_type": "code",
   "execution_count": 105,
   "id": "9a15dc99",
   "metadata": {},
   "outputs": [
    {
     "name": "stdout",
     "output_type": "stream",
     "text": [
      "Rand 0.9511354608584216\n",
      "Adjusted Rand Index 0.6616059090691245\n",
      "Adjusted Mutual Information: 0.80938813756693\n",
      "Silhouette 0.11136858610319429\n"
     ]
    }
   ],
   "source": [
    "tsne_8_estimator =  AffinityPropagation(max_iter=2000)\n",
    "tsne_8_estimator.fit(embedding_tsne_8)\n",
    "get_errors(tsne_8_estimator, sample_size, data)"
   ]
  },
  {
   "cell_type": "code",
   "execution_count": 106,
   "id": "12b7f473",
   "metadata": {},
   "outputs": [
    {
     "name": "stdout",
     "output_type": "stream",
     "text": [
      "Rand 0.9471384502505413\n",
      "Adjusted Rand Index 0.6261122629079497\n",
      "Adjusted Mutual Information: 0.8018712630488759\n",
      "Silhouette 0.08897748994219001\n"
     ]
    }
   ],
   "source": [
    "tsne_5_estimator =  AffinityPropagation(max_iter=2000)\n",
    "tsne_5_estimator.fit(embedding_tsne_5)\n",
    "get_errors(tsne_5_estimator, sample_size, data)"
   ]
  },
  {
   "cell_type": "markdown",
   "id": "768d731d",
   "metadata": {},
   "source": [
    "## Agglomerative Hierarchical clustering"
   ]
  },
  {
   "cell_type": "code",
   "execution_count": 11,
   "id": "4432cac3",
   "metadata": {},
   "outputs": [],
   "source": [
    "from sklearn.cluster import AgglomerativeClustering"
   ]
  },
  {
   "cell_type": "code",
   "execution_count": 75,
   "id": "ff98dc7b",
   "metadata": {},
   "outputs": [
    {
     "data": {
      "text/plain": [
       "AgglomerativeClustering(n_clusters=10)"
      ]
     },
     "execution_count": 75,
     "metadata": {},
     "output_type": "execute_result"
    }
   ],
   "source": [
    "model_agglom = AgglomerativeClustering(n_clusters=n_digits)\n",
    "model_agglom.fit(data)"
   ]
  },
  {
   "cell_type": "code",
   "execution_count": 76,
   "id": "33a6c264",
   "metadata": {},
   "outputs": [
    {
     "data": {
      "text/plain": [
       "array([5, 1, 1, ..., 1, 1, 1])"
      ]
     },
     "execution_count": 76,
     "metadata": {},
     "output_type": "execute_result"
    }
   ],
   "source": [
    "model_agglom.labels_"
   ]
  },
  {
   "cell_type": "code",
   "execution_count": 77,
   "id": "bc333118",
   "metadata": {},
   "outputs": [
    {
     "name": "stdout",
     "output_type": "stream",
     "text": [
      "Rand 0.9302549535045417\n",
      "Adjusted Rand Index 0.6643458356002894\n",
      "Adjusted Mutual Information: 0.7934927361004462\n",
      "Silhouette 0.12251888091350975\n"
     ]
    }
   ],
   "source": [
    "get_errors(model_agglom, 300, data)"
   ]
  },
  {
   "cell_type": "code",
   "execution_count": 78,
   "id": "fe2c7332",
   "metadata": {},
   "outputs": [
    {
     "data": {
      "text/plain": [
       "AgglomerativeClustering(n_clusters=10)"
      ]
     },
     "execution_count": 78,
     "metadata": {},
     "output_type": "execute_result"
    }
   ],
   "source": [
    "agg_pca_estimator = AgglomerativeClustering(n_clusters=n_digits)\n",
    "agg_pca_estimator.fit(data_pca_8)"
   ]
  },
  {
   "cell_type": "code",
   "execution_count": 79,
   "id": "a49102f3",
   "metadata": {},
   "outputs": [
    {
     "name": "stdout",
     "output_type": "stream",
     "text": [
      "Rand 0.8866131748905934\n",
      "Adjusted Rand Index 0.4596582510127902\n",
      "Adjusted Mutual Information: 0.6373011620932433\n",
      "Silhouette 0.11229765924749661\n"
     ]
    }
   ],
   "source": [
    "get_errors(agg_pca_estimator, sample_size, data)"
   ]
  },
  {
   "cell_type": "code",
   "execution_count": 80,
   "id": "3031f5f3",
   "metadata": {},
   "outputs": [
    {
     "name": "stdout",
     "output_type": "stream",
     "text": [
      "Rand 0.8730512249443207\n",
      "Adjusted Rand Index 0.4141991315977404\n",
      "Adjusted Mutual Information: 0.5988112321038814\n",
      "Silhouette 0.11004095518626646\n"
     ]
    }
   ],
   "source": [
    "agg_pca_estimator = AgglomerativeClustering(n_clusters=n_digits)\n",
    "agg_pca_estimator.fit(data_pca_5)\n",
    "get_errors(agg_pca_estimator, sample_size, data)"
   ]
  },
  {
   "cell_type": "code",
   "execution_count": 12,
   "id": "6b4ccd39",
   "metadata": {},
   "outputs": [
    {
     "name": "stdout",
     "output_type": "stream",
     "text": [
      "Rand 0.9634412959981558\n",
      "Adjusted Rand Index 0.8090392315692063\n",
      "Adjusted Mutual Information: 0.8801409167069021\n",
      "Silhouette 0.09554924580430214\n"
     ]
    }
   ],
   "source": [
    "umap_8_estimator =  AgglomerativeClustering(n_clusters=n_digits)\n",
    "umap_8_estimator.fit(embedding_umap_8)\n",
    "get_errors(umap_8_estimator, sample_size, data)"
   ]
  },
  {
   "cell_type": "code",
   "execution_count": 99,
   "id": "91612f47",
   "metadata": {},
   "outputs": [
    {
     "name": "stdout",
     "output_type": "stream",
     "text": [
      "Rand 0.9618381539140339\n",
      "Adjusted Rand Index 0.7931938357029507\n",
      "Adjusted Mutual Information: 0.8559436929343653\n",
      "Silhouette 0.10914717093916264\n"
     ]
    }
   ],
   "source": [
    "umap_5_estimator =  AgglomerativeClustering(n_clusters=n_digits)\n",
    "umap_5_estimator.fit(embedding_umap_5)\n",
    "get_errors(umap_5_estimator, sample_size, data)"
   ]
  },
  {
   "cell_type": "code",
   "execution_count": 107,
   "id": "09ac9112",
   "metadata": {},
   "outputs": [
    {
     "name": "stdout",
     "output_type": "stream",
     "text": [
      "Rand 0.9718436939566439\n",
      "Adjusted Rand Index 0.8442074674738934\n",
      "Adjusted Mutual Information: 0.8842720857049966\n",
      "Silhouette 0.10467246334819201\n"
     ]
    }
   ],
   "source": [
    "tsne_8_estimator =  AgglomerativeClustering(n_clusters=n_digits)\n",
    "tsne_8_estimator.fit(embedding_tsne_8)\n",
    "get_errors(tsne_8_estimator, sample_size, data)"
   ]
  },
  {
   "cell_type": "code",
   "execution_count": 108,
   "id": "c9a6b042",
   "metadata": {},
   "outputs": [
    {
     "name": "stdout",
     "output_type": "stream",
     "text": [
      "Rand 0.9574172742742483\n",
      "Adjusted Rand Index 0.7673993556863412\n",
      "Adjusted Mutual Information: 0.8381398452654937\n",
      "Silhouette 0.08145335725657371\n"
     ]
    }
   ],
   "source": [
    "tsne_5_estimator =  AgglomerativeClustering(n_clusters=n_digits)\n",
    "tsne_5_estimator.fit(embedding_tsne_5)\n",
    "get_errors(tsne_5_estimator, sample_size, data)"
   ]
  }
 ],
 "metadata": {
  "kernelspec": {
   "display_name": "ml-course",
   "language": "python",
   "name": "ml-course"
  },
  "language_info": {
   "codemirror_mode": {
    "name": "ipython",
    "version": 3
   },
   "file_extension": ".py",
   "mimetype": "text/x-python",
   "name": "python",
   "nbconvert_exporter": "python",
   "pygments_lexer": "ipython3",
   "version": "3.8.10"
  }
 },
 "nbformat": 4,
 "nbformat_minor": 5
}
