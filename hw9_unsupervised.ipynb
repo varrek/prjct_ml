{
 "cells": [
  {
   "cell_type": "code",
   "execution_count": 136,
   "id": "6ac3272f",
   "metadata": {},
   "outputs": [],
   "source": [
    "from sklearn.decomposition import PCA\n",
    "from sklearn import datasets\n",
    "from sklearn.preprocessing import scale\n",
    "import numpy as np\n",
    "from sklearn import metrics"
   ]
  },
  {
   "cell_type": "code",
   "execution_count": 137,
   "id": "f7682fdb",
   "metadata": {},
   "outputs": [],
   "source": [
    "digits = datasets.load_digits()\n",
    "data = scale(digits.data)\n",
    "n_samples, n_features = data.shape\n",
    "n_digits = len(np.unique(digits.target))\n",
    "labels = digits.target\n",
    "sample_size = 300"
   ]
  },
  {
   "cell_type": "code",
   "execution_count": null,
   "id": "9be4616a",
   "metadata": {},
   "outputs": [],
   "source": []
  },
  {
   "cell_type": "code",
   "execution_count": 138,
   "id": "6709c31c",
   "metadata": {},
   "outputs": [
    {
     "data": {
      "text/plain": [
       "array([[ 1.91426312, -0.95480585, -3.94562013, ...,  0.5292565 ,\n",
       "        -1.40517563,  1.4902348 ],\n",
       "       [ 0.58893863,  0.92478129,  3.92491933, ..., -0.66917099,\n",
       "         1.86945132,  0.55442673],\n",
       "       [ 1.3018379 , -0.31664146,  3.02348782, ...,  0.93883758,\n",
       "        -1.32804559,  1.17357428],\n",
       "       ...,\n",
       "       [ 1.02261922, -0.14787733,  2.46986909, ..., -0.00438218,\n",
       "         0.3796035 ,  0.53501866],\n",
       "       [ 1.0760635 , -0.38102   , -2.4552698 , ..., -0.63636231,\n",
       "         1.0360042 ,  0.76823529],\n",
       "       [-1.25774481, -2.22798985,  0.28261806, ...,  2.33694643,\n",
       "        -0.37724771, -1.1729592 ]])"
      ]
     },
     "execution_count": 138,
     "metadata": {},
     "output_type": "execute_result"
    }
   ],
   "source": [
    "data_pca = PCA(n_components=8).fit_transform(data)\n",
    "data_pca"
   ]
  },
  {
   "cell_type": "markdown",
   "id": "f4dff437",
   "metadata": {},
   "source": [
    "## K-means"
   ]
  },
  {
   "cell_type": "code",
   "execution_count": 139,
   "id": "2a4bb1a9",
   "metadata": {},
   "outputs": [],
   "source": [
    "from sklearn.cluster import KMeans\n",
    "from scipy.spatial.distance import cdist"
   ]
  },
  {
   "cell_type": "code",
   "execution_count": 140,
   "id": "be53e539",
   "metadata": {},
   "outputs": [
    {
     "data": {
      "text/plain": [
       "KMeans(n_clusters=10)"
      ]
     },
     "execution_count": 140,
     "metadata": {},
     "output_type": "execute_result"
    }
   ],
   "source": [
    "estimator = KMeans(init='k-means++', n_clusters=n_digits, n_init=10)\n",
    "estimator.fit(data)"
   ]
  },
  {
   "cell_type": "code",
   "execution_count": 141,
   "id": "94050eb6",
   "metadata": {},
   "outputs": [],
   "source": [
    "mutual = metrics.adjusted_mutual_info_score(labels,  estimator.labels_)\n",
    "siholitte = metrics.silhouette_score(data, estimator.labels_,\n",
    "                                      metric='euclidean',\n",
    "                                      sample_size=sample_size)\n",
    "rand = metrics.adjusted_rand_score(labels, estimator.labels_)"
   ]
  },
  {
   "cell_type": "code",
   "execution_count": 142,
   "id": "7370381f",
   "metadata": {},
   "outputs": [
    {
     "name": "stdout",
     "output_type": "stream",
     "text": [
      "Adjusted Rand Index 0.5361457295834392\n",
      "Adjusted Mutual Information: 0.6685457904988449\n",
      "Silhouette 0.1350220118986986\n"
     ]
    }
   ],
   "source": [
    "print(f\"Adjusted Rand Index {rand}\", f\"Adjusted Mutual Information: {mutual}\", f\"Silhouette {siholitte}\", sep='\\n')"
   ]
  },
  {
   "cell_type": "code",
   "execution_count": 143,
   "id": "1fc9ba4e",
   "metadata": {},
   "outputs": [
    {
     "data": {
      "text/plain": [
       "KMeans(n_clusters=10)"
      ]
     },
     "execution_count": 143,
     "metadata": {},
     "output_type": "execute_result"
    }
   ],
   "source": [
    "pca_estimator = KMeans(init='k-means++', n_clusters=n_digits, n_init=10)\n",
    "pca_estimator.fit(data_pca)"
   ]
  },
  {
   "cell_type": "code",
   "execution_count": 144,
   "id": "c1db01b6",
   "metadata": {},
   "outputs": [],
   "source": [
    "mutual = metrics.adjusted_mutual_info_score(labels,  pca_estimator.labels_)\n",
    "siholitte = metrics.silhouette_score(data, pca_estimator.labels_,\n",
    "                                      metric='euclidean',\n",
    "                                      sample_size=sample_size)\n",
    "rand = metrics.adjusted_rand_score(labels, pca_estimator.labels_)"
   ]
  },
  {
   "cell_type": "code",
   "execution_count": 145,
   "id": "95dc15ec",
   "metadata": {},
   "outputs": [
    {
     "name": "stdout",
     "output_type": "stream",
     "text": [
      "Adjusted Rand Index 0.5098878479260415\n",
      "Adjusted Mutual Information: 0.6329601091061987\n",
      "Silhouette 0.12764753427118586\n"
     ]
    }
   ],
   "source": [
    "print(f\"Adjusted Rand Index {rand}\", f\"Adjusted Mutual Information: {mutual}\", f\"Silhouette {siholitte}\", sep='\\n')"
   ]
  },
  {
   "cell_type": "markdown",
   "id": "64526966",
   "metadata": {},
   "source": [
    "## Affinity Propagation"
   ]
  },
  {
   "cell_type": "code",
   "execution_count": 146,
   "id": "64817c55",
   "metadata": {},
   "outputs": [],
   "source": [
    "from sklearn.cluster import AffinityPropagation"
   ]
  },
  {
   "cell_type": "code",
   "execution_count": 147,
   "id": "ab9dc06b",
   "metadata": {},
   "outputs": [
    {
     "data": {
      "text/plain": [
       "AffinityPropagation()"
      ]
     },
     "execution_count": 147,
     "metadata": {},
     "output_type": "execute_result"
    }
   ],
   "source": [
    "model_aff = AffinityPropagation()\n",
    "model_aff.fit(data)"
   ]
  },
  {
   "cell_type": "code",
   "execution_count": 148,
   "id": "d6151118",
   "metadata": {},
   "outputs": [
    {
     "data": {
      "text/plain": [
       "131"
      ]
     },
     "execution_count": 148,
     "metadata": {},
     "output_type": "execute_result"
    }
   ],
   "source": [
    "max(model_aff.labels_)"
   ]
  },
  {
   "cell_type": "code",
   "execution_count": 149,
   "id": "ef55c289",
   "metadata": {},
   "outputs": [],
   "source": [
    "mutual = metrics.adjusted_mutual_info_score(labels,  model_aff.labels_)\n",
    "siholitte = metrics.silhouette_score(data, model_aff.labels_,\n",
    "                                      metric='euclidean',\n",
    "                                      sample_size=sample_size)\n",
    "rand = metrics.adjusted_rand_score(labels, model_aff.labels_)"
   ]
  },
  {
   "cell_type": "code",
   "execution_count": 150,
   "id": "2f60bd3a",
   "metadata": {},
   "outputs": [
    {
     "name": "stdout",
     "output_type": "stream",
     "text": [
      "Adjusted Rand Index 0.1543890171236833\n",
      "Adjusted Mutual Information: 0.5728829386106491\n",
      "Silhouette 0.052808618955257555\n"
     ]
    }
   ],
   "source": [
    "print(f\"Adjusted Rand Index {rand}\", f\"Adjusted Mutual Information: {mutual}\", f\"Silhouette {siholitte}\", sep='\\n')"
   ]
  },
  {
   "cell_type": "code",
   "execution_count": 151,
   "id": "00315888",
   "metadata": {},
   "outputs": [
    {
     "data": {
      "text/plain": [
       "AffinityPropagation()"
      ]
     },
     "execution_count": 151,
     "metadata": {},
     "output_type": "execute_result"
    }
   ],
   "source": [
    "pca_estimator = AffinityPropagation()\n",
    "pca_estimator.fit(data_pca)"
   ]
  },
  {
   "cell_type": "code",
   "execution_count": 152,
   "id": "f0379d9a",
   "metadata": {},
   "outputs": [
    {
     "data": {
      "text/plain": [
       "AffinityPropagation()"
      ]
     },
     "execution_count": 152,
     "metadata": {},
     "output_type": "execute_result"
    }
   ],
   "source": [
    "pca_estimator"
   ]
  },
  {
   "cell_type": "code",
   "execution_count": 153,
   "id": "56e31148",
   "metadata": {},
   "outputs": [
    {
     "data": {
      "text/plain": [
       "array([54, 48, 20, ...,  1, 66, 72])"
      ]
     },
     "execution_count": 153,
     "metadata": {},
     "output_type": "execute_result"
    }
   ],
   "source": [
    "pca_estimator.labels_"
   ]
  },
  {
   "cell_type": "code",
   "execution_count": 154,
   "id": "eefe9f28",
   "metadata": {},
   "outputs": [],
   "source": [
    "mutual = metrics.adjusted_mutual_info_score(labels,  pca_estimator.labels_)\n",
    "siholitte = metrics.silhouette_score(data, pca_estimator.labels_,\n",
    "                                      metric='euclidean',\n",
    "                                      sample_size=sample_size)\n",
    "rand = metrics.adjusted_rand_score(labels, pca_estimator.labels_)"
   ]
  },
  {
   "cell_type": "code",
   "execution_count": 155,
   "id": "9bc551cc",
   "metadata": {},
   "outputs": [
    {
     "name": "stdout",
     "output_type": "stream",
     "text": [
      "Adjusted Rand Index 0.21868737338136437\n",
      "Adjusted Mutual Information: 0.5868199032905739\n",
      "Silhouette 0.02568752364013651\n"
     ]
    }
   ],
   "source": [
    "print(f\"Adjusted Rand Index {rand}\", f\"Adjusted Mutual Information: {mutual}\", f\"Silhouette {siholitte}\", sep='\\n')"
   ]
  },
  {
   "cell_type": "markdown",
   "id": "768d731d",
   "metadata": {},
   "source": [
    "## Agglomerative Hierarchical clustering"
   ]
  },
  {
   "cell_type": "code",
   "execution_count": 156,
   "id": "4432cac3",
   "metadata": {},
   "outputs": [],
   "source": [
    "from sklearn.cluster import AgglomerativeClustering"
   ]
  },
  {
   "cell_type": "code",
   "execution_count": 157,
   "id": "ff98dc7b",
   "metadata": {},
   "outputs": [
    {
     "data": {
      "text/plain": [
       "AgglomerativeClustering(n_clusters=10)"
      ]
     },
     "execution_count": 157,
     "metadata": {},
     "output_type": "execute_result"
    }
   ],
   "source": [
    "model_agglom = AgglomerativeClustering(n_clusters=10)\n",
    "model_agglom.fit(data)"
   ]
  },
  {
   "cell_type": "code",
   "execution_count": 158,
   "id": "33a6c264",
   "metadata": {},
   "outputs": [
    {
     "data": {
      "text/plain": [
       "array([5, 1, 1, ..., 1, 1, 1])"
      ]
     },
     "execution_count": 158,
     "metadata": {},
     "output_type": "execute_result"
    }
   ],
   "source": [
    "model_agglom.labels_"
   ]
  },
  {
   "cell_type": "code",
   "execution_count": 159,
   "id": "bc333118",
   "metadata": {},
   "outputs": [],
   "source": [
    "mutual = metrics.adjusted_mutual_info_score(labels,  model_agglom.labels_)\n",
    "rand = metrics.adjusted_rand_score(labels, model_agglom.labels_)\n",
    "siholitte = metrics.silhouette_score(data, model_agglom.labels_,\n",
    "                                      metric='euclidean',\n",
    "                                      sample_size=300)"
   ]
  },
  {
   "cell_type": "code",
   "execution_count": 160,
   "id": "efb0c0ac",
   "metadata": {},
   "outputs": [
    {
     "name": "stdout",
     "output_type": "stream",
     "text": [
      "Adjusted Rand Index 0.6643458356002894\n",
      "Adjusted Mutual Information: 0.7934927361004462\n",
      "Silhouette 0.13822212756512742\n"
     ]
    }
   ],
   "source": [
    "print(f\"Adjusted Rand Index {rand}\", f\"Adjusted Mutual Information: {mutual}\", f\"Silhouette {siholitte}\", sep='\\n')"
   ]
  },
  {
   "cell_type": "code",
   "execution_count": null,
   "id": "250dad47",
   "metadata": {},
   "outputs": [],
   "source": []
  },
  {
   "cell_type": "code",
   "execution_count": 161,
   "id": "fe2c7332",
   "metadata": {},
   "outputs": [
    {
     "data": {
      "text/plain": [
       "AgglomerativeClustering(n_clusters=10)"
      ]
     },
     "execution_count": 161,
     "metadata": {},
     "output_type": "execute_result"
    }
   ],
   "source": [
    "pca_estimator = AgglomerativeClustering(n_clusters=10)\n",
    "pca_estimator.fit(data_pca)"
   ]
  },
  {
   "cell_type": "code",
   "execution_count": 162,
   "id": "a49102f3",
   "metadata": {},
   "outputs": [],
   "source": [
    "mutual = metrics.adjusted_mutual_info_score(labels,  pca_estimator.labels_)\n",
    "siholitte = metrics.silhouette_score(data, pca_estimator.labels_,\n",
    "                                      metric='euclidean',\n",
    "                                      sample_size=sample_size)\n",
    "rand = metrics.adjusted_rand_score(labels, pca_estimator.labels_)"
   ]
  },
  {
   "cell_type": "code",
   "execution_count": 163,
   "id": "c5ee437e",
   "metadata": {},
   "outputs": [
    {
     "name": "stdout",
     "output_type": "stream",
     "text": [
      "Adjusted Rand Index 0.5175170872709371\n",
      "Adjusted Mutual Information: 0.6812080413094683\n",
      "Silhouette 0.10047023052277776\n"
     ]
    }
   ],
   "source": [
    "print(f\"Adjusted Rand Index {rand}\", f\"Adjusted Mutual Information: {mutual}\", f\"Silhouette {siholitte}\", sep='\\n')"
   ]
  },
  {
   "cell_type": "code",
   "execution_count": null,
   "id": "3031f5f3",
   "metadata": {},
   "outputs": [],
   "source": []
  }
 ],
 "metadata": {
  "kernelspec": {
   "display_name": "ml-course",
   "language": "python",
   "name": "ml-course"
  },
  "language_info": {
   "codemirror_mode": {
    "name": "ipython",
    "version": 3
   },
   "file_extension": ".py",
   "mimetype": "text/x-python",
   "name": "python",
   "nbconvert_exporter": "python",
   "pygments_lexer": "ipython3",
   "version": "3.8.10"
  }
 },
 "nbformat": 4,
 "nbformat_minor": 5
}
