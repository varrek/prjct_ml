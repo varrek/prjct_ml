{
 "cells": [
  {
   "cell_type": "code",
   "execution_count": 35,
   "id": "6ac3272f",
   "metadata": {},
   "outputs": [],
   "source": [
    "from sklearn.decomposition import PCA\n",
    "from sklearn import datasets\n",
    "from sklearn.preprocessing import scale\n",
    "import numpy as np\n",
    "from sklearn import metrics"
   ]
  },
  {
   "cell_type": "code",
   "execution_count": 36,
   "id": "f7682fdb",
   "metadata": {},
   "outputs": [],
   "source": [
    "digits = datasets.load_digits()\n",
    "data = scale(digits.data)\n",
    "n_samples, n_features = data.shape\n",
    "n_digits = len(np.unique(digits.target))\n",
    "labels = digits.target\n",
    "sample_size = 300"
   ]
  },
  {
   "cell_type": "code",
   "execution_count": 37,
   "id": "fd2c954c",
   "metadata": {},
   "outputs": [
    {
     "data": {
      "text/plain": [
       "array([[ 1.91421555, -0.95450159, -3.94603799,  2.02837568, -0.26559953],\n",
       "       [ 0.58898221,  0.92464386,  3.9247618 , -1.7798229 , -0.99527166],\n",
       "       [ 1.30203719, -0.31718658,  3.02333216, -2.04293568, -2.08369243],\n",
       "       ...,\n",
       "       [ 1.02259851, -0.14791292,  2.46995299, -0.62074828, -0.9694444 ],\n",
       "       [ 1.07606   , -0.38089879, -2.45550638, -1.31230627,  0.25336338],\n",
       "       [-1.25771078, -2.22762088,  0.28360834, -0.12691401, -1.56442005]])"
      ]
     },
     "execution_count": 37,
     "metadata": {},
     "output_type": "execute_result"
    }
   ],
   "source": [
    "data_pca_5 = PCA(n_components=5).fit_transform(data)\n",
    "data_pca_5"
   ]
  },
  {
   "cell_type": "code",
   "execution_count": 38,
   "id": "6709c31c",
   "metadata": {},
   "outputs": [
    {
     "data": {
      "text/plain": [
       "array([[ 1.914317  , -0.95421419, -3.94652967, ...,  0.52255669,\n",
       "        -1.41125136,  1.51099137],\n",
       "       [ 0.58906001,  0.92521281,  3.92448315, ..., -0.68616736,\n",
       "         1.88210594,  0.56736236],\n",
       "       [ 1.30256054, -0.31571534,  3.02345605, ...,  0.92062185,\n",
       "        -1.30662746,  1.17016534],\n",
       "       ...,\n",
       "       [ 1.02196519, -0.14967333,  2.47015831, ...,  0.02996551,\n",
       "         0.3843445 ,  0.48486982],\n",
       "       [ 1.07528232, -0.38329416, -2.45523416, ..., -0.59703669,\n",
       "         1.03941814,  0.71700158],\n",
       "       [-1.25874272, -2.23079842,  0.28499778, ...,  2.4102428 ,\n",
       "        -0.39209902, -1.29215186]])"
      ]
     },
     "execution_count": 38,
     "metadata": {},
     "output_type": "execute_result"
    }
   ],
   "source": [
    "data_pca_8 = PCA(n_components=8).fit_transform(data)\n",
    "data_pca_8"
   ]
  },
  {
   "cell_type": "markdown",
   "id": "f4dff437",
   "metadata": {},
   "source": [
    "## K-means"
   ]
  },
  {
   "cell_type": "code",
   "execution_count": 39,
   "id": "2a4bb1a9",
   "metadata": {},
   "outputs": [],
   "source": [
    "from sklearn.cluster import KMeans\n",
    "from scipy.spatial.distance import cdist"
   ]
  },
  {
   "cell_type": "code",
   "execution_count": 40,
   "id": "be53e539",
   "metadata": {},
   "outputs": [
    {
     "data": {
      "text/plain": [
       "KMeans(n_clusters=10)"
      ]
     },
     "execution_count": 40,
     "metadata": {},
     "output_type": "execute_result"
    }
   ],
   "source": [
    "estimator = KMeans(init='k-means++', n_clusters=n_digits, n_init=10)\n",
    "estimator.fit(data)"
   ]
  },
  {
   "cell_type": "code",
   "execution_count": 41,
   "id": "94050eb6",
   "metadata": {},
   "outputs": [],
   "source": [
    "mutual = metrics.adjusted_mutual_info_score(labels,  estimator.labels_)\n",
    "siholitte = metrics.silhouette_score(data, estimator.labels_,\n",
    "                                      metric='euclidean',\n",
    "                                      sample_size=sample_size)\n",
    "adj_rand = metrics.adjusted_rand_score(labels, estimator.labels_)\n",
    "rand = metrics.rand_score(labels, estimator.labels_)\n",
    "rand = metrics.rand_score(labels, estimator.labels_)"
   ]
  },
  {
   "cell_type": "code",
   "execution_count": 42,
   "id": "7370381f",
   "metadata": {},
   "outputs": [
    {
     "name": "stdout",
     "output_type": "stream",
     "text": [
      "Rand 0.8885794562330437\n",
      "Adjusted Rand Index 0.46034991023967187\n",
      "Adjusted Mutual Information: 0.6095850583787574\n",
      "Silhouette 0.13041403588494707\n"
     ]
    }
   ],
   "source": [
    "print(f\"Rand {rand}\",f\"Adjusted Rand Index {adj_rand}\", f\"Adjusted Mutual Information: {mutual}\", f\"Silhouette {siholitte}\", sep='\\n')"
   ]
  },
  {
   "cell_type": "code",
   "execution_count": 43,
   "id": "1fc9ba4e",
   "metadata": {},
   "outputs": [
    {
     "data": {
      "text/plain": [
       "KMeans(n_clusters=10)"
      ]
     },
     "execution_count": 43,
     "metadata": {},
     "output_type": "execute_result"
    }
   ],
   "source": [
    "pca_estimator = KMeans(init='k-means++', n_clusters=n_digits, n_init=10)\n",
    "pca_estimator.fit(data_pca_8)"
   ]
  },
  {
   "cell_type": "code",
   "execution_count": 44,
   "id": "c1db01b6",
   "metadata": {},
   "outputs": [],
   "source": [
    "mutual = metrics.adjusted_mutual_info_score(labels,  pca_estimator.labels_)\n",
    "siholitte = metrics.silhouette_score(data, pca_estimator.labels_,\n",
    "                                      metric='euclidean',\n",
    "                                      sample_size=sample_size)\n",
    "adj_rand = metrics.adjusted_rand_score(labels, pca_estimator.labels_)\n",
    "rand = metrics.rand_score(labels, pca_estimator.labels_)"
   ]
  },
  {
   "cell_type": "code",
   "execution_count": 45,
   "id": "95dc15ec",
   "metadata": {},
   "outputs": [
    {
     "name": "stdout",
     "output_type": "stream",
     "text": [
      "Rand 0.9019331898127664\n",
      "Adjusted Rand Index 0.5098878479260415\n",
      "Adjusted Mutual Information: 0.6329601091061987\n",
      "Silhouette 0.15043391171445772\n"
     ]
    }
   ],
   "source": [
    "print(f\"Rand {rand}\", f\"Adjusted Rand Index {adj_rand}\", f\"Adjusted Mutual Information: {mutual}\", f\"Silhouette {siholitte}\", sep='\\n')"
   ]
  },
  {
   "cell_type": "code",
   "execution_count": 46,
   "id": "300f41e6",
   "metadata": {},
   "outputs": [
    {
     "name": "stdout",
     "output_type": "stream",
     "text": [
      "Rand 0.8846840750421701\n",
      "Adjusted Rand Index 0.42587880657243815\n",
      "Adjusted Mutual Information: 0.5586586977115364\n",
      "Silhouette 0.11929342797265913\n"
     ]
    }
   ],
   "source": [
    "pca_estimator = KMeans(init='k-means++', n_clusters=n_digits, n_init=10)\n",
    "pca_estimator.fit(data_pca_5)\n",
    "mutual = metrics.adjusted_mutual_info_score(labels,  pca_estimator.labels_)\n",
    "siholitte = metrics.silhouette_score(data, pca_estimator.labels_,\n",
    "                                      metric='euclidean',\n",
    "                                      sample_size=sample_size)\n",
    "adj_rand = metrics.adjusted_rand_score(labels, pca_estimator.labels_)\n",
    "rand = metrics.rand_score(labels, pca_estimator.labels_)\n",
    "print(f\"Rand {rand}\", f\"Adjusted Rand Index {adj_rand}\", f\"Adjusted Mutual Information: {mutual}\", f\"Silhouette {siholitte}\", sep='\\n')"
   ]
  },
  {
   "cell_type": "markdown",
   "id": "64526966",
   "metadata": {},
   "source": [
    "## Affinity Propagation"
   ]
  },
  {
   "cell_type": "code",
   "execution_count": 47,
   "id": "64817c55",
   "metadata": {},
   "outputs": [],
   "source": [
    "from sklearn.cluster import AffinityPropagation"
   ]
  },
  {
   "cell_type": "code",
   "execution_count": 48,
   "id": "ab9dc06b",
   "metadata": {},
   "outputs": [
    {
     "data": {
      "text/plain": [
       "AffinityPropagation()"
      ]
     },
     "execution_count": 48,
     "metadata": {},
     "output_type": "execute_result"
    }
   ],
   "source": [
    "model_aff = AffinityPropagation()\n",
    "model_aff.fit(data)"
   ]
  },
  {
   "cell_type": "code",
   "execution_count": 49,
   "id": "94b9d163",
   "metadata": {},
   "outputs": [
    {
     "data": {
      "text/plain": [
       "131"
      ]
     },
     "execution_count": 49,
     "metadata": {},
     "output_type": "execute_result"
    }
   ],
   "source": [
    "len(model_aff.cluster_centers_indices_)"
   ]
  },
  {
   "cell_type": "code",
   "execution_count": 50,
   "id": "d6151118",
   "metadata": {},
   "outputs": [
    {
     "data": {
      "text/plain": [
       "130"
      ]
     },
     "execution_count": 50,
     "metadata": {},
     "output_type": "execute_result"
    }
   ],
   "source": [
    "max(model_aff.labels_)"
   ]
  },
  {
   "cell_type": "code",
   "execution_count": 51,
   "id": "ef55c289",
   "metadata": {},
   "outputs": [],
   "source": [
    "mutual = metrics.adjusted_mutual_info_score(labels,  model_aff.labels_)\n",
    "siholitte = metrics.silhouette_score(data, model_aff.labels_,\n",
    "                                      metric='euclidean',\n",
    "                                      sample_size=sample_size)\n",
    "adj_rand = metrics.adjusted_rand_score(labels, model_aff.labels_)\n",
    "rand = metrics.rand_score(labels, model_aff.labels_)"
   ]
  },
  {
   "cell_type": "code",
   "execution_count": 52,
   "id": "2f60bd3a",
   "metadata": {},
   "outputs": [
    {
     "name": "stdout",
     "output_type": "stream",
     "text": [
      "Rand 0.9090075887429309\n",
      "Adjusted Rand Index 0.15440833556141098\n",
      "Adjusted Mutual Information: 0.5731048862115512\n",
      "Silhouette 0.0610423081240067\n"
     ]
    }
   ],
   "source": [
    "print(f\"Rand {rand}\", f\"Adjusted Rand Index {adj_rand}\", f\"Adjusted Mutual Information: {mutual}\", f\"Silhouette {siholitte}\", sep='\\n')"
   ]
  },
  {
   "cell_type": "code",
   "execution_count": 53,
   "id": "00315888",
   "metadata": {},
   "outputs": [
    {
     "data": {
      "text/plain": [
       "AffinityPropagation()"
      ]
     },
     "execution_count": 53,
     "metadata": {},
     "output_type": "execute_result"
    }
   ],
   "source": [
    "aff_pca_estimator = AffinityPropagation()\n",
    "aff_pca_estimator.fit(data_pca_8)"
   ]
  },
  {
   "cell_type": "code",
   "execution_count": 54,
   "id": "f0379d9a",
   "metadata": {},
   "outputs": [
    {
     "data": {
      "text/plain": [
       "74"
      ]
     },
     "execution_count": 54,
     "metadata": {},
     "output_type": "execute_result"
    }
   ],
   "source": [
    "len(aff_pca_estimator.cluster_centers_indices_)"
   ]
  },
  {
   "cell_type": "code",
   "execution_count": 55,
   "id": "eefe9f28",
   "metadata": {},
   "outputs": [],
   "source": [
    "mutual = metrics.adjusted_mutual_info_score(labels,  aff_pca_estimator.labels_)\n",
    "siholitte = metrics.silhouette_score(data, aff_pca_estimator.labels_,\n",
    "                                      metric='euclidean',\n",
    "                                      sample_size=sample_size)\n",
    "adj_rand = metrics.adjusted_rand_score(labels, aff_pca_estimator.labels_)\n",
    "rand = metrics.rand_score(labels, aff_pca_estimator.labels_)"
   ]
  },
  {
   "cell_type": "code",
   "execution_count": 56,
   "id": "9bc551cc",
   "metadata": {},
   "outputs": [
    {
     "name": "stdout",
     "output_type": "stream",
     "text": [
      "Rand 0.9112434359170754\n",
      "Adjusted Rand Index 0.21522144604658655\n",
      "Adjusted Mutual Information: 0.5859428607590447\n",
      "Silhouette 0.044492217087618094\n"
     ]
    }
   ],
   "source": [
    "print(f\"Rand {rand}\", f\"Adjusted Rand Index {adj_rand}\", f\"Adjusted Mutual Information: {mutual}\", f\"Silhouette {siholitte}\", sep='\\n')"
   ]
  },
  {
   "cell_type": "code",
   "execution_count": 57,
   "id": "a2435493",
   "metadata": {},
   "outputs": [
    {
     "name": "stdout",
     "output_type": "stream",
     "text": [
      "Rand 0.9093670098518566\n",
      "Adjusted Rand Index 0.20732718590875004\n",
      "Adjusted Mutual Information: 0.5426420427412191\n",
      "Silhouette 0.040191527942498334\n"
     ]
    }
   ],
   "source": [
    "aff_pca_estimator = AffinityPropagation()\n",
    "aff_pca_estimator.fit(data_pca_5)\n",
    "mutual = metrics.adjusted_mutual_info_score(labels,  aff_pca_estimator.labels_)\n",
    "siholitte = metrics.silhouette_score(data, aff_pca_estimator.labels_,\n",
    "                                      metric='euclidean',\n",
    "                                      sample_size=sample_size)\n",
    "adj_rand = metrics.adjusted_rand_score(labels, aff_pca_estimator.labels_)\n",
    "rand = metrics.rand_score(labels, aff_pca_estimator.labels_)\n",
    "print(f\"Rand {rand}\", f\"Adjusted Rand Index {adj_rand}\", f\"Adjusted Mutual Information: {mutual}\", f\"Silhouette {siholitte}\", sep='\\n')"
   ]
  },
  {
   "cell_type": "markdown",
   "id": "768d731d",
   "metadata": {},
   "source": [
    "## Agglomerative Hierarchical clustering"
   ]
  },
  {
   "cell_type": "code",
   "execution_count": 58,
   "id": "4432cac3",
   "metadata": {},
   "outputs": [],
   "source": [
    "from sklearn.cluster import AgglomerativeClustering"
   ]
  },
  {
   "cell_type": "code",
   "execution_count": 59,
   "id": "ff98dc7b",
   "metadata": {},
   "outputs": [
    {
     "data": {
      "text/plain": [
       "AgglomerativeClustering(n_clusters=10)"
      ]
     },
     "execution_count": 59,
     "metadata": {},
     "output_type": "execute_result"
    }
   ],
   "source": [
    "model_agglom = AgglomerativeClustering(n_clusters=n_digits)\n",
    "model_agglom.fit(data)"
   ]
  },
  {
   "cell_type": "code",
   "execution_count": 60,
   "id": "33a6c264",
   "metadata": {},
   "outputs": [
    {
     "data": {
      "text/plain": [
       "array([5, 1, 1, ..., 1, 1, 1])"
      ]
     },
     "execution_count": 60,
     "metadata": {},
     "output_type": "execute_result"
    }
   ],
   "source": [
    "model_agglom.labels_"
   ]
  },
  {
   "cell_type": "code",
   "execution_count": 61,
   "id": "bc333118",
   "metadata": {},
   "outputs": [],
   "source": [
    "mutual = metrics.adjusted_mutual_info_score(labels,  model_agglom.labels_)\n",
    "adj_rand = metrics.adjusted_rand_score(labels, model_agglom.labels_)\n",
    "rand = metrics.rand_score(labels, model_agglom.labels_)\n",
    "siholitte = metrics.silhouette_score(data, model_agglom.labels_,\n",
    "                                      metric='euclidean',\n",
    "                                      sample_size=300)"
   ]
  },
  {
   "cell_type": "code",
   "execution_count": 62,
   "id": "efb0c0ac",
   "metadata": {},
   "outputs": [
    {
     "name": "stdout",
     "output_type": "stream",
     "text": [
      "Rand 0.9302549535045417\n",
      "Adjusted Rand Index 0.6643458356002894\n",
      "Adjusted Mutual Information: 0.7934927361004462\n",
      "Silhouette 0.14204655220593906\n"
     ]
    }
   ],
   "source": [
    "print(f\"Rand {rand}\",f\"Adjusted Rand Index {adj_rand}\", f\"Adjusted Mutual Information: {mutual}\", f\"Silhouette {siholitte}\", sep='\\n')"
   ]
  },
  {
   "cell_type": "code",
   "execution_count": null,
   "id": "250dad47",
   "metadata": {},
   "outputs": [],
   "source": []
  },
  {
   "cell_type": "code",
   "execution_count": 63,
   "id": "fe2c7332",
   "metadata": {},
   "outputs": [
    {
     "data": {
      "text/plain": [
       "AgglomerativeClustering(n_clusters=10)"
      ]
     },
     "execution_count": 63,
     "metadata": {},
     "output_type": "execute_result"
    }
   ],
   "source": [
    "agg_pca_estimator = AgglomerativeClustering(n_clusters=n_digits)\n",
    "agg_pca_estimator.fit(data_pca_8)"
   ]
  },
  {
   "cell_type": "code",
   "execution_count": 64,
   "id": "a49102f3",
   "metadata": {},
   "outputs": [],
   "source": [
    "mutual = metrics.adjusted_mutual_info_score(labels,  agg_pca_estimator.labels_)\n",
    "siholitte = metrics.silhouette_score(data, agg_pca_estimator.labels_,\n",
    "                                      metric='euclidean',\n",
    "                                      sample_size=sample_size)\n",
    "rand = metrics.rand_score(labels, agg_pca_estimator.labels_)\n",
    "adj_rand = metrics.adjusted_rand_score(labels, agg_pca_estimator.labels_)"
   ]
  },
  {
   "cell_type": "code",
   "execution_count": 65,
   "id": "c5ee437e",
   "metadata": {},
   "outputs": [
    {
     "name": "stdout",
     "output_type": "stream",
     "text": [
      "Rand 0.9141033124993029\n",
      "Adjusted Rand Index 0.5556872427395279\n",
      "Adjusted Mutual Information: 0.6862775529879439\n",
      "Silhouette 0.11673411007943015\n"
     ]
    }
   ],
   "source": [
    "print(f\"Rand {rand}\", f\"Adjusted Rand Index {adj_rand}\", f\"Adjusted Mutual Information: {mutual}\", f\"Silhouette {siholitte}\", sep='\\n')"
   ]
  },
  {
   "cell_type": "code",
   "execution_count": 66,
   "id": "3031f5f3",
   "metadata": {},
   "outputs": [
    {
     "name": "stdout",
     "output_type": "stream",
     "text": [
      "Rand 0.8753155779305524\n",
      "Adjusted Rand Index 0.4191347209316558\n",
      "Adjusted Mutual Information: 0.5971611132494623\n",
      "Silhouette 0.10324761703841295\n"
     ]
    }
   ],
   "source": [
    "agg_pca_estimator = AgglomerativeClustering(n_clusters=n_digits)\n",
    "agg_pca_estimator.fit(data_pca_5)\n",
    "mutual = metrics.adjusted_mutual_info_score(labels,  agg_pca_estimator.labels_)\n",
    "siholitte = metrics.silhouette_score(data, agg_pca_estimator.labels_,\n",
    "                                      metric='euclidean',\n",
    "                                      sample_size=sample_size)\n",
    "adj_rand = metrics.adjusted_rand_score(labels, agg_pca_estimator.labels_)\n",
    "rand = metrics.rand_score(labels, agg_pca_estimator.labels_)\n",
    "print(f\"Rand {rand}\", f\"Adjusted Rand Index {adj_rand}\", f\"Adjusted Mutual Information: {mutual}\", f\"Silhouette {siholitte}\", sep='\\n')"
   ]
  },
  {
   "cell_type": "raw",
   "id": "a8f964a2",
   "metadata": {},
   "source": []
  }
 ],
 "metadata": {
  "kernelspec": {
   "display_name": "ml-course",
   "language": "python",
   "name": "ml-course"
  },
  "language_info": {
   "codemirror_mode": {
    "name": "ipython",
    "version": 3
   },
   "file_extension": ".py",
   "mimetype": "text/x-python",
   "name": "python",
   "nbconvert_exporter": "python",
   "pygments_lexer": "ipython3",
   "version": "3.8.10"
  }
 },
 "nbformat": 4,
 "nbformat_minor": 5
}
