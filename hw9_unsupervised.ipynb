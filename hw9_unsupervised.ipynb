{
 "cells": [
  {
   "cell_type": "code",
   "execution_count": 204,
   "id": "6ac3272f",
   "metadata": {},
   "outputs": [],
   "source": [
    "from sklearn.decomposition import PCA\n",
    "from sklearn import datasets\n",
    "from sklearn.preprocessing import scale\n",
    "import numpy as np\n",
    "from sklearn import metrics"
   ]
  },
  {
   "cell_type": "code",
   "execution_count": 205,
   "id": "f7682fdb",
   "metadata": {},
   "outputs": [],
   "source": [
    "digits = datasets.load_digits()\n",
    "data = scale(digits.data)\n",
    "n_samples, n_features = data.shape\n",
    "n_digits = len(np.unique(digits.target))\n",
    "labels = digits.target\n",
    "sample_size = 300"
   ]
  },
  {
   "cell_type": "code",
   "execution_count": null,
   "id": "fd2c954c",
   "metadata": {},
   "outputs": [],
   "source": [
    "data_pca_5 = PCA(n_components=5).fit_transform(data)\n",
    "data_pca_5"
   ]
  },
  {
   "cell_type": "code",
   "execution_count": 206,
   "id": "6709c31c",
   "metadata": {},
   "outputs": [
    {
     "data": {
      "text/plain": [
       "array([[ 1.91405139, -0.95421576, -3.94593459, ...,  0.53111805,\n",
       "        -1.41593471,  1.48793325],\n",
       "       [ 0.58867073,  0.92553703,  3.92318764, ..., -0.66207758,\n",
       "         1.89760634,  0.50960404],\n",
       "       [ 1.30219356, -0.31769635,  3.02324257, ...,  0.93879634,\n",
       "        -1.29954195,  1.14878233],\n",
       "       ...,\n",
       "       [ 1.02284309, -0.14857833,  2.47253504, ..., -0.01478505,\n",
       "         0.35267242,  0.52931033],\n",
       "       [ 1.0761579 , -0.38148618, -2.45361869, ..., -0.64874384,\n",
       "         1.01936394,  0.76431466],\n",
       "       [-1.25669035, -2.22991344,  0.28852886, ...,  2.32318125,\n",
       "        -0.43222551, -1.14441305]])"
      ]
     },
     "execution_count": 206,
     "metadata": {},
     "output_type": "execute_result"
    }
   ],
   "source": [
    "data_pca_8 = PCA(n_components=8).fit_transform(data)\n",
    "data_pca_8"
   ]
  },
  {
   "cell_type": "markdown",
   "id": "f4dff437",
   "metadata": {},
   "source": [
    "## K-means"
   ]
  },
  {
   "cell_type": "code",
   "execution_count": 207,
   "id": "2a4bb1a9",
   "metadata": {},
   "outputs": [],
   "source": [
    "from sklearn.cluster import KMeans\n",
    "from scipy.spatial.distance import cdist"
   ]
  },
  {
   "cell_type": "code",
   "execution_count": 208,
   "id": "be53e539",
   "metadata": {},
   "outputs": [
    {
     "data": {
      "text/plain": [
       "KMeans(n_clusters=10)"
      ]
     },
     "execution_count": 208,
     "metadata": {},
     "output_type": "execute_result"
    }
   ],
   "source": [
    "estimator = KMeans(init='k-means++', n_clusters=n_digits, n_init=10)\n",
    "estimator.fit(data)"
   ]
  },
  {
   "cell_type": "code",
   "execution_count": 209,
   "id": "94050eb6",
   "metadata": {},
   "outputs": [],
   "source": [
    "mutual = metrics.adjusted_mutual_info_score(labels,  estimator.labels_)\n",
    "siholitte = metrics.silhouette_score(data, estimator.labels_,\n",
    "                                      metric='euclidean',\n",
    "                                      sample_size=sample_size)\n",
    "adj_rand = metrics.adjusted_rand_score(labels, estimator.labels_)\n",
    "rand = metrics.rand_score(labels, estimator.labels_)"
   ]
  },
  {
   "cell_type": "code",
   "execution_count": 210,
   "id": "7370381f",
   "metadata": {},
   "outputs": [
    {
     "name": "stdout",
     "output_type": "stream",
     "text": [
      "Adjusted Rand Index 0.4662530761948069\n",
      "Adjusted Mutual Information: 0.612678156041812\n",
      "Silhouette 0.12559126075575974\n"
     ]
    }
   ],
   "source": [
    "print(f\"Rand {rand}\",f\"Adjusted Rand Index {adj_rand}\", f\"Adjusted Mutual Information: {mutual}\", f\"Silhouette {siholitte}\", sep='\\n')"
   ]
  },
  {
   "cell_type": "code",
   "execution_count": 211,
   "id": "1fc9ba4e",
   "metadata": {},
   "outputs": [
    {
     "data": {
      "text/plain": [
       "KMeans(n_clusters=10)"
      ]
     },
     "execution_count": 211,
     "metadata": {},
     "output_type": "execute_result"
    }
   ],
   "source": [
    "pca_estimator = KMeans(init='k-means++', n_clusters=n_digits, n_init=10)\n",
    "pca_estimator.fit(data_pca_8)"
   ]
  },
  {
   "cell_type": "code",
   "execution_count": 212,
   "id": "c1db01b6",
   "metadata": {},
   "outputs": [],
   "source": [
    "mutual = metrics.adjusted_mutual_info_score(labels,  pca_estimator.labels_)\n",
    "siholitte = metrics.silhouette_score(data, pca_estimator.labels_,\n",
    "                                      metric='euclidean',\n",
    "                                      sample_size=sample_size)\n",
    "adj_rand = metrics.adjusted_adj__score(labels, pca_estimator.labels_)\n",
    "rand = metrics.rand_score(labels, estimator.labels_)"
   ]
  },
  {
   "cell_type": "code",
   "execution_count": 213,
   "id": "95dc15ec",
   "metadata": {},
   "outputs": [
    {
     "name": "stdout",
     "output_type": "stream",
     "text": [
      "Adjusted Rand Index 0.5083604674798776\n",
      "Adjusted Mutual Information: 0.6311530915500716\n",
      "Silhouette 0.13925349953910762\n"
     ]
    }
   ],
   "source": [
    "print(f\"Rand {rand}\", f\"Adjusted Rand Index {adj_rand}\", f\"Adjusted Mutual Information: {mutual}\", f\"Silhouette {siholitte}\", sep='\\n')"
   ]
  },
  {
   "cell_type": "code",
   "execution_count": null,
   "id": "4e4fab97",
   "metadata": {},
   "outputs": [],
   "source": [
    "pca_estimator = KMeans(init='k-means++', n_clusters=n_digits, n_init=10)\n",
    "pca_estimator.fit(data_pca_5)\n",
    "mutual = metrics.adjusted_mutual_info_score(labels,  pca_estimator.labels_)\n",
    "siholitte = metrics.silhouette_score(data, pca_estimator.labels_,\n",
    "                                      metric='euclidean',\n",
    "                                      sample_size=sample_size)\n",
    "adj_rand = metrics.adjusted_rand_score(labels, pca_estimator.labels_)\n",
    "rand = metrics.rand_score(labels, estimator.labels_)\n",
    "print(f\"Rand {rand}\", f\"Adjusted Rand Index {adj_rand}\", f\"Adjusted Mutual Information: {mutual}\", f\"Silhouette {siholitte}\", sep='\\n')"
   ]
  },
  {
   "cell_type": "markdown",
   "id": "64526966",
   "metadata": {},
   "source": [
    "## Affinity Propagation"
   ]
  },
  {
   "cell_type": "code",
   "execution_count": 214,
   "id": "64817c55",
   "metadata": {},
   "outputs": [],
   "source": [
    "from sklearn.cluster import AffinityPropagation"
   ]
  },
  {
   "cell_type": "code",
   "execution_count": 215,
   "id": "ab9dc06b",
   "metadata": {},
   "outputs": [
    {
     "data": {
      "text/plain": [
       "AffinityPropagation()"
      ]
     },
     "execution_count": 215,
     "metadata": {},
     "output_type": "execute_result"
    }
   ],
   "source": [
    "model_aff = AffinityPropagation()\n",
    "model_aff.fit(data)"
   ]
  },
  {
   "cell_type": "code",
   "execution_count": 216,
   "id": "94b9d163",
   "metadata": {},
   "outputs": [
    {
     "data": {
      "text/plain": [
       "132"
      ]
     },
     "execution_count": 216,
     "metadata": {},
     "output_type": "execute_result"
    }
   ],
   "source": [
    "len(model_aff.cluster_centers_indices_)"
   ]
  },
  {
   "cell_type": "code",
   "execution_count": 217,
   "id": "d6151118",
   "metadata": {},
   "outputs": [
    {
     "data": {
      "text/plain": [
       "131"
      ]
     },
     "execution_count": 217,
     "metadata": {},
     "output_type": "execute_result"
    }
   ],
   "source": [
    "max(model_aff.labels_)"
   ]
  },
  {
   "cell_type": "code",
   "execution_count": 218,
   "id": "ef55c289",
   "metadata": {},
   "outputs": [],
   "source": [
    "mutual = metrics.adjusted_mutual_info_score(labels,  model_aff.labels_)\n",
    "siholitte = metrics.silhouette_score(data, model_aff.labels_,\n",
    "                                      metric='euclidean',\n",
    "                                      sample_size=sample_size)\n",
    "adj_rand = metrics.adjusted_rand_score(labels, model_aff.labels_)\n",
    "rand = metrics.rand_score(labels, estimator.labels_)"
   ]
  },
  {
   "cell_type": "code",
   "execution_count": 219,
   "id": "2f60bd3a",
   "metadata": {},
   "outputs": [
    {
     "name": "stdout",
     "output_type": "stream",
     "text": [
      "Adjusted Rand Index 0.1543890171236833\n",
      "Adjusted Mutual Information: 0.5728829386106491\n",
      "Silhouette 0.059802242874669294\n"
     ]
    }
   ],
   "source": [
    "print(f\"Rand {rand}\", f\"Adjusted Rand Index {adj_rand}\", f\"Adjusted Mutual Information: {mutual}\", f\"Silhouette {siholitte}\", sep='\\n')"
   ]
  },
  {
   "cell_type": "code",
   "execution_count": 220,
   "id": "00315888",
   "metadata": {},
   "outputs": [
    {
     "data": {
      "text/plain": [
       "AffinityPropagation()"
      ]
     },
     "execution_count": 220,
     "metadata": {},
     "output_type": "execute_result"
    }
   ],
   "source": [
    "aff_pca_estimator = AffinityPropagation()\n",
    "aff_pca_estimator.fit(data_pca_8)"
   ]
  },
  {
   "cell_type": "code",
   "execution_count": 221,
   "id": "f0379d9a",
   "metadata": {},
   "outputs": [
    {
     "data": {
      "text/plain": [
       "75"
      ]
     },
     "execution_count": 221,
     "metadata": {},
     "output_type": "execute_result"
    }
   ],
   "source": [
    "len(aff_pca_estimator.cluster_centers_indices_)"
   ]
  },
  {
   "cell_type": "code",
   "execution_count": 222,
   "id": "eefe9f28",
   "metadata": {},
   "outputs": [],
   "source": [
    "mutual = metrics.adjusted_mutual_info_score(labels,  aff_pca_estimator.labels_)\n",
    "siholitte = metrics.silhouette_score(data, aff_pca_estimator.labels_,\n",
    "                                      metric='euclidean',\n",
    "                                      sample_size=sample_size)\n",
    "adj_rand = metrics.adjusted_rand_score(labels, aff_pca_estimator.labels_)\n",
    "rand = metrics.rand_score(labels, estimator.labels_)"
   ]
  },
  {
   "cell_type": "code",
   "execution_count": 223,
   "id": "9bc551cc",
   "metadata": {},
   "outputs": [
    {
     "name": "stdout",
     "output_type": "stream",
     "text": [
      "Adjusted Rand Index 0.2145950107593524\n",
      "Adjusted Mutual Information: 0.5835018417710425\n",
      "Silhouette 0.03413962164031616\n"
     ]
    }
   ],
   "source": [
    "print(f\"Rand {rand}\", f\"Adjusted Rand Index {adj_rand}\", f\"Adjusted Mutual Information: {mutual}\", f\"Silhouette {siholitte}\", sep='\\n')"
   ]
  },
  {
   "cell_type": "code",
   "execution_count": null,
   "id": "4eca702d",
   "metadata": {},
   "outputs": [],
   "source": [
    "aff_pca_estimator = AffinityPropagation()\n",
    "aff_pca_estimator.fit(data_pca_5)\n",
    "mutual = metrics.adjusted_mutual_info_score(labels,  aff_pca_estimator.labels_)\n",
    "siholitte = metrics.silhouette_score(data, aff_pca_estimator.labels_,\n",
    "                                      metric='euclidean',\n",
    "                                      sample_size=sample_size)\n",
    "adj_rand = metrics.adjusted_rand_score(labels, aff_pca_estimator.labels_)\n",
    "rand = metrics.rand_score(labels, estimator.labels_)\n",
    "print(f\"Rand {rand}\", f\"Adjusted Rand Index {adj_rand}\", f\"Adjusted Mutual Information: {mutual}\", f\"Silhouette {siholitte}\", sep='\\n')"
   ]
  },
  {
   "cell_type": "markdown",
   "id": "768d731d",
   "metadata": {},
   "source": [
    "## Agglomerative Hierarchical clustering"
   ]
  },
  {
   "cell_type": "code",
   "execution_count": 224,
   "id": "4432cac3",
   "metadata": {},
   "outputs": [],
   "source": [
    "from sklearn.cluster import AgglomerativeClustering"
   ]
  },
  {
   "cell_type": "code",
   "execution_count": 225,
   "id": "ff98dc7b",
   "metadata": {},
   "outputs": [
    {
     "data": {
      "text/plain": [
       "AgglomerativeClustering(n_clusters=10)"
      ]
     },
     "execution_count": 225,
     "metadata": {},
     "output_type": "execute_result"
    }
   ],
   "source": [
    "model_agglom = AgglomerativeClustering(n_clusters=n_digits)\n",
    "model_agglom.fit(data)"
   ]
  },
  {
   "cell_type": "code",
   "execution_count": 226,
   "id": "33a6c264",
   "metadata": {},
   "outputs": [
    {
     "data": {
      "text/plain": [
       "array([5, 1, 1, ..., 1, 1, 1])"
      ]
     },
     "execution_count": 226,
     "metadata": {},
     "output_type": "execute_result"
    }
   ],
   "source": [
    "model_agglom.labels_"
   ]
  },
  {
   "cell_type": "code",
   "execution_count": 227,
   "id": "bc333118",
   "metadata": {},
   "outputs": [],
   "source": [
    "mutual = metrics.adjusted_mutual_info_score(labels,  model_agglom.labels_)\n",
    "adj_rand = metrics.adjusted_rand_score(labels, model_agglom.labels_)\n",
    "rand = metrics.rand_score(labels, estimator.labels_)\n",
    "siholitte = metrics.silhouette_score(data, model_agglom.labels_,\n",
    "                                      metric='euclidean',\n",
    "                                      sample_size=300)"
   ]
  },
  {
   "cell_type": "code",
   "execution_count": 228,
   "id": "efb0c0ac",
   "metadata": {},
   "outputs": [
    {
     "name": "stdout",
     "output_type": "stream",
     "text": [
      "Adjusted Rand Index 0.6643458356002894\n",
      "Adjusted Mutual Information: 0.7934927361004462\n",
      "Silhouette 0.13271791991498086\n"
     ]
    }
   ],
   "source": [
    "print(f\"Rand {rand}\",f\"Adjusted Rand Index {adj_rand}\", f\"Adjusted Mutual Information: {mutual}\", f\"Silhouette {siholitte}\", sep='\\n')"
   ]
  },
  {
   "cell_type": "code",
   "execution_count": null,
   "id": "250dad47",
   "metadata": {},
   "outputs": [],
   "source": []
  },
  {
   "cell_type": "code",
   "execution_count": 229,
   "id": "fe2c7332",
   "metadata": {},
   "outputs": [
    {
     "data": {
      "text/plain": [
       "AgglomerativeClustering(n_clusters=10)"
      ]
     },
     "execution_count": 229,
     "metadata": {},
     "output_type": "execute_result"
    }
   ],
   "source": [
    "agg_pca_estimator = AgglomerativeClustering(n_clusters=n_digits)\n",
    "agg_pca_estimator.fit(data_pca_8)"
   ]
  },
  {
   "cell_type": "code",
   "execution_count": 230,
   "id": "a49102f3",
   "metadata": {},
   "outputs": [],
   "source": [
    "mutual = metrics.adjusted_mutual_info_score(labels,  agg_pca_estimator.labels_)\n",
    "siholitte = metrics.silhouette_score(data, agg_pca_estimator.labels_,\n",
    "                                      metric='euclidean',\n",
    "                                      sample_size=sample_size)\n",
    "rand = metrics.rand_score(labels, estimator.labels_)\n",
    "adj_rand = metrics.adjusted_rand_score(labels, agg_pca_estimator.labels_)"
   ]
  },
  {
   "cell_type": "code",
   "execution_count": 231,
   "id": "c5ee437e",
   "metadata": {},
   "outputs": [
    {
     "name": "stdout",
     "output_type": "stream",
     "text": [
      "Adjusted Rand Index 0.5404614204652988\n",
      "Adjusted Mutual Information: 0.6833793151852052\n",
      "Silhouette 0.10831738051460027\n"
     ]
    }
   ],
   "source": [
    "print(f\"Rand {rand}\", f\"Adjusted Rand Index {adj_rand}\", f\"Adjusted Mutual Information: {mutual}\", f\"Silhouette {siholitte}\", sep='\\n')"
   ]
  },
  {
   "cell_type": "code",
   "execution_count": null,
   "id": "3031f5f3",
   "metadata": {},
   "outputs": [],
   "source": [
    "agg_pca_estimator = AgglomerativeClustering(n_clusters=n_digits)\n",
    "agg_pca_estimator.fit(data_pca_5)\n",
    "mutual = metrics.adjusted_mutual_info_score(labels,  agg_pca_estimator.labels_)\n",
    "siholitte = metrics.silhouette_score(data, agg_pca_estimator.labels_,\n",
    "                                      metric='euclidean',\n",
    "                                      sample_size=sample_size)\n",
    "adj_rand = metrics.adjusted_rand_score(labels, agg_pca_estimator.labels_)\n",
    "rand = metrics.rand_score(labels, estimator.labels_)\n",
    "print(f\"Rand {rand}\", f\"Adjusted Rand Index {adj_rand}\", f\"Adjusted Mutual Information: {mutual}\", f\"Silhouette {siholitte}\", sep='\\n')"
   ]
  }
 ],
 "metadata": {
  "kernelspec": {
   "display_name": "ml-course",
   "language": "python",
   "name": "ml-course"
  },
  "language_info": {
   "codemirror_mode": {
    "name": "ipython",
    "version": 3
   },
   "file_extension": ".py",
   "mimetype": "text/x-python",
   "name": "python",
   "nbconvert_exporter": "python",
   "pygments_lexer": "ipython3",
   "version": "3.8.10"
  }
 },
 "nbformat": 4,
 "nbformat_minor": 5
}
