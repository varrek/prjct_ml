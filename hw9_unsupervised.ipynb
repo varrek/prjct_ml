{
 "cells": [
  {
   "cell_type": "code",
   "execution_count": 38,
   "id": "6ac3272f",
   "metadata": {},
   "outputs": [],
   "source": [
    "from sklearn.decomposition import PCA\n",
    "from sklearn import datasets\n",
    "from sklearn.preprocessing import scale\n",
    "import numpy as np\n",
    "from sklearn import metrics"
   ]
  },
  {
   "cell_type": "code",
   "execution_count": 39,
   "id": "f7682fdb",
   "metadata": {},
   "outputs": [],
   "source": [
    "digits = datasets.load_digits()\n",
    "data = scale(digits.data)\n",
    "n_samples, n_features = data.shape\n",
    "n_digits = len(np.unique(digits.target))\n",
    "labels = digits.target\n",
    "sample_size = 300"
   ]
  },
  {
   "cell_type": "code",
   "execution_count": 40,
   "id": "7ac5ed6d",
   "metadata": {},
   "outputs": [],
   "source": [
    "pca = PCA(n_components=n_digits).fit(data)"
   ]
  },
  {
   "cell_type": "code",
   "execution_count": 71,
   "id": "6709c31c",
   "metadata": {},
   "outputs": [
    {
     "data": {
      "text/plain": [
       "array([[ 1.91423647, -0.95453733, -3.94609453, ...,  1.48688184,\n",
       "         0.10830879, -0.81418189],\n",
       "       [ 0.58892003,  0.92472431,  3.92464773, ...,  0.56929456,\n",
       "         1.08630913,  0.0768659 ],\n",
       "       [ 1.30207782, -0.31729262,  3.02279292, ...,  1.14149862,\n",
       "         0.76335208, -1.10666762],\n",
       "       ...,\n",
       "       [ 1.02254591, -0.14780846,  2.4692302 , ...,  0.54251764,\n",
       "         2.06498769, -2.03110768],\n",
       "       [ 1.07625992, -0.38082791, -2.45527164, ...,  0.74636942,\n",
       "         1.1028517 , -0.31603437],\n",
       "       [-1.2575744 , -2.22758872,  0.28304905, ..., -1.21779362,\n",
       "         0.8003097 , -1.82684755]])"
      ]
     },
     "execution_count": 71,
     "metadata": {},
     "output_type": "execute_result"
    }
   ],
   "source": [
    "data_pca =  pca.fit_transform(data)\n",
    "data_pca"
   ]
  },
  {
   "cell_type": "markdown",
   "id": "f4dff437",
   "metadata": {},
   "source": [
    "## K-means"
   ]
  },
  {
   "cell_type": "code",
   "execution_count": 72,
   "id": "2a4bb1a9",
   "metadata": {},
   "outputs": [],
   "source": [
    "from sklearn.cluster import KMeans\n",
    "from scipy.spatial.distance import cdist"
   ]
  },
  {
   "cell_type": "code",
   "execution_count": 73,
   "id": "be53e539",
   "metadata": {},
   "outputs": [
    {
     "data": {
      "text/plain": [
       "KMeans(n_clusters=10)"
      ]
     },
     "execution_count": 73,
     "metadata": {},
     "output_type": "execute_result"
    }
   ],
   "source": [
    "estimator = KMeans(init='k-means++', n_clusters=n_digits, n_init=10)\n",
    "estimator.fit(data)"
   ]
  },
  {
   "cell_type": "code",
   "execution_count": 74,
   "id": "94050eb6",
   "metadata": {},
   "outputs": [],
   "source": [
    "mutual = metrics.adjusted_mutual_info_score(labels,  estimator.labels_)\n",
    "siholitte = metrics.silhouette_score(data, estimator.labels_,\n",
    "                                      metric='euclidean',\n",
    "                                      sample_size=sample_size)\n",
    "rand = metrics.adjusted_rand_score(labels, estimator.labels_)"
   ]
  },
  {
   "cell_type": "code",
   "execution_count": 75,
   "id": "7370381f",
   "metadata": {},
   "outputs": [
    {
     "name": "stdout",
     "output_type": "stream",
     "text": [
      "Adjusted Rand Index 0.4792905956825979\n",
      "Adjusted Mutual Information: 0.6297756012869173\n",
      "Silhouette 0.14055768487796422\n"
     ]
    }
   ],
   "source": [
    "print(f\"Adjusted Rand Index {rand}\", f\"Adjusted Mutual Information: {mutual}\", f\"Silhouette {siholitte}\", sep='\\n')"
   ]
  },
  {
   "cell_type": "code",
   "execution_count": 77,
   "id": "1fc9ba4e",
   "metadata": {},
   "outputs": [
    {
     "data": {
      "text/plain": [
       "KMeans(init=array([[-2.54682015e-17, -1.82233904e-01, -2.85867963e-01,\n",
       "        -2.20370020e-01,  2.51688666e-02,  9.49553392e-03,\n",
       "         5.24765125e-02,  6.26959166e-02, -3.47102289e-02,\n",
       "        -2.45533431e-01, -2.29150110e-01,  1.07945478e-01,\n",
       "        -3.62007386e-02, -3.87116043e-02,  8.37811938e-02,\n",
       "         9.27757038e-02, -1.67012570e-02, -1.36715088e-01,\n",
       "         6.30533216e-02,  1.22878700e-01, -1.48193153e-01,\n",
       "         2.3...\n",
       "        -1.31012231e-01,  8.12188224e-02, -1.39453559e-02,\n",
       "        -1.48727740e-01,  4.58752165e-02,  4.36652278e-02,\n",
       "         1.14268375e-01, -1.00827372e-01, -2.41509177e-01,\n",
       "        -6.21881185e-02, -1.14129753e-01, -1.67783739e-01,\n",
       "         3.95040742e-02,  2.65240810e-02, -2.35284390e-02,\n",
       "         9.06368518e-03,  1.31571538e-02, -1.06814041e-01,\n",
       "        -1.01085399e-01, -3.68546064e-02,  5.67490854e-02,\n",
       "         2.92571515e-02]]),\n",
       "       n_clusters=10, n_init=1)"
      ]
     },
     "execution_count": 77,
     "metadata": {},
     "output_type": "execute_result"
    }
   ],
   "source": [
    "pca_estimator = KMeans(init=pca.components_, n_clusters=n_digits, n_init=1)\n",
    "pca_estimator.fit(data)"
   ]
  },
  {
   "cell_type": "code",
   "execution_count": 78,
   "id": "c1db01b6",
   "metadata": {},
   "outputs": [],
   "source": [
    "mutual = metrics.adjusted_mutual_info_score(labels,  pca_estimator.labels_)\n",
    "siholitte = metrics.silhouette_score(data, pca_estimator.labels_,\n",
    "                                      metric='euclidean',\n",
    "                                      sample_size=sample_size)\n",
    "rand = metrics.adjusted_rand_score(labels, pca_estimator.labels_)"
   ]
  },
  {
   "cell_type": "code",
   "execution_count": 79,
   "id": "95dc15ec",
   "metadata": {},
   "outputs": [
    {
     "name": "stdout",
     "output_type": "stream",
     "text": [
      "Adjusted Rand Index 0.5542653654111069\n",
      "Adjusted Mutual Information: 0.6771577864975292\n",
      "Silhouette 0.1395210630788652\n"
     ]
    }
   ],
   "source": [
    "print(f\"Adjusted Rand Index {rand}\", f\"Adjusted Mutual Information: {mutual}\", f\"Silhouette {siholitte}\", sep='\\n')"
   ]
  },
  {
   "cell_type": "markdown",
   "id": "64526966",
   "metadata": {},
   "source": [
    "## Affinity Propagation"
   ]
  },
  {
   "cell_type": "code",
   "execution_count": 80,
   "id": "64817c55",
   "metadata": {},
   "outputs": [],
   "source": [
    "from sklearn.cluster import AffinityPropagation"
   ]
  },
  {
   "cell_type": "code",
   "execution_count": 81,
   "id": "ab9dc06b",
   "metadata": {},
   "outputs": [
    {
     "data": {
      "text/plain": [
       "AffinityPropagation()"
      ]
     },
     "execution_count": 81,
     "metadata": {},
     "output_type": "execute_result"
    }
   ],
   "source": [
    "model_aff = AffinityPropagation()\n",
    "model_aff.fit(data)"
   ]
  },
  {
   "cell_type": "code",
   "execution_count": 112,
   "id": "d6151118",
   "metadata": {},
   "outputs": [
    {
     "data": {
      "text/plain": [
       "130"
      ]
     },
     "execution_count": 112,
     "metadata": {},
     "output_type": "execute_result"
    }
   ],
   "source": [
    "max(model_aff.labels_)"
   ]
  },
  {
   "cell_type": "code",
   "execution_count": 83,
   "id": "ef55c289",
   "metadata": {},
   "outputs": [],
   "source": [
    "mutual = metrics.adjusted_mutual_info_score(labels,  model_aff.labels_)\n",
    "siholitte = metrics.silhouette_score(data, model_aff.labels_,\n",
    "                                      metric='euclidean',\n",
    "                                      sample_size=sample_size)\n",
    "rand = metrics.adjusted_rand_score(labels, model_aff.labels_)"
   ]
  },
  {
   "cell_type": "code",
   "execution_count": 84,
   "id": "2f60bd3a",
   "metadata": {},
   "outputs": [
    {
     "name": "stdout",
     "output_type": "stream",
     "text": [
      "Adjusted Rand Index 0.15438938454814916\n",
      "Adjusted Mutual Information: 0.5729007446527502\n",
      "Silhouette 0.060616256541993985\n"
     ]
    }
   ],
   "source": [
    "print(f\"Adjusted Rand Index {rand}\", f\"Adjusted Mutual Information: {mutual}\", f\"Silhouette {siholitte}\", sep='\\n')"
   ]
  },
  {
   "cell_type": "code",
   "execution_count": 85,
   "id": "00315888",
   "metadata": {},
   "outputs": [
    {
     "data": {
      "text/plain": [
       "AffinityPropagation()"
      ]
     },
     "execution_count": 85,
     "metadata": {},
     "output_type": "execute_result"
    }
   ],
   "source": [
    "pca_estimator = AffinityPropagation()\n",
    "pca_estimator.fit(data_pca)"
   ]
  },
  {
   "cell_type": "code",
   "execution_count": 86,
   "id": "f0379d9a",
   "metadata": {},
   "outputs": [
    {
     "data": {
      "text/plain": [
       "AffinityPropagation()"
      ]
     },
     "execution_count": 86,
     "metadata": {},
     "output_type": "execute_result"
    }
   ],
   "source": [
    "pca_estimator"
   ]
  },
  {
   "cell_type": "code",
   "execution_count": 87,
   "id": "56e31148",
   "metadata": {},
   "outputs": [
    {
     "data": {
      "text/plain": [
       "array([42, 51, 27, ...,  7,  1, 54])"
      ]
     },
     "execution_count": 87,
     "metadata": {},
     "output_type": "execute_result"
    }
   ],
   "source": [
    "pca_estimator.labels_"
   ]
  },
  {
   "cell_type": "code",
   "execution_count": 89,
   "id": "eefe9f28",
   "metadata": {},
   "outputs": [],
   "source": [
    "mutual = metrics.adjusted_mutual_info_score(labels,  pca_estimator.labels_)\n",
    "siholitte = metrics.silhouette_score(data, pca_estimator.labels_,\n",
    "                                      metric='euclidean',\n",
    "                                      sample_size=sample_size)\n",
    "rand = metrics.adjusted_rand_score(labels, pca_estimator.labels_)"
   ]
  },
  {
   "cell_type": "code",
   "execution_count": 90,
   "id": "9bc551cc",
   "metadata": {},
   "outputs": [
    {
     "name": "stdout",
     "output_type": "stream",
     "text": [
      "Adjusted Rand Index 0.20142978488473018\n",
      "Adjusted Mutual Information: 0.5831488706759776\n",
      "Silhouette 0.06269891184630552\n"
     ]
    }
   ],
   "source": [
    "print(f\"Adjusted Rand Index {rand}\", f\"Adjusted Mutual Information: {mutual}\", f\"Silhouette {siholitte}\", sep='\\n')"
   ]
  },
  {
   "cell_type": "markdown",
   "id": "768d731d",
   "metadata": {},
   "source": [
    "## Agglomerative Hierarchical clustering"
   ]
  },
  {
   "cell_type": "code",
   "execution_count": 105,
   "id": "4432cac3",
   "metadata": {},
   "outputs": [],
   "source": [
    "from sklearn.cluster import AgglomerativeClustering"
   ]
  },
  {
   "cell_type": "code",
   "execution_count": 106,
   "id": "ff98dc7b",
   "metadata": {},
   "outputs": [
    {
     "data": {
      "text/plain": [
       "AgglomerativeClustering(n_clusters=10)"
      ]
     },
     "execution_count": 106,
     "metadata": {},
     "output_type": "execute_result"
    }
   ],
   "source": [
    "model_agglom = AgglomerativeClustering(n_clusters=10)\n",
    "model_agglom.fit(data)"
   ]
  },
  {
   "cell_type": "code",
   "execution_count": 107,
   "id": "33a6c264",
   "metadata": {},
   "outputs": [
    {
     "data": {
      "text/plain": [
       "array([5, 1, 1, ..., 1, 1, 1])"
      ]
     },
     "execution_count": 107,
     "metadata": {},
     "output_type": "execute_result"
    }
   ],
   "source": [
    "model_agglom.labels_"
   ]
  },
  {
   "cell_type": "code",
   "execution_count": 109,
   "id": "bc333118",
   "metadata": {},
   "outputs": [],
   "source": [
    "mutual = metrics.adjusted_mutual_info_score(labels,  model_agglom.labels_)\n",
    "rand = metrics.adjusted_rand_score(labels, model_agglom.labels_)\n",
    "siholitte = metrics.silhouette_score(data, model_agglom.labels_,\n",
    "                                      metric='euclidean',\n",
    "                                      sample_size=300)"
   ]
  },
  {
   "cell_type": "code",
   "execution_count": 110,
   "id": "efb0c0ac",
   "metadata": {},
   "outputs": [
    {
     "name": "stdout",
     "output_type": "stream",
     "text": [
      "Adjusted Rand Index 0.6643458356002894\n",
      "Adjusted Mutual Information: 0.7934927361004462\n",
      "Silhouette 0.11875838372999634\n"
     ]
    }
   ],
   "source": [
    "print(f\"Adjusted Rand Index {rand}\", f\"Adjusted Mutual Information: {mutual}\", f\"Silhouette {siholitte}\", sep='\\n')"
   ]
  },
  {
   "cell_type": "code",
   "execution_count": 116,
   "id": "250dad47",
   "metadata": {},
   "outputs": [
    {
     "data": {
      "text/plain": [
       "10"
      ]
     },
     "execution_count": 116,
     "metadata": {},
     "output_type": "execute_result"
    }
   ],
   "source": []
  },
  {
   "cell_type": "code",
   "execution_count": 117,
   "id": "fe2c7332",
   "metadata": {},
   "outputs": [
    {
     "data": {
      "text/plain": [
       "AgglomerativeClustering(n_clusters=10)"
      ]
     },
     "execution_count": 117,
     "metadata": {},
     "output_type": "execute_result"
    }
   ],
   "source": [
    "pca_estimator = AgglomerativeClustering(n_clusters=10)\n",
    "pca_estimator.fit(data_pca)"
   ]
  },
  {
   "cell_type": "code",
   "execution_count": 118,
   "id": "a49102f3",
   "metadata": {},
   "outputs": [],
   "source": [
    "mutual = metrics.adjusted_mutual_info_score(labels,  pca_estimator.labels_)\n",
    "siholitte = metrics.silhouette_score(data, pca_estimator.labels_,\n",
    "                                      metric='euclidean',\n",
    "                                      sample_size=sample_size)\n",
    "rand = metrics.adjusted_rand_score(labels, pca_estimator.labels_)"
   ]
  },
  {
   "cell_type": "code",
   "execution_count": 119,
   "id": "c5ee437e",
   "metadata": {},
   "outputs": [
    {
     "name": "stdout",
     "output_type": "stream",
     "text": [
      "Adjusted Rand Index 0.5906613319256733\n",
      "Adjusted Mutual Information: 0.7124491223783881\n",
      "Silhouette 0.13357964076454537\n"
     ]
    }
   ],
   "source": [
    "print(f\"Adjusted Rand Index {rand}\", f\"Adjusted Mutual Information: {mutual}\", f\"Silhouette {siholitte}\", sep='\\n')"
   ]
  },
  {
   "cell_type": "code",
   "execution_count": null,
   "id": "3031f5f3",
   "metadata": {},
   "outputs": [],
   "source": []
  }
 ],
 "metadata": {
  "kernelspec": {
   "display_name": "ml-course",
   "language": "python",
   "name": "ml-course"
  },
  "language_info": {
   "codemirror_mode": {
    "name": "ipython",
    "version": 3
   },
   "file_extension": ".py",
   "mimetype": "text/x-python",
   "name": "python",
   "nbconvert_exporter": "python",
   "pygments_lexer": "ipython3",
   "version": "3.8.10"
  }
 },
 "nbformat": 4,
 "nbformat_minor": 5
}
