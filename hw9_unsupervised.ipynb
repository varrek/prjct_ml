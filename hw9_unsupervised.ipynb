{
 "cells": [
  {
   "cell_type": "code",
   "execution_count": 176,
   "id": "6ac3272f",
   "metadata": {},
   "outputs": [],
   "source": [
    "from sklearn.decomposition import PCA\n",
    "from sklearn import datasets\n",
    "from sklearn.preprocessing import scale\n",
    "import numpy as np\n",
    "from sklearn import metrics"
   ]
  },
  {
   "cell_type": "code",
   "execution_count": 177,
   "id": "f7682fdb",
   "metadata": {},
   "outputs": [],
   "source": [
    "digits = datasets.load_digits()\n",
    "data = scale(digits.data)\n",
    "n_samples, n_features = data.shape\n",
    "n_digits = len(np.unique(digits.target))\n",
    "labels = digits.target\n",
    "sample_size = 300"
   ]
  },
  {
   "cell_type": "code",
   "execution_count": null,
   "id": "fd2c954c",
   "metadata": {},
   "outputs": [],
   "source": []
  },
  {
   "cell_type": "code",
   "execution_count": 178,
   "id": "6709c31c",
   "metadata": {},
   "outputs": [
    {
     "data": {
      "text/plain": [
       "array([[ 1.91413373, -0.95458743, -3.94624086, ...,  0.53098916,\n",
       "        -1.41731914,  1.49851984],\n",
       "       [ 0.58872589,  0.92360495,  3.92452141, ..., -0.6827531 ,\n",
       "         1.8805979 ,  0.60039835],\n",
       "       [ 1.30205587, -0.31696114,  3.02345393, ...,  0.94524771,\n",
       "        -1.28480786,  1.09471128],\n",
       "       ...,\n",
       "       [ 1.02311127, -0.14716993,  2.47047289, ..., -0.01268978,\n",
       "         0.38453697,  0.46288635],\n",
       "       [ 1.07673132, -0.37989279, -2.45499662, ..., -0.65739515,\n",
       "         1.03797733,  0.72391092],\n",
       "       [-1.25680065, -2.22548811,  0.28511595, ...,  2.35109249,\n",
       "        -0.3882886 , -1.29881808]])"
      ]
     },
     "execution_count": 178,
     "metadata": {},
     "output_type": "execute_result"
    }
   ],
   "source": [
    "data_pca = PCA(n_components=8).fit_transform(data)\n",
    "data_pca"
   ]
  },
  {
   "cell_type": "markdown",
   "id": "f4dff437",
   "metadata": {},
   "source": [
    "## K-means"
   ]
  },
  {
   "cell_type": "code",
   "execution_count": 179,
   "id": "2a4bb1a9",
   "metadata": {},
   "outputs": [],
   "source": [
    "from sklearn.cluster import KMeans\n",
    "from scipy.spatial.distance import cdist"
   ]
  },
  {
   "cell_type": "code",
   "execution_count": 180,
   "id": "be53e539",
   "metadata": {},
   "outputs": [
    {
     "data": {
      "text/plain": [
       "KMeans(n_clusters=10)"
      ]
     },
     "execution_count": 180,
     "metadata": {},
     "output_type": "execute_result"
    }
   ],
   "source": [
    "estimator = KMeans(init='k-means++', n_clusters=n_digits, n_init=10)\n",
    "estimator.fit(data)"
   ]
  },
  {
   "cell_type": "code",
   "execution_count": 181,
   "id": "94050eb6",
   "metadata": {},
   "outputs": [],
   "source": [
    "mutual = metrics.adjusted_mutual_info_score(labels,  estimator.labels_)\n",
    "siholitte = metrics.silhouette_score(data, estimator.labels_,\n",
    "                                      metric='euclidean',\n",
    "                                      sample_size=sample_size)\n",
    "rand = metrics.adjusted_rand_score(labels, estimator.labels_)"
   ]
  },
  {
   "cell_type": "code",
   "execution_count": 182,
   "id": "7370381f",
   "metadata": {},
   "outputs": [
    {
     "name": "stdout",
     "output_type": "stream",
     "text": [
      "Adjusted Rand Index 0.41890829630057824\n",
      "Adjusted Mutual Information: 0.5846629360314028\n",
      "Silhouette 0.1380183400966704\n"
     ]
    }
   ],
   "source": [
    "print(f\"Adjusted Rand Index {rand}\", f\"Adjusted Mutual Information: {mutual}\", f\"Silhouette {siholitte}\", sep='\\n')"
   ]
  },
  {
   "cell_type": "code",
   "execution_count": 183,
   "id": "1fc9ba4e",
   "metadata": {},
   "outputs": [
    {
     "data": {
      "text/plain": [
       "KMeans(n_clusters=10)"
      ]
     },
     "execution_count": 183,
     "metadata": {},
     "output_type": "execute_result"
    }
   ],
   "source": [
    "pca_estimator = KMeans(init='k-means++', n_clusters=n_digits, n_init=10)\n",
    "pca_estimator.fit(data_pca)"
   ]
  },
  {
   "cell_type": "code",
   "execution_count": 184,
   "id": "c1db01b6",
   "metadata": {},
   "outputs": [],
   "source": [
    "mutual = metrics.adjusted_mutual_info_score(labels,  pca_estimator.labels_)\n",
    "siholitte = metrics.silhouette_score(data, pca_estimator.labels_,\n",
    "                                      metric='euclidean',\n",
    "                                      sample_size=sample_size)\n",
    "rand = metrics.adjusted_rand_score(labels, pca_estimator.labels_)"
   ]
  },
  {
   "cell_type": "code",
   "execution_count": 185,
   "id": "95dc15ec",
   "metadata": {},
   "outputs": [
    {
     "name": "stdout",
     "output_type": "stream",
     "text": [
      "Adjusted Rand Index 0.4561101658905323\n",
      "Adjusted Mutual Information: 0.5980106233251878\n",
      "Silhouette 0.13315970703390764\n"
     ]
    }
   ],
   "source": [
    "print(f\"Adjusted Rand Index {rand}\", f\"Adjusted Mutual Information: {mutual}\", f\"Silhouette {siholitte}\", sep='\\n')"
   ]
  },
  {
   "cell_type": "markdown",
   "id": "64526966",
   "metadata": {},
   "source": [
    "## Affinity Propagation"
   ]
  },
  {
   "cell_type": "code",
   "execution_count": 186,
   "id": "64817c55",
   "metadata": {},
   "outputs": [],
   "source": [
    "from sklearn.cluster import AffinityPropagation"
   ]
  },
  {
   "cell_type": "code",
   "execution_count": 187,
   "id": "ab9dc06b",
   "metadata": {},
   "outputs": [
    {
     "data": {
      "text/plain": [
       "AffinityPropagation()"
      ]
     },
     "execution_count": 187,
     "metadata": {},
     "output_type": "execute_result"
    }
   ],
   "source": [
    "model_aff = AffinityPropagation()\n",
    "model_aff.fit(data)"
   ]
  },
  {
   "cell_type": "code",
   "execution_count": 188,
   "id": "94b9d163",
   "metadata": {},
   "outputs": [
    {
     "data": {
      "text/plain": [
       "132"
      ]
     },
     "execution_count": 188,
     "metadata": {},
     "output_type": "execute_result"
    }
   ],
   "source": [
    "len(model_aff.cluster_centers_indices_)"
   ]
  },
  {
   "cell_type": "code",
   "execution_count": 189,
   "id": "d6151118",
   "metadata": {},
   "outputs": [
    {
     "data": {
      "text/plain": [
       "131"
      ]
     },
     "execution_count": 189,
     "metadata": {},
     "output_type": "execute_result"
    }
   ],
   "source": [
    "max(model_aff.labels_)"
   ]
  },
  {
   "cell_type": "code",
   "execution_count": 190,
   "id": "ef55c289",
   "metadata": {},
   "outputs": [],
   "source": [
    "mutual = metrics.adjusted_mutual_info_score(labels,  model_aff.labels_)\n",
    "siholitte = metrics.silhouette_score(data, model_aff.labels_,\n",
    "                                      metric='euclidean',\n",
    "                                      sample_size=sample_size)\n",
    "rand = metrics.adjusted_rand_score(labels, model_aff.labels_)"
   ]
  },
  {
   "cell_type": "code",
   "execution_count": 191,
   "id": "2f60bd3a",
   "metadata": {},
   "outputs": [
    {
     "name": "stdout",
     "output_type": "stream",
     "text": [
      "Adjusted Rand Index 0.1543890171236833\n",
      "Adjusted Mutual Information: 0.5728829386106491\n",
      "Silhouette 0.08563738209551562\n"
     ]
    }
   ],
   "source": [
    "print(f\"Adjusted Rand Index {rand}\", f\"Adjusted Mutual Information: {mutual}\", f\"Silhouette {siholitte}\", sep='\\n')"
   ]
  },
  {
   "cell_type": "code",
   "execution_count": 192,
   "id": "00315888",
   "metadata": {},
   "outputs": [
    {
     "data": {
      "text/plain": [
       "AffinityPropagation()"
      ]
     },
     "execution_count": 192,
     "metadata": {},
     "output_type": "execute_result"
    }
   ],
   "source": [
    "pca_estimator = AffinityPropagation()\n",
    "pca_estimator.fit(data_pca)"
   ]
  },
  {
   "cell_type": "code",
   "execution_count": 193,
   "id": "f0379d9a",
   "metadata": {},
   "outputs": [
    {
     "data": {
      "text/plain": [
       "73"
      ]
     },
     "execution_count": 193,
     "metadata": {},
     "output_type": "execute_result"
    }
   ],
   "source": [
    "len(pca_estimator.cluster_centers_indices_)"
   ]
  },
  {
   "cell_type": "code",
   "execution_count": 194,
   "id": "eefe9f28",
   "metadata": {},
   "outputs": [],
   "source": [
    "mutual = metrics.adjusted_mutual_info_score(labels,  pca_estimator.labels_)\n",
    "siholitte = metrics.silhouette_score(data, pca_estimator.labels_,\n",
    "                                      metric='euclidean',\n",
    "                                      sample_size=sample_size)\n",
    "rand = metrics.adjusted_rand_score(labels, pca_estimator.labels_)"
   ]
  },
  {
   "cell_type": "code",
   "execution_count": 195,
   "id": "9bc551cc",
   "metadata": {},
   "outputs": [
    {
     "name": "stdout",
     "output_type": "stream",
     "text": [
      "Adjusted Rand Index 0.2193039408963392\n",
      "Adjusted Mutual Information: 0.5864655423464729\n",
      "Silhouette 0.05081533772598464\n"
     ]
    }
   ],
   "source": [
    "print(f\"Adjusted Rand Index {rand}\", f\"Adjusted Mutual Information: {mutual}\", f\"Silhouette {siholitte}\", sep='\\n')"
   ]
  },
  {
   "cell_type": "markdown",
   "id": "768d731d",
   "metadata": {},
   "source": [
    "## Agglomerative Hierarchical clustering"
   ]
  },
  {
   "cell_type": "code",
   "execution_count": 196,
   "id": "4432cac3",
   "metadata": {},
   "outputs": [],
   "source": [
    "from sklearn.cluster import AgglomerativeClustering"
   ]
  },
  {
   "cell_type": "code",
   "execution_count": 197,
   "id": "ff98dc7b",
   "metadata": {},
   "outputs": [
    {
     "data": {
      "text/plain": [
       "AgglomerativeClustering(n_clusters=10)"
      ]
     },
     "execution_count": 197,
     "metadata": {},
     "output_type": "execute_result"
    }
   ],
   "source": [
    "model_agglom = AgglomerativeClustering(n_clusters=n_digits)\n",
    "model_agglom.fit(data)"
   ]
  },
  {
   "cell_type": "code",
   "execution_count": 198,
   "id": "33a6c264",
   "metadata": {},
   "outputs": [
    {
     "data": {
      "text/plain": [
       "array([5, 1, 1, ..., 1, 1, 1])"
      ]
     },
     "execution_count": 198,
     "metadata": {},
     "output_type": "execute_result"
    }
   ],
   "source": [
    "model_agglom.labels_"
   ]
  },
  {
   "cell_type": "code",
   "execution_count": 199,
   "id": "bc333118",
   "metadata": {},
   "outputs": [],
   "source": [
    "mutual = metrics.adjusted_mutual_info_score(labels,  model_agglom.labels_)\n",
    "rand = metrics.adjusted_rand_score(labels, model_agglom.labels_)\n",
    "siholitte = metrics.silhouette_score(data, model_agglom.labels_,\n",
    "                                      metric='euclidean',\n",
    "                                      sample_size=300)"
   ]
  },
  {
   "cell_type": "code",
   "execution_count": 200,
   "id": "efb0c0ac",
   "metadata": {},
   "outputs": [
    {
     "name": "stdout",
     "output_type": "stream",
     "text": [
      "Adjusted Rand Index 0.6643458356002894\n",
      "Adjusted Mutual Information: 0.7934927361004462\n",
      "Silhouette 0.125761620215887\n"
     ]
    }
   ],
   "source": [
    "print(f\"Adjusted Rand Index {rand}\", f\"Adjusted Mutual Information: {mutual}\", f\"Silhouette {siholitte}\", sep='\\n')"
   ]
  },
  {
   "cell_type": "code",
   "execution_count": null,
   "id": "250dad47",
   "metadata": {},
   "outputs": [],
   "source": []
  },
  {
   "cell_type": "code",
   "execution_count": 201,
   "id": "fe2c7332",
   "metadata": {},
   "outputs": [
    {
     "data": {
      "text/plain": [
       "AgglomerativeClustering(n_clusters=10)"
      ]
     },
     "execution_count": 201,
     "metadata": {},
     "output_type": "execute_result"
    }
   ],
   "source": [
    "pca_estimator = AgglomerativeClustering(n_clusters=n_digits)\n",
    "pca_estimator.fit(data_pca)"
   ]
  },
  {
   "cell_type": "code",
   "execution_count": 202,
   "id": "a49102f3",
   "metadata": {},
   "outputs": [],
   "source": [
    "mutual = metrics.adjusted_mutual_info_score(labels,  pca_estimator.labels_)\n",
    "siholitte = metrics.silhouette_score(data, pca_estimator.labels_,\n",
    "                                      metric='euclidean',\n",
    "                                      sample_size=sample_size)\n",
    "rand = metrics.adjusted_rand_score(labels, pca_estimator.labels_)"
   ]
  },
  {
   "cell_type": "code",
   "execution_count": 203,
   "id": "c5ee437e",
   "metadata": {},
   "outputs": [
    {
     "name": "stdout",
     "output_type": "stream",
     "text": [
      "Adjusted Rand Index 0.5363813063840955\n",
      "Adjusted Mutual Information: 0.6920767402095714\n",
      "Silhouette 0.10897093934434961\n"
     ]
    }
   ],
   "source": [
    "print(f\"Adjusted Rand Index {rand}\", f\"Adjusted Mutual Information: {mutual}\", f\"Silhouette {siholitte}\", sep='\\n')"
   ]
  },
  {
   "cell_type": "code",
   "execution_count": null,
   "id": "3031f5f3",
   "metadata": {},
   "outputs": [],
   "source": []
  }
 ],
 "metadata": {
  "kernelspec": {
   "display_name": "ml-course",
   "language": "python",
   "name": "ml-course"
  },
  "language_info": {
   "codemirror_mode": {
    "name": "ipython",
    "version": 3
   },
   "file_extension": ".py",
   "mimetype": "text/x-python",
   "name": "python",
   "nbconvert_exporter": "python",
   "pygments_lexer": "ipython3",
   "version": "3.8.10"
  }
 },
 "nbformat": 4,
 "nbformat_minor": 5
}
