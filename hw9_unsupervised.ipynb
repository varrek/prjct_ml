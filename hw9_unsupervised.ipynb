{
 "cells": [
  {
   "cell_type": "code",
   "execution_count": 1,
   "id": "6ac3272f",
   "metadata": {},
   "outputs": [],
   "source": [
    "from sklearn.decomposition import PCA\n",
    "from sklearn import datasets\n",
    "from sklearn.preprocessing import scale\n",
    "import numpy as np\n",
    "from sklearn import metrics\n",
    "import umap\n",
    "from MulticoreTSNE import MulticoreTSNE as TSNE\n",
    "import itertools\n",
    "import warnings\n",
    "warnings.filterwarnings('ignore')"
   ]
  },
  {
   "cell_type": "code",
   "execution_count": 2,
   "id": "f7682fdb",
   "metadata": {},
   "outputs": [],
   "source": [
    "digits = datasets.load_digits()\n",
    "data = scale(digits.data)\n",
    "n_samples, n_features = data.shape\n",
    "n_digits = len(np.unique(digits.target))\n",
    "labels = digits.target\n",
    "sample_size = 300"
   ]
  },
  {
   "cell_type": "code",
   "execution_count": 3,
   "id": "fd2c954c",
   "metadata": {},
   "outputs": [
    {
     "data": {
      "text/plain": [
       "array([[ 1.91421359, -0.95449622, -3.94604391,  2.02883652, -0.26673329],\n",
       "       [ 0.5889804 ,  0.92464032,  3.92474476, -1.77975917, -0.99319685],\n",
       "       [ 1.30203956, -0.31718825,  3.02330473, -2.04306354, -2.07906134],\n",
       "       ...,\n",
       "       [ 1.02259645, -0.14791941,  2.46998499, -0.62051816, -0.97207496],\n",
       "       [ 1.07605565, -0.38089398, -2.45551507, -1.311739  ,  0.25546111],\n",
       "       [-1.25770213, -2.22761693,  0.28366556, -0.12755157, -1.57059051]])"
      ]
     },
     "execution_count": 3,
     "metadata": {},
     "output_type": "execute_result"
    }
   ],
   "source": [
    "data_pca_5 = PCA(n_components=5).fit_transform(data)\n",
    "data_pca_5"
   ]
  },
  {
   "cell_type": "code",
   "execution_count": 4,
   "id": "6709c31c",
   "metadata": {},
   "outputs": [
    {
     "data": {
      "text/plain": [
       "array([[ 1.91420718, -0.95447953, -3.94697306, ...,  0.52842636,\n",
       "        -1.40541202,  1.49544973],\n",
       "       [ 0.58889222,  0.92516625,  3.92329924, ..., -0.66469951,\n",
       "         1.88305585,  0.55170731],\n",
       "       [ 1.30198568, -0.31833771,  3.02113306, ...,  0.92925939,\n",
       "        -1.31435026,  1.17849775],\n",
       "       ...,\n",
       "       [ 1.02288926, -0.14944315,  2.47131186, ..., -0.01079962,\n",
       "         0.36145641,  0.54872627],\n",
       "       [ 1.07626231, -0.38174773, -2.45346355, ..., -0.63699604,\n",
       "         1.02426494,  0.77144759],\n",
       "       [-1.25754134, -2.22956672,  0.28789893, ...,  2.33169467,\n",
       "        -0.42765266, -1.15846763]])"
      ]
     },
     "execution_count": 4,
     "metadata": {},
     "output_type": "execute_result"
    }
   ],
   "source": [
    "data_pca_8 = PCA(n_components=8).fit_transform(data)\n",
    "data_pca_8"
   ]
  },
  {
   "cell_type": "code",
   "execution_count": 5,
   "id": "5308f764",
   "metadata": {},
   "outputs": [],
   "source": [
    "embedding_umap_8 = umap.UMAP(n_neighbors=8).fit_transform(data)\n",
    "embedding_umap_5 = umap.UMAP(n_neighbors=5).fit_transform(data)"
   ]
  },
  {
   "cell_type": "code",
   "execution_count": 6,
   "id": "e145a406",
   "metadata": {},
   "outputs": [],
   "source": [
    "embedding_tsne_8 =TSNE(n_components = 8, n_jobs=4).fit_transform(data)\n",
    "embedding_tsne_5 =TSNE(n_components = 5, n_jobs=4).fit_transform(data)"
   ]
  },
  {
   "cell_type": "code",
   "execution_count": 7,
   "id": "d60401d2",
   "metadata": {},
   "outputs": [],
   "source": [
    "def get_errors(estimator, sample_size, data, print_s=True):\n",
    "    try:\n",
    "        siholitte = metrics.silhouette_score(data, estimator.labels_,\n",
    "                                          metric='euclidean',\n",
    "                                          sample_size=sample_size)\n",
    "    except Exception:\n",
    "        siholitte = 0\n",
    "    adj_rand = metrics.adjusted_rand_score(labels, estimator.labels_)\n",
    "    mutual = metrics.adjusted_mutual_info_score(labels,  estimator.labels_)\n",
    "    rand = metrics.rand_score(labels, estimator.labels_)\n",
    "    if print_s:\n",
    "        return print(f\"Rand {rand}\",\n",
    "              f\"Adjusted Rand Index {adj_rand}\",\n",
    "              f\"Adjusted Mutual Information: {mutual}\", \n",
    "              f\"Silhouette {siholitte}\", sep='\\n')\n",
    "    else:\n",
    "        return rand, mutual, adj_rand, siholitte"
   ]
  },
  {
   "cell_type": "markdown",
   "id": "f4dff437",
   "metadata": {},
   "source": [
    "## K-means"
   ]
  },
  {
   "cell_type": "code",
   "execution_count": 8,
   "id": "2a4bb1a9",
   "metadata": {},
   "outputs": [],
   "source": [
    "from sklearn.cluster import KMeans\n",
    "from scipy.spatial.distance import cdist"
   ]
  },
  {
   "cell_type": "code",
   "execution_count": 59,
   "id": "be53e539",
   "metadata": {},
   "outputs": [
    {
     "data": {
      "text/plain": [
       "KMeans(n_clusters=10)"
      ]
     },
     "execution_count": 59,
     "metadata": {},
     "output_type": "execute_result"
    }
   ],
   "source": [
    "estimator = KMeans(init='k-means++', n_clusters=n_digits, n_init=10)\n",
    "estimator.fit(data)"
   ]
  },
  {
   "cell_type": "code",
   "execution_count": 60,
   "id": "94050eb6",
   "metadata": {},
   "outputs": [
    {
     "name": "stdout",
     "output_type": "stream",
     "text": [
      "Rand 0.9141076503402726\n",
      "Adjusted Rand Index 0.5687406548046969\n",
      "Adjusted Mutual Information: 0.6945510574894563\n",
      "Silhouette 0.11491996215318409\n"
     ]
    }
   ],
   "source": [
    "get_errors(estimator, sample_size, data)"
   ]
  },
  {
   "cell_type": "code",
   "execution_count": 61,
   "id": "1fc9ba4e",
   "metadata": {},
   "outputs": [
    {
     "data": {
      "text/plain": [
       "KMeans(n_clusters=10)"
      ]
     },
     "execution_count": 61,
     "metadata": {},
     "output_type": "execute_result"
    }
   ],
   "source": [
    "pca_estimator = KMeans(init='k-means++', n_clusters=n_digits, n_init=10)\n",
    "pca_estimator.fit(data_pca_8)"
   ]
  },
  {
   "cell_type": "code",
   "execution_count": 62,
   "id": "c1db01b6",
   "metadata": {},
   "outputs": [
    {
     "name": "stdout",
     "output_type": "stream",
     "text": [
      "Rand 0.9015855428436159\n",
      "Adjusted Rand Index 0.5083735750277368\n",
      "Adjusted Mutual Information: 0.6337553778218533\n",
      "Silhouette 0.13688152926617506\n"
     ]
    }
   ],
   "source": [
    "get_errors(pca_estimator, sample_size, data)"
   ]
  },
  {
   "cell_type": "markdown",
   "id": "1f0bd981",
   "metadata": {},
   "source": [
    "### K-means PCA"
   ]
  },
  {
   "cell_type": "code",
   "execution_count": 63,
   "id": "300f41e6",
   "metadata": {},
   "outputs": [
    {
     "name": "stdout",
     "output_type": "stream",
     "text": [
      "Rand 0.8905252877537791\n",
      "Adjusted Rand Index 0.4539320821438111\n",
      "Adjusted Mutual Information: 0.5789780164016596\n",
      "Silhouette 0.13388341792678082\n"
     ]
    }
   ],
   "source": [
    "pca_estimator = KMeans(init='k-means++', n_clusters=n_digits, n_init=10)\n",
    "pca_estimator.fit(data_pca_5)\n",
    "get_errors(pca_estimator, sample_size, data)"
   ]
  },
  {
   "cell_type": "code",
   "execution_count": 61,
   "id": "a1956115",
   "metadata": {},
   "outputs": [],
   "source": [
    "scores = []\n",
    "for components in range(2, min(data.shape)):\n",
    "    data_pca = PCA(n_components=components, random_state=42).fit_transform(data)\n",
    "    pca_estimator = KMeans(n_clusters=n_digits, random_state=42).fit(data_pca)\n",
    "    rand, mutual, adj_rand, siholitte  = get_errors(pca_estimator, sample_size, data_pca, print_s=False)\n",
    "    scores.append({\"comp\": components, \"rand\": rand, \"mutual\": mutual, \"adj_rand\": adj_rand,\"siholitte\": siholitte})"
   ]
  },
  {
   "cell_type": "code",
   "execution_count": 63,
   "id": "08383dd2",
   "metadata": {},
   "outputs": [
    {
     "data": {
      "text/plain": [
       "{'comp': 37,\n",
       " 'rand': 0.9150229347848988,\n",
       " 'mutual': 0.6986544384959287,\n",
       " 'adj_rand': 0.5732841244333222,\n",
       " 'siholitte': 0.17430850922653643}"
      ]
     },
     "execution_count": 63,
     "metadata": {},
     "output_type": "execute_result"
    }
   ],
   "source": [
    "max(scores, key=lambda x:x['mutual'])"
   ]
  },
  {
   "cell_type": "code",
   "execution_count": 64,
   "id": "18ea0896",
   "metadata": {},
   "outputs": [
    {
     "data": {
      "text/plain": [
       "{'comp': 57,\n",
       " 'rand': 0.9151803364429456,\n",
       " 'mutual': 0.6984185299612811,\n",
       " 'adj_rand': 0.573917350014406,\n",
       " 'siholitte': 0.12463345396040446}"
      ]
     },
     "execution_count": 64,
     "metadata": {},
     "output_type": "execute_result"
    }
   ],
   "source": [
    "max(scores, key=lambda x:x['adj_rand'])"
   ]
  },
  {
   "cell_type": "markdown",
   "id": "982c3538",
   "metadata": {},
   "source": [
    "### K-means UMAP"
   ]
  },
  {
   "cell_type": "code",
   "execution_count": 81,
   "id": "bea86885",
   "metadata": {},
   "outputs": [
    {
     "name": "stdout",
     "output_type": "stream",
     "text": [
      "Rand 0.9636854544755984\n",
      "Adjusted Rand Index 0.8109556477304581\n",
      "Adjusted Mutual Information: 0.8831118160643505\n",
      "Silhouette 0.12145315035746189\n"
     ]
    }
   ],
   "source": [
    "umap_8_estimator =  KMeans(init='k-means++', n_clusters=n_digits, n_init=10)\n",
    "umap_8_estimator.fit(embedding_umap_8)\n",
    "get_errors(umap_8_estimator, sample_size, data)"
   ]
  },
  {
   "cell_type": "code",
   "execution_count": 82,
   "id": "3e4c7642",
   "metadata": {},
   "outputs": [
    {
     "name": "stdout",
     "output_type": "stream",
     "text": [
      "Rand 0.9627280310044085\n",
      "Adjusted Rand Index 0.8068792197364256\n",
      "Adjusted Mutual Information: 0.8822945808301651\n",
      "Silhouette 0.08281916914446907\n"
     ]
    }
   ],
   "source": [
    "umap_5_estimator =  KMeans(init='k-means++', n_clusters=n_digits, n_init=10)\n",
    "umap_5_estimator.fit(embedding_umap_5)\n",
    "get_errors(umap_5_estimator, sample_size, data)"
   ]
  },
  {
   "cell_type": "code",
   "execution_count": 56,
   "id": "bd64ef87",
   "metadata": {},
   "outputs": [],
   "source": [
    "n_neighbors = (5, 10, 15, 20)\n",
    "min_dist = (0.1, 0.2, 0.3, 0.4, 0.5)\n",
    "scores = []\n",
    "params = list(itertools.product(n_neighbors, min_dist))\n",
    "for param_set in params:\n",
    "    embedding = umap.UMAP(random_state=42, n_neighbors=param_set[0], min_dist=param_set[1]).fit_transform(data)\n",
    "    umap_estimator = KMeans(n_clusters=n_digits, random_state=42).fit(embedding)\n",
    "    rand, mutual, adj_rand, siholitte  = get_errors(umap_estimator, sample_size, embedding, print_s=False)\n",
    "    scores.append({\"n_neighbors\":param_set[0],\n",
    "                   \"min_dist\": param_set[1],\n",
    "                   \"rand\": rand,\n",
    "                   \"mutual\": mutual,\n",
    "                   \"adj_rand\": adj_rand,\n",
    "                   \"siholitte\": siholitte})\n"
   ]
  },
  {
   "cell_type": "code",
   "execution_count": 59,
   "id": "e6678550",
   "metadata": {},
   "outputs": [
    {
     "data": {
      "text/plain": [
       "{'n_neighbors': 20,\n",
       " 'min_dist': 0.1,\n",
       " 'rand': 0.9766072630330432,\n",
       " 'mutual': 0.8949484884693509,\n",
       " 'adj_rand': 0.8700936270137439,\n",
       " 'siholitte': 0.69965786}"
      ]
     },
     "execution_count": 59,
     "metadata": {},
     "output_type": "execute_result"
    }
   ],
   "source": [
    "max(scores, key=lambda x:x['mutual'])"
   ]
  },
  {
   "cell_type": "code",
   "execution_count": 60,
   "id": "a6f5e5bc",
   "metadata": {},
   "outputs": [
    {
     "data": {
      "text/plain": [
       "{'n_neighbors': 10,\n",
       " 'min_dist': 0.4,\n",
       " 'rand': 0.9771916321808309,\n",
       " 'mutual': 0.8928537943721203,\n",
       " 'adj_rand': 0.8730641349002842,\n",
       " 'siholitte': 0.61702585}"
      ]
     },
     "execution_count": 60,
     "metadata": {},
     "output_type": "execute_result"
    }
   ],
   "source": [
    "max(scores, key=lambda x:x['adj_rand'])"
   ]
  },
  {
   "cell_type": "markdown",
   "id": "4130356a",
   "metadata": {},
   "source": [
    "### K-means TSNE"
   ]
  },
  {
   "cell_type": "code",
   "execution_count": 102,
   "id": "e86a95dd",
   "metadata": {},
   "outputs": [
    {
     "name": "stdout",
     "output_type": "stream",
     "text": [
      "Rand 0.9671067716176305\n",
      "Adjusted Rand Index 0.8206998704995867\n",
      "Adjusted Mutual Information: 0.8691969594267749\n",
      "Silhouette 0.08612554954914495\n"
     ]
    }
   ],
   "source": [
    "tsne_8_estimator =  KMeans(init='k-means++', n_clusters=n_digits, n_init=10)\n",
    "tsne_8_estimator.fit(embedding_tsne_8)\n",
    "get_errors(tsne_8_estimator, sample_size, data)"
   ]
  },
  {
   "cell_type": "code",
   "execution_count": 9,
   "id": "b27b285b",
   "metadata": {},
   "outputs": [
    {
     "name": "stdout",
     "output_type": "stream",
     "text": [
      "Rand 0.9661989234718096\n",
      "Adjusted Rand Index 0.8163450016376737\n",
      "Adjusted Mutual Information: 0.8657428008677109\n",
      "Silhouette 0.10278263023583528\n"
     ]
    }
   ],
   "source": [
    "tsne_5_estimator =  KMeans(init='k-means++', n_clusters=n_digits, n_init=10)\n",
    "tsne_5_estimator.fit(embedding_tsne_5)\n",
    "get_errors(tsne_5_estimator, sample_size, data)"
   ]
  },
  {
   "cell_type": "code",
   "execution_count": 65,
   "id": "c98e13b6",
   "metadata": {},
   "outputs": [
    {
     "name": "stdout",
     "output_type": "stream",
     "text": [
      "Rand 0.9750660901056326\n",
      "Adjusted Rand Index 0.8611581075212501\n",
      "Adjusted Mutual Information: 0.880679250179012\n",
      "Silhouette 0.5759131326894458\n"
     ]
    }
   ],
   "source": [
    "tsne_2_estimator =  KMeans(init='k-means++', n_clusters=n_digits, n_init=10)\n",
    "embedding_tsne_2 = TSNE(n_jobs=4).fit_transform(data)\n",
    "tsne_2_estimator.fit(embedding_tsne_2)\n",
    "get_errors(tsne_2_estimator, sample_size, embedding_tsne_2)"
   ]
  },
  {
   "cell_type": "markdown",
   "id": "64526966",
   "metadata": {},
   "source": [
    "## Affinity Propagation"
   ]
  },
  {
   "cell_type": "code",
   "execution_count": 8,
   "id": "64817c55",
   "metadata": {},
   "outputs": [],
   "source": [
    "from sklearn.cluster import AffinityPropagation"
   ]
  },
  {
   "cell_type": "code",
   "execution_count": 9,
   "id": "ab9dc06b",
   "metadata": {},
   "outputs": [
    {
     "data": {
      "text/plain": [
       "AffinityPropagation()"
      ]
     },
     "execution_count": 9,
     "metadata": {},
     "output_type": "execute_result"
    }
   ],
   "source": [
    "model_aff = AffinityPropagation()\n",
    "model_aff.fit(data)"
   ]
  },
  {
   "cell_type": "code",
   "execution_count": 69,
   "id": "ef55c289",
   "metadata": {},
   "outputs": [
    {
     "name": "stdout",
     "output_type": "stream",
     "text": [
      "Rand 0.9090063493597966\n",
      "Adjusted Rand Index 0.1543890171236833\n",
      "Adjusted Mutual Information: 0.5728829386106491\n",
      "Silhouette 0.05409447363969096\n"
     ]
    }
   ],
   "source": [
    "get_errors(model_aff, sample_size, data)"
   ]
  },
  {
   "cell_type": "code",
   "execution_count": 84,
   "id": "00315888",
   "metadata": {},
   "outputs": [
    {
     "name": "stdout",
     "output_type": "stream",
     "text": [
      "Rand 0.9113958800425852\n",
      "Adjusted Rand Index 0.21764060274052408\n",
      "Adjusted Mutual Information: 0.5874223418791499\n",
      "Silhouette 0.05921617350232909\n"
     ]
    }
   ],
   "source": [
    "aff_pca_estimator = AffinityPropagation()\n",
    "aff_pca_estimator.fit(data_pca_8)\n",
    "get_errors(aff_pca_estimator, sample_size, data)"
   ]
  },
  {
   "cell_type": "code",
   "execution_count": 85,
   "id": "a2435493",
   "metadata": {},
   "outputs": [
    {
     "name": "stdout",
     "output_type": "stream",
     "text": [
      "Rand 0.9086648993063172\n",
      "Adjusted Rand Index 0.19535675094947286\n",
      "Adjusted Mutual Information: 0.5367948299256343\n",
      "Silhouette 0.015723390170051824\n"
     ]
    }
   ],
   "source": [
    "aff_pca_estimator = AffinityPropagation()\n",
    "aff_pca_estimator.fit(data_pca_5)\n",
    "get_errors(aff_pca_estimator, sample_size, data)"
   ]
  },
  {
   "cell_type": "markdown",
   "id": "3a75b8be",
   "metadata": {},
   "source": [
    "### UMAP"
   ]
  },
  {
   "cell_type": "code",
   "execution_count": 97,
   "id": "fbf5da67",
   "metadata": {},
   "outputs": [
    {
     "name": "stdout",
     "output_type": "stream",
     "text": [
      "Rand 0.93250071574376\n",
      "Adjusted Rand Index 0.4760848717336931\n",
      "Adjusted Mutual Information: 0.7559585918378904\n",
      "Silhouette 0.058323666535463774\n"
     ]
    }
   ],
   "source": [
    "umap_8_estimator =  AffinityPropagation(max_iter=1000)\n",
    "umap_8_estimator.fit(embedding_umap_8)\n",
    "get_errors(umap_8_estimator, sample_size, data)"
   ]
  },
  {
   "cell_type": "code",
   "execution_count": 98,
   "id": "a2ffabac",
   "metadata": {},
   "outputs": [
    {
     "name": "stdout",
     "output_type": "stream",
     "text": [
      "Rand 0.9315693193183888\n",
      "Adjusted Rand Index 0.4707660195004991\n",
      "Adjusted Mutual Information: 0.7468834635679453\n",
      "Silhouette 0.07714768561186161\n"
     ]
    }
   ],
   "source": [
    "umap_5_estimator =  AffinityPropagation(max_iter=1000)\n",
    "umap_5_estimator.fit(embedding_umap_5)\n",
    "get_errors(umap_5_estimator, sample_size, data)"
   ]
  },
  {
   "cell_type": "code",
   "execution_count": 10,
   "id": "54eeb8fb",
   "metadata": {},
   "outputs": [],
   "source": [
    "n_neighbors = (5, 10, 15, 20)\n",
    "min_dist = (0.1, 0.2, 0.3, 0.4, 0.5)\n",
    "scores = []\n",
    "params = list(itertools.product(n_neighbors, min_dist))\n",
    "for param_set in params:\n",
    "    embedding = umap.UMAP(random_state=42, n_neighbors=param_set[0], min_dist=param_set[1]).fit_transform(data)\n",
    "    umap_estimator = AffinityPropagation().fit(embedding)\n",
    "    rand, mutual, adj_rand, siholitte  = get_errors(umap_estimator, sample_size, embedding, print_s=False)\n",
    "    scores.append({\"n_neighbors\":param_set[0],\n",
    "                   \"min_dist\": param_set[1],\n",
    "                   \"rand\": rand,\n",
    "                   \"mutual\": mutual,\n",
    "                   \"adj_rand\": adj_rand,\n",
    "                   \"siholitte\": siholitte})\n"
   ]
  },
  {
   "cell_type": "code",
   "execution_count": 11,
   "id": "d65b5ed3",
   "metadata": {},
   "outputs": [
    {
     "data": {
      "text/plain": [
       "{'n_neighbors': 5,\n",
       " 'min_dist': 0.1,\n",
       " 'rand': 0.0995199869121141,\n",
       " 'mutual': 2.3140630140104056e-16,\n",
       " 'adj_rand': 0.0,\n",
       " 'siholitte': 0}"
      ]
     },
     "execution_count": 11,
     "metadata": {},
     "output_type": "execute_result"
    }
   ],
   "source": [
    "max(scores, key=lambda x:x['mutual'])"
   ]
  },
  {
   "cell_type": "code",
   "execution_count": 12,
   "id": "b9438d06",
   "metadata": {},
   "outputs": [
    {
     "data": {
      "text/plain": [
       "{'n_neighbors': 5,\n",
       " 'min_dist': 0.1,\n",
       " 'rand': 0.0995199869121141,\n",
       " 'mutual': 2.3140630140104056e-16,\n",
       " 'adj_rand': 0.0,\n",
       " 'siholitte': 0}"
      ]
     },
     "execution_count": 12,
     "metadata": {},
     "output_type": "execute_result"
    }
   ],
   "source": [
    "max(scores, key=lambda x:x['adj_rand'])"
   ]
  },
  {
   "cell_type": "markdown",
   "id": "1447b197",
   "metadata": {},
   "source": [
    "### TSNE"
   ]
  },
  {
   "cell_type": "code",
   "execution_count": 105,
   "id": "9a15dc99",
   "metadata": {},
   "outputs": [
    {
     "name": "stdout",
     "output_type": "stream",
     "text": [
      "Rand 0.9511354608584216\n",
      "Adjusted Rand Index 0.6616059090691245\n",
      "Adjusted Mutual Information: 0.80938813756693\n",
      "Silhouette 0.11136858610319429\n"
     ]
    }
   ],
   "source": [
    "tsne_8_estimator =  AffinityPropagation(max_iter=2000)\n",
    "tsne_8_estimator.fit(embedding_tsne_8)\n",
    "get_errors(tsne_8_estimator, sample_size, data)"
   ]
  },
  {
   "cell_type": "code",
   "execution_count": 106,
   "id": "12b7f473",
   "metadata": {},
   "outputs": [
    {
     "name": "stdout",
     "output_type": "stream",
     "text": [
      "Rand 0.9471384502505413\n",
      "Adjusted Rand Index 0.6261122629079497\n",
      "Adjusted Mutual Information: 0.8018712630488759\n",
      "Silhouette 0.08897748994219001\n"
     ]
    }
   ],
   "source": [
    "tsne_5_estimator =  AffinityPropagation(max_iter=2000)\n",
    "tsne_5_estimator.fit(embedding_tsne_5)\n",
    "get_errors(tsne_5_estimator, sample_size, data)"
   ]
  },
  {
   "cell_type": "markdown",
   "id": "768d731d",
   "metadata": {},
   "source": [
    "## Agglomerative Hierarchical clustering"
   ]
  },
  {
   "cell_type": "code",
   "execution_count": 14,
   "id": "4432cac3",
   "metadata": {},
   "outputs": [],
   "source": [
    "from sklearn.cluster import AgglomerativeClustering"
   ]
  },
  {
   "cell_type": "code",
   "execution_count": 75,
   "id": "ff98dc7b",
   "metadata": {},
   "outputs": [
    {
     "data": {
      "text/plain": [
       "AgglomerativeClustering(n_clusters=10)"
      ]
     },
     "execution_count": 75,
     "metadata": {},
     "output_type": "execute_result"
    }
   ],
   "source": [
    "model_agglom = AgglomerativeClustering(n_clusters=n_digits)\n",
    "model_agglom.fit(data)"
   ]
  },
  {
   "cell_type": "code",
   "execution_count": 76,
   "id": "33a6c264",
   "metadata": {},
   "outputs": [
    {
     "data": {
      "text/plain": [
       "array([5, 1, 1, ..., 1, 1, 1])"
      ]
     },
     "execution_count": 76,
     "metadata": {},
     "output_type": "execute_result"
    }
   ],
   "source": [
    "model_agglom.labels_"
   ]
  },
  {
   "cell_type": "code",
   "execution_count": 77,
   "id": "bc333118",
   "metadata": {},
   "outputs": [
    {
     "name": "stdout",
     "output_type": "stream",
     "text": [
      "Rand 0.9302549535045417\n",
      "Adjusted Rand Index 0.6643458356002894\n",
      "Adjusted Mutual Information: 0.7934927361004462\n",
      "Silhouette 0.12251888091350975\n"
     ]
    }
   ],
   "source": [
    "get_errors(model_agglom, 300, data)"
   ]
  },
  {
   "cell_type": "code",
   "execution_count": 78,
   "id": "fe2c7332",
   "metadata": {},
   "outputs": [
    {
     "data": {
      "text/plain": [
       "AgglomerativeClustering(n_clusters=10)"
      ]
     },
     "execution_count": 78,
     "metadata": {},
     "output_type": "execute_result"
    }
   ],
   "source": [
    "agg_pca_estimator = AgglomerativeClustering(n_clusters=n_digits)\n",
    "agg_pca_estimator.fit(data_pca_8)"
   ]
  },
  {
   "cell_type": "code",
   "execution_count": 79,
   "id": "a49102f3",
   "metadata": {},
   "outputs": [
    {
     "name": "stdout",
     "output_type": "stream",
     "text": [
      "Rand 0.8866131748905934\n",
      "Adjusted Rand Index 0.4596582510127902\n",
      "Adjusted Mutual Information: 0.6373011620932433\n",
      "Silhouette 0.11229765924749661\n"
     ]
    }
   ],
   "source": [
    "get_errors(agg_pca_estimator, sample_size, data)"
   ]
  },
  {
   "cell_type": "code",
   "execution_count": 80,
   "id": "3031f5f3",
   "metadata": {},
   "outputs": [
    {
     "name": "stdout",
     "output_type": "stream",
     "text": [
      "Rand 0.8730512249443207\n",
      "Adjusted Rand Index 0.4141991315977404\n",
      "Adjusted Mutual Information: 0.5988112321038814\n",
      "Silhouette 0.11004095518626646\n"
     ]
    }
   ],
   "source": [
    "agg_pca_estimator = AgglomerativeClustering(n_clusters=n_digits)\n",
    "agg_pca_estimator.fit(data_pca_5)\n",
    "get_errors(agg_pca_estimator, sample_size, data)"
   ]
  },
  {
   "cell_type": "markdown",
   "id": "93b38e5d",
   "metadata": {},
   "source": [
    "### UMAP"
   ]
  },
  {
   "cell_type": "code",
   "execution_count": 12,
   "id": "6b4ccd39",
   "metadata": {},
   "outputs": [
    {
     "name": "stdout",
     "output_type": "stream",
     "text": [
      "Rand 0.9634412959981558\n",
      "Adjusted Rand Index 0.8090392315692063\n",
      "Adjusted Mutual Information: 0.8801409167069021\n",
      "Silhouette 0.09554924580430214\n"
     ]
    }
   ],
   "source": [
    "umap_8_estimator =  AgglomerativeClustering(n_clusters=n_digits)\n",
    "umap_8_estimator.fit(embedding_umap_8)\n",
    "get_errors(umap_8_estimator, sample_size, data)"
   ]
  },
  {
   "cell_type": "code",
   "execution_count": 99,
   "id": "91612f47",
   "metadata": {},
   "outputs": [
    {
     "name": "stdout",
     "output_type": "stream",
     "text": [
      "Rand 0.9618381539140339\n",
      "Adjusted Rand Index 0.7931938357029507\n",
      "Adjusted Mutual Information: 0.8559436929343653\n",
      "Silhouette 0.10914717093916264\n"
     ]
    }
   ],
   "source": [
    "umap_5_estimator =  AgglomerativeClustering(n_clusters=n_digits)\n",
    "umap_5_estimator.fit(embedding_umap_5)\n",
    "get_errors(umap_5_estimator, sample_size, data)"
   ]
  },
  {
   "cell_type": "code",
   "execution_count": 15,
   "id": "e847a822",
   "metadata": {},
   "outputs": [],
   "source": [
    "n_neighbors = (5, 10, 15, 20)\n",
    "min_dist = (0.1, 0.2, 0.3, 0.4, 0.5)\n",
    "scores = []\n",
    "params = list(itertools.product(n_neighbors, min_dist))\n",
    "for param_set in params:\n",
    "    embedding = umap.UMAP(random_state=42, n_neighbors=param_set[0], min_dist=param_set[1]).fit_transform(data)\n",
    "    umap_estimator = AgglomerativeClustering(n_clusters=n_digits).fit(embedding)\n",
    "    rand, mutual, adj_rand, siholitte  = get_errors(umap_estimator, sample_size, embedding, print_s=False)\n",
    "    scores.append({\"n_neighbors\":param_set[0],\n",
    "                   \"min_dist\": param_set[1],\n",
    "                   \"rand\": rand,\n",
    "                   \"mutual\": mutual,\n",
    "                   \"adj_rand\": adj_rand,\n",
    "                   \"siholitte\": siholitte})"
   ]
  },
  {
   "cell_type": "code",
   "execution_count": 16,
   "id": "1d65aca1",
   "metadata": {},
   "outputs": [
    {
     "data": {
      "text/plain": [
       "{'n_neighbors': 15,\n",
       " 'min_dist': 0.1,\n",
       " 'rand': 0.9758623937693731,\n",
       " 'mutual': 0.8924318031767376,\n",
       " 'adj_rand': 0.866066434910594,\n",
       " 'siholitte': 0.66685003}"
      ]
     },
     "execution_count": 16,
     "metadata": {},
     "output_type": "execute_result"
    }
   ],
   "source": [
    "max(scores, key=lambda x:x['mutual'])"
   ]
  },
  {
   "cell_type": "code",
   "execution_count": 17,
   "id": "7c4884bf",
   "metadata": {},
   "outputs": [
    {
     "data": {
      "text/plain": [
       "{'n_neighbors': 15,\n",
       " 'min_dist': 0.1,\n",
       " 'rand': 0.9758623937693731,\n",
       " 'mutual': 0.8924318031767376,\n",
       " 'adj_rand': 0.866066434910594,\n",
       " 'siholitte': 0.66685003}"
      ]
     },
     "execution_count": 17,
     "metadata": {},
     "output_type": "execute_result"
    }
   ],
   "source": [
    "max(scores, key=lambda x:x['adj_rand'])"
   ]
  },
  {
   "cell_type": "markdown",
   "id": "dcdc52b5",
   "metadata": {},
   "source": [
    "### TSNE"
   ]
  },
  {
   "cell_type": "code",
   "execution_count": 107,
   "id": "09ac9112",
   "metadata": {},
   "outputs": [
    {
     "name": "stdout",
     "output_type": "stream",
     "text": [
      "Rand 0.9718436939566439\n",
      "Adjusted Rand Index 0.8442074674738934\n",
      "Adjusted Mutual Information: 0.8842720857049966\n",
      "Silhouette 0.10467246334819201\n"
     ]
    }
   ],
   "source": [
    "tsne_8_estimator =  AgglomerativeClustering(n_clusters=n_digits)\n",
    "tsne_8_estimator.fit(embedding_tsne_8)\n",
    "get_errors(tsne_8_estimator, sample_size, data)"
   ]
  },
  {
   "cell_type": "code",
   "execution_count": 108,
   "id": "c9a6b042",
   "metadata": {},
   "outputs": [
    {
     "name": "stdout",
     "output_type": "stream",
     "text": [
      "Rand 0.9574172742742483\n",
      "Adjusted Rand Index 0.7673993556863412\n",
      "Adjusted Mutual Information: 0.8381398452654937\n",
      "Silhouette 0.08145335725657371\n"
     ]
    }
   ],
   "source": [
    "tsne_5_estimator =  AgglomerativeClustering(n_clusters=n_digits)\n",
    "tsne_5_estimator.fit(embedding_tsne_5)\n",
    "get_errors(tsne_5_estimator, sample_size, data)"
   ]
  }
 ],
 "metadata": {
  "kernelspec": {
   "display_name": "ml-course",
   "language": "python",
   "name": "ml-course"
  },
  "language_info": {
   "codemirror_mode": {
    "name": "ipython",
    "version": 3
   },
   "file_extension": ".py",
   "mimetype": "text/x-python",
   "name": "python",
   "nbconvert_exporter": "python",
   "pygments_lexer": "ipython3",
   "version": "3.8.10"
  }
 },
 "nbformat": 4,
 "nbformat_minor": 5
}
