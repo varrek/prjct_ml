{
 "cells": [
  {
   "cell_type": "code",
   "execution_count": 52,
   "id": "6ac3272f",
   "metadata": {},
   "outputs": [],
   "source": [
    "from sklearn.decomposition import PCA\n",
    "from sklearn import datasets\n",
    "from sklearn.preprocessing import scale\n",
    "import numpy as np\n",
    "from sklearn import metrics\n",
    "import umap\n",
    "from MulticoreTSNE import MulticoreTSNE as TSNE"
   ]
  },
  {
   "cell_type": "code",
   "execution_count": 93,
   "id": "f7682fdb",
   "metadata": {},
   "outputs": [],
   "source": [
    "digits = datasets.load_digits()\n",
    "data = scale(digits.data)\n",
    "n_samples, n_features = data.shape\n",
    "n_digits = len(np.unique(digits.target))\n",
    "labels = digits.target\n",
    "sample_size = 300"
   ]
  },
  {
   "cell_type": "code",
   "execution_count": 54,
   "id": "fd2c954c",
   "metadata": {},
   "outputs": [
    {
     "data": {
      "text/plain": [
       "array([[ 1.91421394, -0.95450501, -3.94603592,  2.02872682, -0.26695791],\n",
       "       [ 0.58898069,  0.92463325,  3.92475311, -1.77983979, -0.99306889],\n",
       "       [ 1.30203763, -0.31720032,  3.02331869, -2.04343436, -2.08019365],\n",
       "       ...,\n",
       "       [ 1.02259281, -0.14791934,  2.46994978, -0.62049629, -0.97224351],\n",
       "       [ 1.07605044, -0.38094809, -2.45552796, -1.31229163,  0.25478432],\n",
       "       [-1.25770559, -2.22760297,  0.28361983, -0.12720962, -1.57067828]])"
      ]
     },
     "execution_count": 54,
     "metadata": {},
     "output_type": "execute_result"
    }
   ],
   "source": [
    "data_pca_5 = PCA(n_components=5).fit_transform(data)\n",
    "data_pca_5"
   ]
  },
  {
   "cell_type": "code",
   "execution_count": 55,
   "id": "6709c31c",
   "metadata": {},
   "outputs": [
    {
     "data": {
      "text/plain": [
       "array([[ 1.91416796, -0.95432538, -3.94639617, ...,  0.52822212,\n",
       "        -1.42174081,  1.52051214],\n",
       "       [ 0.58900946,  0.92494144,  3.92465259, ..., -0.67689081,\n",
       "         1.88183994,  0.56412244],\n",
       "       [ 1.30223124, -0.31726979,  3.02433939, ...,  0.93072469,\n",
       "        -1.27812038,  1.11807833],\n",
       "       ...,\n",
       "       [ 1.02251109, -0.14804928,  2.47020496, ...,  0.00714471,\n",
       "         0.35637193,  0.51616751],\n",
       "       [ 1.07587417, -0.38060892, -2.45570334, ..., -0.62285083,\n",
       "         0.99089316,  0.7888836 ],\n",
       "       [-1.25771835, -2.22842911,  0.28496313, ...,  2.36773084,\n",
       "        -0.40684442, -1.25249908]])"
      ]
     },
     "execution_count": 55,
     "metadata": {},
     "output_type": "execute_result"
    }
   ],
   "source": [
    "data_pca_8 = PCA(n_components=8).fit_transform(data)\n",
    "data_pca_8"
   ]
  },
  {
   "cell_type": "code",
   "execution_count": 56,
   "id": "fbfa43c5",
   "metadata": {},
   "outputs": [],
   "source": [
    "embedding_umap_8 = umap.UMAP(n_neighbors=8).fit_transform(data)\n",
    "embedding_umap_5 = umap.UMAP(n_neighbors=5).fit_transform(data)"
   ]
  },
  {
   "cell_type": "code",
   "execution_count": 57,
   "id": "9e1139bd",
   "metadata": {},
   "outputs": [],
   "source": [
    "def get_errors(estimator, sample_size, data):\n",
    "    siholitte = metrics.silhouette_score(data, estimator.labels_,\n",
    "                                      metric='euclidean',\n",
    "                                      sample_size=sample_size)\n",
    "    adj_rand = metrics.adjusted_rand_score(labels, estimator.labels_)\n",
    "    mutual = metrics.adjusted_mutual_info_score(labels,  estimator.labels_)\n",
    "    rand = metrics.rand_score(labels, estimator.labels_)\n",
    "    return print(f\"Rand {rand}\",\n",
    "          f\"Adjusted Rand Index {adj_rand}\",\n",
    "          f\"Adjusted Mutual Information: {mutual}\", \n",
    "          f\"Silhouette {siholitte}\", sep='\\n')"
   ]
  },
  {
   "cell_type": "markdown",
   "id": "f4dff437",
   "metadata": {},
   "source": [
    "## K-means"
   ]
  },
  {
   "cell_type": "code",
   "execution_count": 58,
   "id": "2a4bb1a9",
   "metadata": {},
   "outputs": [],
   "source": [
    "from sklearn.cluster import KMeans\n",
    "from scipy.spatial.distance import cdist"
   ]
  },
  {
   "cell_type": "code",
   "execution_count": 59,
   "id": "be53e539",
   "metadata": {},
   "outputs": [
    {
     "data": {
      "text/plain": [
       "KMeans(n_clusters=10)"
      ]
     },
     "execution_count": 59,
     "metadata": {},
     "output_type": "execute_result"
    }
   ],
   "source": [
    "estimator = KMeans(init='k-means++', n_clusters=n_digits, n_init=10)\n",
    "estimator.fit(data)"
   ]
  },
  {
   "cell_type": "code",
   "execution_count": 60,
   "id": "94050eb6",
   "metadata": {},
   "outputs": [
    {
     "name": "stdout",
     "output_type": "stream",
     "text": [
      "Rand 0.9141076503402726\n",
      "Adjusted Rand Index 0.5687406548046969\n",
      "Adjusted Mutual Information: 0.6945510574894563\n",
      "Silhouette 0.11491996215318409\n"
     ]
    }
   ],
   "source": [
    "get_errors(estimator, sample_size, data)"
   ]
  },
  {
   "cell_type": "code",
   "execution_count": 61,
   "id": "1fc9ba4e",
   "metadata": {},
   "outputs": [
    {
     "data": {
      "text/plain": [
       "KMeans(n_clusters=10)"
      ]
     },
     "execution_count": 61,
     "metadata": {},
     "output_type": "execute_result"
    }
   ],
   "source": [
    "pca_estimator = KMeans(init='k-means++', n_clusters=n_digits, n_init=10)\n",
    "pca_estimator.fit(data_pca_8)"
   ]
  },
  {
   "cell_type": "code",
   "execution_count": 62,
   "id": "c1db01b6",
   "metadata": {},
   "outputs": [
    {
     "name": "stdout",
     "output_type": "stream",
     "text": [
      "Rand 0.9015855428436159\n",
      "Adjusted Rand Index 0.5083735750277368\n",
      "Adjusted Mutual Information: 0.6337553778218533\n",
      "Silhouette 0.13688152926617506\n"
     ]
    }
   ],
   "source": [
    "get_errors(pca_estimator, sample_size, data)"
   ]
  },
  {
   "cell_type": "code",
   "execution_count": 63,
   "id": "300f41e6",
   "metadata": {},
   "outputs": [
    {
     "name": "stdout",
     "output_type": "stream",
     "text": [
      "Rand 0.8905252877537791\n",
      "Adjusted Rand Index 0.4539320821438111\n",
      "Adjusted Mutual Information: 0.5789780164016596\n",
      "Silhouette 0.13388341792678082\n"
     ]
    }
   ],
   "source": [
    "pca_estimator = KMeans(init='k-means++', n_clusters=n_digits, n_init=10)\n",
    "pca_estimator.fit(data_pca_5)\n",
    "get_errors(pca_estimator, sample_size, data)"
   ]
  },
  {
   "cell_type": "code",
   "execution_count": 81,
   "id": "689b5fd7",
   "metadata": {},
   "outputs": [
    {
     "name": "stdout",
     "output_type": "stream",
     "text": [
      "Rand 0.9636854544755984\n",
      "Adjusted Rand Index 0.8109556477304581\n",
      "Adjusted Mutual Information: 0.8831118160643505\n",
      "Silhouette 0.12145315035746189\n"
     ]
    }
   ],
   "source": [
    "umap_8_estimator =  KMeans(init='k-means++', n_clusters=n_digits, n_init=10)\n",
    "umap_8_estimator.fit(embedding_umap_8)\n",
    "get_errors(umap_8_estimator, sample_size, data)"
   ]
  },
  {
   "cell_type": "code",
   "execution_count": 82,
   "id": "f91710f9",
   "metadata": {},
   "outputs": [
    {
     "name": "stdout",
     "output_type": "stream",
     "text": [
      "Rand 0.9627280310044085\n",
      "Adjusted Rand Index 0.8068792197364256\n",
      "Adjusted Mutual Information: 0.8822945808301651\n",
      "Silhouette 0.08281916914446907\n"
     ]
    }
   ],
   "source": [
    "umap_5_estimator =  KMeans(init='k-means++', n_clusters=n_digits, n_init=10)\n",
    "umap_5_estimator.fit(embedding_umap_5)\n",
    "get_errors(umap_5_estimator, sample_size, data)"
   ]
  },
  {
   "cell_type": "markdown",
   "id": "64526966",
   "metadata": {},
   "source": [
    "## Affinity Propagation"
   ]
  },
  {
   "cell_type": "code",
   "execution_count": 65,
   "id": "64817c55",
   "metadata": {},
   "outputs": [],
   "source": [
    "from sklearn.cluster import AffinityPropagation"
   ]
  },
  {
   "cell_type": "code",
   "execution_count": 66,
   "id": "ab9dc06b",
   "metadata": {},
   "outputs": [
    {
     "data": {
      "text/plain": [
       "AffinityPropagation()"
      ]
     },
     "execution_count": 66,
     "metadata": {},
     "output_type": "execute_result"
    }
   ],
   "source": [
    "model_aff = AffinityPropagation()\n",
    "model_aff.fit(data)"
   ]
  },
  {
   "cell_type": "code",
   "execution_count": 69,
   "id": "ef55c289",
   "metadata": {},
   "outputs": [
    {
     "name": "stdout",
     "output_type": "stream",
     "text": [
      "Rand 0.9090063493597966\n",
      "Adjusted Rand Index 0.1543890171236833\n",
      "Adjusted Mutual Information: 0.5728829386106491\n",
      "Silhouette 0.05409447363969096\n"
     ]
    }
   ],
   "source": [
    "get_errors(model_aff, sample_size, data)"
   ]
  },
  {
   "cell_type": "code",
   "execution_count": 84,
   "id": "00315888",
   "metadata": {},
   "outputs": [
    {
     "name": "stdout",
     "output_type": "stream",
     "text": [
      "Rand 0.9113958800425852\n",
      "Adjusted Rand Index 0.21764060274052408\n",
      "Adjusted Mutual Information: 0.5874223418791499\n",
      "Silhouette 0.05921617350232909\n"
     ]
    }
   ],
   "source": [
    "aff_pca_estimator = AffinityPropagation()\n",
    "aff_pca_estimator.fit(data_pca_8)\n",
    "get_errors(aff_pca_estimator, sample_size, data)"
   ]
  },
  {
   "cell_type": "code",
   "execution_count": 85,
   "id": "a2435493",
   "metadata": {},
   "outputs": [
    {
     "name": "stdout",
     "output_type": "stream",
     "text": [
      "Rand 0.9086648993063172\n",
      "Adjusted Rand Index 0.19535675094947286\n",
      "Adjusted Mutual Information: 0.5367948299256343\n",
      "Silhouette 0.015723390170051824\n"
     ]
    }
   ],
   "source": [
    "aff_pca_estimator = AffinityPropagation()\n",
    "aff_pca_estimator.fit(data_pca_5)\n",
    "get_errors(aff_pca_estimator, sample_size, data)"
   ]
  },
  {
   "cell_type": "code",
   "execution_count": 97,
   "id": "79bb820b",
   "metadata": {},
   "outputs": [
    {
     "name": "stdout",
     "output_type": "stream",
     "text": [
      "Rand 0.93250071574376\n",
      "Adjusted Rand Index 0.4760848717336931\n",
      "Adjusted Mutual Information: 0.7559585918378904\n",
      "Silhouette 0.058323666535463774\n"
     ]
    }
   ],
   "source": [
    "umap_8_estimator =  AffinityPropagation(max_iter=1000)\n",
    "umap_8_estimator.fit(embedding_umap_8)\n",
    "get_errors(umap_10_estimator, sample_size, data)"
   ]
  },
  {
   "cell_type": "code",
   "execution_count": 98,
   "id": "2a33db80",
   "metadata": {},
   "outputs": [
    {
     "name": "stdout",
     "output_type": "stream",
     "text": [
      "Rand 0.9315693193183888\n",
      "Adjusted Rand Index 0.4707660195004991\n",
      "Adjusted Mutual Information: 0.7468834635679453\n",
      "Silhouette 0.07714768561186161\n"
     ]
    }
   ],
   "source": [
    "umap_5_estimator =  AffinityPropagation(max_iter=1000)\n",
    "umap_5_estimator.fit(embedding_umap_5)\n",
    "get_errors(umap_5_estimator, sample_size, data)"
   ]
  },
  {
   "cell_type": "markdown",
   "id": "768d731d",
   "metadata": {},
   "source": [
    "## Agglomerative Hierarchical clustering"
   ]
  },
  {
   "cell_type": "code",
   "execution_count": 74,
   "id": "4432cac3",
   "metadata": {},
   "outputs": [],
   "source": [
    "from sklearn.cluster import AgglomerativeClustering"
   ]
  },
  {
   "cell_type": "code",
   "execution_count": 75,
   "id": "ff98dc7b",
   "metadata": {},
   "outputs": [
    {
     "data": {
      "text/plain": [
       "AgglomerativeClustering(n_clusters=10)"
      ]
     },
     "execution_count": 75,
     "metadata": {},
     "output_type": "execute_result"
    }
   ],
   "source": [
    "model_agglom = AgglomerativeClustering(n_clusters=n_digits)\n",
    "model_agglom.fit(data)"
   ]
  },
  {
   "cell_type": "code",
   "execution_count": 76,
   "id": "33a6c264",
   "metadata": {},
   "outputs": [
    {
     "data": {
      "text/plain": [
       "array([5, 1, 1, ..., 1, 1, 1])"
      ]
     },
     "execution_count": 76,
     "metadata": {},
     "output_type": "execute_result"
    }
   ],
   "source": [
    "model_agglom.labels_"
   ]
  },
  {
   "cell_type": "code",
   "execution_count": 77,
   "id": "bc333118",
   "metadata": {},
   "outputs": [
    {
     "name": "stdout",
     "output_type": "stream",
     "text": [
      "Rand 0.9302549535045417\n",
      "Adjusted Rand Index 0.6643458356002894\n",
      "Adjusted Mutual Information: 0.7934927361004462\n",
      "Silhouette 0.12251888091350975\n"
     ]
    }
   ],
   "source": [
    "get_errors(model_agglom, 300, data)"
   ]
  },
  {
   "cell_type": "code",
   "execution_count": 78,
   "id": "fe2c7332",
   "metadata": {},
   "outputs": [
    {
     "data": {
      "text/plain": [
       "AgglomerativeClustering(n_clusters=10)"
      ]
     },
     "execution_count": 78,
     "metadata": {},
     "output_type": "execute_result"
    }
   ],
   "source": [
    "agg_pca_estimator = AgglomerativeClustering(n_clusters=n_digits)\n",
    "agg_pca_estimator.fit(data_pca_8)"
   ]
  },
  {
   "cell_type": "code",
   "execution_count": 79,
   "id": "a49102f3",
   "metadata": {},
   "outputs": [
    {
     "name": "stdout",
     "output_type": "stream",
     "text": [
      "Rand 0.8866131748905934\n",
      "Adjusted Rand Index 0.4596582510127902\n",
      "Adjusted Mutual Information: 0.6373011620932433\n",
      "Silhouette 0.11229765924749661\n"
     ]
    }
   ],
   "source": [
    "get_errors(agg_pca_estimator, sample_size, data)"
   ]
  },
  {
   "cell_type": "code",
   "execution_count": 80,
   "id": "3031f5f3",
   "metadata": {},
   "outputs": [
    {
     "name": "stdout",
     "output_type": "stream",
     "text": [
      "Rand 0.8730512249443207\n",
      "Adjusted Rand Index 0.4141991315977404\n",
      "Adjusted Mutual Information: 0.5988112321038814\n",
      "Silhouette 0.11004095518626646\n"
     ]
    }
   ],
   "source": [
    "agg_pca_estimator = AgglomerativeClustering(n_clusters=n_digits)\n",
    "agg_pca_estimator.fit(data_pca_5)\n",
    "get_errors(agg_pca_estimator, sample_size, data)"
   ]
  },
  {
   "cell_type": "code",
   "execution_count": 100,
   "id": "0c340fc8",
   "metadata": {},
   "outputs": [
    {
     "name": "stdout",
     "output_type": "stream",
     "text": [
      "Rand 0.93250071574376\n",
      "Adjusted Rand Index 0.4760848717336931\n",
      "Adjusted Mutual Information: 0.7559585918378904\n",
      "Silhouette 0.07075844710071579\n"
     ]
    }
   ],
   "source": [
    "umap_8_estimator =  AgglomerativeClustering(n_clusters=n_digits)\n",
    "umap_8_estimator.fit(embedding_umap_8)\n",
    "get_errors(umap_10_estimator, sample_size, data)"
   ]
  },
  {
   "cell_type": "code",
   "execution_count": 99,
   "id": "9caa2cea",
   "metadata": {},
   "outputs": [
    {
     "name": "stdout",
     "output_type": "stream",
     "text": [
      "Rand 0.9618381539140339\n",
      "Adjusted Rand Index 0.7931938357029507\n",
      "Adjusted Mutual Information: 0.8559436929343653\n",
      "Silhouette 0.10914717093916264\n"
     ]
    }
   ],
   "source": [
    "umap_5_estimator =  AgglomerativeClustering(n_clusters=n_digits)\n",
    "umap_5_estimator.fit(embedding_umap_5)\n",
    "get_errors(umap_5_estimator, sample_size, data)"
   ]
  },
  {
   "cell_type": "code",
   "execution_count": null,
   "id": "ba15cb2a",
   "metadata": {},
   "outputs": [],
   "source": []
  }
 ],
 "metadata": {
  "kernelspec": {
   "display_name": "ml-course",
   "language": "python",
   "name": "ml-course"
  },
  "language_info": {
   "codemirror_mode": {
    "name": "ipython",
    "version": 3
   },
   "file_extension": ".py",
   "mimetype": "text/x-python",
   "name": "python",
   "nbconvert_exporter": "python",
   "pygments_lexer": "ipython3",
   "version": "3.8.10"
  }
 },
 "nbformat": 4,
 "nbformat_minor": 5
}
