{
  "nbformat": 4,
  "nbformat_minor": 0,
  "metadata": {
    "colab": {
      "name": "logreg_train.ipynb",
      "provenance": [],
      "collapsed_sections": [],
      "machine_shape": "hm"
    },
    "kernelspec": {
      "name": "python3",
      "display_name": "Python 3"
    },
    "language_info": {
      "name": "python"
    }
  },
  "cells": [
    {
      "cell_type": "code",
      "execution_count": null,
      "metadata": {
        "id": "CzmyV-B1Ma91"
      },
      "outputs": [],
      "source": [
        "import os.path\n",
        "\n",
        "import joblib\n",
        "import numpy as np\n",
        "import pandas as pd\n",
        "from sklearn.feature_extraction.text import TfidfVectorizer\n",
        "from sklearn.linear_model import LogisticRegression\n",
        "from sklearn.metrics import f1_score\n",
        "from sklearn.pipeline import Pipeline\n",
        "import time\n",
        "from datetime import datetime as dt\n",
        "from string import punctuation"
      ]
    },
    {
      "cell_type": "code",
      "source": [
        "from google.colab import drive\n",
        "drive.mount('/content/drive')"
      ],
      "metadata": {
        "colab": {
          "base_uri": "https://localhost:8080/"
        },
        "id": "xc3l_jO7M42a",
        "outputId": "ad42a1e3-8aee-402e-d50c-b2032a726ff5"
      },
      "execution_count": null,
      "outputs": [
        {
          "output_type": "stream",
          "name": "stdout",
          "text": [
            "Drive already mounted at /content/drive; to attempt to forcibly remount, call drive.mount(\"/content/drive\", force_remount=True).\n"
          ]
        }
      ]
    },
    {
      "cell_type": "code",
      "execution_count": null,
      "metadata": {
        "id": "V1G82GuO-tez",
        "colab": {
          "base_uri": "https://localhost:8080/"
        },
        "outputId": "f56c57fc-3736-4ef8-f31b-6f2aea105c6a"
      },
      "outputs": [
        {
          "output_type": "stream",
          "name": "stdout",
          "text": [
            "Your runtime has 27.3 gigabytes of available RAM\n",
            "\n",
            "You are using a high-RAM runtime!\n"
          ]
        }
      ],
      "source": [
        "from psutil import virtual_memory\n",
        "ram_gb = virtual_memory().total / 1e9\n",
        "print('Your runtime has {:.1f} gigabytes of available RAM\\n'.format(ram_gb))\n",
        "\n",
        "if ram_gb < 20:\n",
        "  print('Not using a high-RAM runtime')\n",
        "else:\n",
        "  print('You are using a high-RAM runtime!')"
      ]
    },
    {
      "cell_type": "code",
      "source": [
        "import nltk\n",
        "from nltk.corpus import stopwords\n",
        "nltk.download(\"stopwords\")\n",
        "russian_stopwords = stopwords.words(\"russian\")"
      ],
      "metadata": {
        "colab": {
          "base_uri": "https://localhost:8080/"
        },
        "id": "xJ4SywLAOgOm",
        "outputId": "545edb01-8ab3-4784-e976-1a00e80a06eb"
      },
      "execution_count": null,
      "outputs": [
        {
          "output_type": "stream",
          "name": "stdout",
          "text": [
            "[nltk_data] Downloading package stopwords to /root/nltk_data...\n",
            "[nltk_data]   Package stopwords is already up-to-date!\n"
          ]
        }
      ]
    },
    {
      "cell_type": "code",
      "source": [
        "# TODO make as parameters\n",
        "MAX_DF = 0.8\n",
        "MIN_DF = 200\n",
        "N_JOBS = -1\n",
        "INPUT_DIR = \"/content/drive/MyDrive/project_data/all_data_cats_with_gt50\"\n",
        "OUTPUT_DIR = \"/content/drive/MyDrive/project_data/all_data_cats_with_gt50\"\n"
      ],
      "metadata": {
        "id": "88D7FM-tZpbg"
      },
      "execution_count": null,
      "outputs": []
    },
    {
      "cell_type": "code",
      "source": [
        "def read_dataset(input_dir, subset):\n",
        "    \"\"\"\n",
        "    Reads and drops NAs\n",
        "    :param input_dir: where the (train.csv, test.csv, valid.csv, ...) are located\n",
        "    :param string subset: the name of the subset to read (train, test, valid, ...)\n",
        "    :return: pd.DataFrame\n",
        "    \"\"\"\n",
        "    df = pd.read_csv(os.path.join(input_dir, f\"{subset}.csv\"), header=0)\n",
        "    initial_shape = df.shape[0]\n",
        "    df = df.dropna(how=\"any\")\n",
        "    curr_shape = df.shape[0]\n",
        "    print(f\"There were {curr_shape - initial_shape} empty examples dropped.\",\n",
        "          f\"{subset.upper()} set has {curr_shape} rows.\")\n",
        "    return df\n",
        "(train, valid, test) = (read_dataset(INPUT_DIR, subset) for subset in [\"train\", \"valid\", \"test\"])"
      ],
      "metadata": {
        "colab": {
          "base_uri": "https://localhost:8080/"
        },
        "id": "IQnzX0UsZc6B",
        "outputId": "fc62f87f-4675-4ace-9eaf-2e1d9ee60690"
      },
      "execution_count": null,
      "outputs": [
        {
          "output_type": "stream",
          "name": "stdout",
          "text": [
            "There were -35550 empty examples dropped. TRAIN set has 519202 rows.\n",
            "There were -5878 empty examples dropped. VALID set has 86581 rows.\n",
            "There were -5905 empty examples dropped. TEST set has 86554 rows.\n"
          ]
        }
      ]
    },
    {
      "cell_type": "code",
      "source": [
        "class Timeit(object):\n",
        "    def __init__(self, description):\n",
        "        self.description = description\n",
        "\n",
        "    def __enter__(self):\n",
        "        self.start_time = time.time()\n",
        "\n",
        "    def __exit__(self, type, value, traceback):\n",
        "        ex_time = time.time() - self.start_time\n",
        "        print(self.description, ex_time, \"seconds\")\n",
        "        return True"
      ],
      "metadata": {
        "id": "-D33zMnlaEAb"
      },
      "execution_count": null,
      "outputs": []
    },
    {
      "cell_type": "code",
      "source": [
        "logreg = Pipeline(steps=[(\"vectorizer\", TfidfVectorizer(max_df=MAX_DF,\n",
        "                                                            min_df=MIN_DF,\n",
        "                                                            stop_words=russian_stopwords,\n",
        "                                                            token_pattern=u'(?ui)\\\\b\\\\w*[а-я]+\\\\w*\\\\b')),\n",
        "                         (\"log_reg\", LogisticRegression(n_jobs=N_JOBS,\n",
        "                                                           solver=\"saga\",\n",
        "                                                           multi_class=\"multinomial\",\n",
        "                                                           random_state=100500))\n",
        "                             ],\n",
        "                  verbose=True)\n",
        "\n",
        "# train the pipeline\n",
        "logreg.fit(train[\"description\"], train[\"targetcat\"])"
      ],
      "metadata": {
        "colab": {
          "base_uri": "https://localhost:8080/"
        },
        "id": "PLrdrR1sMsU3",
        "outputId": "e3999dbd-548a-4657-8553-0bc85bb473af"
      },
      "execution_count": null,
      "outputs": [
        {
          "output_type": "stream",
          "name": "stdout",
          "text": [
            "[Pipeline] ........ (step 1 of 2) Processing vectorizer, total= 1.4min\n",
            "[Pipeline] .......... (step 2 of 2) Processing log_reg, total=167.8min\n"
          ]
        },
        {
          "output_type": "execute_result",
          "data": {
            "text/plain": [
              "Pipeline(steps=[('vectorizer',\n",
              "                 TfidfVectorizer(max_df=0.8, min_df=200,\n",
              "                                 stop_words=['и', 'в', 'во', 'не', 'что', 'он',\n",
              "                                             'на', 'я', 'с', 'со', 'как', 'а',\n",
              "                                             'то', 'все', 'она', 'так', 'его',\n",
              "                                             'но', 'да', 'ты', 'к', 'у', 'же',\n",
              "                                             'вы', 'за', 'бы', 'по', 'только',\n",
              "                                             'ее', 'мне', ...],\n",
              "                                 token_pattern='(?ui)\\\\b\\\\w*[а-я]+\\\\w*\\\\b')),\n",
              "                ('log_reg',\n",
              "                 LogisticRegression(multi_class='multinomial', n_jobs=-1,\n",
              "                                    random_state=100500, solver='saga'))],\n",
              "         verbose=True)"
            ]
          },
          "metadata": {},
          "execution_count": 26
        }
      ]
    },
    {
      "cell_type": "code",
      "source": [
        "logreg.named_steps"
      ],
      "metadata": {
        "id": "3Ke1GcFt05PE",
        "colab": {
          "base_uri": "https://localhost:8080/"
        },
        "outputId": "a423765e-af21-4abf-d7c3-cfb6d927fbdc"
      },
      "execution_count": null,
      "outputs": [
        {
          "output_type": "execute_result",
          "data": {
            "text/plain": [
              "{'log_reg': LogisticRegression(multi_class='multinomial', n_jobs=-1, random_state=100500,\n",
              "                    solver='saga'),\n",
              " 'vectorizer': TfidfVectorizer(max_df=0.8, min_df=200,\n",
              "                 stop_words=['и', 'в', 'во', 'не', 'что', 'он', 'на', 'я', 'с',\n",
              "                             'со', 'как', 'а', 'то', 'все', 'она', 'так', 'его',\n",
              "                             'но', 'да', 'ты', 'к', 'у', 'же', 'вы', 'за', 'бы',\n",
              "                             'по', 'только', 'ее', 'мне', ...],\n",
              "                 token_pattern='(?ui)\\\\b\\\\w*[а-я]+\\\\w*\\\\b')}"
            ]
          },
          "metadata": {},
          "execution_count": 27
        }
      ]
    },
    {
      "cell_type": "code",
      "source": [
        "suffix = 'test_run'\n",
        "output_dir = os.path.join(OUTPUT_DIR, suffix)\n",
        "\n",
        "vectorizer = logreg.named_steps[\"vectorizer\"]\n",
        "joblib.dump(vectorizer, os.path.join(output_dir, \"tf_idf_vectorizer\"), compress=3)"
      ],
      "metadata": {
        "id": "cr0g9NCIldHS",
        "colab": {
          "base_uri": "https://localhost:8080/"
        },
        "outputId": "aadd93e3-6180-43eb-adcc-ce9736d66dad"
      },
      "execution_count": null,
      "outputs": [
        {
          "output_type": "execute_result",
          "data": {
            "text/plain": [
              "['/content/drive/MyDrive/project_data/all_data_cats_with_gt50/test_run/tf_idf_vectorizer']"
            ]
          },
          "metadata": {},
          "execution_count": 28
        }
      ]
    },
    {
      "cell_type": "code",
      "source": [
        "log_reg = logreg.named_steps[\"log_reg\"]\n",
        "joblib.dump(log_reg, os.path.join(output_dir, \"model_log_reg.joblib\"), compress=3)"
      ],
      "metadata": {
        "id": "VlfB03w-1FPX",
        "colab": {
          "base_uri": "https://localhost:8080/"
        },
        "outputId": "b9d4e0f8-9e19-492b-bdff-77342171565f"
      },
      "execution_count": null,
      "outputs": [
        {
          "output_type": "execute_result",
          "data": {
            "text/plain": [
              "['/content/drive/MyDrive/project_data/all_data_cats_with_gt50/test_run/model_log_reg.joblib']"
            ]
          },
          "metadata": {},
          "execution_count": 29
        }
      ]
    },
    {
      "cell_type": "code",
      "source": [
        "log_red_loaded = joblib.load('/content/drive/MyDrive/project_data/all_data_cats_with_gt50/test_run/model_log_reg.joblib')\n",
        "vectorizer_loaded = joblib.load('/content/drive/MyDrive/project_data/all_data_cats_with_gt50/test_run/tf_idf_vectorizer')\n",
        "logreg = Pipeline(steps=[(\"vectorizer\", vectorizer_loaded),\n",
        "                             (\"log_reg\", log_red_loaded)\n",
        "                             ],\n",
        "                      verbose=True)\n",
        "# evaluation on validation\n",
        "val_preds = logreg.predict(valid[\"description\"])\n",
        "val_f1_scores_by_category = f1_score(valid[\"targetcat\"], val_preds, average=None)\n",
        "val_f1_score_macro = np.mean(val_f1_scores_by_category)\n",
        "print(f\"F1 Macro on validation is: {val_f1_score_macro}\")"
      ],
      "metadata": {
        "id": "3lzKqrO8lmOx",
        "colab": {
          "base_uri": "https://localhost:8080/"
        },
        "outputId": "ae06fa7b-34bb-4341-b2be-327c5ad2ee9b"
      },
      "execution_count": null,
      "outputs": [
        {
          "output_type": "stream",
          "name": "stdout",
          "text": [
            "F1 Macro on validation is: 0.6780332451862325\n"
          ]
        }
      ]
    },
    {
      "cell_type": "code",
      "source": [
        "test = pd.DataFrame(zip(val_preds, val_f1_scores_by_category), columns = ['cat', 'score'])\n",
        "len(test[test.score < 0.5])"
      ],
      "metadata": {
        "colab": {
          "base_uri": "https://localhost:8080/"
        },
        "id": "6_13uLD1zEns",
        "outputId": "d3fbaee3-85b4-4c46-f5de-f12b28ecbb27"
      },
      "execution_count": null,
      "outputs": [
        {
          "output_type": "execute_result",
          "data": {
            "text/plain": [
              "334"
            ]
          },
          "metadata": {},
          "execution_count": 38
        }
      ]
    },
    {
      "cell_type": "code",
      "source": [
        "test[test.score < 0.5]\n"
      ],
      "metadata": {
        "id": "5qJZlvAn1X_D",
        "colab": {
          "base_uri": "https://localhost:8080/",
          "height": 423
        },
        "outputId": "01bed85c-e491-49d4-c400-93388b297dff"
      },
      "execution_count": null,
      "outputs": [
        {
          "output_type": "execute_result",
          "data": {
            "text/html": [
              "\n",
              "  <div id=\"df-0353d03a-a7e0-4c04-8f71-e8fb317fee9a\">\n",
              "    <div class=\"colab-df-container\">\n",
              "      <div>\n",
              "<style scoped>\n",
              "    .dataframe tbody tr th:only-of-type {\n",
              "        vertical-align: middle;\n",
              "    }\n",
              "\n",
              "    .dataframe tbody tr th {\n",
              "        vertical-align: top;\n",
              "    }\n",
              "\n",
              "    .dataframe thead th {\n",
              "        text-align: right;\n",
              "    }\n",
              "</style>\n",
              "<table border=\"1\" class=\"dataframe\">\n",
              "  <thead>\n",
              "    <tr style=\"text-align: right;\">\n",
              "      <th></th>\n",
              "      <th>cat</th>\n",
              "      <th>score</th>\n",
              "    </tr>\n",
              "  </thead>\n",
              "  <tbody>\n",
              "    <tr>\n",
              "      <th>4</th>\n",
              "      <td>3D и VR очки</td>\n",
              "      <td>0.125000</td>\n",
              "    </tr>\n",
              "    <tr>\n",
              "      <th>16</th>\n",
              "      <td>Пены, герметики, клеи</td>\n",
              "      <td>0.000000</td>\n",
              "    </tr>\n",
              "    <tr>\n",
              "      <th>24</th>\n",
              "      <td>Ветпрепараты</td>\n",
              "      <td>0.000000</td>\n",
              "    </tr>\n",
              "    <tr>\n",
              "      <th>34</th>\n",
              "      <td>Парикмахерские тележки</td>\n",
              "      <td>0.434783</td>\n",
              "    </tr>\n",
              "    <tr>\n",
              "      <th>35</th>\n",
              "      <td>Комбинированные ключи</td>\n",
              "      <td>0.363636</td>\n",
              "    </tr>\n",
              "    <tr>\n",
              "      <th>...</th>\n",
              "      <td>...</td>\n",
              "      <td>...</td>\n",
              "    </tr>\n",
              "    <tr>\n",
              "      <th>1650</th>\n",
              "      <td>Бра и настенно-потолочные светильники</td>\n",
              "      <td>0.000000</td>\n",
              "    </tr>\n",
              "    <tr>\n",
              "      <th>1655</th>\n",
              "      <td>Ватные палочки</td>\n",
              "      <td>0.465517</td>\n",
              "    </tr>\n",
              "    <tr>\n",
              "      <th>1659</th>\n",
              "      <td>Косметика для бритья</td>\n",
              "      <td>0.000000</td>\n",
              "    </tr>\n",
              "    <tr>\n",
              "      <th>1660</th>\n",
              "      <td>Стартовый набор для маникюра</td>\n",
              "      <td>0.416667</td>\n",
              "    </tr>\n",
              "    <tr>\n",
              "      <th>1667</th>\n",
              "      <td>Герметики автомобильные</td>\n",
              "      <td>0.480000</td>\n",
              "    </tr>\n",
              "  </tbody>\n",
              "</table>\n",
              "<p>334 rows × 2 columns</p>\n",
              "</div>\n",
              "      <button class=\"colab-df-convert\" onclick=\"convertToInteractive('df-0353d03a-a7e0-4c04-8f71-e8fb317fee9a')\"\n",
              "              title=\"Convert this dataframe to an interactive table.\"\n",
              "              style=\"display:none;\">\n",
              "        \n",
              "  <svg xmlns=\"http://www.w3.org/2000/svg\" height=\"24px\"viewBox=\"0 0 24 24\"\n",
              "       width=\"24px\">\n",
              "    <path d=\"M0 0h24v24H0V0z\" fill=\"none\"/>\n",
              "    <path d=\"M18.56 5.44l.94 2.06.94-2.06 2.06-.94-2.06-.94-.94-2.06-.94 2.06-2.06.94zm-11 1L8.5 8.5l.94-2.06 2.06-.94-2.06-.94L8.5 2.5l-.94 2.06-2.06.94zm10 10l.94 2.06.94-2.06 2.06-.94-2.06-.94-.94-2.06-.94 2.06-2.06.94z\"/><path d=\"M17.41 7.96l-1.37-1.37c-.4-.4-.92-.59-1.43-.59-.52 0-1.04.2-1.43.59L10.3 9.45l-7.72 7.72c-.78.78-.78 2.05 0 2.83L4 21.41c.39.39.9.59 1.41.59.51 0 1.02-.2 1.41-.59l7.78-7.78 2.81-2.81c.8-.78.8-2.07 0-2.86zM5.41 20L4 18.59l7.72-7.72 1.47 1.35L5.41 20z\"/>\n",
              "  </svg>\n",
              "      </button>\n",
              "      \n",
              "  <style>\n",
              "    .colab-df-container {\n",
              "      display:flex;\n",
              "      flex-wrap:wrap;\n",
              "      gap: 12px;\n",
              "    }\n",
              "\n",
              "    .colab-df-convert {\n",
              "      background-color: #E8F0FE;\n",
              "      border: none;\n",
              "      border-radius: 50%;\n",
              "      cursor: pointer;\n",
              "      display: none;\n",
              "      fill: #1967D2;\n",
              "      height: 32px;\n",
              "      padding: 0 0 0 0;\n",
              "      width: 32px;\n",
              "    }\n",
              "\n",
              "    .colab-df-convert:hover {\n",
              "      background-color: #E2EBFA;\n",
              "      box-shadow: 0px 1px 2px rgba(60, 64, 67, 0.3), 0px 1px 3px 1px rgba(60, 64, 67, 0.15);\n",
              "      fill: #174EA6;\n",
              "    }\n",
              "\n",
              "    [theme=dark] .colab-df-convert {\n",
              "      background-color: #3B4455;\n",
              "      fill: #D2E3FC;\n",
              "    }\n",
              "\n",
              "    [theme=dark] .colab-df-convert:hover {\n",
              "      background-color: #434B5C;\n",
              "      box-shadow: 0px 1px 3px 1px rgba(0, 0, 0, 0.15);\n",
              "      filter: drop-shadow(0px 1px 2px rgba(0, 0, 0, 0.3));\n",
              "      fill: #FFFFFF;\n",
              "    }\n",
              "  </style>\n",
              "\n",
              "      <script>\n",
              "        const buttonEl =\n",
              "          document.querySelector('#df-0353d03a-a7e0-4c04-8f71-e8fb317fee9a button.colab-df-convert');\n",
              "        buttonEl.style.display =\n",
              "          google.colab.kernel.accessAllowed ? 'block' : 'none';\n",
              "\n",
              "        async function convertToInteractive(key) {\n",
              "          const element = document.querySelector('#df-0353d03a-a7e0-4c04-8f71-e8fb317fee9a');\n",
              "          const dataTable =\n",
              "            await google.colab.kernel.invokeFunction('convertToInteractive',\n",
              "                                                     [key], {});\n",
              "          if (!dataTable) return;\n",
              "\n",
              "          const docLinkHtml = 'Like what you see? Visit the ' +\n",
              "            '<a target=\"_blank\" href=https://colab.research.google.com/notebooks/data_table.ipynb>data table notebook</a>'\n",
              "            + ' to learn more about interactive tables.';\n",
              "          element.innerHTML = '';\n",
              "          dataTable['output_type'] = 'display_data';\n",
              "          await google.colab.output.renderOutput(dataTable, element);\n",
              "          const docLink = document.createElement('div');\n",
              "          docLink.innerHTML = docLinkHtml;\n",
              "          element.appendChild(docLink);\n",
              "        }\n",
              "      </script>\n",
              "    </div>\n",
              "  </div>\n",
              "  "
            ],
            "text/plain": [
              "                                        cat     score\n",
              "4                              3D и VR очки  0.125000\n",
              "16                    Пены, герметики, клеи  0.000000\n",
              "24                             Ветпрепараты  0.000000\n",
              "34                   Парикмахерские тележки  0.434783\n",
              "35                    Комбинированные ключи  0.363636\n",
              "...                                     ...       ...\n",
              "1650  Бра и настенно-потолочные светильники  0.000000\n",
              "1655                         Ватные палочки  0.465517\n",
              "1659                   Косметика для бритья  0.000000\n",
              "1660           Стартовый набор для маникюра  0.416667\n",
              "1667                Герметики автомобильные  0.480000\n",
              "\n",
              "[334 rows x 2 columns]"
            ]
          },
          "metadata": {},
          "execution_count": 39
        }
      ]
    },
    {
      "cell_type": "code",
      "source": [
        "len(val_f1_scores_by_category)"
      ],
      "metadata": {
        "id": "UEuEKe7H4D_3",
        "colab": {
          "base_uri": "https://localhost:8080/"
        },
        "outputId": "1e2057d3-42b1-422f-e44b-a5033ab6a7a3"
      },
      "execution_count": null,
      "outputs": [
        {
          "output_type": "execute_result",
          "data": {
            "text/plain": [
              "1671"
            ]
          },
          "metadata": {},
          "execution_count": 40
        }
      ]
    },
    {
      "cell_type": "code",
      "source": [
        "val_f1_scores_by_category"
      ],
      "metadata": {
        "id": "duOis8K74kFQ",
        "colab": {
          "base_uri": "https://localhost:8080/"
        },
        "outputId": "3219591e-9d17-411a-c4e9-9a5cae1dee64"
      },
      "execution_count": null,
      "outputs": [
        {
          "output_type": "execute_result",
          "data": {
            "text/plain": [
              "array([0.84545455, 0.91304348, 0.97674419, ..., 0.83018868, 0.62686567,\n",
              "       0.83443709])"
            ]
          },
          "metadata": {},
          "execution_count": 41
        }
      ]
    },
    {
      "cell_type": "code",
      "source": [
        "len(vectorizer_loaded.get_feature_names_out())"
      ],
      "metadata": {
        "id": "1516fCPv_XOq",
        "colab": {
          "base_uri": "https://localhost:8080/"
        },
        "outputId": "7b5718af-a2d7-4086-ed9e-53cf171167e9"
      },
      "execution_count": null,
      "outputs": [
        {
          "output_type": "execute_result",
          "data": {
            "text/plain": [
              "24454"
            ]
          },
          "metadata": {},
          "execution_count": 35
        }
      ]
    },
    {
      "cell_type": "code",
      "source": [
        "type(val_f1_scores_by_category)\n",
        "val_f1_scores_by_category_without_nulls = val_f1_scores_by_category[val_f1_scores_by_category != 0]\n",
        "np.mean(val_f1_scores_by_category_without_nulls)"
      ],
      "metadata": {
        "colab": {
          "base_uri": "https://localhost:8080/"
        },
        "id": "CuLqHC0havO9",
        "outputId": "8ef7cf0d-d916-4b21-a10e-3832fae65071"
      },
      "execution_count": null,
      "outputs": [
        {
          "output_type": "execute_result",
          "data": {
            "text/plain": [
              "0.717084527029237"
            ]
          },
          "metadata": {},
          "execution_count": 36
        }
      ]
    }
  ]
}