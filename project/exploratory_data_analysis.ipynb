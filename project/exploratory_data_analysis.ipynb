{
 "cells": [
  {
   "cell_type": "markdown",
   "id": "870b200b",
   "metadata": {},
   "source": [
    "### Load the data"
   ]
  },
  {
   "cell_type": "code",
   "execution_count": 1,
   "id": "2bac9709",
   "metadata": {},
   "outputs": [
    {
     "data": {
      "text/html": [
       "<div>\n",
       "<style scoped>\n",
       "    .dataframe tbody tr th:only-of-type {\n",
       "        vertical-align: middle;\n",
       "    }\n",
       "\n",
       "    .dataframe tbody tr th {\n",
       "        vertical-align: top;\n",
       "    }\n",
       "\n",
       "    .dataframe thead th {\n",
       "        text-align: right;\n",
       "    }\n",
       "</style>\n",
       "<table border=\"1\" class=\"dataframe\">\n",
       "  <thead>\n",
       "    <tr style=\"text-align: right;\">\n",
       "      <th></th>\n",
       "      <th>deep_category</th>\n",
       "      <th>deep_category_minus_one</th>\n",
       "      <th>description</th>\n",
       "      <th>main_category</th>\n",
       "      <th>title</th>\n",
       "    </tr>\n",
       "  </thead>\n",
       "  <tbody>\n",
       "    <tr>\n",
       "      <th>0</th>\n",
       "      <td>Маршрутизаторы LB-LINK</td>\n",
       "      <td>Маршрутизаторы</td>\n",
       "      <td>Маршрутизатор LB-Link BL-WR450H WiFi Роутер дл...</td>\n",
       "      <td>Компьютеры и ноутбуки</td>\n",
       "      <td>Маршрутизатор LB-Link BL-WR450H WiFi Роутер дл...</td>\n",
       "    </tr>\n",
       "    <tr>\n",
       "      <th>1</th>\n",
       "      <td>Геймерские кресла Razer</td>\n",
       "      <td>Геймерские кресла</td>\n",
       "      <td>Идеальная игровая форма Держите соперников в з...</td>\n",
       "      <td>Товары для дома</td>\n",
       "      <td>Кресло для геймеров Razer Iskur Green XL (RZ38...</td>\n",
       "    </tr>\n",
       "    <tr>\n",
       "      <th>2</th>\n",
       "      <td>Геймерские кресла RZTK</td>\n",
       "      <td>Геймерские кресла</td>\n",
       "      <td>Модель кресла Cyber от украинского бренда RZTK...</td>\n",
       "      <td>Товары для дома</td>\n",
       "      <td>Кресло геймерское RZTK Cyber Red/Black (CBR01 RB)</td>\n",
       "    </tr>\n",
       "    <tr>\n",
       "      <th>3</th>\n",
       "      <td>Магниты для досок и аксессуары Buromax</td>\n",
       "      <td>Магниты для досок и аксессуары</td>\n",
       "      <td>Полный комплект Buromax Super Start всех прина...</td>\n",
       "      <td>Офис, школа, книги</td>\n",
       "      <td>Набор Buromax Super Start для работы с маркерн...</td>\n",
       "    </tr>\n",
       "    <tr>\n",
       "      <th>4</th>\n",
       "      <td>Геймерские кресла Barsky</td>\n",
       "      <td>Геймерские кресла</td>\n",
       "      <td>Удобное кресло из экокожи геймерского дизайна ...</td>\n",
       "      <td>Товары для дома</td>\n",
       "      <td>Кресло игровое Barsky Sport Drive Game Red (SD...</td>\n",
       "    </tr>\n",
       "    <tr>\n",
       "      <th>...</th>\n",
       "      <td>...</td>\n",
       "      <td>...</td>\n",
       "      <td>...</td>\n",
       "      <td>...</td>\n",
       "      <td>...</td>\n",
       "    </tr>\n",
       "    <tr>\n",
       "      <th>759864</th>\n",
       "      <td>Корма для грызунов Gimbi</td>\n",
       "      <td>Корма для грызунов</td>\n",
       "      <td>Продукты GimBi – это высококачественные лакомс...</td>\n",
       "      <td>Товары для дома</td>\n",
       "      <td>Лакомство Gimbi Микс для грызунов 50 г травы и...</td>\n",
       "    </tr>\n",
       "    <tr>\n",
       "      <th>759865</th>\n",
       "      <td>Корма для грызунов Gimbi</td>\n",
       "      <td>Корма для грызунов</td>\n",
       "      <td>Продукты GimBi – это высококачественные лакомс...</td>\n",
       "      <td>Товары для дома</td>\n",
       "      <td>Лакомство Gimbi Микс для грызунов 50 г крапива...</td>\n",
       "    </tr>\n",
       "    <tr>\n",
       "      <th>759866</th>\n",
       "      <td>Корма для грызунов Beaphar</td>\n",
       "      <td>Корма для грызунов</td>\n",
       "      <td>Вкусное и полезное лакомство для хорьков с мал...</td>\n",
       "      <td>Товары для дома</td>\n",
       "      <td>Лакомство для хорьков Beaphar Ferret Bits 35 г...</td>\n",
       "    </tr>\n",
       "    <tr>\n",
       "      <th>759867</th>\n",
       "      <td>Корма для грызунов Vitapol</td>\n",
       "      <td>Корма для грызунов</td>\n",
       "      <td>Vitapol Smakers Box - это лакомство с фруктами...</td>\n",
       "      <td>Товары для дома</td>\n",
       "      <td>Набор лакомств для грызунов Vitapol Smakers Bo...</td>\n",
       "    </tr>\n",
       "    <tr>\n",
       "      <th>759868</th>\n",
       "      <td>Корма для грызунов Versele-Laga</td>\n",
       "      <td>Корма для грызунов</td>\n",
       "      <td>Versele-Laga Complete Ferret ВЕРСЕЛЕ-ЛАГА КОМП...</td>\n",
       "      <td>Товары для дома</td>\n",
       "      <td>Корм для хорьков Versele-Laga Complete Ferret ...</td>\n",
       "    </tr>\n",
       "  </tbody>\n",
       "</table>\n",
       "<p>759869 rows × 5 columns</p>\n",
       "</div>"
      ],
      "text/plain": [
       "                                 deep_category  \\\n",
       "0                       Маршрутизаторы LB-LINK   \n",
       "1                      Геймерские кресла Razer   \n",
       "2                       Геймерские кресла RZTK   \n",
       "3       Магниты для досок и аксессуары Buromax   \n",
       "4                     Геймерские кресла Barsky   \n",
       "...                                        ...   \n",
       "759864                Корма для грызунов Gimbi   \n",
       "759865                Корма для грызунов Gimbi   \n",
       "759866              Корма для грызунов Beaphar   \n",
       "759867              Корма для грызунов Vitapol   \n",
       "759868         Корма для грызунов Versele-Laga   \n",
       "\n",
       "               deep_category_minus_one  \\\n",
       "0                       Маршрутизаторы   \n",
       "1                    Геймерские кресла   \n",
       "2                    Геймерские кресла   \n",
       "3       Магниты для досок и аксессуары   \n",
       "4                    Геймерские кресла   \n",
       "...                                ...   \n",
       "759864              Корма для грызунов   \n",
       "759865              Корма для грызунов   \n",
       "759866              Корма для грызунов   \n",
       "759867              Корма для грызунов   \n",
       "759868              Корма для грызунов   \n",
       "\n",
       "                                              description  \\\n",
       "0       Маршрутизатор LB-Link BL-WR450H WiFi Роутер дл...   \n",
       "1       Идеальная игровая форма Держите соперников в з...   \n",
       "2       Модель кресла Cyber от украинского бренда RZTK...   \n",
       "3       Полный комплект Buromax Super Start всех прина...   \n",
       "4       Удобное кресло из экокожи геймерского дизайна ...   \n",
       "...                                                   ...   \n",
       "759864  Продукты GimBi – это высококачественные лакомс...   \n",
       "759865  Продукты GimBi – это высококачественные лакомс...   \n",
       "759866  Вкусное и полезное лакомство для хорьков с мал...   \n",
       "759867  Vitapol Smakers Box - это лакомство с фруктами...   \n",
       "759868  Versele-Laga Complete Ferret ВЕРСЕЛЕ-ЛАГА КОМП...   \n",
       "\n",
       "                main_category  \\\n",
       "0       Компьютеры и ноутбуки   \n",
       "1             Товары для дома   \n",
       "2             Товары для дома   \n",
       "3          Офис, школа, книги   \n",
       "4             Товары для дома   \n",
       "...                       ...   \n",
       "759864        Товары для дома   \n",
       "759865        Товары для дома   \n",
       "759866        Товары для дома   \n",
       "759867        Товары для дома   \n",
       "759868        Товары для дома   \n",
       "\n",
       "                                                    title  \n",
       "0       Маршрутизатор LB-Link BL-WR450H WiFi Роутер дл...  \n",
       "1       Кресло для геймеров Razer Iskur Green XL (RZ38...  \n",
       "2       Кресло геймерское RZTK Cyber Red/Black (CBR01 RB)  \n",
       "3       Набор Buromax Super Start для работы с маркерн...  \n",
       "4       Кресло игровое Barsky Sport Drive Game Red (SD...  \n",
       "...                                                   ...  \n",
       "759864  Лакомство Gimbi Микс для грызунов 50 г травы и...  \n",
       "759865  Лакомство Gimbi Микс для грызунов 50 г крапива...  \n",
       "759866  Лакомство для хорьков Beaphar Ferret Bits 35 г...  \n",
       "759867  Набор лакомств для грызунов Vitapol Smakers Bo...  \n",
       "759868  Корм для хорьков Versele-Laga Complete Ferret ...  \n",
       "\n",
       "[759869 rows x 5 columns]"
      ]
     },
     "execution_count": 1,
     "metadata": {},
     "output_type": "execute_result"
    }
   ],
   "source": [
    "import pandas as pd\n",
    "df = pd.read_parquet('./rozetka/data_new.parquet')\n",
    "df"
   ]
  },
  {
   "cell_type": "markdown",
   "id": "70376a2b",
   "metadata": {},
   "source": [
    "### Check missing values"
   ]
  },
  {
   "cell_type": "code",
   "execution_count": 18,
   "id": "8b70c21e",
   "metadata": {},
   "outputs": [
    {
     "data": {
      "text/plain": [
       "deep_category              False\n",
       "deep_category_minus_one    False\n",
       "description                 True\n",
       "main_category              False\n",
       "title                      False\n",
       "dtype: bool"
      ]
     },
     "execution_count": 18,
     "metadata": {},
     "output_type": "execute_result"
    }
   ],
   "source": [
    "nan_values = df.isna()\n",
    "nan_columns = nan_values.any()\n",
    "nan_columns"
   ]
  },
  {
   "cell_type": "code",
   "execution_count": 19,
   "id": "abd2dcec",
   "metadata": {},
   "outputs": [
    {
     "data": {
      "text/plain": [
       "48402"
      ]
     },
     "execution_count": 19,
     "metadata": {},
     "output_type": "execute_result"
    }
   ],
   "source": [
    "df.description.isna().sum()"
   ]
  },
  {
   "cell_type": "code",
   "execution_count": 20,
   "id": "5f738152",
   "metadata": {},
   "outputs": [
    {
     "data": {
      "text/html": [
       "<div>\n",
       "<style scoped>\n",
       "    .dataframe tbody tr th:only-of-type {\n",
       "        vertical-align: middle;\n",
       "    }\n",
       "\n",
       "    .dataframe tbody tr th {\n",
       "        vertical-align: top;\n",
       "    }\n",
       "\n",
       "    .dataframe thead th {\n",
       "        text-align: right;\n",
       "    }\n",
       "</style>\n",
       "<table border=\"1\" class=\"dataframe\">\n",
       "  <thead>\n",
       "    <tr style=\"text-align: right;\">\n",
       "      <th></th>\n",
       "      <th>deep_category</th>\n",
       "      <th>deep_category_minus_one</th>\n",
       "      <th>description</th>\n",
       "      <th>main_category</th>\n",
       "      <th>title</th>\n",
       "    </tr>\n",
       "  </thead>\n",
       "  <tbody>\n",
       "    <tr>\n",
       "      <th>252</th>\n",
       "      <td>Геймерские кресла Hator</td>\n",
       "      <td>Геймерские кресла</td>\n",
       "      <td>None</td>\n",
       "      <td>Товары для дома</td>\n",
       "      <td>Кресло игровое Hator Sport Essential Stealth (...</td>\n",
       "    </tr>\n",
       "    <tr>\n",
       "      <th>320</th>\n",
       "      <td>Геймерские кресла Hator</td>\n",
       "      <td>Геймерские кресла</td>\n",
       "      <td>None</td>\n",
       "      <td>Товары для дома</td>\n",
       "      <td>Кресло игровое Hator Arc S Mineral Grey (HTC-1...</td>\n",
       "    </tr>\n",
       "    <tr>\n",
       "      <th>375</th>\n",
       "      <td>Геймерские кресла Special4You</td>\n",
       "      <td>Геймерские кресла</td>\n",
       "      <td>None</td>\n",
       "      <td>Товары для дома</td>\n",
       "      <td>Кресло игровое Special4You ExtremeRace black/p...</td>\n",
       "    </tr>\n",
       "    <tr>\n",
       "      <th>379</th>\n",
       "      <td>Геймерские кресла MSI</td>\n",
       "      <td>Геймерские кресла</td>\n",
       "      <td>None</td>\n",
       "      <td>Товары для дома</td>\n",
       "      <td>Кресло для геймеров MSI MAG CH120 I</td>\n",
       "    </tr>\n",
       "    <tr>\n",
       "      <th>381</th>\n",
       "      <td>Геймерские кресла Hator</td>\n",
       "      <td>Геймерские кресла</td>\n",
       "      <td>None</td>\n",
       "      <td>Товары для дома</td>\n",
       "      <td>Кресло игровое Hator Arc S Marrakesh Brown (HT...</td>\n",
       "    </tr>\n",
       "    <tr>\n",
       "      <th>...</th>\n",
       "      <td>...</td>\n",
       "      <td>...</td>\n",
       "      <td>...</td>\n",
       "      <td>...</td>\n",
       "      <td>...</td>\n",
       "    </tr>\n",
       "    <tr>\n",
       "      <th>759784</th>\n",
       "      <td>Корма для рептилий Tetra</td>\n",
       "      <td>Корма для рептилий</td>\n",
       "      <td>None</td>\n",
       "      <td>Товары для дома</td>\n",
       "      <td>Корм для водоплавающих черепах Tetra ReptoDeli...</td>\n",
       "    </tr>\n",
       "    <tr>\n",
       "      <th>759787</th>\n",
       "      <td>Корма для рептилий Tetra</td>\n",
       "      <td>Корма для рептилий</td>\n",
       "      <td>None</td>\n",
       "      <td>Товары для дома</td>\n",
       "      <td>Корм для водоплавающих черепах Tetra Gammarus ...</td>\n",
       "    </tr>\n",
       "    <tr>\n",
       "      <th>759796</th>\n",
       "      <td>Корма для рептилий Tetra</td>\n",
       "      <td>Корма для рептилий</td>\n",
       "      <td>None</td>\n",
       "      <td>Товары для дома</td>\n",
       "      <td>Корм для земноводных Tetra ReptoFrog 100 мл</td>\n",
       "    </tr>\n",
       "    <tr>\n",
       "      <th>759798</th>\n",
       "      <td>Корма для рептилий Tetra</td>\n",
       "      <td>Корма для рептилий</td>\n",
       "      <td>None</td>\n",
       "      <td>Товары для дома</td>\n",
       "      <td>Корм для водоплавающих черепах Tetra Gammarus ...</td>\n",
       "    </tr>\n",
       "    <tr>\n",
       "      <th>759812</th>\n",
       "      <td>Корма для рептилий Tetra</td>\n",
       "      <td>Корма для рептилий</td>\n",
       "      <td>None</td>\n",
       "      <td>Товары для дома</td>\n",
       "      <td>Корм для водоплавающих черепах Tetra ReptoDeli...</td>\n",
       "    </tr>\n",
       "  </tbody>\n",
       "</table>\n",
       "<p>48402 rows × 5 columns</p>\n",
       "</div>"
      ],
      "text/plain": [
       "                        deep_category deep_category_minus_one description  \\\n",
       "252           Геймерские кресла Hator       Геймерские кресла        None   \n",
       "320           Геймерские кресла Hator       Геймерские кресла        None   \n",
       "375     Геймерские кресла Special4You       Геймерские кресла        None   \n",
       "379             Геймерские кресла MSI       Геймерские кресла        None   \n",
       "381           Геймерские кресла Hator       Геймерские кресла        None   \n",
       "...                               ...                     ...         ...   \n",
       "759784       Корма для рептилий Tetra      Корма для рептилий        None   \n",
       "759787       Корма для рептилий Tetra      Корма для рептилий        None   \n",
       "759796       Корма для рептилий Tetra      Корма для рептилий        None   \n",
       "759798       Корма для рептилий Tetra      Корма для рептилий        None   \n",
       "759812       Корма для рептилий Tetra      Корма для рептилий        None   \n",
       "\n",
       "          main_category                                              title  \n",
       "252     Товары для дома  Кресло игровое Hator Sport Essential Stealth (...  \n",
       "320     Товары для дома  Кресло игровое Hator Arc S Mineral Grey (HTC-1...  \n",
       "375     Товары для дома  Кресло игровое Special4You ExtremeRace black/p...  \n",
       "379     Товары для дома                Кресло для геймеров MSI MAG CH120 I  \n",
       "381     Товары для дома  Кресло игровое Hator Arc S Marrakesh Brown (HT...  \n",
       "...                 ...                                                ...  \n",
       "759784  Товары для дома  Корм для водоплавающих черепах Tetra ReptoDeli...  \n",
       "759787  Товары для дома  Корм для водоплавающих черепах Tetra Gammarus ...  \n",
       "759796  Товары для дома        Корм для земноводных Tetra ReptoFrog 100 мл  \n",
       "759798  Товары для дома  Корм для водоплавающих черепах Tetra Gammarus ...  \n",
       "759812  Товары для дома  Корм для водоплавающих черепах Tetra ReptoDeli...  \n",
       "\n",
       "[48402 rows x 5 columns]"
      ]
     },
     "execution_count": 20,
     "metadata": {},
     "output_type": "execute_result"
    }
   ],
   "source": [
    "df[df.description.isna()]"
   ]
  },
  {
   "cell_type": "code",
   "execution_count": 21,
   "id": "e6937609",
   "metadata": {},
   "outputs": [
    {
     "data": {
      "text/plain": [
       "Аксессуары для сублимации My Print               439\n",
       "Аксессуары по уходу за автомобилем               374\n",
       "Игровые консоли и детские приставки Microsoft    306\n",
       "Трековые и струнные системы Skarlat              294\n",
       "Ванны Besco                                      288\n",
       "                                                ... \n",
       "Многофункциональные инструменты Makita             1\n",
       "Циркулярные пилы (Дисковые)                        1\n",
       "Дрели и миксеры Зенит                              1\n",
       "Шуруповерты Grand                                  1\n",
       "Корма для рептилий Cristel                         1\n",
       "Name: deep_category, Length: 8332, dtype: int64"
      ]
     },
     "execution_count": 21,
     "metadata": {},
     "output_type": "execute_result"
    }
   ],
   "source": [
    "df[df.description.isna()].deep_category.value_counts()"
   ]
  },
  {
   "cell_type": "code",
   "execution_count": 22,
   "id": "e0da661a",
   "metadata": {},
   "outputs": [
    {
     "data": {
      "text/plain": [
       "Сантехника и ремонт                       14611\n",
       "Инструменты и автотовары                   7161\n",
       "Компьютеры и ноутбуки                      4527\n",
       "Товары для дома                            3452\n",
       "Смартфоны, ТВ и электроника                3277\n",
       "Бытовая техника, интерьер                  2794\n",
       "Товары для детей                           2444\n",
       "Алкогольные напитки и продукты питания     2393\n",
       "Товары для бизнеса                         2064\n",
       "Спорт и увлечения                          1569\n",
       "Красота и здоровье                         1412\n",
       "Офис, школа, книги                         1261\n",
       "Дача, сад, огород                          1079\n",
       "Одежда, обувь и аксессуары                  212\n",
       "Подарки и товары для праздников             142\n",
       "Автотовары                                    4\n",
       "Name: main_category, dtype: int64"
      ]
     },
     "execution_count": 22,
     "metadata": {},
     "output_type": "execute_result"
    }
   ],
   "source": [
    "df[df.description.isna()].main_category.value_counts()"
   ]
  },
  {
   "cell_type": "markdown",
   "id": "11012c45",
   "metadata": {},
   "source": [
    "Загалом, кількість пустих дескрипшенів невелика, особливо якщо розглядати в контексті найглибшої категорії. Замість видалення, додамо тайтл в дескрипшн"
   ]
  },
  {
   "cell_type": "code",
   "execution_count": 27,
   "id": "ae9222a4",
   "metadata": {},
   "outputs": [],
   "source": [
    "df['description'] = df['description'].fillna(df['title'])"
   ]
  },
  {
   "cell_type": "code",
   "execution_count": 28,
   "id": "ae11a237",
   "metadata": {},
   "outputs": [
    {
     "data": {
      "text/html": [
       "<div>\n",
       "<style scoped>\n",
       "    .dataframe tbody tr th:only-of-type {\n",
       "        vertical-align: middle;\n",
       "    }\n",
       "\n",
       "    .dataframe tbody tr th {\n",
       "        vertical-align: top;\n",
       "    }\n",
       "\n",
       "    .dataframe thead th {\n",
       "        text-align: right;\n",
       "    }\n",
       "</style>\n",
       "<table border=\"1\" class=\"dataframe\">\n",
       "  <thead>\n",
       "    <tr style=\"text-align: right;\">\n",
       "      <th></th>\n",
       "      <th>deep_category</th>\n",
       "      <th>deep_category_minus_one</th>\n",
       "      <th>description</th>\n",
       "      <th>main_category</th>\n",
       "      <th>title</th>\n",
       "    </tr>\n",
       "  </thead>\n",
       "  <tbody>\n",
       "  </tbody>\n",
       "</table>\n",
       "</div>"
      ],
      "text/plain": [
       "Empty DataFrame\n",
       "Columns: [deep_category, deep_category_minus_one, description, main_category, title]\n",
       "Index: []"
      ]
     },
     "execution_count": 28,
     "metadata": {},
     "output_type": "execute_result"
    }
   ],
   "source": [
    "df[df.description.isna()]"
   ]
  },
  {
   "cell_type": "markdown",
   "id": "20fdd6fa",
   "metadata": {},
   "source": [
    "### Data analysys"
   ]
  },
  {
   "cell_type": "code",
   "execution_count": 2,
   "id": "8cfa3774",
   "metadata": {},
   "outputs": [],
   "source": [
    "df.describe()\n",
    "%matplotlib inline"
   ]
  },
  {
   "cell_type": "code",
   "execution_count": 3,
   "id": "c143b873",
   "metadata": {},
   "outputs": [
    {
     "data": {
      "text/plain": [
       "Сантехника и ремонт                       167337\n",
       "Инструменты и автотовары                   78864\n",
       "Спорт и увлечения                          64044\n",
       "Товары для дома                            61613\n",
       "Товары для детей                           58699\n",
       "Красота и здоровье                         53984\n",
       "Компьютеры и ноутбуки                      47505\n",
       "Смартфоны, ТВ и электроника                44924\n",
       "Алкогольные напитки и продукты питания     43725\n",
       "Товары для бизнеса                         38161\n",
       "Бытовая техника, интерьер                  34085\n",
       "Офис, школа, книги                         28841\n",
       "Дача, сад, огород                          21203\n",
       "Одежда, обувь и аксессуары                  7996\n",
       "Подарки и товары для праздников             4000\n",
       "Сексшоп                                     3998\n",
       "Услуги и сервисы                             886\n",
       "Автотовары                                     4\n",
       "Name: main_category, dtype: int64"
      ]
     },
     "execution_count": 3,
     "metadata": {},
     "output_type": "execute_result"
    }
   ],
   "source": [
    "df.main_category.value_counts()"
   ]
  },
  {
   "cell_type": "code",
   "execution_count": 4,
   "id": "d451949d",
   "metadata": {},
   "outputs": [
    {
     "data": {
      "text/plain": [
       "Люстры Brille                                   2649\n",
       "Бра и настенно-потолочные светильники Brille    2397\n",
       "Полочные стеллажи для склада Smartzone          2188\n",
       "Надувная мебель и аксессуары Intex              1805\n",
       "Детские электро- и веломобили Bambi             1771\n",
       "                                                ... \n",
       "Гипсокартон                                        1\n",
       "Доски для рисования Kenvo                          1\n",
       "Тихое вино Primavoce                               1\n",
       "Тихое вино Chateau Meillier                        1\n",
       "Корма для грызунов Dajana                          1\n",
       "Name: deep_category, Length: 80047, dtype: int64"
      ]
     },
     "execution_count": 4,
     "metadata": {},
     "output_type": "execute_result"
    }
   ],
   "source": [
    "df.deep_category.value_counts()"
   ]
  },
  {
   "cell_type": "code",
   "execution_count": 5,
   "id": "9526de9e",
   "metadata": {},
   "outputs": [
    {
     "data": {
      "text/plain": [
       "Компьютеры, неттопы, моноблоки           5508\n",
       "Мониторы                                 4601\n",
       "Люстры                                   4293\n",
       "Бра и настенно-потолочные светильники    4190\n",
       "Ноутбуки                                 4110\n",
       "                                         ... \n",
       "Наливные полы                               1\n",
       "Лента звукоизоляционная                     1\n",
       "Крепкие напитки                             1\n",
       "Подарочные визитницы                        1\n",
       "Копировальные аппараты                      1\n",
       "Name: deep_category_minus_one, Length: 2840, dtype: int64"
      ]
     },
     "execution_count": 5,
     "metadata": {},
     "output_type": "execute_result"
    }
   ],
   "source": [
    "df.deep_category_minus_one.value_counts()"
   ]
  },
  {
   "cell_type": "markdown",
   "id": "0da7e09f",
   "metadata": {},
   "source": [
    "Ми маємо 18 основних категорій, 2840 перед найглибших та 80047 найглибших"
   ]
  },
  {
   "cell_type": "code",
   "execution_count": 6,
   "id": "b0a7a5f6",
   "metadata": {},
   "outputs": [],
   "source": [
    "df['deep_cat_in_deep_minus_one'] = df.apply(lambda x: x.deep_category_minus_one in x.deep_category, axis=1)"
   ]
  },
  {
   "cell_type": "code",
   "execution_count": 8,
   "id": "8647fdef",
   "metadata": {},
   "outputs": [
    {
     "data": {
      "text/plain": [
       "True     682927\n",
       "False     76942\n",
       "Name: deep_cat_in_deep_minus_one, dtype: int64"
      ]
     },
     "execution_count": 8,
     "metadata": {},
     "output_type": "execute_result"
    }
   ],
   "source": [
    "df['deep_cat_in_deep_minus_one'].value_counts()"
   ]
  },
  {
   "cell_type": "code",
   "execution_count": 12,
   "id": "ee7382a6",
   "metadata": {},
   "outputs": [
    {
     "data": {
      "text/html": [
       "<div>\n",
       "<style scoped>\n",
       "    .dataframe tbody tr th:only-of-type {\n",
       "        vertical-align: middle;\n",
       "    }\n",
       "\n",
       "    .dataframe tbody tr th {\n",
       "        vertical-align: top;\n",
       "    }\n",
       "\n",
       "    .dataframe thead th {\n",
       "        text-align: right;\n",
       "    }\n",
       "</style>\n",
       "<table border=\"1\" class=\"dataframe\">\n",
       "  <thead>\n",
       "    <tr style=\"text-align: right;\">\n",
       "      <th></th>\n",
       "      <th>deep_category</th>\n",
       "      <th>deep_category_minus_one</th>\n",
       "    </tr>\n",
       "  </thead>\n",
       "  <tbody>\n",
       "    <tr>\n",
       "      <th>0</th>\n",
       "      <td>Маршрутизаторы LB-LINK</td>\n",
       "      <td>Маршрутизаторы</td>\n",
       "    </tr>\n",
       "    <tr>\n",
       "      <th>1</th>\n",
       "      <td>Геймерские кресла Razer</td>\n",
       "      <td>Геймерские кресла</td>\n",
       "    </tr>\n",
       "    <tr>\n",
       "      <th>2</th>\n",
       "      <td>Геймерские кресла RZTK</td>\n",
       "      <td>Геймерские кресла</td>\n",
       "    </tr>\n",
       "    <tr>\n",
       "      <th>3</th>\n",
       "      <td>Магниты для досок и аксессуары Buromax</td>\n",
       "      <td>Магниты для досок и аксессуары</td>\n",
       "    </tr>\n",
       "    <tr>\n",
       "      <th>4</th>\n",
       "      <td>Геймерские кресла Barsky</td>\n",
       "      <td>Геймерские кресла</td>\n",
       "    </tr>\n",
       "    <tr>\n",
       "      <th>...</th>\n",
       "      <td>...</td>\n",
       "      <td>...</td>\n",
       "    </tr>\n",
       "    <tr>\n",
       "      <th>759864</th>\n",
       "      <td>Корма для грызунов Gimbi</td>\n",
       "      <td>Корма для грызунов</td>\n",
       "    </tr>\n",
       "    <tr>\n",
       "      <th>759865</th>\n",
       "      <td>Корма для грызунов Gimbi</td>\n",
       "      <td>Корма для грызунов</td>\n",
       "    </tr>\n",
       "    <tr>\n",
       "      <th>759866</th>\n",
       "      <td>Корма для грызунов Beaphar</td>\n",
       "      <td>Корма для грызунов</td>\n",
       "    </tr>\n",
       "    <tr>\n",
       "      <th>759867</th>\n",
       "      <td>Корма для грызунов Vitapol</td>\n",
       "      <td>Корма для грызунов</td>\n",
       "    </tr>\n",
       "    <tr>\n",
       "      <th>759868</th>\n",
       "      <td>Корма для грызунов Versele-Laga</td>\n",
       "      <td>Корма для грызунов</td>\n",
       "    </tr>\n",
       "  </tbody>\n",
       "</table>\n",
       "<p>682927 rows × 2 columns</p>\n",
       "</div>"
      ],
      "text/plain": [
       "                                 deep_category         deep_category_minus_one\n",
       "0                       Маршрутизаторы LB-LINK                  Маршрутизаторы\n",
       "1                      Геймерские кресла Razer               Геймерские кресла\n",
       "2                       Геймерские кресла RZTK               Геймерские кресла\n",
       "3       Магниты для досок и аксессуары Buromax  Магниты для досок и аксессуары\n",
       "4                     Геймерские кресла Barsky               Геймерские кресла\n",
       "...                                        ...                             ...\n",
       "759864                Корма для грызунов Gimbi              Корма для грызунов\n",
       "759865                Корма для грызунов Gimbi              Корма для грызунов\n",
       "759866              Корма для грызунов Beaphar              Корма для грызунов\n",
       "759867              Корма для грызунов Vitapol              Корма для грызунов\n",
       "759868         Корма для грызунов Versele-Laga              Корма для грызунов\n",
       "\n",
       "[682927 rows x 2 columns]"
      ]
     },
     "execution_count": 12,
     "metadata": {},
     "output_type": "execute_result"
    }
   ],
   "source": [
    "df.loc[df['deep_cat_in_deep_minus_one'] == True][['deep_category' , 'deep_category_minus_one']]"
   ]
  },
  {
   "cell_type": "markdown",
   "id": "b1854c43",
   "metadata": {},
   "source": [
    "Ми бачимо, що в більшості випадків остання і перед остання категорія відрізняється лише наявністью бренду виробника в назві."
   ]
  },
  {
   "cell_type": "code",
   "execution_count": null,
   "id": "afcf8a8e",
   "metadata": {},
   "outputs": [],
   "source": []
  }
 ],
 "metadata": {
  "kernelspec": {
   "display_name": "ml-course",
   "language": "python",
   "name": "ml-course"
  },
  "language_info": {
   "codemirror_mode": {
    "name": "ipython",
    "version": 3
   },
   "file_extension": ".py",
   "mimetype": "text/x-python",
   "name": "python",
   "nbconvert_exporter": "python",
   "pygments_lexer": "ipython3",
   "version": "3.8.10"
  }
 },
 "nbformat": 4,
 "nbformat_minor": 5
}
